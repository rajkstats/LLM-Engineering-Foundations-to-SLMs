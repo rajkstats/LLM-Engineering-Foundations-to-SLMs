{
  "nbformat": 4,
  "nbformat_minor": 0,
  "metadata": {
    "colab": {
      "provenance": [],
      "machine_shape": "hm",
      "gpuType": "T4"
    },
    "kernelspec": {
      "name": "python3",
      "display_name": "Python 3"
    },
    "language_info": {
      "name": "python"
    },
    "accelerator": "GPU",
    "widgets": {
      "application/vnd.jupyter.widget-state+json": {
        "e49d1db482274e279c121541fc6bb98d": {
          "model_module": "@jupyter-widgets/controls",
          "model_name": "HBoxModel",
          "model_module_version": "1.5.0",
          "state": {
            "_dom_classes": [],
            "_model_module": "@jupyter-widgets/controls",
            "_model_module_version": "1.5.0",
            "_model_name": "HBoxModel",
            "_view_count": null,
            "_view_module": "@jupyter-widgets/controls",
            "_view_module_version": "1.5.0",
            "_view_name": "HBoxView",
            "box_style": "",
            "children": [
              "IPY_MODEL_a443f892580241bfa277d416aaad1f2a",
              "IPY_MODEL_0776757206644781aea42481e78a5d74",
              "IPY_MODEL_3fb330fd9a064f3f94752961271aa7e3"
            ],
            "layout": "IPY_MODEL_d684b1695bb44442a33dc9b27ea24dea"
          }
        },
        "a443f892580241bfa277d416aaad1f2a": {
          "model_module": "@jupyter-widgets/controls",
          "model_name": "HTMLModel",
          "model_module_version": "1.5.0",
          "state": {
            "_dom_classes": [],
            "_model_module": "@jupyter-widgets/controls",
            "_model_module_version": "1.5.0",
            "_model_name": "HTMLModel",
            "_view_count": null,
            "_view_module": "@jupyter-widgets/controls",
            "_view_module_version": "1.5.0",
            "_view_name": "HTMLView",
            "description": "",
            "description_tooltip": null,
            "layout": "IPY_MODEL_c6551baaa2b544baa88420d4cafc094e",
            "placeholder": "​",
            "style": "IPY_MODEL_845c7dc09cc14f2ba2487fdecbbde046",
            "value": "modules.json: 100%"
          }
        },
        "0776757206644781aea42481e78a5d74": {
          "model_module": "@jupyter-widgets/controls",
          "model_name": "FloatProgressModel",
          "model_module_version": "1.5.0",
          "state": {
            "_dom_classes": [],
            "_model_module": "@jupyter-widgets/controls",
            "_model_module_version": "1.5.0",
            "_model_name": "FloatProgressModel",
            "_view_count": null,
            "_view_module": "@jupyter-widgets/controls",
            "_view_module_version": "1.5.0",
            "_view_name": "ProgressView",
            "bar_style": "success",
            "description": "",
            "description_tooltip": null,
            "layout": "IPY_MODEL_82951d0e4e9a4ca2bfa42525e08e9504",
            "max": 349,
            "min": 0,
            "orientation": "horizontal",
            "style": "IPY_MODEL_9009db8b0d4e435aabae83ece770c9d1",
            "value": 349
          }
        },
        "3fb330fd9a064f3f94752961271aa7e3": {
          "model_module": "@jupyter-widgets/controls",
          "model_name": "HTMLModel",
          "model_module_version": "1.5.0",
          "state": {
            "_dom_classes": [],
            "_model_module": "@jupyter-widgets/controls",
            "_model_module_version": "1.5.0",
            "_model_name": "HTMLModel",
            "_view_count": null,
            "_view_module": "@jupyter-widgets/controls",
            "_view_module_version": "1.5.0",
            "_view_name": "HTMLView",
            "description": "",
            "description_tooltip": null,
            "layout": "IPY_MODEL_002b96b34da14fecb9d25a2fe330dd29",
            "placeholder": "​",
            "style": "IPY_MODEL_0fc2117c6b984c9e9658ebaa76183cfc",
            "value": " 349/349 [00:00&lt;00:00, 27.1kB/s]"
          }
        },
        "d684b1695bb44442a33dc9b27ea24dea": {
          "model_module": "@jupyter-widgets/base",
          "model_name": "LayoutModel",
          "model_module_version": "1.2.0",
          "state": {
            "_model_module": "@jupyter-widgets/base",
            "_model_module_version": "1.2.0",
            "_model_name": "LayoutModel",
            "_view_count": null,
            "_view_module": "@jupyter-widgets/base",
            "_view_module_version": "1.2.0",
            "_view_name": "LayoutView",
            "align_content": null,
            "align_items": null,
            "align_self": null,
            "border": null,
            "bottom": null,
            "display": null,
            "flex": null,
            "flex_flow": null,
            "grid_area": null,
            "grid_auto_columns": null,
            "grid_auto_flow": null,
            "grid_auto_rows": null,
            "grid_column": null,
            "grid_gap": null,
            "grid_row": null,
            "grid_template_areas": null,
            "grid_template_columns": null,
            "grid_template_rows": null,
            "height": null,
            "justify_content": null,
            "justify_items": null,
            "left": null,
            "margin": null,
            "max_height": null,
            "max_width": null,
            "min_height": null,
            "min_width": null,
            "object_fit": null,
            "object_position": null,
            "order": null,
            "overflow": null,
            "overflow_x": null,
            "overflow_y": null,
            "padding": null,
            "right": null,
            "top": null,
            "visibility": null,
            "width": null
          }
        },
        "c6551baaa2b544baa88420d4cafc094e": {
          "model_module": "@jupyter-widgets/base",
          "model_name": "LayoutModel",
          "model_module_version": "1.2.0",
          "state": {
            "_model_module": "@jupyter-widgets/base",
            "_model_module_version": "1.2.0",
            "_model_name": "LayoutModel",
            "_view_count": null,
            "_view_module": "@jupyter-widgets/base",
            "_view_module_version": "1.2.0",
            "_view_name": "LayoutView",
            "align_content": null,
            "align_items": null,
            "align_self": null,
            "border": null,
            "bottom": null,
            "display": null,
            "flex": null,
            "flex_flow": null,
            "grid_area": null,
            "grid_auto_columns": null,
            "grid_auto_flow": null,
            "grid_auto_rows": null,
            "grid_column": null,
            "grid_gap": null,
            "grid_row": null,
            "grid_template_areas": null,
            "grid_template_columns": null,
            "grid_template_rows": null,
            "height": null,
            "justify_content": null,
            "justify_items": null,
            "left": null,
            "margin": null,
            "max_height": null,
            "max_width": null,
            "min_height": null,
            "min_width": null,
            "object_fit": null,
            "object_position": null,
            "order": null,
            "overflow": null,
            "overflow_x": null,
            "overflow_y": null,
            "padding": null,
            "right": null,
            "top": null,
            "visibility": null,
            "width": null
          }
        },
        "845c7dc09cc14f2ba2487fdecbbde046": {
          "model_module": "@jupyter-widgets/controls",
          "model_name": "DescriptionStyleModel",
          "model_module_version": "1.5.0",
          "state": {
            "_model_module": "@jupyter-widgets/controls",
            "_model_module_version": "1.5.0",
            "_model_name": "DescriptionStyleModel",
            "_view_count": null,
            "_view_module": "@jupyter-widgets/base",
            "_view_module_version": "1.2.0",
            "_view_name": "StyleView",
            "description_width": ""
          }
        },
        "82951d0e4e9a4ca2bfa42525e08e9504": {
          "model_module": "@jupyter-widgets/base",
          "model_name": "LayoutModel",
          "model_module_version": "1.2.0",
          "state": {
            "_model_module": "@jupyter-widgets/base",
            "_model_module_version": "1.2.0",
            "_model_name": "LayoutModel",
            "_view_count": null,
            "_view_module": "@jupyter-widgets/base",
            "_view_module_version": "1.2.0",
            "_view_name": "LayoutView",
            "align_content": null,
            "align_items": null,
            "align_self": null,
            "border": null,
            "bottom": null,
            "display": null,
            "flex": null,
            "flex_flow": null,
            "grid_area": null,
            "grid_auto_columns": null,
            "grid_auto_flow": null,
            "grid_auto_rows": null,
            "grid_column": null,
            "grid_gap": null,
            "grid_row": null,
            "grid_template_areas": null,
            "grid_template_columns": null,
            "grid_template_rows": null,
            "height": null,
            "justify_content": null,
            "justify_items": null,
            "left": null,
            "margin": null,
            "max_height": null,
            "max_width": null,
            "min_height": null,
            "min_width": null,
            "object_fit": null,
            "object_position": null,
            "order": null,
            "overflow": null,
            "overflow_x": null,
            "overflow_y": null,
            "padding": null,
            "right": null,
            "top": null,
            "visibility": null,
            "width": null
          }
        },
        "9009db8b0d4e435aabae83ece770c9d1": {
          "model_module": "@jupyter-widgets/controls",
          "model_name": "ProgressStyleModel",
          "model_module_version": "1.5.0",
          "state": {
            "_model_module": "@jupyter-widgets/controls",
            "_model_module_version": "1.5.0",
            "_model_name": "ProgressStyleModel",
            "_view_count": null,
            "_view_module": "@jupyter-widgets/base",
            "_view_module_version": "1.2.0",
            "_view_name": "StyleView",
            "bar_color": null,
            "description_width": ""
          }
        },
        "002b96b34da14fecb9d25a2fe330dd29": {
          "model_module": "@jupyter-widgets/base",
          "model_name": "LayoutModel",
          "model_module_version": "1.2.0",
          "state": {
            "_model_module": "@jupyter-widgets/base",
            "_model_module_version": "1.2.0",
            "_model_name": "LayoutModel",
            "_view_count": null,
            "_view_module": "@jupyter-widgets/base",
            "_view_module_version": "1.2.0",
            "_view_name": "LayoutView",
            "align_content": null,
            "align_items": null,
            "align_self": null,
            "border": null,
            "bottom": null,
            "display": null,
            "flex": null,
            "flex_flow": null,
            "grid_area": null,
            "grid_auto_columns": null,
            "grid_auto_flow": null,
            "grid_auto_rows": null,
            "grid_column": null,
            "grid_gap": null,
            "grid_row": null,
            "grid_template_areas": null,
            "grid_template_columns": null,
            "grid_template_rows": null,
            "height": null,
            "justify_content": null,
            "justify_items": null,
            "left": null,
            "margin": null,
            "max_height": null,
            "max_width": null,
            "min_height": null,
            "min_width": null,
            "object_fit": null,
            "object_position": null,
            "order": null,
            "overflow": null,
            "overflow_x": null,
            "overflow_y": null,
            "padding": null,
            "right": null,
            "top": null,
            "visibility": null,
            "width": null
          }
        },
        "0fc2117c6b984c9e9658ebaa76183cfc": {
          "model_module": "@jupyter-widgets/controls",
          "model_name": "DescriptionStyleModel",
          "model_module_version": "1.5.0",
          "state": {
            "_model_module": "@jupyter-widgets/controls",
            "_model_module_version": "1.5.0",
            "_model_name": "DescriptionStyleModel",
            "_view_count": null,
            "_view_module": "@jupyter-widgets/base",
            "_view_module_version": "1.2.0",
            "_view_name": "StyleView",
            "description_width": ""
          }
        },
        "ff5f858c1a5b47a9bd77ec08c46e4253": {
          "model_module": "@jupyter-widgets/controls",
          "model_name": "HBoxModel",
          "model_module_version": "1.5.0",
          "state": {
            "_dom_classes": [],
            "_model_module": "@jupyter-widgets/controls",
            "_model_module_version": "1.5.0",
            "_model_name": "HBoxModel",
            "_view_count": null,
            "_view_module": "@jupyter-widgets/controls",
            "_view_module_version": "1.5.0",
            "_view_name": "HBoxView",
            "box_style": "",
            "children": [
              "IPY_MODEL_4e0fa0467ad94c5b87d8bbdb328e5383",
              "IPY_MODEL_6f299c80be004032b63f4521fca737f7",
              "IPY_MODEL_0db6fc34ee8a46f5a4e9171583523196"
            ],
            "layout": "IPY_MODEL_647007dc8d704c3e95a7b9ef23c2dc88"
          }
        },
        "4e0fa0467ad94c5b87d8bbdb328e5383": {
          "model_module": "@jupyter-widgets/controls",
          "model_name": "HTMLModel",
          "model_module_version": "1.5.0",
          "state": {
            "_dom_classes": [],
            "_model_module": "@jupyter-widgets/controls",
            "_model_module_version": "1.5.0",
            "_model_name": "HTMLModel",
            "_view_count": null,
            "_view_module": "@jupyter-widgets/controls",
            "_view_module_version": "1.5.0",
            "_view_name": "HTMLView",
            "description": "",
            "description_tooltip": null,
            "layout": "IPY_MODEL_e081edd87f6f478790698d8d50275375",
            "placeholder": "​",
            "style": "IPY_MODEL_950dcbbea5174360be4bb99b4a2e0e42",
            "value": "config_sentence_transformers.json: 100%"
          }
        },
        "6f299c80be004032b63f4521fca737f7": {
          "model_module": "@jupyter-widgets/controls",
          "model_name": "FloatProgressModel",
          "model_module_version": "1.5.0",
          "state": {
            "_dom_classes": [],
            "_model_module": "@jupyter-widgets/controls",
            "_model_module_version": "1.5.0",
            "_model_name": "FloatProgressModel",
            "_view_count": null,
            "_view_module": "@jupyter-widgets/controls",
            "_view_module_version": "1.5.0",
            "_view_name": "ProgressView",
            "bar_style": "success",
            "description": "",
            "description_tooltip": null,
            "layout": "IPY_MODEL_dd741371074a4d0494c9705990b01619",
            "max": 124,
            "min": 0,
            "orientation": "horizontal",
            "style": "IPY_MODEL_3218336a7e9d4d18a94657fe65a9f072",
            "value": 124
          }
        },
        "0db6fc34ee8a46f5a4e9171583523196": {
          "model_module": "@jupyter-widgets/controls",
          "model_name": "HTMLModel",
          "model_module_version": "1.5.0",
          "state": {
            "_dom_classes": [],
            "_model_module": "@jupyter-widgets/controls",
            "_model_module_version": "1.5.0",
            "_model_name": "HTMLModel",
            "_view_count": null,
            "_view_module": "@jupyter-widgets/controls",
            "_view_module_version": "1.5.0",
            "_view_name": "HTMLView",
            "description": "",
            "description_tooltip": null,
            "layout": "IPY_MODEL_7133142c98b64a2ebfc2a55487b9f044",
            "placeholder": "​",
            "style": "IPY_MODEL_27122bc3bf8b4373b4f9cf18d17a9175",
            "value": " 124/124 [00:00&lt;00:00, 8.27kB/s]"
          }
        },
        "647007dc8d704c3e95a7b9ef23c2dc88": {
          "model_module": "@jupyter-widgets/base",
          "model_name": "LayoutModel",
          "model_module_version": "1.2.0",
          "state": {
            "_model_module": "@jupyter-widgets/base",
            "_model_module_version": "1.2.0",
            "_model_name": "LayoutModel",
            "_view_count": null,
            "_view_module": "@jupyter-widgets/base",
            "_view_module_version": "1.2.0",
            "_view_name": "LayoutView",
            "align_content": null,
            "align_items": null,
            "align_self": null,
            "border": null,
            "bottom": null,
            "display": null,
            "flex": null,
            "flex_flow": null,
            "grid_area": null,
            "grid_auto_columns": null,
            "grid_auto_flow": null,
            "grid_auto_rows": null,
            "grid_column": null,
            "grid_gap": null,
            "grid_row": null,
            "grid_template_areas": null,
            "grid_template_columns": null,
            "grid_template_rows": null,
            "height": null,
            "justify_content": null,
            "justify_items": null,
            "left": null,
            "margin": null,
            "max_height": null,
            "max_width": null,
            "min_height": null,
            "min_width": null,
            "object_fit": null,
            "object_position": null,
            "order": null,
            "overflow": null,
            "overflow_x": null,
            "overflow_y": null,
            "padding": null,
            "right": null,
            "top": null,
            "visibility": null,
            "width": null
          }
        },
        "e081edd87f6f478790698d8d50275375": {
          "model_module": "@jupyter-widgets/base",
          "model_name": "LayoutModel",
          "model_module_version": "1.2.0",
          "state": {
            "_model_module": "@jupyter-widgets/base",
            "_model_module_version": "1.2.0",
            "_model_name": "LayoutModel",
            "_view_count": null,
            "_view_module": "@jupyter-widgets/base",
            "_view_module_version": "1.2.0",
            "_view_name": "LayoutView",
            "align_content": null,
            "align_items": null,
            "align_self": null,
            "border": null,
            "bottom": null,
            "display": null,
            "flex": null,
            "flex_flow": null,
            "grid_area": null,
            "grid_auto_columns": null,
            "grid_auto_flow": null,
            "grid_auto_rows": null,
            "grid_column": null,
            "grid_gap": null,
            "grid_row": null,
            "grid_template_areas": null,
            "grid_template_columns": null,
            "grid_template_rows": null,
            "height": null,
            "justify_content": null,
            "justify_items": null,
            "left": null,
            "margin": null,
            "max_height": null,
            "max_width": null,
            "min_height": null,
            "min_width": null,
            "object_fit": null,
            "object_position": null,
            "order": null,
            "overflow": null,
            "overflow_x": null,
            "overflow_y": null,
            "padding": null,
            "right": null,
            "top": null,
            "visibility": null,
            "width": null
          }
        },
        "950dcbbea5174360be4bb99b4a2e0e42": {
          "model_module": "@jupyter-widgets/controls",
          "model_name": "DescriptionStyleModel",
          "model_module_version": "1.5.0",
          "state": {
            "_model_module": "@jupyter-widgets/controls",
            "_model_module_version": "1.5.0",
            "_model_name": "DescriptionStyleModel",
            "_view_count": null,
            "_view_module": "@jupyter-widgets/base",
            "_view_module_version": "1.2.0",
            "_view_name": "StyleView",
            "description_width": ""
          }
        },
        "dd741371074a4d0494c9705990b01619": {
          "model_module": "@jupyter-widgets/base",
          "model_name": "LayoutModel",
          "model_module_version": "1.2.0",
          "state": {
            "_model_module": "@jupyter-widgets/base",
            "_model_module_version": "1.2.0",
            "_model_name": "LayoutModel",
            "_view_count": null,
            "_view_module": "@jupyter-widgets/base",
            "_view_module_version": "1.2.0",
            "_view_name": "LayoutView",
            "align_content": null,
            "align_items": null,
            "align_self": null,
            "border": null,
            "bottom": null,
            "display": null,
            "flex": null,
            "flex_flow": null,
            "grid_area": null,
            "grid_auto_columns": null,
            "grid_auto_flow": null,
            "grid_auto_rows": null,
            "grid_column": null,
            "grid_gap": null,
            "grid_row": null,
            "grid_template_areas": null,
            "grid_template_columns": null,
            "grid_template_rows": null,
            "height": null,
            "justify_content": null,
            "justify_items": null,
            "left": null,
            "margin": null,
            "max_height": null,
            "max_width": null,
            "min_height": null,
            "min_width": null,
            "object_fit": null,
            "object_position": null,
            "order": null,
            "overflow": null,
            "overflow_x": null,
            "overflow_y": null,
            "padding": null,
            "right": null,
            "top": null,
            "visibility": null,
            "width": null
          }
        },
        "3218336a7e9d4d18a94657fe65a9f072": {
          "model_module": "@jupyter-widgets/controls",
          "model_name": "ProgressStyleModel",
          "model_module_version": "1.5.0",
          "state": {
            "_model_module": "@jupyter-widgets/controls",
            "_model_module_version": "1.5.0",
            "_model_name": "ProgressStyleModel",
            "_view_count": null,
            "_view_module": "@jupyter-widgets/base",
            "_view_module_version": "1.2.0",
            "_view_name": "StyleView",
            "bar_color": null,
            "description_width": ""
          }
        },
        "7133142c98b64a2ebfc2a55487b9f044": {
          "model_module": "@jupyter-widgets/base",
          "model_name": "LayoutModel",
          "model_module_version": "1.2.0",
          "state": {
            "_model_module": "@jupyter-widgets/base",
            "_model_module_version": "1.2.0",
            "_model_name": "LayoutModel",
            "_view_count": null,
            "_view_module": "@jupyter-widgets/base",
            "_view_module_version": "1.2.0",
            "_view_name": "LayoutView",
            "align_content": null,
            "align_items": null,
            "align_self": null,
            "border": null,
            "bottom": null,
            "display": null,
            "flex": null,
            "flex_flow": null,
            "grid_area": null,
            "grid_auto_columns": null,
            "grid_auto_flow": null,
            "grid_auto_rows": null,
            "grid_column": null,
            "grid_gap": null,
            "grid_row": null,
            "grid_template_areas": null,
            "grid_template_columns": null,
            "grid_template_rows": null,
            "height": null,
            "justify_content": null,
            "justify_items": null,
            "left": null,
            "margin": null,
            "max_height": null,
            "max_width": null,
            "min_height": null,
            "min_width": null,
            "object_fit": null,
            "object_position": null,
            "order": null,
            "overflow": null,
            "overflow_x": null,
            "overflow_y": null,
            "padding": null,
            "right": null,
            "top": null,
            "visibility": null,
            "width": null
          }
        },
        "27122bc3bf8b4373b4f9cf18d17a9175": {
          "model_module": "@jupyter-widgets/controls",
          "model_name": "DescriptionStyleModel",
          "model_module_version": "1.5.0",
          "state": {
            "_model_module": "@jupyter-widgets/controls",
            "_model_module_version": "1.5.0",
            "_model_name": "DescriptionStyleModel",
            "_view_count": null,
            "_view_module": "@jupyter-widgets/base",
            "_view_module_version": "1.2.0",
            "_view_name": "StyleView",
            "description_width": ""
          }
        },
        "1dfa38f694a544a9a5f20d5ee98376a9": {
          "model_module": "@jupyter-widgets/controls",
          "model_name": "HBoxModel",
          "model_module_version": "1.5.0",
          "state": {
            "_dom_classes": [],
            "_model_module": "@jupyter-widgets/controls",
            "_model_module_version": "1.5.0",
            "_model_name": "HBoxModel",
            "_view_count": null,
            "_view_module": "@jupyter-widgets/controls",
            "_view_module_version": "1.5.0",
            "_view_name": "HBoxView",
            "box_style": "",
            "children": [
              "IPY_MODEL_6761be157a0240b9b1912eb39633333d",
              "IPY_MODEL_bbbd073cd96e43b6b75e9c904aa0183e",
              "IPY_MODEL_e9fce682f80f4081a2614bd47b6a1e94"
            ],
            "layout": "IPY_MODEL_668ee9957ad440b186e45ec0e46e6a5f"
          }
        },
        "6761be157a0240b9b1912eb39633333d": {
          "model_module": "@jupyter-widgets/controls",
          "model_name": "HTMLModel",
          "model_module_version": "1.5.0",
          "state": {
            "_dom_classes": [],
            "_model_module": "@jupyter-widgets/controls",
            "_model_module_version": "1.5.0",
            "_model_name": "HTMLModel",
            "_view_count": null,
            "_view_module": "@jupyter-widgets/controls",
            "_view_module_version": "1.5.0",
            "_view_name": "HTMLView",
            "description": "",
            "description_tooltip": null,
            "layout": "IPY_MODEL_7d5d9895fa6444b080ea67ca7a80289d",
            "placeholder": "​",
            "style": "IPY_MODEL_0c6112f311c34c529eaf674535c6961f",
            "value": "README.md: 100%"
          }
        },
        "bbbd073cd96e43b6b75e9c904aa0183e": {
          "model_module": "@jupyter-widgets/controls",
          "model_name": "FloatProgressModel",
          "model_module_version": "1.5.0",
          "state": {
            "_dom_classes": [],
            "_model_module": "@jupyter-widgets/controls",
            "_model_module_version": "1.5.0",
            "_model_name": "FloatProgressModel",
            "_view_count": null,
            "_view_module": "@jupyter-widgets/controls",
            "_view_module_version": "1.5.0",
            "_view_name": "ProgressView",
            "bar_style": "success",
            "description": "",
            "description_tooltip": null,
            "layout": "IPY_MODEL_8be5160d3e954703b210bf7df2b1a287",
            "max": 90797,
            "min": 0,
            "orientation": "horizontal",
            "style": "IPY_MODEL_bcb9e98d746040fa88988f6211c5af58",
            "value": 90797
          }
        },
        "e9fce682f80f4081a2614bd47b6a1e94": {
          "model_module": "@jupyter-widgets/controls",
          "model_name": "HTMLModel",
          "model_module_version": "1.5.0",
          "state": {
            "_dom_classes": [],
            "_model_module": "@jupyter-widgets/controls",
            "_model_module_version": "1.5.0",
            "_model_name": "HTMLModel",
            "_view_count": null,
            "_view_module": "@jupyter-widgets/controls",
            "_view_module_version": "1.5.0",
            "_view_name": "HTMLView",
            "description": "",
            "description_tooltip": null,
            "layout": "IPY_MODEL_e2447ca3498241ccbf087695f4dae8b5",
            "placeholder": "​",
            "style": "IPY_MODEL_1892c6a1f11c48ff88f0c1e17ff0b1cc",
            "value": " 90.8k/90.8k [00:00&lt;00:00, 443kB/s]"
          }
        },
        "668ee9957ad440b186e45ec0e46e6a5f": {
          "model_module": "@jupyter-widgets/base",
          "model_name": "LayoutModel",
          "model_module_version": "1.2.0",
          "state": {
            "_model_module": "@jupyter-widgets/base",
            "_model_module_version": "1.2.0",
            "_model_name": "LayoutModel",
            "_view_count": null,
            "_view_module": "@jupyter-widgets/base",
            "_view_module_version": "1.2.0",
            "_view_name": "LayoutView",
            "align_content": null,
            "align_items": null,
            "align_self": null,
            "border": null,
            "bottom": null,
            "display": null,
            "flex": null,
            "flex_flow": null,
            "grid_area": null,
            "grid_auto_columns": null,
            "grid_auto_flow": null,
            "grid_auto_rows": null,
            "grid_column": null,
            "grid_gap": null,
            "grid_row": null,
            "grid_template_areas": null,
            "grid_template_columns": null,
            "grid_template_rows": null,
            "height": null,
            "justify_content": null,
            "justify_items": null,
            "left": null,
            "margin": null,
            "max_height": null,
            "max_width": null,
            "min_height": null,
            "min_width": null,
            "object_fit": null,
            "object_position": null,
            "order": null,
            "overflow": null,
            "overflow_x": null,
            "overflow_y": null,
            "padding": null,
            "right": null,
            "top": null,
            "visibility": null,
            "width": null
          }
        },
        "7d5d9895fa6444b080ea67ca7a80289d": {
          "model_module": "@jupyter-widgets/base",
          "model_name": "LayoutModel",
          "model_module_version": "1.2.0",
          "state": {
            "_model_module": "@jupyter-widgets/base",
            "_model_module_version": "1.2.0",
            "_model_name": "LayoutModel",
            "_view_count": null,
            "_view_module": "@jupyter-widgets/base",
            "_view_module_version": "1.2.0",
            "_view_name": "LayoutView",
            "align_content": null,
            "align_items": null,
            "align_self": null,
            "border": null,
            "bottom": null,
            "display": null,
            "flex": null,
            "flex_flow": null,
            "grid_area": null,
            "grid_auto_columns": null,
            "grid_auto_flow": null,
            "grid_auto_rows": null,
            "grid_column": null,
            "grid_gap": null,
            "grid_row": null,
            "grid_template_areas": null,
            "grid_template_columns": null,
            "grid_template_rows": null,
            "height": null,
            "justify_content": null,
            "justify_items": null,
            "left": null,
            "margin": null,
            "max_height": null,
            "max_width": null,
            "min_height": null,
            "min_width": null,
            "object_fit": null,
            "object_position": null,
            "order": null,
            "overflow": null,
            "overflow_x": null,
            "overflow_y": null,
            "padding": null,
            "right": null,
            "top": null,
            "visibility": null,
            "width": null
          }
        },
        "0c6112f311c34c529eaf674535c6961f": {
          "model_module": "@jupyter-widgets/controls",
          "model_name": "DescriptionStyleModel",
          "model_module_version": "1.5.0",
          "state": {
            "_model_module": "@jupyter-widgets/controls",
            "_model_module_version": "1.5.0",
            "_model_name": "DescriptionStyleModel",
            "_view_count": null,
            "_view_module": "@jupyter-widgets/base",
            "_view_module_version": "1.2.0",
            "_view_name": "StyleView",
            "description_width": ""
          }
        },
        "8be5160d3e954703b210bf7df2b1a287": {
          "model_module": "@jupyter-widgets/base",
          "model_name": "LayoutModel",
          "model_module_version": "1.2.0",
          "state": {
            "_model_module": "@jupyter-widgets/base",
            "_model_module_version": "1.2.0",
            "_model_name": "LayoutModel",
            "_view_count": null,
            "_view_module": "@jupyter-widgets/base",
            "_view_module_version": "1.2.0",
            "_view_name": "LayoutView",
            "align_content": null,
            "align_items": null,
            "align_self": null,
            "border": null,
            "bottom": null,
            "display": null,
            "flex": null,
            "flex_flow": null,
            "grid_area": null,
            "grid_auto_columns": null,
            "grid_auto_flow": null,
            "grid_auto_rows": null,
            "grid_column": null,
            "grid_gap": null,
            "grid_row": null,
            "grid_template_areas": null,
            "grid_template_columns": null,
            "grid_template_rows": null,
            "height": null,
            "justify_content": null,
            "justify_items": null,
            "left": null,
            "margin": null,
            "max_height": null,
            "max_width": null,
            "min_height": null,
            "min_width": null,
            "object_fit": null,
            "object_position": null,
            "order": null,
            "overflow": null,
            "overflow_x": null,
            "overflow_y": null,
            "padding": null,
            "right": null,
            "top": null,
            "visibility": null,
            "width": null
          }
        },
        "bcb9e98d746040fa88988f6211c5af58": {
          "model_module": "@jupyter-widgets/controls",
          "model_name": "ProgressStyleModel",
          "model_module_version": "1.5.0",
          "state": {
            "_model_module": "@jupyter-widgets/controls",
            "_model_module_version": "1.5.0",
            "_model_name": "ProgressStyleModel",
            "_view_count": null,
            "_view_module": "@jupyter-widgets/base",
            "_view_module_version": "1.2.0",
            "_view_name": "StyleView",
            "bar_color": null,
            "description_width": ""
          }
        },
        "e2447ca3498241ccbf087695f4dae8b5": {
          "model_module": "@jupyter-widgets/base",
          "model_name": "LayoutModel",
          "model_module_version": "1.2.0",
          "state": {
            "_model_module": "@jupyter-widgets/base",
            "_model_module_version": "1.2.0",
            "_model_name": "LayoutModel",
            "_view_count": null,
            "_view_module": "@jupyter-widgets/base",
            "_view_module_version": "1.2.0",
            "_view_name": "LayoutView",
            "align_content": null,
            "align_items": null,
            "align_self": null,
            "border": null,
            "bottom": null,
            "display": null,
            "flex": null,
            "flex_flow": null,
            "grid_area": null,
            "grid_auto_columns": null,
            "grid_auto_flow": null,
            "grid_auto_rows": null,
            "grid_column": null,
            "grid_gap": null,
            "grid_row": null,
            "grid_template_areas": null,
            "grid_template_columns": null,
            "grid_template_rows": null,
            "height": null,
            "justify_content": null,
            "justify_items": null,
            "left": null,
            "margin": null,
            "max_height": null,
            "max_width": null,
            "min_height": null,
            "min_width": null,
            "object_fit": null,
            "object_position": null,
            "order": null,
            "overflow": null,
            "overflow_x": null,
            "overflow_y": null,
            "padding": null,
            "right": null,
            "top": null,
            "visibility": null,
            "width": null
          }
        },
        "1892c6a1f11c48ff88f0c1e17ff0b1cc": {
          "model_module": "@jupyter-widgets/controls",
          "model_name": "DescriptionStyleModel",
          "model_module_version": "1.5.0",
          "state": {
            "_model_module": "@jupyter-widgets/controls",
            "_model_module_version": "1.5.0",
            "_model_name": "DescriptionStyleModel",
            "_view_count": null,
            "_view_module": "@jupyter-widgets/base",
            "_view_module_version": "1.2.0",
            "_view_name": "StyleView",
            "description_width": ""
          }
        },
        "3ef48ae9ca1a418da3c44436f52d1bcd": {
          "model_module": "@jupyter-widgets/controls",
          "model_name": "HBoxModel",
          "model_module_version": "1.5.0",
          "state": {
            "_dom_classes": [],
            "_model_module": "@jupyter-widgets/controls",
            "_model_module_version": "1.5.0",
            "_model_name": "HBoxModel",
            "_view_count": null,
            "_view_module": "@jupyter-widgets/controls",
            "_view_module_version": "1.5.0",
            "_view_name": "HBoxView",
            "box_style": "",
            "children": [
              "IPY_MODEL_b74d9157e47643cfa1f0dd5909c0851d",
              "IPY_MODEL_8d6eaae19f1545009fb35d7373919610",
              "IPY_MODEL_708c80c966054bd19cffb4e86a26d09f"
            ],
            "layout": "IPY_MODEL_b1e6b603904d485d97ec7d3cf5829ec7"
          }
        },
        "b74d9157e47643cfa1f0dd5909c0851d": {
          "model_module": "@jupyter-widgets/controls",
          "model_name": "HTMLModel",
          "model_module_version": "1.5.0",
          "state": {
            "_dom_classes": [],
            "_model_module": "@jupyter-widgets/controls",
            "_model_module_version": "1.5.0",
            "_model_name": "HTMLModel",
            "_view_count": null,
            "_view_module": "@jupyter-widgets/controls",
            "_view_module_version": "1.5.0",
            "_view_name": "HTMLView",
            "description": "",
            "description_tooltip": null,
            "layout": "IPY_MODEL_4e7648c2ca4548cdab3187d314252f88",
            "placeholder": "​",
            "style": "IPY_MODEL_19414c072afb4fe0bc4d61cd118f7da0",
            "value": "sentence_bert_config.json: 100%"
          }
        },
        "8d6eaae19f1545009fb35d7373919610": {
          "model_module": "@jupyter-widgets/controls",
          "model_name": "FloatProgressModel",
          "model_module_version": "1.5.0",
          "state": {
            "_dom_classes": [],
            "_model_module": "@jupyter-widgets/controls",
            "_model_module_version": "1.5.0",
            "_model_name": "FloatProgressModel",
            "_view_count": null,
            "_view_module": "@jupyter-widgets/controls",
            "_view_module_version": "1.5.0",
            "_view_name": "ProgressView",
            "bar_style": "success",
            "description": "",
            "description_tooltip": null,
            "layout": "IPY_MODEL_707fcf00530a44f4a2d5de44eaf8faf5",
            "max": 52,
            "min": 0,
            "orientation": "horizontal",
            "style": "IPY_MODEL_7fbce39a4ccb445495fbfe86d2894157",
            "value": 52
          }
        },
        "708c80c966054bd19cffb4e86a26d09f": {
          "model_module": "@jupyter-widgets/controls",
          "model_name": "HTMLModel",
          "model_module_version": "1.5.0",
          "state": {
            "_dom_classes": [],
            "_model_module": "@jupyter-widgets/controls",
            "_model_module_version": "1.5.0",
            "_model_name": "HTMLModel",
            "_view_count": null,
            "_view_module": "@jupyter-widgets/controls",
            "_view_module_version": "1.5.0",
            "_view_name": "HTMLView",
            "description": "",
            "description_tooltip": null,
            "layout": "IPY_MODEL_458767440b304f8bbd7db5e255e2ccc2",
            "placeholder": "​",
            "style": "IPY_MODEL_99b615959b4b44b0817b0c4dec9f4702",
            "value": " 52.0/52.0 [00:00&lt;00:00, 2.96kB/s]"
          }
        },
        "b1e6b603904d485d97ec7d3cf5829ec7": {
          "model_module": "@jupyter-widgets/base",
          "model_name": "LayoutModel",
          "model_module_version": "1.2.0",
          "state": {
            "_model_module": "@jupyter-widgets/base",
            "_model_module_version": "1.2.0",
            "_model_name": "LayoutModel",
            "_view_count": null,
            "_view_module": "@jupyter-widgets/base",
            "_view_module_version": "1.2.0",
            "_view_name": "LayoutView",
            "align_content": null,
            "align_items": null,
            "align_self": null,
            "border": null,
            "bottom": null,
            "display": null,
            "flex": null,
            "flex_flow": null,
            "grid_area": null,
            "grid_auto_columns": null,
            "grid_auto_flow": null,
            "grid_auto_rows": null,
            "grid_column": null,
            "grid_gap": null,
            "grid_row": null,
            "grid_template_areas": null,
            "grid_template_columns": null,
            "grid_template_rows": null,
            "height": null,
            "justify_content": null,
            "justify_items": null,
            "left": null,
            "margin": null,
            "max_height": null,
            "max_width": null,
            "min_height": null,
            "min_width": null,
            "object_fit": null,
            "object_position": null,
            "order": null,
            "overflow": null,
            "overflow_x": null,
            "overflow_y": null,
            "padding": null,
            "right": null,
            "top": null,
            "visibility": null,
            "width": null
          }
        },
        "4e7648c2ca4548cdab3187d314252f88": {
          "model_module": "@jupyter-widgets/base",
          "model_name": "LayoutModel",
          "model_module_version": "1.2.0",
          "state": {
            "_model_module": "@jupyter-widgets/base",
            "_model_module_version": "1.2.0",
            "_model_name": "LayoutModel",
            "_view_count": null,
            "_view_module": "@jupyter-widgets/base",
            "_view_module_version": "1.2.0",
            "_view_name": "LayoutView",
            "align_content": null,
            "align_items": null,
            "align_self": null,
            "border": null,
            "bottom": null,
            "display": null,
            "flex": null,
            "flex_flow": null,
            "grid_area": null,
            "grid_auto_columns": null,
            "grid_auto_flow": null,
            "grid_auto_rows": null,
            "grid_column": null,
            "grid_gap": null,
            "grid_row": null,
            "grid_template_areas": null,
            "grid_template_columns": null,
            "grid_template_rows": null,
            "height": null,
            "justify_content": null,
            "justify_items": null,
            "left": null,
            "margin": null,
            "max_height": null,
            "max_width": null,
            "min_height": null,
            "min_width": null,
            "object_fit": null,
            "object_position": null,
            "order": null,
            "overflow": null,
            "overflow_x": null,
            "overflow_y": null,
            "padding": null,
            "right": null,
            "top": null,
            "visibility": null,
            "width": null
          }
        },
        "19414c072afb4fe0bc4d61cd118f7da0": {
          "model_module": "@jupyter-widgets/controls",
          "model_name": "DescriptionStyleModel",
          "model_module_version": "1.5.0",
          "state": {
            "_model_module": "@jupyter-widgets/controls",
            "_model_module_version": "1.5.0",
            "_model_name": "DescriptionStyleModel",
            "_view_count": null,
            "_view_module": "@jupyter-widgets/base",
            "_view_module_version": "1.2.0",
            "_view_name": "StyleView",
            "description_width": ""
          }
        },
        "707fcf00530a44f4a2d5de44eaf8faf5": {
          "model_module": "@jupyter-widgets/base",
          "model_name": "LayoutModel",
          "model_module_version": "1.2.0",
          "state": {
            "_model_module": "@jupyter-widgets/base",
            "_model_module_version": "1.2.0",
            "_model_name": "LayoutModel",
            "_view_count": null,
            "_view_module": "@jupyter-widgets/base",
            "_view_module_version": "1.2.0",
            "_view_name": "LayoutView",
            "align_content": null,
            "align_items": null,
            "align_self": null,
            "border": null,
            "bottom": null,
            "display": null,
            "flex": null,
            "flex_flow": null,
            "grid_area": null,
            "grid_auto_columns": null,
            "grid_auto_flow": null,
            "grid_auto_rows": null,
            "grid_column": null,
            "grid_gap": null,
            "grid_row": null,
            "grid_template_areas": null,
            "grid_template_columns": null,
            "grid_template_rows": null,
            "height": null,
            "justify_content": null,
            "justify_items": null,
            "left": null,
            "margin": null,
            "max_height": null,
            "max_width": null,
            "min_height": null,
            "min_width": null,
            "object_fit": null,
            "object_position": null,
            "order": null,
            "overflow": null,
            "overflow_x": null,
            "overflow_y": null,
            "padding": null,
            "right": null,
            "top": null,
            "visibility": null,
            "width": null
          }
        },
        "7fbce39a4ccb445495fbfe86d2894157": {
          "model_module": "@jupyter-widgets/controls",
          "model_name": "ProgressStyleModel",
          "model_module_version": "1.5.0",
          "state": {
            "_model_module": "@jupyter-widgets/controls",
            "_model_module_version": "1.5.0",
            "_model_name": "ProgressStyleModel",
            "_view_count": null,
            "_view_module": "@jupyter-widgets/base",
            "_view_module_version": "1.2.0",
            "_view_name": "StyleView",
            "bar_color": null,
            "description_width": ""
          }
        },
        "458767440b304f8bbd7db5e255e2ccc2": {
          "model_module": "@jupyter-widgets/base",
          "model_name": "LayoutModel",
          "model_module_version": "1.2.0",
          "state": {
            "_model_module": "@jupyter-widgets/base",
            "_model_module_version": "1.2.0",
            "_model_name": "LayoutModel",
            "_view_count": null,
            "_view_module": "@jupyter-widgets/base",
            "_view_module_version": "1.2.0",
            "_view_name": "LayoutView",
            "align_content": null,
            "align_items": null,
            "align_self": null,
            "border": null,
            "bottom": null,
            "display": null,
            "flex": null,
            "flex_flow": null,
            "grid_area": null,
            "grid_auto_columns": null,
            "grid_auto_flow": null,
            "grid_auto_rows": null,
            "grid_column": null,
            "grid_gap": null,
            "grid_row": null,
            "grid_template_areas": null,
            "grid_template_columns": null,
            "grid_template_rows": null,
            "height": null,
            "justify_content": null,
            "justify_items": null,
            "left": null,
            "margin": null,
            "max_height": null,
            "max_width": null,
            "min_height": null,
            "min_width": null,
            "object_fit": null,
            "object_position": null,
            "order": null,
            "overflow": null,
            "overflow_x": null,
            "overflow_y": null,
            "padding": null,
            "right": null,
            "top": null,
            "visibility": null,
            "width": null
          }
        },
        "99b615959b4b44b0817b0c4dec9f4702": {
          "model_module": "@jupyter-widgets/controls",
          "model_name": "DescriptionStyleModel",
          "model_module_version": "1.5.0",
          "state": {
            "_model_module": "@jupyter-widgets/controls",
            "_model_module_version": "1.5.0",
            "_model_name": "DescriptionStyleModel",
            "_view_count": null,
            "_view_module": "@jupyter-widgets/base",
            "_view_module_version": "1.2.0",
            "_view_name": "StyleView",
            "description_width": ""
          }
        },
        "37be5acecc284ddbba9ff85dc5df2135": {
          "model_module": "@jupyter-widgets/controls",
          "model_name": "HBoxModel",
          "model_module_version": "1.5.0",
          "state": {
            "_dom_classes": [],
            "_model_module": "@jupyter-widgets/controls",
            "_model_module_version": "1.5.0",
            "_model_name": "HBoxModel",
            "_view_count": null,
            "_view_module": "@jupyter-widgets/controls",
            "_view_module_version": "1.5.0",
            "_view_name": "HBoxView",
            "box_style": "",
            "children": [
              "IPY_MODEL_1b4b8f202b2e4d59bc6fb0f8a11ac406",
              "IPY_MODEL_ae15ba5490a0475882e5948b8641cd33",
              "IPY_MODEL_840d318762704fbb8c19a791db1d636a"
            ],
            "layout": "IPY_MODEL_f6c232addc73448e9c220d6cc4f763dc"
          }
        },
        "1b4b8f202b2e4d59bc6fb0f8a11ac406": {
          "model_module": "@jupyter-widgets/controls",
          "model_name": "HTMLModel",
          "model_module_version": "1.5.0",
          "state": {
            "_dom_classes": [],
            "_model_module": "@jupyter-widgets/controls",
            "_model_module_version": "1.5.0",
            "_model_name": "HTMLModel",
            "_view_count": null,
            "_view_module": "@jupyter-widgets/controls",
            "_view_module_version": "1.5.0",
            "_view_name": "HTMLView",
            "description": "",
            "description_tooltip": null,
            "layout": "IPY_MODEL_aa023f9f48184b2b906f3aaa7d5417a2",
            "placeholder": "​",
            "style": "IPY_MODEL_6d3af776d4004bd39222e708d39fc6e6",
            "value": "config.json: 100%"
          }
        },
        "ae15ba5490a0475882e5948b8641cd33": {
          "model_module": "@jupyter-widgets/controls",
          "model_name": "FloatProgressModel",
          "model_module_version": "1.5.0",
          "state": {
            "_dom_classes": [],
            "_model_module": "@jupyter-widgets/controls",
            "_model_module_version": "1.5.0",
            "_model_name": "FloatProgressModel",
            "_view_count": null,
            "_view_module": "@jupyter-widgets/controls",
            "_view_module_version": "1.5.0",
            "_view_name": "ProgressView",
            "bar_style": "success",
            "description": "",
            "description_tooltip": null,
            "layout": "IPY_MODEL_7dd53a050edd48dea96bb20ffb05f77e",
            "max": 684,
            "min": 0,
            "orientation": "horizontal",
            "style": "IPY_MODEL_6267df08934f47f5b284424428374057",
            "value": 684
          }
        },
        "840d318762704fbb8c19a791db1d636a": {
          "model_module": "@jupyter-widgets/controls",
          "model_name": "HTMLModel",
          "model_module_version": "1.5.0",
          "state": {
            "_dom_classes": [],
            "_model_module": "@jupyter-widgets/controls",
            "_model_module_version": "1.5.0",
            "_model_name": "HTMLModel",
            "_view_count": null,
            "_view_module": "@jupyter-widgets/controls",
            "_view_module_version": "1.5.0",
            "_view_name": "HTMLView",
            "description": "",
            "description_tooltip": null,
            "layout": "IPY_MODEL_abbf688aa7f84edcadb6db0196f1158a",
            "placeholder": "​",
            "style": "IPY_MODEL_23e5c0106135432ea73e52acf17d2bff",
            "value": " 684/684 [00:00&lt;00:00, 56.2kB/s]"
          }
        },
        "f6c232addc73448e9c220d6cc4f763dc": {
          "model_module": "@jupyter-widgets/base",
          "model_name": "LayoutModel",
          "model_module_version": "1.2.0",
          "state": {
            "_model_module": "@jupyter-widgets/base",
            "_model_module_version": "1.2.0",
            "_model_name": "LayoutModel",
            "_view_count": null,
            "_view_module": "@jupyter-widgets/base",
            "_view_module_version": "1.2.0",
            "_view_name": "LayoutView",
            "align_content": null,
            "align_items": null,
            "align_self": null,
            "border": null,
            "bottom": null,
            "display": null,
            "flex": null,
            "flex_flow": null,
            "grid_area": null,
            "grid_auto_columns": null,
            "grid_auto_flow": null,
            "grid_auto_rows": null,
            "grid_column": null,
            "grid_gap": null,
            "grid_row": null,
            "grid_template_areas": null,
            "grid_template_columns": null,
            "grid_template_rows": null,
            "height": null,
            "justify_content": null,
            "justify_items": null,
            "left": null,
            "margin": null,
            "max_height": null,
            "max_width": null,
            "min_height": null,
            "min_width": null,
            "object_fit": null,
            "object_position": null,
            "order": null,
            "overflow": null,
            "overflow_x": null,
            "overflow_y": null,
            "padding": null,
            "right": null,
            "top": null,
            "visibility": null,
            "width": null
          }
        },
        "aa023f9f48184b2b906f3aaa7d5417a2": {
          "model_module": "@jupyter-widgets/base",
          "model_name": "LayoutModel",
          "model_module_version": "1.2.0",
          "state": {
            "_model_module": "@jupyter-widgets/base",
            "_model_module_version": "1.2.0",
            "_model_name": "LayoutModel",
            "_view_count": null,
            "_view_module": "@jupyter-widgets/base",
            "_view_module_version": "1.2.0",
            "_view_name": "LayoutView",
            "align_content": null,
            "align_items": null,
            "align_self": null,
            "border": null,
            "bottom": null,
            "display": null,
            "flex": null,
            "flex_flow": null,
            "grid_area": null,
            "grid_auto_columns": null,
            "grid_auto_flow": null,
            "grid_auto_rows": null,
            "grid_column": null,
            "grid_gap": null,
            "grid_row": null,
            "grid_template_areas": null,
            "grid_template_columns": null,
            "grid_template_rows": null,
            "height": null,
            "justify_content": null,
            "justify_items": null,
            "left": null,
            "margin": null,
            "max_height": null,
            "max_width": null,
            "min_height": null,
            "min_width": null,
            "object_fit": null,
            "object_position": null,
            "order": null,
            "overflow": null,
            "overflow_x": null,
            "overflow_y": null,
            "padding": null,
            "right": null,
            "top": null,
            "visibility": null,
            "width": null
          }
        },
        "6d3af776d4004bd39222e708d39fc6e6": {
          "model_module": "@jupyter-widgets/controls",
          "model_name": "DescriptionStyleModel",
          "model_module_version": "1.5.0",
          "state": {
            "_model_module": "@jupyter-widgets/controls",
            "_model_module_version": "1.5.0",
            "_model_name": "DescriptionStyleModel",
            "_view_count": null,
            "_view_module": "@jupyter-widgets/base",
            "_view_module_version": "1.2.0",
            "_view_name": "StyleView",
            "description_width": ""
          }
        },
        "7dd53a050edd48dea96bb20ffb05f77e": {
          "model_module": "@jupyter-widgets/base",
          "model_name": "LayoutModel",
          "model_module_version": "1.2.0",
          "state": {
            "_model_module": "@jupyter-widgets/base",
            "_model_module_version": "1.2.0",
            "_model_name": "LayoutModel",
            "_view_count": null,
            "_view_module": "@jupyter-widgets/base",
            "_view_module_version": "1.2.0",
            "_view_name": "LayoutView",
            "align_content": null,
            "align_items": null,
            "align_self": null,
            "border": null,
            "bottom": null,
            "display": null,
            "flex": null,
            "flex_flow": null,
            "grid_area": null,
            "grid_auto_columns": null,
            "grid_auto_flow": null,
            "grid_auto_rows": null,
            "grid_column": null,
            "grid_gap": null,
            "grid_row": null,
            "grid_template_areas": null,
            "grid_template_columns": null,
            "grid_template_rows": null,
            "height": null,
            "justify_content": null,
            "justify_items": null,
            "left": null,
            "margin": null,
            "max_height": null,
            "max_width": null,
            "min_height": null,
            "min_width": null,
            "object_fit": null,
            "object_position": null,
            "order": null,
            "overflow": null,
            "overflow_x": null,
            "overflow_y": null,
            "padding": null,
            "right": null,
            "top": null,
            "visibility": null,
            "width": null
          }
        },
        "6267df08934f47f5b284424428374057": {
          "model_module": "@jupyter-widgets/controls",
          "model_name": "ProgressStyleModel",
          "model_module_version": "1.5.0",
          "state": {
            "_model_module": "@jupyter-widgets/controls",
            "_model_module_version": "1.5.0",
            "_model_name": "ProgressStyleModel",
            "_view_count": null,
            "_view_module": "@jupyter-widgets/base",
            "_view_module_version": "1.2.0",
            "_view_name": "StyleView",
            "bar_color": null,
            "description_width": ""
          }
        },
        "abbf688aa7f84edcadb6db0196f1158a": {
          "model_module": "@jupyter-widgets/base",
          "model_name": "LayoutModel",
          "model_module_version": "1.2.0",
          "state": {
            "_model_module": "@jupyter-widgets/base",
            "_model_module_version": "1.2.0",
            "_model_name": "LayoutModel",
            "_view_count": null,
            "_view_module": "@jupyter-widgets/base",
            "_view_module_version": "1.2.0",
            "_view_name": "LayoutView",
            "align_content": null,
            "align_items": null,
            "align_self": null,
            "border": null,
            "bottom": null,
            "display": null,
            "flex": null,
            "flex_flow": null,
            "grid_area": null,
            "grid_auto_columns": null,
            "grid_auto_flow": null,
            "grid_auto_rows": null,
            "grid_column": null,
            "grid_gap": null,
            "grid_row": null,
            "grid_template_areas": null,
            "grid_template_columns": null,
            "grid_template_rows": null,
            "height": null,
            "justify_content": null,
            "justify_items": null,
            "left": null,
            "margin": null,
            "max_height": null,
            "max_width": null,
            "min_height": null,
            "min_width": null,
            "object_fit": null,
            "object_position": null,
            "order": null,
            "overflow": null,
            "overflow_x": null,
            "overflow_y": null,
            "padding": null,
            "right": null,
            "top": null,
            "visibility": null,
            "width": null
          }
        },
        "23e5c0106135432ea73e52acf17d2bff": {
          "model_module": "@jupyter-widgets/controls",
          "model_name": "DescriptionStyleModel",
          "model_module_version": "1.5.0",
          "state": {
            "_model_module": "@jupyter-widgets/controls",
            "_model_module_version": "1.5.0",
            "_model_name": "DescriptionStyleModel",
            "_view_count": null,
            "_view_module": "@jupyter-widgets/base",
            "_view_module_version": "1.2.0",
            "_view_name": "StyleView",
            "description_width": ""
          }
        },
        "a201845e83ff45fd936cef4a46fa08b4": {
          "model_module": "@jupyter-widgets/controls",
          "model_name": "HBoxModel",
          "model_module_version": "1.5.0",
          "state": {
            "_dom_classes": [],
            "_model_module": "@jupyter-widgets/controls",
            "_model_module_version": "1.5.0",
            "_model_name": "HBoxModel",
            "_view_count": null,
            "_view_module": "@jupyter-widgets/controls",
            "_view_module_version": "1.5.0",
            "_view_name": "HBoxView",
            "box_style": "",
            "children": [
              "IPY_MODEL_946c7455e85e4d10bbcd6f77b89fc905",
              "IPY_MODEL_a73d73da7d8c442fa0cab772b3a9db71",
              "IPY_MODEL_b1e9a65b15824d1eae5e175476dbedc3"
            ],
            "layout": "IPY_MODEL_b019a68d3b534523aa7e83fc51a482dc"
          }
        },
        "946c7455e85e4d10bbcd6f77b89fc905": {
          "model_module": "@jupyter-widgets/controls",
          "model_name": "HTMLModel",
          "model_module_version": "1.5.0",
          "state": {
            "_dom_classes": [],
            "_model_module": "@jupyter-widgets/controls",
            "_model_module_version": "1.5.0",
            "_model_name": "HTMLModel",
            "_view_count": null,
            "_view_module": "@jupyter-widgets/controls",
            "_view_module_version": "1.5.0",
            "_view_name": "HTMLView",
            "description": "",
            "description_tooltip": null,
            "layout": "IPY_MODEL_d7f38055e3ae408db0fbe4b942a0acb6",
            "placeholder": "​",
            "style": "IPY_MODEL_1ba3524d0c3b49ca974524969e26254e",
            "value": "model.safetensors: 100%"
          }
        },
        "a73d73da7d8c442fa0cab772b3a9db71": {
          "model_module": "@jupyter-widgets/controls",
          "model_name": "FloatProgressModel",
          "model_module_version": "1.5.0",
          "state": {
            "_dom_classes": [],
            "_model_module": "@jupyter-widgets/controls",
            "_model_module_version": "1.5.0",
            "_model_name": "FloatProgressModel",
            "_view_count": null,
            "_view_module": "@jupyter-widgets/controls",
            "_view_module_version": "1.5.0",
            "_view_name": "ProgressView",
            "bar_style": "success",
            "description": "",
            "description_tooltip": null,
            "layout": "IPY_MODEL_05029bca63134fef9bae2db615d08326",
            "max": 133466304,
            "min": 0,
            "orientation": "horizontal",
            "style": "IPY_MODEL_8954ca4572d449e3b355c4afba4fc241",
            "value": 133466304
          }
        },
        "b1e9a65b15824d1eae5e175476dbedc3": {
          "model_module": "@jupyter-widgets/controls",
          "model_name": "HTMLModel",
          "model_module_version": "1.5.0",
          "state": {
            "_dom_classes": [],
            "_model_module": "@jupyter-widgets/controls",
            "_model_module_version": "1.5.0",
            "_model_name": "HTMLModel",
            "_view_count": null,
            "_view_module": "@jupyter-widgets/controls",
            "_view_module_version": "1.5.0",
            "_view_name": "HTMLView",
            "description": "",
            "description_tooltip": null,
            "layout": "IPY_MODEL_cc33c5013c42478490d2671938ce760c",
            "placeholder": "​",
            "style": "IPY_MODEL_f109d9ed8ca447549463e433e43c98f7",
            "value": " 133M/133M [00:00&lt;00:00, 225MB/s]"
          }
        },
        "b019a68d3b534523aa7e83fc51a482dc": {
          "model_module": "@jupyter-widgets/base",
          "model_name": "LayoutModel",
          "model_module_version": "1.2.0",
          "state": {
            "_model_module": "@jupyter-widgets/base",
            "_model_module_version": "1.2.0",
            "_model_name": "LayoutModel",
            "_view_count": null,
            "_view_module": "@jupyter-widgets/base",
            "_view_module_version": "1.2.0",
            "_view_name": "LayoutView",
            "align_content": null,
            "align_items": null,
            "align_self": null,
            "border": null,
            "bottom": null,
            "display": null,
            "flex": null,
            "flex_flow": null,
            "grid_area": null,
            "grid_auto_columns": null,
            "grid_auto_flow": null,
            "grid_auto_rows": null,
            "grid_column": null,
            "grid_gap": null,
            "grid_row": null,
            "grid_template_areas": null,
            "grid_template_columns": null,
            "grid_template_rows": null,
            "height": null,
            "justify_content": null,
            "justify_items": null,
            "left": null,
            "margin": null,
            "max_height": null,
            "max_width": null,
            "min_height": null,
            "min_width": null,
            "object_fit": null,
            "object_position": null,
            "order": null,
            "overflow": null,
            "overflow_x": null,
            "overflow_y": null,
            "padding": null,
            "right": null,
            "top": null,
            "visibility": null,
            "width": null
          }
        },
        "d7f38055e3ae408db0fbe4b942a0acb6": {
          "model_module": "@jupyter-widgets/base",
          "model_name": "LayoutModel",
          "model_module_version": "1.2.0",
          "state": {
            "_model_module": "@jupyter-widgets/base",
            "_model_module_version": "1.2.0",
            "_model_name": "LayoutModel",
            "_view_count": null,
            "_view_module": "@jupyter-widgets/base",
            "_view_module_version": "1.2.0",
            "_view_name": "LayoutView",
            "align_content": null,
            "align_items": null,
            "align_self": null,
            "border": null,
            "bottom": null,
            "display": null,
            "flex": null,
            "flex_flow": null,
            "grid_area": null,
            "grid_auto_columns": null,
            "grid_auto_flow": null,
            "grid_auto_rows": null,
            "grid_column": null,
            "grid_gap": null,
            "grid_row": null,
            "grid_template_areas": null,
            "grid_template_columns": null,
            "grid_template_rows": null,
            "height": null,
            "justify_content": null,
            "justify_items": null,
            "left": null,
            "margin": null,
            "max_height": null,
            "max_width": null,
            "min_height": null,
            "min_width": null,
            "object_fit": null,
            "object_position": null,
            "order": null,
            "overflow": null,
            "overflow_x": null,
            "overflow_y": null,
            "padding": null,
            "right": null,
            "top": null,
            "visibility": null,
            "width": null
          }
        },
        "1ba3524d0c3b49ca974524969e26254e": {
          "model_module": "@jupyter-widgets/controls",
          "model_name": "DescriptionStyleModel",
          "model_module_version": "1.5.0",
          "state": {
            "_model_module": "@jupyter-widgets/controls",
            "_model_module_version": "1.5.0",
            "_model_name": "DescriptionStyleModel",
            "_view_count": null,
            "_view_module": "@jupyter-widgets/base",
            "_view_module_version": "1.2.0",
            "_view_name": "StyleView",
            "description_width": ""
          }
        },
        "05029bca63134fef9bae2db615d08326": {
          "model_module": "@jupyter-widgets/base",
          "model_name": "LayoutModel",
          "model_module_version": "1.2.0",
          "state": {
            "_model_module": "@jupyter-widgets/base",
            "_model_module_version": "1.2.0",
            "_model_name": "LayoutModel",
            "_view_count": null,
            "_view_module": "@jupyter-widgets/base",
            "_view_module_version": "1.2.0",
            "_view_name": "LayoutView",
            "align_content": null,
            "align_items": null,
            "align_self": null,
            "border": null,
            "bottom": null,
            "display": null,
            "flex": null,
            "flex_flow": null,
            "grid_area": null,
            "grid_auto_columns": null,
            "grid_auto_flow": null,
            "grid_auto_rows": null,
            "grid_column": null,
            "grid_gap": null,
            "grid_row": null,
            "grid_template_areas": null,
            "grid_template_columns": null,
            "grid_template_rows": null,
            "height": null,
            "justify_content": null,
            "justify_items": null,
            "left": null,
            "margin": null,
            "max_height": null,
            "max_width": null,
            "min_height": null,
            "min_width": null,
            "object_fit": null,
            "object_position": null,
            "order": null,
            "overflow": null,
            "overflow_x": null,
            "overflow_y": null,
            "padding": null,
            "right": null,
            "top": null,
            "visibility": null,
            "width": null
          }
        },
        "8954ca4572d449e3b355c4afba4fc241": {
          "model_module": "@jupyter-widgets/controls",
          "model_name": "ProgressStyleModel",
          "model_module_version": "1.5.0",
          "state": {
            "_model_module": "@jupyter-widgets/controls",
            "_model_module_version": "1.5.0",
            "_model_name": "ProgressStyleModel",
            "_view_count": null,
            "_view_module": "@jupyter-widgets/base",
            "_view_module_version": "1.2.0",
            "_view_name": "StyleView",
            "bar_color": null,
            "description_width": ""
          }
        },
        "cc33c5013c42478490d2671938ce760c": {
          "model_module": "@jupyter-widgets/base",
          "model_name": "LayoutModel",
          "model_module_version": "1.2.0",
          "state": {
            "_model_module": "@jupyter-widgets/base",
            "_model_module_version": "1.2.0",
            "_model_name": "LayoutModel",
            "_view_count": null,
            "_view_module": "@jupyter-widgets/base",
            "_view_module_version": "1.2.0",
            "_view_name": "LayoutView",
            "align_content": null,
            "align_items": null,
            "align_self": null,
            "border": null,
            "bottom": null,
            "display": null,
            "flex": null,
            "flex_flow": null,
            "grid_area": null,
            "grid_auto_columns": null,
            "grid_auto_flow": null,
            "grid_auto_rows": null,
            "grid_column": null,
            "grid_gap": null,
            "grid_row": null,
            "grid_template_areas": null,
            "grid_template_columns": null,
            "grid_template_rows": null,
            "height": null,
            "justify_content": null,
            "justify_items": null,
            "left": null,
            "margin": null,
            "max_height": null,
            "max_width": null,
            "min_height": null,
            "min_width": null,
            "object_fit": null,
            "object_position": null,
            "order": null,
            "overflow": null,
            "overflow_x": null,
            "overflow_y": null,
            "padding": null,
            "right": null,
            "top": null,
            "visibility": null,
            "width": null
          }
        },
        "f109d9ed8ca447549463e433e43c98f7": {
          "model_module": "@jupyter-widgets/controls",
          "model_name": "DescriptionStyleModel",
          "model_module_version": "1.5.0",
          "state": {
            "_model_module": "@jupyter-widgets/controls",
            "_model_module_version": "1.5.0",
            "_model_name": "DescriptionStyleModel",
            "_view_count": null,
            "_view_module": "@jupyter-widgets/base",
            "_view_module_version": "1.2.0",
            "_view_name": "StyleView",
            "description_width": ""
          }
        },
        "22fd75ace0ce4aee922f1e281142a539": {
          "model_module": "@jupyter-widgets/controls",
          "model_name": "HBoxModel",
          "model_module_version": "1.5.0",
          "state": {
            "_dom_classes": [],
            "_model_module": "@jupyter-widgets/controls",
            "_model_module_version": "1.5.0",
            "_model_name": "HBoxModel",
            "_view_count": null,
            "_view_module": "@jupyter-widgets/controls",
            "_view_module_version": "1.5.0",
            "_view_name": "HBoxView",
            "box_style": "",
            "children": [
              "IPY_MODEL_b515d7808136411b8dced14f96b37907",
              "IPY_MODEL_4862ee7cc7f74574b893fcbae8e4edee",
              "IPY_MODEL_d16cdd2b5d7642a392e6c2612f98898c"
            ],
            "layout": "IPY_MODEL_fdd3ab1ca22e4a14b494f5d16fa50f2c"
          }
        },
        "b515d7808136411b8dced14f96b37907": {
          "model_module": "@jupyter-widgets/controls",
          "model_name": "HTMLModel",
          "model_module_version": "1.5.0",
          "state": {
            "_dom_classes": [],
            "_model_module": "@jupyter-widgets/controls",
            "_model_module_version": "1.5.0",
            "_model_name": "HTMLModel",
            "_view_count": null,
            "_view_module": "@jupyter-widgets/controls",
            "_view_module_version": "1.5.0",
            "_view_name": "HTMLView",
            "description": "",
            "description_tooltip": null,
            "layout": "IPY_MODEL_11524c6354ab40f484c5f96693060030",
            "placeholder": "​",
            "style": "IPY_MODEL_299a4213d26e41c78eab3d166f5aecb4",
            "value": "tokenizer_config.json: 100%"
          }
        },
        "4862ee7cc7f74574b893fcbae8e4edee": {
          "model_module": "@jupyter-widgets/controls",
          "model_name": "FloatProgressModel",
          "model_module_version": "1.5.0",
          "state": {
            "_dom_classes": [],
            "_model_module": "@jupyter-widgets/controls",
            "_model_module_version": "1.5.0",
            "_model_name": "FloatProgressModel",
            "_view_count": null,
            "_view_module": "@jupyter-widgets/controls",
            "_view_module_version": "1.5.0",
            "_view_name": "ProgressView",
            "bar_style": "success",
            "description": "",
            "description_tooltip": null,
            "layout": "IPY_MODEL_41210437c631498db67957fb7d70d37e",
            "max": 366,
            "min": 0,
            "orientation": "horizontal",
            "style": "IPY_MODEL_4f9665327b534a0c815cae36a5727785",
            "value": 366
          }
        },
        "d16cdd2b5d7642a392e6c2612f98898c": {
          "model_module": "@jupyter-widgets/controls",
          "model_name": "HTMLModel",
          "model_module_version": "1.5.0",
          "state": {
            "_dom_classes": [],
            "_model_module": "@jupyter-widgets/controls",
            "_model_module_version": "1.5.0",
            "_model_name": "HTMLModel",
            "_view_count": null,
            "_view_module": "@jupyter-widgets/controls",
            "_view_module_version": "1.5.0",
            "_view_name": "HTMLView",
            "description": "",
            "description_tooltip": null,
            "layout": "IPY_MODEL_3b0b1bac75e04538bb4b433e73f251b5",
            "placeholder": "​",
            "style": "IPY_MODEL_fdb3a49f7f374c589d3fda8fdfd78311",
            "value": " 366/366 [00:00&lt;00:00, 25.3kB/s]"
          }
        },
        "fdd3ab1ca22e4a14b494f5d16fa50f2c": {
          "model_module": "@jupyter-widgets/base",
          "model_name": "LayoutModel",
          "model_module_version": "1.2.0",
          "state": {
            "_model_module": "@jupyter-widgets/base",
            "_model_module_version": "1.2.0",
            "_model_name": "LayoutModel",
            "_view_count": null,
            "_view_module": "@jupyter-widgets/base",
            "_view_module_version": "1.2.0",
            "_view_name": "LayoutView",
            "align_content": null,
            "align_items": null,
            "align_self": null,
            "border": null,
            "bottom": null,
            "display": null,
            "flex": null,
            "flex_flow": null,
            "grid_area": null,
            "grid_auto_columns": null,
            "grid_auto_flow": null,
            "grid_auto_rows": null,
            "grid_column": null,
            "grid_gap": null,
            "grid_row": null,
            "grid_template_areas": null,
            "grid_template_columns": null,
            "grid_template_rows": null,
            "height": null,
            "justify_content": null,
            "justify_items": null,
            "left": null,
            "margin": null,
            "max_height": null,
            "max_width": null,
            "min_height": null,
            "min_width": null,
            "object_fit": null,
            "object_position": null,
            "order": null,
            "overflow": null,
            "overflow_x": null,
            "overflow_y": null,
            "padding": null,
            "right": null,
            "top": null,
            "visibility": null,
            "width": null
          }
        },
        "11524c6354ab40f484c5f96693060030": {
          "model_module": "@jupyter-widgets/base",
          "model_name": "LayoutModel",
          "model_module_version": "1.2.0",
          "state": {
            "_model_module": "@jupyter-widgets/base",
            "_model_module_version": "1.2.0",
            "_model_name": "LayoutModel",
            "_view_count": null,
            "_view_module": "@jupyter-widgets/base",
            "_view_module_version": "1.2.0",
            "_view_name": "LayoutView",
            "align_content": null,
            "align_items": null,
            "align_self": null,
            "border": null,
            "bottom": null,
            "display": null,
            "flex": null,
            "flex_flow": null,
            "grid_area": null,
            "grid_auto_columns": null,
            "grid_auto_flow": null,
            "grid_auto_rows": null,
            "grid_column": null,
            "grid_gap": null,
            "grid_row": null,
            "grid_template_areas": null,
            "grid_template_columns": null,
            "grid_template_rows": null,
            "height": null,
            "justify_content": null,
            "justify_items": null,
            "left": null,
            "margin": null,
            "max_height": null,
            "max_width": null,
            "min_height": null,
            "min_width": null,
            "object_fit": null,
            "object_position": null,
            "order": null,
            "overflow": null,
            "overflow_x": null,
            "overflow_y": null,
            "padding": null,
            "right": null,
            "top": null,
            "visibility": null,
            "width": null
          }
        },
        "299a4213d26e41c78eab3d166f5aecb4": {
          "model_module": "@jupyter-widgets/controls",
          "model_name": "DescriptionStyleModel",
          "model_module_version": "1.5.0",
          "state": {
            "_model_module": "@jupyter-widgets/controls",
            "_model_module_version": "1.5.0",
            "_model_name": "DescriptionStyleModel",
            "_view_count": null,
            "_view_module": "@jupyter-widgets/base",
            "_view_module_version": "1.2.0",
            "_view_name": "StyleView",
            "description_width": ""
          }
        },
        "41210437c631498db67957fb7d70d37e": {
          "model_module": "@jupyter-widgets/base",
          "model_name": "LayoutModel",
          "model_module_version": "1.2.0",
          "state": {
            "_model_module": "@jupyter-widgets/base",
            "_model_module_version": "1.2.0",
            "_model_name": "LayoutModel",
            "_view_count": null,
            "_view_module": "@jupyter-widgets/base",
            "_view_module_version": "1.2.0",
            "_view_name": "LayoutView",
            "align_content": null,
            "align_items": null,
            "align_self": null,
            "border": null,
            "bottom": null,
            "display": null,
            "flex": null,
            "flex_flow": null,
            "grid_area": null,
            "grid_auto_columns": null,
            "grid_auto_flow": null,
            "grid_auto_rows": null,
            "grid_column": null,
            "grid_gap": null,
            "grid_row": null,
            "grid_template_areas": null,
            "grid_template_columns": null,
            "grid_template_rows": null,
            "height": null,
            "justify_content": null,
            "justify_items": null,
            "left": null,
            "margin": null,
            "max_height": null,
            "max_width": null,
            "min_height": null,
            "min_width": null,
            "object_fit": null,
            "object_position": null,
            "order": null,
            "overflow": null,
            "overflow_x": null,
            "overflow_y": null,
            "padding": null,
            "right": null,
            "top": null,
            "visibility": null,
            "width": null
          }
        },
        "4f9665327b534a0c815cae36a5727785": {
          "model_module": "@jupyter-widgets/controls",
          "model_name": "ProgressStyleModel",
          "model_module_version": "1.5.0",
          "state": {
            "_model_module": "@jupyter-widgets/controls",
            "_model_module_version": "1.5.0",
            "_model_name": "ProgressStyleModel",
            "_view_count": null,
            "_view_module": "@jupyter-widgets/base",
            "_view_module_version": "1.2.0",
            "_view_name": "StyleView",
            "bar_color": null,
            "description_width": ""
          }
        },
        "3b0b1bac75e04538bb4b433e73f251b5": {
          "model_module": "@jupyter-widgets/base",
          "model_name": "LayoutModel",
          "model_module_version": "1.2.0",
          "state": {
            "_model_module": "@jupyter-widgets/base",
            "_model_module_version": "1.2.0",
            "_model_name": "LayoutModel",
            "_view_count": null,
            "_view_module": "@jupyter-widgets/base",
            "_view_module_version": "1.2.0",
            "_view_name": "LayoutView",
            "align_content": null,
            "align_items": null,
            "align_self": null,
            "border": null,
            "bottom": null,
            "display": null,
            "flex": null,
            "flex_flow": null,
            "grid_area": null,
            "grid_auto_columns": null,
            "grid_auto_flow": null,
            "grid_auto_rows": null,
            "grid_column": null,
            "grid_gap": null,
            "grid_row": null,
            "grid_template_areas": null,
            "grid_template_columns": null,
            "grid_template_rows": null,
            "height": null,
            "justify_content": null,
            "justify_items": null,
            "left": null,
            "margin": null,
            "max_height": null,
            "max_width": null,
            "min_height": null,
            "min_width": null,
            "object_fit": null,
            "object_position": null,
            "order": null,
            "overflow": null,
            "overflow_x": null,
            "overflow_y": null,
            "padding": null,
            "right": null,
            "top": null,
            "visibility": null,
            "width": null
          }
        },
        "fdb3a49f7f374c589d3fda8fdfd78311": {
          "model_module": "@jupyter-widgets/controls",
          "model_name": "DescriptionStyleModel",
          "model_module_version": "1.5.0",
          "state": {
            "_model_module": "@jupyter-widgets/controls",
            "_model_module_version": "1.5.0",
            "_model_name": "DescriptionStyleModel",
            "_view_count": null,
            "_view_module": "@jupyter-widgets/base",
            "_view_module_version": "1.2.0",
            "_view_name": "StyleView",
            "description_width": ""
          }
        },
        "e89063da31f74eeeb3ad28344bd17dd2": {
          "model_module": "@jupyter-widgets/controls",
          "model_name": "HBoxModel",
          "model_module_version": "1.5.0",
          "state": {
            "_dom_classes": [],
            "_model_module": "@jupyter-widgets/controls",
            "_model_module_version": "1.5.0",
            "_model_name": "HBoxModel",
            "_view_count": null,
            "_view_module": "@jupyter-widgets/controls",
            "_view_module_version": "1.5.0",
            "_view_name": "HBoxView",
            "box_style": "",
            "children": [
              "IPY_MODEL_28a8888ec4e04385a0a54e24637333d6",
              "IPY_MODEL_6e1d2c761e8b4d588a965f0b8b0a49fa",
              "IPY_MODEL_c24bd7ae12884531bfd666ef34a62ef3"
            ],
            "layout": "IPY_MODEL_77921c42cc7f43f79bb522c4b6dfec1a"
          }
        },
        "28a8888ec4e04385a0a54e24637333d6": {
          "model_module": "@jupyter-widgets/controls",
          "model_name": "HTMLModel",
          "model_module_version": "1.5.0",
          "state": {
            "_dom_classes": [],
            "_model_module": "@jupyter-widgets/controls",
            "_model_module_version": "1.5.0",
            "_model_name": "HTMLModel",
            "_view_count": null,
            "_view_module": "@jupyter-widgets/controls",
            "_view_module_version": "1.5.0",
            "_view_name": "HTMLView",
            "description": "",
            "description_tooltip": null,
            "layout": "IPY_MODEL_3848917636bf4f5b82a83eff8b078433",
            "placeholder": "​",
            "style": "IPY_MODEL_8578033430164d4a9d114ff6b43b922a",
            "value": "vocab.txt: 100%"
          }
        },
        "6e1d2c761e8b4d588a965f0b8b0a49fa": {
          "model_module": "@jupyter-widgets/controls",
          "model_name": "FloatProgressModel",
          "model_module_version": "1.5.0",
          "state": {
            "_dom_classes": [],
            "_model_module": "@jupyter-widgets/controls",
            "_model_module_version": "1.5.0",
            "_model_name": "FloatProgressModel",
            "_view_count": null,
            "_view_module": "@jupyter-widgets/controls",
            "_view_module_version": "1.5.0",
            "_view_name": "ProgressView",
            "bar_style": "success",
            "description": "",
            "description_tooltip": null,
            "layout": "IPY_MODEL_6ebc0cba6c20414bb4b8b9d51cc56748",
            "max": 231508,
            "min": 0,
            "orientation": "horizontal",
            "style": "IPY_MODEL_273de167564f4d8e9847e38a0eb63e4f",
            "value": 231508
          }
        },
        "c24bd7ae12884531bfd666ef34a62ef3": {
          "model_module": "@jupyter-widgets/controls",
          "model_name": "HTMLModel",
          "model_module_version": "1.5.0",
          "state": {
            "_dom_classes": [],
            "_model_module": "@jupyter-widgets/controls",
            "_model_module_version": "1.5.0",
            "_model_name": "HTMLModel",
            "_view_count": null,
            "_view_module": "@jupyter-widgets/controls",
            "_view_module_version": "1.5.0",
            "_view_name": "HTMLView",
            "description": "",
            "description_tooltip": null,
            "layout": "IPY_MODEL_fc5580f0db0b481e849902ec4307eb55",
            "placeholder": "​",
            "style": "IPY_MODEL_19aad43c1fe9443ca07d4abc892baa72",
            "value": " 232k/232k [00:00&lt;00:00, 16.9MB/s]"
          }
        },
        "77921c42cc7f43f79bb522c4b6dfec1a": {
          "model_module": "@jupyter-widgets/base",
          "model_name": "LayoutModel",
          "model_module_version": "1.2.0",
          "state": {
            "_model_module": "@jupyter-widgets/base",
            "_model_module_version": "1.2.0",
            "_model_name": "LayoutModel",
            "_view_count": null,
            "_view_module": "@jupyter-widgets/base",
            "_view_module_version": "1.2.0",
            "_view_name": "LayoutView",
            "align_content": null,
            "align_items": null,
            "align_self": null,
            "border": null,
            "bottom": null,
            "display": null,
            "flex": null,
            "flex_flow": null,
            "grid_area": null,
            "grid_auto_columns": null,
            "grid_auto_flow": null,
            "grid_auto_rows": null,
            "grid_column": null,
            "grid_gap": null,
            "grid_row": null,
            "grid_template_areas": null,
            "grid_template_columns": null,
            "grid_template_rows": null,
            "height": null,
            "justify_content": null,
            "justify_items": null,
            "left": null,
            "margin": null,
            "max_height": null,
            "max_width": null,
            "min_height": null,
            "min_width": null,
            "object_fit": null,
            "object_position": null,
            "order": null,
            "overflow": null,
            "overflow_x": null,
            "overflow_y": null,
            "padding": null,
            "right": null,
            "top": null,
            "visibility": null,
            "width": null
          }
        },
        "3848917636bf4f5b82a83eff8b078433": {
          "model_module": "@jupyter-widgets/base",
          "model_name": "LayoutModel",
          "model_module_version": "1.2.0",
          "state": {
            "_model_module": "@jupyter-widgets/base",
            "_model_module_version": "1.2.0",
            "_model_name": "LayoutModel",
            "_view_count": null,
            "_view_module": "@jupyter-widgets/base",
            "_view_module_version": "1.2.0",
            "_view_name": "LayoutView",
            "align_content": null,
            "align_items": null,
            "align_self": null,
            "border": null,
            "bottom": null,
            "display": null,
            "flex": null,
            "flex_flow": null,
            "grid_area": null,
            "grid_auto_columns": null,
            "grid_auto_flow": null,
            "grid_auto_rows": null,
            "grid_column": null,
            "grid_gap": null,
            "grid_row": null,
            "grid_template_areas": null,
            "grid_template_columns": null,
            "grid_template_rows": null,
            "height": null,
            "justify_content": null,
            "justify_items": null,
            "left": null,
            "margin": null,
            "max_height": null,
            "max_width": null,
            "min_height": null,
            "min_width": null,
            "object_fit": null,
            "object_position": null,
            "order": null,
            "overflow": null,
            "overflow_x": null,
            "overflow_y": null,
            "padding": null,
            "right": null,
            "top": null,
            "visibility": null,
            "width": null
          }
        },
        "8578033430164d4a9d114ff6b43b922a": {
          "model_module": "@jupyter-widgets/controls",
          "model_name": "DescriptionStyleModel",
          "model_module_version": "1.5.0",
          "state": {
            "_model_module": "@jupyter-widgets/controls",
            "_model_module_version": "1.5.0",
            "_model_name": "DescriptionStyleModel",
            "_view_count": null,
            "_view_module": "@jupyter-widgets/base",
            "_view_module_version": "1.2.0",
            "_view_name": "StyleView",
            "description_width": ""
          }
        },
        "6ebc0cba6c20414bb4b8b9d51cc56748": {
          "model_module": "@jupyter-widgets/base",
          "model_name": "LayoutModel",
          "model_module_version": "1.2.0",
          "state": {
            "_model_module": "@jupyter-widgets/base",
            "_model_module_version": "1.2.0",
            "_model_name": "LayoutModel",
            "_view_count": null,
            "_view_module": "@jupyter-widgets/base",
            "_view_module_version": "1.2.0",
            "_view_name": "LayoutView",
            "align_content": null,
            "align_items": null,
            "align_self": null,
            "border": null,
            "bottom": null,
            "display": null,
            "flex": null,
            "flex_flow": null,
            "grid_area": null,
            "grid_auto_columns": null,
            "grid_auto_flow": null,
            "grid_auto_rows": null,
            "grid_column": null,
            "grid_gap": null,
            "grid_row": null,
            "grid_template_areas": null,
            "grid_template_columns": null,
            "grid_template_rows": null,
            "height": null,
            "justify_content": null,
            "justify_items": null,
            "left": null,
            "margin": null,
            "max_height": null,
            "max_width": null,
            "min_height": null,
            "min_width": null,
            "object_fit": null,
            "object_position": null,
            "order": null,
            "overflow": null,
            "overflow_x": null,
            "overflow_y": null,
            "padding": null,
            "right": null,
            "top": null,
            "visibility": null,
            "width": null
          }
        },
        "273de167564f4d8e9847e38a0eb63e4f": {
          "model_module": "@jupyter-widgets/controls",
          "model_name": "ProgressStyleModel",
          "model_module_version": "1.5.0",
          "state": {
            "_model_module": "@jupyter-widgets/controls",
            "_model_module_version": "1.5.0",
            "_model_name": "ProgressStyleModel",
            "_view_count": null,
            "_view_module": "@jupyter-widgets/base",
            "_view_module_version": "1.2.0",
            "_view_name": "StyleView",
            "bar_color": null,
            "description_width": ""
          }
        },
        "fc5580f0db0b481e849902ec4307eb55": {
          "model_module": "@jupyter-widgets/base",
          "model_name": "LayoutModel",
          "model_module_version": "1.2.0",
          "state": {
            "_model_module": "@jupyter-widgets/base",
            "_model_module_version": "1.2.0",
            "_model_name": "LayoutModel",
            "_view_count": null,
            "_view_module": "@jupyter-widgets/base",
            "_view_module_version": "1.2.0",
            "_view_name": "LayoutView",
            "align_content": null,
            "align_items": null,
            "align_self": null,
            "border": null,
            "bottom": null,
            "display": null,
            "flex": null,
            "flex_flow": null,
            "grid_area": null,
            "grid_auto_columns": null,
            "grid_auto_flow": null,
            "grid_auto_rows": null,
            "grid_column": null,
            "grid_gap": null,
            "grid_row": null,
            "grid_template_areas": null,
            "grid_template_columns": null,
            "grid_template_rows": null,
            "height": null,
            "justify_content": null,
            "justify_items": null,
            "left": null,
            "margin": null,
            "max_height": null,
            "max_width": null,
            "min_height": null,
            "min_width": null,
            "object_fit": null,
            "object_position": null,
            "order": null,
            "overflow": null,
            "overflow_x": null,
            "overflow_y": null,
            "padding": null,
            "right": null,
            "top": null,
            "visibility": null,
            "width": null
          }
        },
        "19aad43c1fe9443ca07d4abc892baa72": {
          "model_module": "@jupyter-widgets/controls",
          "model_name": "DescriptionStyleModel",
          "model_module_version": "1.5.0",
          "state": {
            "_model_module": "@jupyter-widgets/controls",
            "_model_module_version": "1.5.0",
            "_model_name": "DescriptionStyleModel",
            "_view_count": null,
            "_view_module": "@jupyter-widgets/base",
            "_view_module_version": "1.2.0",
            "_view_name": "StyleView",
            "description_width": ""
          }
        },
        "7d3bf72dd0864906a214bbae4bdc70da": {
          "model_module": "@jupyter-widgets/controls",
          "model_name": "HBoxModel",
          "model_module_version": "1.5.0",
          "state": {
            "_dom_classes": [],
            "_model_module": "@jupyter-widgets/controls",
            "_model_module_version": "1.5.0",
            "_model_name": "HBoxModel",
            "_view_count": null,
            "_view_module": "@jupyter-widgets/controls",
            "_view_module_version": "1.5.0",
            "_view_name": "HBoxView",
            "box_style": "",
            "children": [
              "IPY_MODEL_9572c4f7bd3c4e2ab3ad98e00e40780a",
              "IPY_MODEL_9d72e291455c41709a87dd7e7da63e24",
              "IPY_MODEL_644e59e7ec7048eeba309e5aa4e7700c"
            ],
            "layout": "IPY_MODEL_c063c5d643564588847bfa41c9a3abc4"
          }
        },
        "9572c4f7bd3c4e2ab3ad98e00e40780a": {
          "model_module": "@jupyter-widgets/controls",
          "model_name": "HTMLModel",
          "model_module_version": "1.5.0",
          "state": {
            "_dom_classes": [],
            "_model_module": "@jupyter-widgets/controls",
            "_model_module_version": "1.5.0",
            "_model_name": "HTMLModel",
            "_view_count": null,
            "_view_module": "@jupyter-widgets/controls",
            "_view_module_version": "1.5.0",
            "_view_name": "HTMLView",
            "description": "",
            "description_tooltip": null,
            "layout": "IPY_MODEL_276dabd794834d9d870e34d070f87220",
            "placeholder": "​",
            "style": "IPY_MODEL_0f8cd07fe2804f77b3410631c338e9b2",
            "value": "tokenizer.json: 100%"
          }
        },
        "9d72e291455c41709a87dd7e7da63e24": {
          "model_module": "@jupyter-widgets/controls",
          "model_name": "FloatProgressModel",
          "model_module_version": "1.5.0",
          "state": {
            "_dom_classes": [],
            "_model_module": "@jupyter-widgets/controls",
            "_model_module_version": "1.5.0",
            "_model_name": "FloatProgressModel",
            "_view_count": null,
            "_view_module": "@jupyter-widgets/controls",
            "_view_module_version": "1.5.0",
            "_view_name": "ProgressView",
            "bar_style": "success",
            "description": "",
            "description_tooltip": null,
            "layout": "IPY_MODEL_b652050cebb94c908f231c3f456f88d0",
            "max": 711396,
            "min": 0,
            "orientation": "horizontal",
            "style": "IPY_MODEL_3b2b345f5d424e928eb989c2a6a13284",
            "value": 711396
          }
        },
        "644e59e7ec7048eeba309e5aa4e7700c": {
          "model_module": "@jupyter-widgets/controls",
          "model_name": "HTMLModel",
          "model_module_version": "1.5.0",
          "state": {
            "_dom_classes": [],
            "_model_module": "@jupyter-widgets/controls",
            "_model_module_version": "1.5.0",
            "_model_name": "HTMLModel",
            "_view_count": null,
            "_view_module": "@jupyter-widgets/controls",
            "_view_module_version": "1.5.0",
            "_view_name": "HTMLView",
            "description": "",
            "description_tooltip": null,
            "layout": "IPY_MODEL_bdbe7cd6ebe2435c9c6afc5534455fba",
            "placeholder": "​",
            "style": "IPY_MODEL_3afdeb473eea4a31a5083ec5206f73af",
            "value": " 711k/711k [00:00&lt;00:00, 776kB/s]"
          }
        },
        "c063c5d643564588847bfa41c9a3abc4": {
          "model_module": "@jupyter-widgets/base",
          "model_name": "LayoutModel",
          "model_module_version": "1.2.0",
          "state": {
            "_model_module": "@jupyter-widgets/base",
            "_model_module_version": "1.2.0",
            "_model_name": "LayoutModel",
            "_view_count": null,
            "_view_module": "@jupyter-widgets/base",
            "_view_module_version": "1.2.0",
            "_view_name": "LayoutView",
            "align_content": null,
            "align_items": null,
            "align_self": null,
            "border": null,
            "bottom": null,
            "display": null,
            "flex": null,
            "flex_flow": null,
            "grid_area": null,
            "grid_auto_columns": null,
            "grid_auto_flow": null,
            "grid_auto_rows": null,
            "grid_column": null,
            "grid_gap": null,
            "grid_row": null,
            "grid_template_areas": null,
            "grid_template_columns": null,
            "grid_template_rows": null,
            "height": null,
            "justify_content": null,
            "justify_items": null,
            "left": null,
            "margin": null,
            "max_height": null,
            "max_width": null,
            "min_height": null,
            "min_width": null,
            "object_fit": null,
            "object_position": null,
            "order": null,
            "overflow": null,
            "overflow_x": null,
            "overflow_y": null,
            "padding": null,
            "right": null,
            "top": null,
            "visibility": null,
            "width": null
          }
        },
        "276dabd794834d9d870e34d070f87220": {
          "model_module": "@jupyter-widgets/base",
          "model_name": "LayoutModel",
          "model_module_version": "1.2.0",
          "state": {
            "_model_module": "@jupyter-widgets/base",
            "_model_module_version": "1.2.0",
            "_model_name": "LayoutModel",
            "_view_count": null,
            "_view_module": "@jupyter-widgets/base",
            "_view_module_version": "1.2.0",
            "_view_name": "LayoutView",
            "align_content": null,
            "align_items": null,
            "align_self": null,
            "border": null,
            "bottom": null,
            "display": null,
            "flex": null,
            "flex_flow": null,
            "grid_area": null,
            "grid_auto_columns": null,
            "grid_auto_flow": null,
            "grid_auto_rows": null,
            "grid_column": null,
            "grid_gap": null,
            "grid_row": null,
            "grid_template_areas": null,
            "grid_template_columns": null,
            "grid_template_rows": null,
            "height": null,
            "justify_content": null,
            "justify_items": null,
            "left": null,
            "margin": null,
            "max_height": null,
            "max_width": null,
            "min_height": null,
            "min_width": null,
            "object_fit": null,
            "object_position": null,
            "order": null,
            "overflow": null,
            "overflow_x": null,
            "overflow_y": null,
            "padding": null,
            "right": null,
            "top": null,
            "visibility": null,
            "width": null
          }
        },
        "0f8cd07fe2804f77b3410631c338e9b2": {
          "model_module": "@jupyter-widgets/controls",
          "model_name": "DescriptionStyleModel",
          "model_module_version": "1.5.0",
          "state": {
            "_model_module": "@jupyter-widgets/controls",
            "_model_module_version": "1.5.0",
            "_model_name": "DescriptionStyleModel",
            "_view_count": null,
            "_view_module": "@jupyter-widgets/base",
            "_view_module_version": "1.2.0",
            "_view_name": "StyleView",
            "description_width": ""
          }
        },
        "b652050cebb94c908f231c3f456f88d0": {
          "model_module": "@jupyter-widgets/base",
          "model_name": "LayoutModel",
          "model_module_version": "1.2.0",
          "state": {
            "_model_module": "@jupyter-widgets/base",
            "_model_module_version": "1.2.0",
            "_model_name": "LayoutModel",
            "_view_count": null,
            "_view_module": "@jupyter-widgets/base",
            "_view_module_version": "1.2.0",
            "_view_name": "LayoutView",
            "align_content": null,
            "align_items": null,
            "align_self": null,
            "border": null,
            "bottom": null,
            "display": null,
            "flex": null,
            "flex_flow": null,
            "grid_area": null,
            "grid_auto_columns": null,
            "grid_auto_flow": null,
            "grid_auto_rows": null,
            "grid_column": null,
            "grid_gap": null,
            "grid_row": null,
            "grid_template_areas": null,
            "grid_template_columns": null,
            "grid_template_rows": null,
            "height": null,
            "justify_content": null,
            "justify_items": null,
            "left": null,
            "margin": null,
            "max_height": null,
            "max_width": null,
            "min_height": null,
            "min_width": null,
            "object_fit": null,
            "object_position": null,
            "order": null,
            "overflow": null,
            "overflow_x": null,
            "overflow_y": null,
            "padding": null,
            "right": null,
            "top": null,
            "visibility": null,
            "width": null
          }
        },
        "3b2b345f5d424e928eb989c2a6a13284": {
          "model_module": "@jupyter-widgets/controls",
          "model_name": "ProgressStyleModel",
          "model_module_version": "1.5.0",
          "state": {
            "_model_module": "@jupyter-widgets/controls",
            "_model_module_version": "1.5.0",
            "_model_name": "ProgressStyleModel",
            "_view_count": null,
            "_view_module": "@jupyter-widgets/base",
            "_view_module_version": "1.2.0",
            "_view_name": "StyleView",
            "bar_color": null,
            "description_width": ""
          }
        },
        "bdbe7cd6ebe2435c9c6afc5534455fba": {
          "model_module": "@jupyter-widgets/base",
          "model_name": "LayoutModel",
          "model_module_version": "1.2.0",
          "state": {
            "_model_module": "@jupyter-widgets/base",
            "_model_module_version": "1.2.0",
            "_model_name": "LayoutModel",
            "_view_count": null,
            "_view_module": "@jupyter-widgets/base",
            "_view_module_version": "1.2.0",
            "_view_name": "LayoutView",
            "align_content": null,
            "align_items": null,
            "align_self": null,
            "border": null,
            "bottom": null,
            "display": null,
            "flex": null,
            "flex_flow": null,
            "grid_area": null,
            "grid_auto_columns": null,
            "grid_auto_flow": null,
            "grid_auto_rows": null,
            "grid_column": null,
            "grid_gap": null,
            "grid_row": null,
            "grid_template_areas": null,
            "grid_template_columns": null,
            "grid_template_rows": null,
            "height": null,
            "justify_content": null,
            "justify_items": null,
            "left": null,
            "margin": null,
            "max_height": null,
            "max_width": null,
            "min_height": null,
            "min_width": null,
            "object_fit": null,
            "object_position": null,
            "order": null,
            "overflow": null,
            "overflow_x": null,
            "overflow_y": null,
            "padding": null,
            "right": null,
            "top": null,
            "visibility": null,
            "width": null
          }
        },
        "3afdeb473eea4a31a5083ec5206f73af": {
          "model_module": "@jupyter-widgets/controls",
          "model_name": "DescriptionStyleModel",
          "model_module_version": "1.5.0",
          "state": {
            "_model_module": "@jupyter-widgets/controls",
            "_model_module_version": "1.5.0",
            "_model_name": "DescriptionStyleModel",
            "_view_count": null,
            "_view_module": "@jupyter-widgets/base",
            "_view_module_version": "1.2.0",
            "_view_name": "StyleView",
            "description_width": ""
          }
        },
        "f7d3e8b2d24f415fb2eaa646842b2aa1": {
          "model_module": "@jupyter-widgets/controls",
          "model_name": "HBoxModel",
          "model_module_version": "1.5.0",
          "state": {
            "_dom_classes": [],
            "_model_module": "@jupyter-widgets/controls",
            "_model_module_version": "1.5.0",
            "_model_name": "HBoxModel",
            "_view_count": null,
            "_view_module": "@jupyter-widgets/controls",
            "_view_module_version": "1.5.0",
            "_view_name": "HBoxView",
            "box_style": "",
            "children": [
              "IPY_MODEL_585f828ff52f463a9b23cf59ede4cc8d",
              "IPY_MODEL_fdfa73cd357c4e28a4ee41b6a61d58f3",
              "IPY_MODEL_b153f711a8df484797819b99c64e824c"
            ],
            "layout": "IPY_MODEL_fe915b6489814d709b463bb4a9b22b0f"
          }
        },
        "585f828ff52f463a9b23cf59ede4cc8d": {
          "model_module": "@jupyter-widgets/controls",
          "model_name": "HTMLModel",
          "model_module_version": "1.5.0",
          "state": {
            "_dom_classes": [],
            "_model_module": "@jupyter-widgets/controls",
            "_model_module_version": "1.5.0",
            "_model_name": "HTMLModel",
            "_view_count": null,
            "_view_module": "@jupyter-widgets/controls",
            "_view_module_version": "1.5.0",
            "_view_name": "HTMLView",
            "description": "",
            "description_tooltip": null,
            "layout": "IPY_MODEL_4323b46445ac4855b52b21fab34ddbaa",
            "placeholder": "​",
            "style": "IPY_MODEL_dbbfe59c62fe43cf8689c16882821608",
            "value": "special_tokens_map.json: 100%"
          }
        },
        "fdfa73cd357c4e28a4ee41b6a61d58f3": {
          "model_module": "@jupyter-widgets/controls",
          "model_name": "FloatProgressModel",
          "model_module_version": "1.5.0",
          "state": {
            "_dom_classes": [],
            "_model_module": "@jupyter-widgets/controls",
            "_model_module_version": "1.5.0",
            "_model_name": "FloatProgressModel",
            "_view_count": null,
            "_view_module": "@jupyter-widgets/controls",
            "_view_module_version": "1.5.0",
            "_view_name": "ProgressView",
            "bar_style": "success",
            "description": "",
            "description_tooltip": null,
            "layout": "IPY_MODEL_84e3c427eabf416cad8b2b485c1193ac",
            "max": 125,
            "min": 0,
            "orientation": "horizontal",
            "style": "IPY_MODEL_c902dcecc2a94d8d995ccfdbc8a9565d",
            "value": 125
          }
        },
        "b153f711a8df484797819b99c64e824c": {
          "model_module": "@jupyter-widgets/controls",
          "model_name": "HTMLModel",
          "model_module_version": "1.5.0",
          "state": {
            "_dom_classes": [],
            "_model_module": "@jupyter-widgets/controls",
            "_model_module_version": "1.5.0",
            "_model_name": "HTMLModel",
            "_view_count": null,
            "_view_module": "@jupyter-widgets/controls",
            "_view_module_version": "1.5.0",
            "_view_name": "HTMLView",
            "description": "",
            "description_tooltip": null,
            "layout": "IPY_MODEL_28e30faef3d746709a11a43ae351d14c",
            "placeholder": "​",
            "style": "IPY_MODEL_8517e54217df457c96a8df40e126f609",
            "value": " 125/125 [00:00&lt;00:00, 10.3kB/s]"
          }
        },
        "fe915b6489814d709b463bb4a9b22b0f": {
          "model_module": "@jupyter-widgets/base",
          "model_name": "LayoutModel",
          "model_module_version": "1.2.0",
          "state": {
            "_model_module": "@jupyter-widgets/base",
            "_model_module_version": "1.2.0",
            "_model_name": "LayoutModel",
            "_view_count": null,
            "_view_module": "@jupyter-widgets/base",
            "_view_module_version": "1.2.0",
            "_view_name": "LayoutView",
            "align_content": null,
            "align_items": null,
            "align_self": null,
            "border": null,
            "bottom": null,
            "display": null,
            "flex": null,
            "flex_flow": null,
            "grid_area": null,
            "grid_auto_columns": null,
            "grid_auto_flow": null,
            "grid_auto_rows": null,
            "grid_column": null,
            "grid_gap": null,
            "grid_row": null,
            "grid_template_areas": null,
            "grid_template_columns": null,
            "grid_template_rows": null,
            "height": null,
            "justify_content": null,
            "justify_items": null,
            "left": null,
            "margin": null,
            "max_height": null,
            "max_width": null,
            "min_height": null,
            "min_width": null,
            "object_fit": null,
            "object_position": null,
            "order": null,
            "overflow": null,
            "overflow_x": null,
            "overflow_y": null,
            "padding": null,
            "right": null,
            "top": null,
            "visibility": null,
            "width": null
          }
        },
        "4323b46445ac4855b52b21fab34ddbaa": {
          "model_module": "@jupyter-widgets/base",
          "model_name": "LayoutModel",
          "model_module_version": "1.2.0",
          "state": {
            "_model_module": "@jupyter-widgets/base",
            "_model_module_version": "1.2.0",
            "_model_name": "LayoutModel",
            "_view_count": null,
            "_view_module": "@jupyter-widgets/base",
            "_view_module_version": "1.2.0",
            "_view_name": "LayoutView",
            "align_content": null,
            "align_items": null,
            "align_self": null,
            "border": null,
            "bottom": null,
            "display": null,
            "flex": null,
            "flex_flow": null,
            "grid_area": null,
            "grid_auto_columns": null,
            "grid_auto_flow": null,
            "grid_auto_rows": null,
            "grid_column": null,
            "grid_gap": null,
            "grid_row": null,
            "grid_template_areas": null,
            "grid_template_columns": null,
            "grid_template_rows": null,
            "height": null,
            "justify_content": null,
            "justify_items": null,
            "left": null,
            "margin": null,
            "max_height": null,
            "max_width": null,
            "min_height": null,
            "min_width": null,
            "object_fit": null,
            "object_position": null,
            "order": null,
            "overflow": null,
            "overflow_x": null,
            "overflow_y": null,
            "padding": null,
            "right": null,
            "top": null,
            "visibility": null,
            "width": null
          }
        },
        "dbbfe59c62fe43cf8689c16882821608": {
          "model_module": "@jupyter-widgets/controls",
          "model_name": "DescriptionStyleModel",
          "model_module_version": "1.5.0",
          "state": {
            "_model_module": "@jupyter-widgets/controls",
            "_model_module_version": "1.5.0",
            "_model_name": "DescriptionStyleModel",
            "_view_count": null,
            "_view_module": "@jupyter-widgets/base",
            "_view_module_version": "1.2.0",
            "_view_name": "StyleView",
            "description_width": ""
          }
        },
        "84e3c427eabf416cad8b2b485c1193ac": {
          "model_module": "@jupyter-widgets/base",
          "model_name": "LayoutModel",
          "model_module_version": "1.2.0",
          "state": {
            "_model_module": "@jupyter-widgets/base",
            "_model_module_version": "1.2.0",
            "_model_name": "LayoutModel",
            "_view_count": null,
            "_view_module": "@jupyter-widgets/base",
            "_view_module_version": "1.2.0",
            "_view_name": "LayoutView",
            "align_content": null,
            "align_items": null,
            "align_self": null,
            "border": null,
            "bottom": null,
            "display": null,
            "flex": null,
            "flex_flow": null,
            "grid_area": null,
            "grid_auto_columns": null,
            "grid_auto_flow": null,
            "grid_auto_rows": null,
            "grid_column": null,
            "grid_gap": null,
            "grid_row": null,
            "grid_template_areas": null,
            "grid_template_columns": null,
            "grid_template_rows": null,
            "height": null,
            "justify_content": null,
            "justify_items": null,
            "left": null,
            "margin": null,
            "max_height": null,
            "max_width": null,
            "min_height": null,
            "min_width": null,
            "object_fit": null,
            "object_position": null,
            "order": null,
            "overflow": null,
            "overflow_x": null,
            "overflow_y": null,
            "padding": null,
            "right": null,
            "top": null,
            "visibility": null,
            "width": null
          }
        },
        "c902dcecc2a94d8d995ccfdbc8a9565d": {
          "model_module": "@jupyter-widgets/controls",
          "model_name": "ProgressStyleModel",
          "model_module_version": "1.5.0",
          "state": {
            "_model_module": "@jupyter-widgets/controls",
            "_model_module_version": "1.5.0",
            "_model_name": "ProgressStyleModel",
            "_view_count": null,
            "_view_module": "@jupyter-widgets/base",
            "_view_module_version": "1.2.0",
            "_view_name": "StyleView",
            "bar_color": null,
            "description_width": ""
          }
        },
        "28e30faef3d746709a11a43ae351d14c": {
          "model_module": "@jupyter-widgets/base",
          "model_name": "LayoutModel",
          "model_module_version": "1.2.0",
          "state": {
            "_model_module": "@jupyter-widgets/base",
            "_model_module_version": "1.2.0",
            "_model_name": "LayoutModel",
            "_view_count": null,
            "_view_module": "@jupyter-widgets/base",
            "_view_module_version": "1.2.0",
            "_view_name": "LayoutView",
            "align_content": null,
            "align_items": null,
            "align_self": null,
            "border": null,
            "bottom": null,
            "display": null,
            "flex": null,
            "flex_flow": null,
            "grid_area": null,
            "grid_auto_columns": null,
            "grid_auto_flow": null,
            "grid_auto_rows": null,
            "grid_column": null,
            "grid_gap": null,
            "grid_row": null,
            "grid_template_areas": null,
            "grid_template_columns": null,
            "grid_template_rows": null,
            "height": null,
            "justify_content": null,
            "justify_items": null,
            "left": null,
            "margin": null,
            "max_height": null,
            "max_width": null,
            "min_height": null,
            "min_width": null,
            "object_fit": null,
            "object_position": null,
            "order": null,
            "overflow": null,
            "overflow_x": null,
            "overflow_y": null,
            "padding": null,
            "right": null,
            "top": null,
            "visibility": null,
            "width": null
          }
        },
        "8517e54217df457c96a8df40e126f609": {
          "model_module": "@jupyter-widgets/controls",
          "model_name": "DescriptionStyleModel",
          "model_module_version": "1.5.0",
          "state": {
            "_model_module": "@jupyter-widgets/controls",
            "_model_module_version": "1.5.0",
            "_model_name": "DescriptionStyleModel",
            "_view_count": null,
            "_view_module": "@jupyter-widgets/base",
            "_view_module_version": "1.2.0",
            "_view_name": "StyleView",
            "description_width": ""
          }
        },
        "2f34b109f47d43aaaf12eb8781a96119": {
          "model_module": "@jupyter-widgets/controls",
          "model_name": "HBoxModel",
          "model_module_version": "1.5.0",
          "state": {
            "_dom_classes": [],
            "_model_module": "@jupyter-widgets/controls",
            "_model_module_version": "1.5.0",
            "_model_name": "HBoxModel",
            "_view_count": null,
            "_view_module": "@jupyter-widgets/controls",
            "_view_module_version": "1.5.0",
            "_view_name": "HBoxView",
            "box_style": "",
            "children": [
              "IPY_MODEL_c286e782acb4460a9c403266e331436a",
              "IPY_MODEL_b814de1bd7cb418b8d6762c24a646fe4",
              "IPY_MODEL_528ffe70a16446d5b91cfa3d43b5e2a2"
            ],
            "layout": "IPY_MODEL_c5892386c7e447619aa6425b86846523"
          }
        },
        "c286e782acb4460a9c403266e331436a": {
          "model_module": "@jupyter-widgets/controls",
          "model_name": "HTMLModel",
          "model_module_version": "1.5.0",
          "state": {
            "_dom_classes": [],
            "_model_module": "@jupyter-widgets/controls",
            "_model_module_version": "1.5.0",
            "_model_name": "HTMLModel",
            "_view_count": null,
            "_view_module": "@jupyter-widgets/controls",
            "_view_module_version": "1.5.0",
            "_view_name": "HTMLView",
            "description": "",
            "description_tooltip": null,
            "layout": "IPY_MODEL_b56f3a2d39f94bc4b6f48fb4ee68c15b",
            "placeholder": "​",
            "style": "IPY_MODEL_c17014683a6b4815acb663f8a23b5bb3",
            "value": "1_Pooling/config.json: 100%"
          }
        },
        "b814de1bd7cb418b8d6762c24a646fe4": {
          "model_module": "@jupyter-widgets/controls",
          "model_name": "FloatProgressModel",
          "model_module_version": "1.5.0",
          "state": {
            "_dom_classes": [],
            "_model_module": "@jupyter-widgets/controls",
            "_model_module_version": "1.5.0",
            "_model_name": "FloatProgressModel",
            "_view_count": null,
            "_view_module": "@jupyter-widgets/controls",
            "_view_module_version": "1.5.0",
            "_view_name": "ProgressView",
            "bar_style": "success",
            "description": "",
            "description_tooltip": null,
            "layout": "IPY_MODEL_dc4f1402aa1e4ae6a795173613e0876b",
            "max": 190,
            "min": 0,
            "orientation": "horizontal",
            "style": "IPY_MODEL_be4aa32380b84bbfa4788d9ed226f28e",
            "value": 190
          }
        },
        "528ffe70a16446d5b91cfa3d43b5e2a2": {
          "model_module": "@jupyter-widgets/controls",
          "model_name": "HTMLModel",
          "model_module_version": "1.5.0",
          "state": {
            "_dom_classes": [],
            "_model_module": "@jupyter-widgets/controls",
            "_model_module_version": "1.5.0",
            "_model_name": "HTMLModel",
            "_view_count": null,
            "_view_module": "@jupyter-widgets/controls",
            "_view_module_version": "1.5.0",
            "_view_name": "HTMLView",
            "description": "",
            "description_tooltip": null,
            "layout": "IPY_MODEL_b40c8c7bb0084886aaf9f8df8b5d0a93",
            "placeholder": "​",
            "style": "IPY_MODEL_fe039475fdbb4cfdaeb9cf4e6fc1f299",
            "value": " 190/190 [00:00&lt;00:00, 15.9kB/s]"
          }
        },
        "c5892386c7e447619aa6425b86846523": {
          "model_module": "@jupyter-widgets/base",
          "model_name": "LayoutModel",
          "model_module_version": "1.2.0",
          "state": {
            "_model_module": "@jupyter-widgets/base",
            "_model_module_version": "1.2.0",
            "_model_name": "LayoutModel",
            "_view_count": null,
            "_view_module": "@jupyter-widgets/base",
            "_view_module_version": "1.2.0",
            "_view_name": "LayoutView",
            "align_content": null,
            "align_items": null,
            "align_self": null,
            "border": null,
            "bottom": null,
            "display": null,
            "flex": null,
            "flex_flow": null,
            "grid_area": null,
            "grid_auto_columns": null,
            "grid_auto_flow": null,
            "grid_auto_rows": null,
            "grid_column": null,
            "grid_gap": null,
            "grid_row": null,
            "grid_template_areas": null,
            "grid_template_columns": null,
            "grid_template_rows": null,
            "height": null,
            "justify_content": null,
            "justify_items": null,
            "left": null,
            "margin": null,
            "max_height": null,
            "max_width": null,
            "min_height": null,
            "min_width": null,
            "object_fit": null,
            "object_position": null,
            "order": null,
            "overflow": null,
            "overflow_x": null,
            "overflow_y": null,
            "padding": null,
            "right": null,
            "top": null,
            "visibility": null,
            "width": null
          }
        },
        "b56f3a2d39f94bc4b6f48fb4ee68c15b": {
          "model_module": "@jupyter-widgets/base",
          "model_name": "LayoutModel",
          "model_module_version": "1.2.0",
          "state": {
            "_model_module": "@jupyter-widgets/base",
            "_model_module_version": "1.2.0",
            "_model_name": "LayoutModel",
            "_view_count": null,
            "_view_module": "@jupyter-widgets/base",
            "_view_module_version": "1.2.0",
            "_view_name": "LayoutView",
            "align_content": null,
            "align_items": null,
            "align_self": null,
            "border": null,
            "bottom": null,
            "display": null,
            "flex": null,
            "flex_flow": null,
            "grid_area": null,
            "grid_auto_columns": null,
            "grid_auto_flow": null,
            "grid_auto_rows": null,
            "grid_column": null,
            "grid_gap": null,
            "grid_row": null,
            "grid_template_areas": null,
            "grid_template_columns": null,
            "grid_template_rows": null,
            "height": null,
            "justify_content": null,
            "justify_items": null,
            "left": null,
            "margin": null,
            "max_height": null,
            "max_width": null,
            "min_height": null,
            "min_width": null,
            "object_fit": null,
            "object_position": null,
            "order": null,
            "overflow": null,
            "overflow_x": null,
            "overflow_y": null,
            "padding": null,
            "right": null,
            "top": null,
            "visibility": null,
            "width": null
          }
        },
        "c17014683a6b4815acb663f8a23b5bb3": {
          "model_module": "@jupyter-widgets/controls",
          "model_name": "DescriptionStyleModel",
          "model_module_version": "1.5.0",
          "state": {
            "_model_module": "@jupyter-widgets/controls",
            "_model_module_version": "1.5.0",
            "_model_name": "DescriptionStyleModel",
            "_view_count": null,
            "_view_module": "@jupyter-widgets/base",
            "_view_module_version": "1.2.0",
            "_view_name": "StyleView",
            "description_width": ""
          }
        },
        "dc4f1402aa1e4ae6a795173613e0876b": {
          "model_module": "@jupyter-widgets/base",
          "model_name": "LayoutModel",
          "model_module_version": "1.2.0",
          "state": {
            "_model_module": "@jupyter-widgets/base",
            "_model_module_version": "1.2.0",
            "_model_name": "LayoutModel",
            "_view_count": null,
            "_view_module": "@jupyter-widgets/base",
            "_view_module_version": "1.2.0",
            "_view_name": "LayoutView",
            "align_content": null,
            "align_items": null,
            "align_self": null,
            "border": null,
            "bottom": null,
            "display": null,
            "flex": null,
            "flex_flow": null,
            "grid_area": null,
            "grid_auto_columns": null,
            "grid_auto_flow": null,
            "grid_auto_rows": null,
            "grid_column": null,
            "grid_gap": null,
            "grid_row": null,
            "grid_template_areas": null,
            "grid_template_columns": null,
            "grid_template_rows": null,
            "height": null,
            "justify_content": null,
            "justify_items": null,
            "left": null,
            "margin": null,
            "max_height": null,
            "max_width": null,
            "min_height": null,
            "min_width": null,
            "object_fit": null,
            "object_position": null,
            "order": null,
            "overflow": null,
            "overflow_x": null,
            "overflow_y": null,
            "padding": null,
            "right": null,
            "top": null,
            "visibility": null,
            "width": null
          }
        },
        "be4aa32380b84bbfa4788d9ed226f28e": {
          "model_module": "@jupyter-widgets/controls",
          "model_name": "ProgressStyleModel",
          "model_module_version": "1.5.0",
          "state": {
            "_model_module": "@jupyter-widgets/controls",
            "_model_module_version": "1.5.0",
            "_model_name": "ProgressStyleModel",
            "_view_count": null,
            "_view_module": "@jupyter-widgets/base",
            "_view_module_version": "1.2.0",
            "_view_name": "StyleView",
            "bar_color": null,
            "description_width": ""
          }
        },
        "b40c8c7bb0084886aaf9f8df8b5d0a93": {
          "model_module": "@jupyter-widgets/base",
          "model_name": "LayoutModel",
          "model_module_version": "1.2.0",
          "state": {
            "_model_module": "@jupyter-widgets/base",
            "_model_module_version": "1.2.0",
            "_model_name": "LayoutModel",
            "_view_count": null,
            "_view_module": "@jupyter-widgets/base",
            "_view_module_version": "1.2.0",
            "_view_name": "LayoutView",
            "align_content": null,
            "align_items": null,
            "align_self": null,
            "border": null,
            "bottom": null,
            "display": null,
            "flex": null,
            "flex_flow": null,
            "grid_area": null,
            "grid_auto_columns": null,
            "grid_auto_flow": null,
            "grid_auto_rows": null,
            "grid_column": null,
            "grid_gap": null,
            "grid_row": null,
            "grid_template_areas": null,
            "grid_template_columns": null,
            "grid_template_rows": null,
            "height": null,
            "justify_content": null,
            "justify_items": null,
            "left": null,
            "margin": null,
            "max_height": null,
            "max_width": null,
            "min_height": null,
            "min_width": null,
            "object_fit": null,
            "object_position": null,
            "order": null,
            "overflow": null,
            "overflow_x": null,
            "overflow_y": null,
            "padding": null,
            "right": null,
            "top": null,
            "visibility": null,
            "width": null
          }
        },
        "fe039475fdbb4cfdaeb9cf4e6fc1f299": {
          "model_module": "@jupyter-widgets/controls",
          "model_name": "DescriptionStyleModel",
          "model_module_version": "1.5.0",
          "state": {
            "_model_module": "@jupyter-widgets/controls",
            "_model_module_version": "1.5.0",
            "_model_name": "DescriptionStyleModel",
            "_view_count": null,
            "_view_module": "@jupyter-widgets/base",
            "_view_module_version": "1.2.0",
            "_view_name": "StyleView",
            "description_width": ""
          }
        },
        "eb7c94623ef1491a9ef7b49e64807723": {
          "model_module": "@jupyter-widgets/controls",
          "model_name": "HBoxModel",
          "model_module_version": "1.5.0",
          "state": {
            "_dom_classes": [],
            "_model_module": "@jupyter-widgets/controls",
            "_model_module_version": "1.5.0",
            "_model_name": "HBoxModel",
            "_view_count": null,
            "_view_module": "@jupyter-widgets/controls",
            "_view_module_version": "1.5.0",
            "_view_name": "HBoxView",
            "box_style": "",
            "children": [
              "IPY_MODEL_fb6c43e7762f4f87a6b3a04c5875aae9",
              "IPY_MODEL_c9685dd0f70b4875a80e80f054348dab",
              "IPY_MODEL_920d7051c25146c4aabd3330f74820b4"
            ],
            "layout": "IPY_MODEL_a80b20bde9af4421b02925419a9b5b4e"
          }
        },
        "fb6c43e7762f4f87a6b3a04c5875aae9": {
          "model_module": "@jupyter-widgets/controls",
          "model_name": "HTMLModel",
          "model_module_version": "1.5.0",
          "state": {
            "_dom_classes": [],
            "_model_module": "@jupyter-widgets/controls",
            "_model_module_version": "1.5.0",
            "_model_name": "HTMLModel",
            "_view_count": null,
            "_view_module": "@jupyter-widgets/controls",
            "_view_module_version": "1.5.0",
            "_view_name": "HTMLView",
            "description": "",
            "description_tooltip": null,
            "layout": "IPY_MODEL_5f1eeb4aec3f49d7aef6a3a7bd7b5623",
            "placeholder": "​",
            "style": "IPY_MODEL_1eac7de1a58f4f679088403c327288a0",
            "value": "Computing widget examples:   0%"
          }
        },
        "c9685dd0f70b4875a80e80f054348dab": {
          "model_module": "@jupyter-widgets/controls",
          "model_name": "FloatProgressModel",
          "model_module_version": "1.5.0",
          "state": {
            "_dom_classes": [],
            "_model_module": "@jupyter-widgets/controls",
            "_model_module_version": "1.5.0",
            "_model_name": "FloatProgressModel",
            "_view_count": null,
            "_view_module": "@jupyter-widgets/controls",
            "_view_module_version": "1.5.0",
            "_view_name": "ProgressView",
            "bar_style": "",
            "description": "",
            "description_tooltip": null,
            "layout": "IPY_MODEL_52a325862a314905b98149aece3b9328",
            "max": 1,
            "min": 0,
            "orientation": "horizontal",
            "style": "IPY_MODEL_4f80380dbd0e4bb291fb7a860eb8fd72",
            "value": 1
          }
        },
        "920d7051c25146c4aabd3330f74820b4": {
          "model_module": "@jupyter-widgets/controls",
          "model_name": "HTMLModel",
          "model_module_version": "1.5.0",
          "state": {
            "_dom_classes": [],
            "_model_module": "@jupyter-widgets/controls",
            "_model_module_version": "1.5.0",
            "_model_name": "HTMLModel",
            "_view_count": null,
            "_view_module": "@jupyter-widgets/controls",
            "_view_module_version": "1.5.0",
            "_view_name": "HTMLView",
            "description": "",
            "description_tooltip": null,
            "layout": "IPY_MODEL_9f6756fa49c64b99922754094b62d552",
            "placeholder": "​",
            "style": "IPY_MODEL_755c7cc4fda94e08ad7a9deadcf00856",
            "value": " 0/1 [00:00&lt;?, ?example/s]"
          }
        },
        "a80b20bde9af4421b02925419a9b5b4e": {
          "model_module": "@jupyter-widgets/base",
          "model_name": "LayoutModel",
          "model_module_version": "1.2.0",
          "state": {
            "_model_module": "@jupyter-widgets/base",
            "_model_module_version": "1.2.0",
            "_model_name": "LayoutModel",
            "_view_count": null,
            "_view_module": "@jupyter-widgets/base",
            "_view_module_version": "1.2.0",
            "_view_name": "LayoutView",
            "align_content": null,
            "align_items": null,
            "align_self": null,
            "border": null,
            "bottom": null,
            "display": null,
            "flex": null,
            "flex_flow": null,
            "grid_area": null,
            "grid_auto_columns": null,
            "grid_auto_flow": null,
            "grid_auto_rows": null,
            "grid_column": null,
            "grid_gap": null,
            "grid_row": null,
            "grid_template_areas": null,
            "grid_template_columns": null,
            "grid_template_rows": null,
            "height": null,
            "justify_content": null,
            "justify_items": null,
            "left": null,
            "margin": null,
            "max_height": null,
            "max_width": null,
            "min_height": null,
            "min_width": null,
            "object_fit": null,
            "object_position": null,
            "order": null,
            "overflow": null,
            "overflow_x": null,
            "overflow_y": null,
            "padding": null,
            "right": null,
            "top": null,
            "visibility": "hidden",
            "width": null
          }
        },
        "5f1eeb4aec3f49d7aef6a3a7bd7b5623": {
          "model_module": "@jupyter-widgets/base",
          "model_name": "LayoutModel",
          "model_module_version": "1.2.0",
          "state": {
            "_model_module": "@jupyter-widgets/base",
            "_model_module_version": "1.2.0",
            "_model_name": "LayoutModel",
            "_view_count": null,
            "_view_module": "@jupyter-widgets/base",
            "_view_module_version": "1.2.0",
            "_view_name": "LayoutView",
            "align_content": null,
            "align_items": null,
            "align_self": null,
            "border": null,
            "bottom": null,
            "display": null,
            "flex": null,
            "flex_flow": null,
            "grid_area": null,
            "grid_auto_columns": null,
            "grid_auto_flow": null,
            "grid_auto_rows": null,
            "grid_column": null,
            "grid_gap": null,
            "grid_row": null,
            "grid_template_areas": null,
            "grid_template_columns": null,
            "grid_template_rows": null,
            "height": null,
            "justify_content": null,
            "justify_items": null,
            "left": null,
            "margin": null,
            "max_height": null,
            "max_width": null,
            "min_height": null,
            "min_width": null,
            "object_fit": null,
            "object_position": null,
            "order": null,
            "overflow": null,
            "overflow_x": null,
            "overflow_y": null,
            "padding": null,
            "right": null,
            "top": null,
            "visibility": null,
            "width": null
          }
        },
        "1eac7de1a58f4f679088403c327288a0": {
          "model_module": "@jupyter-widgets/controls",
          "model_name": "DescriptionStyleModel",
          "model_module_version": "1.5.0",
          "state": {
            "_model_module": "@jupyter-widgets/controls",
            "_model_module_version": "1.5.0",
            "_model_name": "DescriptionStyleModel",
            "_view_count": null,
            "_view_module": "@jupyter-widgets/base",
            "_view_module_version": "1.2.0",
            "_view_name": "StyleView",
            "description_width": ""
          }
        },
        "52a325862a314905b98149aece3b9328": {
          "model_module": "@jupyter-widgets/base",
          "model_name": "LayoutModel",
          "model_module_version": "1.2.0",
          "state": {
            "_model_module": "@jupyter-widgets/base",
            "_model_module_version": "1.2.0",
            "_model_name": "LayoutModel",
            "_view_count": null,
            "_view_module": "@jupyter-widgets/base",
            "_view_module_version": "1.2.0",
            "_view_name": "LayoutView",
            "align_content": null,
            "align_items": null,
            "align_self": null,
            "border": null,
            "bottom": null,
            "display": null,
            "flex": null,
            "flex_flow": null,
            "grid_area": null,
            "grid_auto_columns": null,
            "grid_auto_flow": null,
            "grid_auto_rows": null,
            "grid_column": null,
            "grid_gap": null,
            "grid_row": null,
            "grid_template_areas": null,
            "grid_template_columns": null,
            "grid_template_rows": null,
            "height": null,
            "justify_content": null,
            "justify_items": null,
            "left": null,
            "margin": null,
            "max_height": null,
            "max_width": null,
            "min_height": null,
            "min_width": null,
            "object_fit": null,
            "object_position": null,
            "order": null,
            "overflow": null,
            "overflow_x": null,
            "overflow_y": null,
            "padding": null,
            "right": null,
            "top": null,
            "visibility": null,
            "width": null
          }
        },
        "4f80380dbd0e4bb291fb7a860eb8fd72": {
          "model_module": "@jupyter-widgets/controls",
          "model_name": "ProgressStyleModel",
          "model_module_version": "1.5.0",
          "state": {
            "_model_module": "@jupyter-widgets/controls",
            "_model_module_version": "1.5.0",
            "_model_name": "ProgressStyleModel",
            "_view_count": null,
            "_view_module": "@jupyter-widgets/base",
            "_view_module_version": "1.2.0",
            "_view_name": "StyleView",
            "bar_color": null,
            "description_width": ""
          }
        },
        "9f6756fa49c64b99922754094b62d552": {
          "model_module": "@jupyter-widgets/base",
          "model_name": "LayoutModel",
          "model_module_version": "1.2.0",
          "state": {
            "_model_module": "@jupyter-widgets/base",
            "_model_module_version": "1.2.0",
            "_model_name": "LayoutModel",
            "_view_count": null,
            "_view_module": "@jupyter-widgets/base",
            "_view_module_version": "1.2.0",
            "_view_name": "LayoutView",
            "align_content": null,
            "align_items": null,
            "align_self": null,
            "border": null,
            "bottom": null,
            "display": null,
            "flex": null,
            "flex_flow": null,
            "grid_area": null,
            "grid_auto_columns": null,
            "grid_auto_flow": null,
            "grid_auto_rows": null,
            "grid_column": null,
            "grid_gap": null,
            "grid_row": null,
            "grid_template_areas": null,
            "grid_template_columns": null,
            "grid_template_rows": null,
            "height": null,
            "justify_content": null,
            "justify_items": null,
            "left": null,
            "margin": null,
            "max_height": null,
            "max_width": null,
            "min_height": null,
            "min_width": null,
            "object_fit": null,
            "object_position": null,
            "order": null,
            "overflow": null,
            "overflow_x": null,
            "overflow_y": null,
            "padding": null,
            "right": null,
            "top": null,
            "visibility": null,
            "width": null
          }
        },
        "755c7cc4fda94e08ad7a9deadcf00856": {
          "model_module": "@jupyter-widgets/controls",
          "model_name": "DescriptionStyleModel",
          "model_module_version": "1.5.0",
          "state": {
            "_model_module": "@jupyter-widgets/controls",
            "_model_module_version": "1.5.0",
            "_model_name": "DescriptionStyleModel",
            "_view_count": null,
            "_view_module": "@jupyter-widgets/base",
            "_view_module_version": "1.2.0",
            "_view_name": "StyleView",
            "description_width": ""
          }
        }
      }
    }
  },
  "cells": [
    {
      "cell_type": "markdown",
      "source": [
        "# Embeddings & You - A Brief Introduction to Embeddings in Machine Learning\n",
        "\n",
        "If you've toyed with LangChain, LlamaIndex, or even OpenAI's `ada` model - you've likely run into the word: \"Embeddings\" a few time.\n",
        "\n",
        "They've had a recent surge in popularity due to the profliferation of Retrieval Augmented Generation, but they've been around for a very long time.\n",
        "\n",
        "If you come from an NLP background, embeddings are something you might be intimately familiar with - otherwise, you might find the topic a bit...dense. (this attempt at a joke will make more sense later)\n",
        "\n",
        "In all seriousness, embeddings are a powerful piece of the NLP puzzle, so let's dive in!\n",
        "\n",
        "> NOTE: While this notebook language/NLP-centric, embeddings have uses beyond just text!\n",
        "\n",
        "## Notebook Table of Contents:\n",
        "\n",
        "- Breakout Room #1: Training Word2Vec from Scratch\n",
        "  - Task 1: Dependencies\n",
        "  - Task 2: Data Collection\n",
        "  - Task 3: Data Preprocessing\n",
        "    - ❓ Question #1\n",
        "    - 👪❓ Discussion Question #1\n",
        "  - Task 4: Training Word2Vec\n",
        "    - 🏗️ Activity #1\n",
        "    - ❓ Question #2\n",
        "- Breakout Room #2:\n",
        "  - Task 1: Fine-tuning Our Embedding Model\n",
        "    - ❓ Question #3\n",
        "    - 🏗️ Activity #2\n",
        "  - Task 2: Evaluating our Embedding Model\n",
        "    - 👪❓ Discussion Question #2"
      ],
      "metadata": {
        "id": "3ZO_xiWUoSKX"
      }
    },
    {
      "cell_type": "markdown",
      "source": [
        "### Why Do We Even Need Embeddings?\n",
        "\n",
        "In order to fully understand what Embeddings are, we first need to understand why we have them:\n",
        "\n",
        "Machine Learning algorithms, ranging from the very big to the very small, all have one thing in common:\n",
        "\n",
        "*They need numeric inputs.*\n",
        "\n",
        "So we need a process by which to translate the domain we live in, dominated by images, audio, language, and more, into the domain of the machine: Numbers.\n",
        "\n",
        "Another thing we want to be able to do is capture \"semantic information\" about words/phrases so that we can use algorithmic approaches to determine if words are closely related or not!\n",
        "\n",
        "So, we need to come up with a process that does these two things well:\n",
        "\n",
        "1. Convert non-numeric data into numeric-data\n",
        "2. Capture potential semantic relationships between individual pieces of data"
      ],
      "metadata": {
        "id": "P70JnMeToYd3"
      }
    },
    {
      "cell_type": "markdown",
      "source": [
        "## Breakout Room #1: Training Word2Vec from Scratch\n",
        "\n",
        "Now that we have a bit of background on Embeddings - let's look at what it takes to create our own embeddings using Word2Vec!\n",
        "\n",
        "We'll be leveraging the `gensim` library, which you can read all about [here](https://pypi.org/project/gensim/).\n",
        "\n",
        "Before we begin training, however, we need some data!\n",
        "\n",
        "Let's use the Wikipedia pages for Wicked and Gladiator as examples."
      ],
      "metadata": {
        "id": "_AkTA6O8boBu"
      }
    },
    {
      "cell_type": "markdown",
      "source": [
        "### Task 1: Dependencies\n",
        "We'll leverage the `wikipedia` library, and `langchain`s `WikipediaLoader` to obtain our Wikipedia data!"
      ],
      "metadata": {
        "id": "DE0PCOWjdHO8"
      }
    },
    {
      "cell_type": "code",
      "execution_count": 1,
      "metadata": {
        "id": "f1bHSdU9a8Tu"
      },
      "outputs": [],
      "source": [
        "!pip install -U -q wikipedia langchain langchain_community lxml datasets"
      ]
    },
    {
      "cell_type": "markdown",
      "source": [
        "> NOTE: Please reset the Colab environment after running the install cells."
      ],
      "metadata": {
        "id": "frFcUKy5ief6"
      }
    },
    {
      "cell_type": "markdown",
      "source": [
        "### Task 2: Data Collection\n",
        "\n"
      ],
      "metadata": {
        "id": "ON8zWj4GR0oz"
      }
    },
    {
      "cell_type": "code",
      "source": [
        "from langchain_community.document_loaders import WikipediaLoader\n",
        "\n",
        "wicked_docs = WikipediaLoader(\n",
        "    query=\"Wicked (2024 film)\",\n",
        "    load_max_docs=5,\n",
        "    doc_content_chars_max=1_000_000\n",
        "    ).load()"
      ],
      "metadata": {
        "id": "ME25TAtVdPmE",
        "colab": {
          "base_uri": "https://localhost:8080/"
        },
        "outputId": "a97d6f18-93c4-485a-fc76-40552b3f1bba"
      },
      "execution_count": 2,
      "outputs": [
        {
          "output_type": "stream",
          "name": "stderr",
          "text": [
            "/usr/local/lib/python3.10/dist-packages/wikipedia/wikipedia.py:389: GuessedAtParserWarning: No parser was explicitly specified, so I'm using the best available HTML parser for this system (\"lxml\"). This usually isn't a problem, but if you run this code on another system, or in a different virtual environment, it may use a different parser and behave differently.\n",
            "\n",
            "The code that caused this warning is on line 389 of the file /usr/local/lib/python3.10/dist-packages/wikipedia/wikipedia.py. To get rid of this warning, pass the additional argument 'features=\"lxml\"' to the BeautifulSoup constructor.\n",
            "\n",
            "  lis = BeautifulSoup(html).find_all('li')\n"
          ]
        }
      ]
    },
    {
      "cell_type": "code",
      "source": [
        "len(wicked_docs)"
      ],
      "metadata": {
        "id": "nLV9ZD4ReBrw",
        "colab": {
          "base_uri": "https://localhost:8080/"
        },
        "outputId": "e99f9421-bf8b-498e-f824-1879e5226be1"
      },
      "execution_count": 3,
      "outputs": [
        {
          "output_type": "execute_result",
          "data": {
            "text/plain": [
              "4"
            ]
          },
          "metadata": {},
          "execution_count": 3
        }
      ]
    },
    {
      "cell_type": "code",
      "source": [
        "gladiator_2_docs = WikipediaLoader(\n",
        "    query=\"Gladiator II\",\n",
        "    load_max_docs=5,\n",
        "    doc_content_chars_max=1_000_000\n",
        "    ).load()"
      ],
      "metadata": {
        "id": "y-_YAa6MeWmP"
      },
      "execution_count": 4,
      "outputs": []
    },
    {
      "cell_type": "code",
      "source": [
        "len(gladiator_2_docs)"
      ],
      "metadata": {
        "id": "z_Tk5-_qehyb",
        "colab": {
          "base_uri": "https://localhost:8080/"
        },
        "outputId": "516d433c-6277-49f9-a98a-645e20895a39"
      },
      "execution_count": 5,
      "outputs": [
        {
          "output_type": "execute_result",
          "data": {
            "text/plain": [
              "5"
            ]
          },
          "metadata": {},
          "execution_count": 5
        }
      ]
    },
    {
      "cell_type": "markdown",
      "source": [
        "### Task 3: Data Preprocessing\n",
        "\n",
        "Now that we have some text, we need to do some preprocessing! That's right - classic NLP!\n",
        "\n",
        "Let's begin by cleaning up our text, we'll:\n",
        "\n",
        "- Remove special characters\n",
        "- Remove stop words\n",
        "- Remove links\n",
        "- Convert to lowercase\n",
        "- Strip whitespace\n",
        "\n",
        "To do this, we'll need two main modules:\n",
        "\n",
        "- The `re` standard library module\n",
        "- `spacy`, another NLP library"
      ],
      "metadata": {
        "id": "QeJC376oep3N"
      }
    },
    {
      "cell_type": "code",
      "source": [
        "import nltk\n",
        "\n",
        "nltk.download('stopwords')\n",
        "nltk.download('punkt')\n",
        "nltk.download('punkt_tab')"
      ],
      "metadata": {
        "id": "3-XweJuKfl2w",
        "colab": {
          "base_uri": "https://localhost:8080/"
        },
        "outputId": "d4436ad9-6d11-4234-f72a-c384e8ab23b9"
      },
      "execution_count": 6,
      "outputs": [
        {
          "output_type": "stream",
          "name": "stderr",
          "text": [
            "[nltk_data] Downloading package stopwords to /root/nltk_data...\n",
            "[nltk_data]   Unzipping corpora/stopwords.zip.\n",
            "[nltk_data] Downloading package punkt to /root/nltk_data...\n",
            "[nltk_data]   Unzipping tokenizers/punkt.zip.\n",
            "[nltk_data] Downloading package punkt_tab to /root/nltk_data...\n",
            "[nltk_data]   Unzipping tokenizers/punkt_tab.zip.\n"
          ]
        },
        {
          "output_type": "execute_result",
          "data": {
            "text/plain": [
              "True"
            ]
          },
          "metadata": {},
          "execution_count": 6
        }
      ]
    },
    {
      "cell_type": "markdown",
      "source": [
        "Let's take a peek at what these \"stopwords\" are - for traditional embedding models and NLP."
      ],
      "metadata": {
        "id": "17THAHtbcdom"
      }
    },
    {
      "cell_type": "code",
      "source": [
        "from nltk.corpus import stopwords\n",
        "stopwords.words('english')[:10]"
      ],
      "metadata": {
        "id": "pqLntUU6ftyl",
        "colab": {
          "base_uri": "https://localhost:8080/"
        },
        "outputId": "050c9db5-fa01-4b1a-da4e-3f3593ba0c75"
      },
      "execution_count": 7,
      "outputs": [
        {
          "output_type": "execute_result",
          "data": {
            "text/plain": [
              "['i', 'me', 'my', 'myself', 'we', 'our', 'ours', 'ourselves', 'you', \"you're\"]"
            ]
          },
          "metadata": {},
          "execution_count": 7
        }
      ]
    },
    {
      "cell_type": "markdown",
      "source": [
        "#### Text Normalization\n",
        "\n",
        "The first step is to make a helper function that normalizes our text."
      ],
      "metadata": {
        "id": "1AoGsijwcPPo"
      }
    },
    {
      "cell_type": "code",
      "source": [
        "import re\n",
        "from typing import List\n",
        "from nltk.tokenize import word_tokenize\n",
        "\n",
        "def preprocess_text(text: str) -> List[str]:\n",
        "  # remove links\n",
        "  text = re.sub(r\"http[s]?://(?:[a-zA-Z]|[0-9]|[$-_@.&+]|[!*\\\\(\\\\),]|(?:%[0-9a-fA-F][0-9a-fA-F]))+\", \"\", text)\n",
        "  # remove all special characters (keep alphabet characters)\n",
        "  text = re.sub(\"[^a-zA-Z ]\", \" \", text)\n",
        "  # tokenize text, make lowercase, and remove stop words\n",
        "  stop_words = set(stopwords.words('english'))\n",
        "  tokens = word_tokenize(text)\n",
        "  filtered_tokens = [token.lower() for token in tokens if token.lower() not in stop_words]\n",
        "  return filtered_tokens"
      ],
      "metadata": {
        "id": "FSJqh7Cae2WY"
      },
      "execution_count": 8,
      "outputs": []
    },
    {
      "cell_type": "markdown",
      "source": [
        "Let's see how this works on some of our Wikipedia data!"
      ],
      "metadata": {
        "id": "_TLBwJtff89s"
      }
    },
    {
      "cell_type": "code",
      "source": [
        "preprocess_text(wicked_docs[0].page_content[:100])"
      ],
      "metadata": {
        "id": "0akPT-BJgB6_",
        "colab": {
          "base_uri": "https://localhost:8080/"
        },
        "outputId": "6f5e1445-b920-4540-ff48-99b5ed704548"
      },
      "execution_count": 9,
      "outputs": [
        {
          "output_type": "execute_result",
          "data": {
            "text/plain": [
              "['wicked',\n",
              " 'titled',\n",
              " 'onscreen',\n",
              " 'wicked',\n",
              " 'part',\n",
              " 'american',\n",
              " 'musical',\n",
              " 'fantasy',\n",
              " 'film',\n",
              " 'directed',\n",
              " 'jon']"
            ]
          },
          "metadata": {},
          "execution_count": 9
        }
      ]
    },
    {
      "cell_type": "markdown",
      "source": [
        "#### Sentence Tokenization:\n",
        "\n",
        "Now we'll turn our corpus into sets of sentences and apply our pre-processing function to each sentence individually."
      ],
      "metadata": {
        "id": "U1JVww2adC-c"
      }
    },
    {
      "cell_type": "code",
      "source": [
        "from nltk.tokenize import sent_tokenize\n",
        "\n",
        "def sentence_tokenization(text: str) -> List[List[str]]:\n",
        "    # Tokenize the text into sentences\n",
        "    sentences = sent_tokenize(text)\n",
        "    # Tokenize each sentence into words and store them in a list of lists\n",
        "    sentence_tokens = [preprocess_text(sentence) for sentence in sentences]\n",
        "    return sentence_tokens"
      ],
      "metadata": {
        "id": "goqsOzIlgF_x"
      },
      "execution_count": 10,
      "outputs": []
    },
    {
      "cell_type": "code",
      "source": [
        "sentence_tokenization(wicked_docs[0].page_content[:200])"
      ],
      "metadata": {
        "id": "anrS-SOth1tK",
        "colab": {
          "base_uri": "https://localhost:8080/"
        },
        "outputId": "f70008cc-4468-4e26-ced5-bc6707dad485"
      },
      "execution_count": 11,
      "outputs": [
        {
          "output_type": "execute_result",
          "data": {
            "text/plain": [
              "[['wicked',\n",
              "  'titled',\n",
              "  'onscreen',\n",
              "  'wicked',\n",
              "  'part',\n",
              "  'american',\n",
              "  'musical',\n",
              "  'fantasy',\n",
              "  'film',\n",
              "  'directed',\n",
              "  'jon',\n",
              "  'chu',\n",
              "  'written',\n",
              "  'winnie',\n",
              "  'holzman',\n",
              "  'dana',\n",
              "  'fox',\n",
              "  'songs',\n",
              "  'stephen',\n",
              "  'schwartz'],\n",
              " ['first']]"
            ]
          },
          "metadata": {},
          "execution_count": 11
        }
      ]
    },
    {
      "cell_type": "markdown",
      "source": [
        "Perfect, with that, we're ready to create our corpus!"
      ],
      "metadata": {
        "id": "AKLhQDeDiBv1"
      }
    },
    {
      "cell_type": "code",
      "source": [
        "corpus = []\n",
        "\n",
        "for doc in wicked_docs:\n",
        "  corpus += sentence_tokenization(doc.page_content)\n",
        "\n",
        "for doc in gladiator_2_docs:\n",
        "  corpus += sentence_tokenization(doc.page_content)"
      ],
      "metadata": {
        "id": "o0Expe68h70P"
      },
      "execution_count": 12,
      "outputs": []
    },
    {
      "cell_type": "markdown",
      "source": [
        "##### ❓ Question #1:\n",
        "\n",
        "Why is this normalization and tokenization necessary to train a Word2Vec Embedding Model?\n",
        "\n",
        "#### **ANSWER**\n",
        "Normalization and tokenization are important for training a Word2Vec model for several key reasons:\n",
        "\n",
        "**Consistent Input Format**:\n",
        "- Word2Vec learns relationships between words by analyzing their contexts. It needs words to be in a consistent, normalized format to recognize them as the same token.\n",
        "- Without normalization, \"training\", \"Training\", and \"TRAINING\" would be treated as completely different words, diluting the learning signal\n",
        "\n",
        "**Meaningful Context Windows**\n",
        "- Sentence tokenization is important because Word2Vec learns from words that appear together within a context window\n",
        "- Sentence boundaries provide natural breaks where word relationships shouldn't be learned\n",
        "- Also, you don't want the model learning relationships between words at the end of one sentence and the start of another\n",
        "\n",
        "**Noise Reduction**\n",
        "- Removing stopwords and standardizing text helps focus the model on meaningful semantic relationships\n",
        "- Without this pre-processing, the model would waste capacity learning relationships between very common words like \"the\", \"and\", \"is\" that don't carry much semantic meaning\n",
        "\n",
        "**Vocabulary**\n",
        "- Tokenization helps build a defined vocabulary for the model\n",
        "- Normalizing words (like converting to lowercase) reduces the vocabulary size\n",
        "- A smaller, more focused vocabulary means more training examples per word, less memory usage and better quality embeddings for the words that matter\n"
      ],
      "metadata": {
        "id": "KyAS-JOLbwx0"
      }
    },
    {
      "cell_type": "markdown",
      "source": [
        "##### 👪❓ Discussion Question #1:\n",
        "\n",
        "When creating training data for Large Language Models, do we need to/should we use text normalization?\n",
        "\n",
        "What arguments for or against text normalization exist at LLM-scale datasets?"
      ],
      "metadata": {
        "id": "ZURPmGkGci7m"
      }
    },
    {
      "cell_type": "markdown",
      "source": [
        "### Task 4: Training Word2Vec\n",
        "\n",
        "Now that we have our corpus set up, we can train our Word2Vec model.\n",
        "\n",
        "Training is straightforward, thanks to `gensim`, and more can be understood about the process by reading the paper - but let's see it in code!\n",
        "\n",
        "It's also worth considering/playing around with the `gensim` parameters."
      ],
      "metadata": {
        "id": "s2axftsiipxJ"
      }
    },
    {
      "cell_type": "code",
      "source": [
        "!pip install -q -U gensim"
      ],
      "metadata": {
        "id": "PVb5Rye_ikjC"
      },
      "execution_count": 13,
      "outputs": []
    },
    {
      "cell_type": "markdown",
      "source": [
        "### An Aside on Skip-gram (SG) and Continuous Bag of Words (CBOW):\n",
        "\n",
        "**Skip-gram**:\n",
        "\n",
        "Skip-gram is an approach to teaching computers the meaning of words by predicting the surrounding context from a given word. Think of it as a student who learns by taking a single word and trying to guess what words might appear around it. For example, given the word \"sun,\" Skip-gram would learn to predict related words like \"bright,\" \"sky,\" and \"shine.\" This method is particularly effective at handling rare words in the vocabulary and capturing multiple meanings of words, though it typically requires more training time. The key insight is that words appearing in similar contexts often have related meanings.\n",
        "\n",
        "**Continuous Bag of Words (CBOW)**:\n",
        "\n",
        "CBOW takes the opposite approach to Skip-gram by predicting a target word based on its surrounding context words. Imagine playing a fill-in-the-blank game where you see \"The ___ is barking at the mailman\" and need to predict \"dog\" based on the surrounding words. CBOW looks at multiple context words at once and tries to understand what word would make sense in the middle. This method tends to be faster to train than Skip-gram and performs particularly well with frequent words in the vocabulary. However, it might not be as effective at handling rare words or capturing multiple word meanings since it averages the context."
      ],
      "metadata": {
        "id": "0uCi3SxOfyGH"
      }
    },
    {
      "cell_type": "markdown",
      "source": [
        "#####🏗️ Activity #1:\n",
        "\n",
        "Set appropriate hyperparameters for the gensim `Word2Vec` model.\n",
        "\n",
        "> NOTE: Documentation is available [here](https://radimrehurek.com/gensim/models/word2vec.html#gensim.models.word2vec.Word2Vec)"
      ],
      "metadata": {
        "id": "V6salAYUtcSr"
      }
    },
    {
      "cell_type": "markdown",
      "source": [
        "##### ❓ Question #2:\n",
        "\n",
        "What do each of the hyper-parameters mean or relate to:\n",
        "\n",
        "- `VECTOR_SIZE` -> Dimensionality of word vectors\n",
        "- `WINDOW` -> Maximum distance between target and context words\n",
        "- `MIN_COUNT` -> Minimum frequency for words to be included in vocabulary"
      ],
      "metadata": {
        "id": "qJZTsWWqbMPJ"
      }
    },
    {
      "cell_type": "code",
      "source": [
        "from gensim.models import Word2Vec\n",
        "\n",
        "### Modify These Hyper Parameters\n",
        "VECTOR_SIZE = 128\n",
        "WINDOW = 10\n",
        "MIN_COUNT = 2\n",
        "\n",
        "### Leave this Hyper Parameter\n",
        "# Training algo- 1 for skip-gram , 0 for CBOW\n",
        "SG = 1\n",
        "\n",
        "model = Word2Vec(\n",
        "    sentences=corpus,\n",
        "    vector_size=VECTOR_SIZE,\n",
        "    window=WINDOW,\n",
        "    min_count=MIN_COUNT,\n",
        "    sg=SG\n",
        "    )"
      ],
      "metadata": {
        "id": "nSCza8r7i-Oh"
      },
      "execution_count": 14,
      "outputs": []
    },
    {
      "cell_type": "markdown",
      "source": [
        "Blink and you'll miss it. You just trained an embeddings model!\n",
        "\n",
        "Let's try it out and see what we did!"
      ],
      "metadata": {
        "id": "m_LYRSDjjyA8"
      }
    },
    {
      "cell_type": "code",
      "source": [
        "model.wv[\"elphaba\"]"
      ],
      "metadata": {
        "id": "zaO35GCJjIlk",
        "colab": {
          "base_uri": "https://localhost:8080/"
        },
        "outputId": "6243a909-8b66-417e-8f0d-34731081ddb3"
      },
      "execution_count": 15,
      "outputs": [
        {
          "output_type": "execute_result",
          "data": {
            "text/plain": [
              "array([-0.03414725, -0.04884041,  0.10193804,  0.20329528,  0.10152539,\n",
              "       -0.13650948,  0.10819466,  0.04226966, -0.05617155,  0.05878397,\n",
              "        0.00152129,  0.02239892, -0.0348038 , -0.15599115,  0.12895605,\n",
              "        0.2589449 , -0.00040091,  0.0717862 , -0.21542439,  0.24777177,\n",
              "        0.22817518,  0.10774313, -0.16589536, -0.23007196, -0.18244976,\n",
              "        0.01020667, -0.18018322,  0.0852144 ,  0.0776168 , -0.06121664,\n",
              "       -0.1311743 ,  0.17316589,  0.01349317, -0.16350332,  0.22495998,\n",
              "        0.11282989,  0.34145167, -0.04497095,  0.11076037,  0.11443741,\n",
              "        0.05830157,  0.0857458 ,  0.10610778, -0.07305935,  0.27919325,\n",
              "       -0.07181875, -0.00339787, -0.06210322, -0.11192293,  0.09862242,\n",
              "        0.07002874,  0.13819158,  0.23487525, -0.03220874,  0.08827607,\n",
              "       -0.07670002,  0.21123056, -0.04948097, -0.13903558,  0.12029547,\n",
              "       -0.19755921,  0.01538324,  0.09666726, -0.04356951,  0.21688014,\n",
              "       -0.12563924, -0.06335825,  0.04929867, -0.00814048, -0.14824052,\n",
              "        0.0272028 , -0.1424257 , -0.36798063, -0.07799657,  0.00966426,\n",
              "       -0.03589831, -0.03320623,  0.0160772 , -0.16906233,  0.28092077,\n",
              "       -0.12963998, -0.15497483,  0.26523298,  0.2176207 ,  0.28284314,\n",
              "        0.17437111,  0.12736462, -0.12489415,  0.1780154 ,  0.10806604,\n",
              "       -0.23365235, -0.21785948, -0.02982837, -0.00054453,  0.28447035,\n",
              "        0.21376374, -0.03121502,  0.06584288,  0.04577256, -0.0462719 ,\n",
              "       -0.13291286, -0.02105577, -0.19903411,  0.1620183 , -0.02699935,\n",
              "        0.12734932,  0.1152221 ,  0.18287897,  0.09333714, -0.08847259,\n",
              "        0.16832311, -0.13120367, -0.05317834,  0.15044482, -0.11259583,\n",
              "       -0.10695799,  0.16840814,  0.14441922,  0.14419395, -0.03362549,\n",
              "       -0.17236726, -0.23931324, -0.04177674, -0.00875738,  0.00535965,\n",
              "       -0.00379187,  0.04270774,  0.0163527 ], dtype=float32)"
            ]
          },
          "metadata": {},
          "execution_count": 15
        }
      ]
    },
    {
      "cell_type": "markdown",
      "source": [
        "Finally! We see it: An embedding in the wild.\n",
        "\n",
        "Notice how we input a word, in this case \"Elphaba\", and we got back a 100-dimensional vector of floats.\n",
        "\n",
        "Let's see if we can't get back a list of similar vectors to the vector for \"Elphaba\", and \"Maximus\"!"
      ],
      "metadata": {
        "id": "f9yYINaHj_qI"
      }
    },
    {
      "cell_type": "code",
      "source": [
        "model.wv.most_similar(positive=[\"elphaba\"], topn=3)"
      ],
      "metadata": {
        "id": "Q3feBDOaj6WC",
        "colab": {
          "base_uri": "https://localhost:8080/"
        },
        "outputId": "143018f8-5332-488f-8104-6d76ef7ea1e6"
      },
      "execution_count": 16,
      "outputs": [
        {
          "output_type": "execute_result",
          "data": {
            "text/plain": [
              "[('glinda', 0.9969524145126343),\n",
              " ('grande', 0.9950782656669617),\n",
              " ('wizard', 0.9950142502784729)]"
            ]
          },
          "metadata": {},
          "execution_count": 16
        }
      ]
    },
    {
      "cell_type": "code",
      "source": [
        "model.wv.most_similar(positive=[\"maximus\"], topn=3)"
      ],
      "metadata": {
        "id": "FrCY4Y4Rkn0N",
        "colab": {
          "base_uri": "https://localhost:8080/"
        },
        "outputId": "f6563b51-27e9-4668-b833-a004cc4596e3"
      },
      "execution_count": 17,
      "outputs": [
        {
          "output_type": "execute_result",
          "data": {
            "text/plain": [
              "[('lucilla', 0.9979579448699951),\n",
              " ('marcus', 0.9978983402252197),\n",
              " ('son', 0.997671365737915)]"
            ]
          },
          "metadata": {},
          "execution_count": 17
        }
      ]
    },
    {
      "cell_type": "markdown",
      "source": [
        "Now, for the moment of truth - let's do some vector math and see what happens!"
      ],
      "metadata": {
        "id": "PFJQBuooli2S"
      }
    },
    {
      "cell_type": "code",
      "source": [
        "galinda_vec = model.wv[\"galinda\"]\n",
        "good_vec = model.wv[\"good\"]\n",
        "mystery_vector = galinda_vec - good_vec"
      ],
      "metadata": {
        "id": "_fFyEP8-mRw1"
      },
      "execution_count": 18,
      "outputs": []
    },
    {
      "cell_type": "code",
      "source": [
        "model.wv.most_similar(positive=[mystery_vector], topn=3)"
      ],
      "metadata": {
        "id": "hfup5uT0nDci",
        "colab": {
          "base_uri": "https://localhost:8080/"
        },
        "outputId": "707cbe88-7621-4b16-ca35-864f1a0731a4"
      },
      "execution_count": 19,
      "outputs": [
        {
          "output_type": "execute_result",
          "data": {
            "text/plain": [
              "[('parma', 0.5291705131530762),\n",
              " ('galinda', 0.5288470387458801),\n",
              " ('elphaba', 0.5266224145889282)]"
            ]
          },
          "metadata": {},
          "execution_count": 19
        }
      ]
    },
    {
      "cell_type": "markdown",
      "source": [
        "And there we have it - embeddings, and a demonstration of what makes them so powerful!\n",
        "\n",
        "> Note: This is a very small sample size, and while this result is what we'd hope for - it is largely coincidental - this behaviour is expressed better in much larger corpus' of text."
      ],
      "metadata": {
        "id": "BGdGFwRjoJjg"
      }
    },
    {
      "cell_type": "markdown",
      "source": [
        "## Breakout Room #2: Fine-tuning a BERT-Style Embedding Model on Question Answer Pairs.\n",
        "\n",
        "Now that we've seen where embeddings \"started\", as it were, let's see where they've gotten.\n",
        "\n",
        "In this section, we'll be fine-tuning Hugging Face's [sentence transformers](https://www.sbert.net/).\n",
        "\n",
        "Sentence Transformers leverages the work done in the [Sentence-BERT](https://arxiv.org/abs/1908.10084) paper. So while the idea of converting input text into a dense vector representation is the same, the way we got to those embeddings is a bit different.\n",
        "\n",
        "> NOTE: As the name implies, the following model is an *ENTIRE* transformer model (though Encoder-only, as described by Sentence-BERT)."
      ],
      "metadata": {
        "id": "Ay6CQ4yRqjc9"
      }
    },
    {
      "cell_type": "markdown",
      "source": [
        "### Fine-tuning Our Embeddings Model\n",
        "\n",
        "Finally, the set up is complete - and we can move on to fine-tuning our sentence transformer embedding model!\n",
        "\n",
        "The process is simplified considerably by how amazing the Hugging Face `sentence-transformer` library is, so let's jump straight in!"
      ],
      "metadata": {
        "id": "pUHK8gBfIv9U"
      }
    },
    {
      "cell_type": "code",
      "source": [
        "!pip install -U -q sentence-transformers"
      ],
      "metadata": {
        "id": "J6QtdQve12PP",
        "colab": {
          "base_uri": "https://localhost:8080/"
        },
        "outputId": "5a0af1c0-8a30-4531-9fad-3b450a192973"
      },
      "execution_count": 20,
      "outputs": [
        {
          "output_type": "stream",
          "name": "stdout",
          "text": [
            "\u001b[?25l   \u001b[90m━━━━━━━━━━━━━━━━━━━━━━━━━━━━━━━━━━━━━━━━\u001b[0m \u001b[32m0.0/268.8 kB\u001b[0m \u001b[31m?\u001b[0m eta \u001b[36m-:--:--\u001b[0m\r\u001b[2K   \u001b[91m━━━━━━━━━━━━━━━━━━━━━━━━━━━━━━━━━━━━━━━\u001b[0m\u001b[91m╸\u001b[0m \u001b[32m266.2/268.8 kB\u001b[0m \u001b[31m65.9 MB/s\u001b[0m eta \u001b[36m0:00:01\u001b[0m\r\u001b[2K   \u001b[90m━━━━━━━━━━━━━━━━━━━━━━━━━━━━━━━━━━━━━━━━\u001b[0m \u001b[32m268.8/268.8 kB\u001b[0m \u001b[31m7.4 MB/s\u001b[0m eta \u001b[36m0:00:00\u001b[0m\n",
            "\u001b[?25h"
          ]
        }
      ]
    },
    {
      "cell_type": "code",
      "source": [
        "from sentence_transformers import SentenceTransformer"
      ],
      "metadata": {
        "id": "98C2YcEj10di"
      },
      "execution_count": 21,
      "outputs": []
    },
    {
      "cell_type": "markdown",
      "source": [
        "We're going to use the `BAAI/bge-small-en` embedding model as an example, but you could use any of the `sentence-transformer` embeddings models."
      ],
      "metadata": {
        "id": "YY3CCeScJboJ"
      }
    },
    {
      "cell_type": "code",
      "source": [
        "model_id = \"BAAI/bge-small-en\"\n",
        "model = SentenceTransformer(model_id)"
      ],
      "metadata": {
        "id": "5tiyPUjj11in",
        "colab": {
          "base_uri": "https://localhost:8080/",
          "height": 369,
          "referenced_widgets": [
            "e49d1db482274e279c121541fc6bb98d",
            "a443f892580241bfa277d416aaad1f2a",
            "0776757206644781aea42481e78a5d74",
            "3fb330fd9a064f3f94752961271aa7e3",
            "d684b1695bb44442a33dc9b27ea24dea",
            "c6551baaa2b544baa88420d4cafc094e",
            "845c7dc09cc14f2ba2487fdecbbde046",
            "82951d0e4e9a4ca2bfa42525e08e9504",
            "9009db8b0d4e435aabae83ece770c9d1",
            "002b96b34da14fecb9d25a2fe330dd29",
            "0fc2117c6b984c9e9658ebaa76183cfc",
            "ff5f858c1a5b47a9bd77ec08c46e4253",
            "4e0fa0467ad94c5b87d8bbdb328e5383",
            "6f299c80be004032b63f4521fca737f7",
            "0db6fc34ee8a46f5a4e9171583523196",
            "647007dc8d704c3e95a7b9ef23c2dc88",
            "e081edd87f6f478790698d8d50275375",
            "950dcbbea5174360be4bb99b4a2e0e42",
            "dd741371074a4d0494c9705990b01619",
            "3218336a7e9d4d18a94657fe65a9f072",
            "7133142c98b64a2ebfc2a55487b9f044",
            "27122bc3bf8b4373b4f9cf18d17a9175",
            "1dfa38f694a544a9a5f20d5ee98376a9",
            "6761be157a0240b9b1912eb39633333d",
            "bbbd073cd96e43b6b75e9c904aa0183e",
            "e9fce682f80f4081a2614bd47b6a1e94",
            "668ee9957ad440b186e45ec0e46e6a5f",
            "7d5d9895fa6444b080ea67ca7a80289d",
            "0c6112f311c34c529eaf674535c6961f",
            "8be5160d3e954703b210bf7df2b1a287",
            "bcb9e98d746040fa88988f6211c5af58",
            "e2447ca3498241ccbf087695f4dae8b5",
            "1892c6a1f11c48ff88f0c1e17ff0b1cc",
            "3ef48ae9ca1a418da3c44436f52d1bcd",
            "b74d9157e47643cfa1f0dd5909c0851d",
            "8d6eaae19f1545009fb35d7373919610",
            "708c80c966054bd19cffb4e86a26d09f",
            "b1e6b603904d485d97ec7d3cf5829ec7",
            "4e7648c2ca4548cdab3187d314252f88",
            "19414c072afb4fe0bc4d61cd118f7da0",
            "707fcf00530a44f4a2d5de44eaf8faf5",
            "7fbce39a4ccb445495fbfe86d2894157",
            "458767440b304f8bbd7db5e255e2ccc2",
            "99b615959b4b44b0817b0c4dec9f4702",
            "37be5acecc284ddbba9ff85dc5df2135",
            "1b4b8f202b2e4d59bc6fb0f8a11ac406",
            "ae15ba5490a0475882e5948b8641cd33",
            "840d318762704fbb8c19a791db1d636a",
            "f6c232addc73448e9c220d6cc4f763dc",
            "aa023f9f48184b2b906f3aaa7d5417a2",
            "6d3af776d4004bd39222e708d39fc6e6",
            "7dd53a050edd48dea96bb20ffb05f77e",
            "6267df08934f47f5b284424428374057",
            "abbf688aa7f84edcadb6db0196f1158a",
            "23e5c0106135432ea73e52acf17d2bff",
            "a201845e83ff45fd936cef4a46fa08b4",
            "946c7455e85e4d10bbcd6f77b89fc905",
            "a73d73da7d8c442fa0cab772b3a9db71",
            "b1e9a65b15824d1eae5e175476dbedc3",
            "b019a68d3b534523aa7e83fc51a482dc",
            "d7f38055e3ae408db0fbe4b942a0acb6",
            "1ba3524d0c3b49ca974524969e26254e",
            "05029bca63134fef9bae2db615d08326",
            "8954ca4572d449e3b355c4afba4fc241",
            "cc33c5013c42478490d2671938ce760c",
            "f109d9ed8ca447549463e433e43c98f7",
            "22fd75ace0ce4aee922f1e281142a539",
            "b515d7808136411b8dced14f96b37907",
            "4862ee7cc7f74574b893fcbae8e4edee",
            "d16cdd2b5d7642a392e6c2612f98898c",
            "fdd3ab1ca22e4a14b494f5d16fa50f2c",
            "11524c6354ab40f484c5f96693060030",
            "299a4213d26e41c78eab3d166f5aecb4",
            "41210437c631498db67957fb7d70d37e",
            "4f9665327b534a0c815cae36a5727785",
            "3b0b1bac75e04538bb4b433e73f251b5",
            "fdb3a49f7f374c589d3fda8fdfd78311",
            "e89063da31f74eeeb3ad28344bd17dd2",
            "28a8888ec4e04385a0a54e24637333d6",
            "6e1d2c761e8b4d588a965f0b8b0a49fa",
            "c24bd7ae12884531bfd666ef34a62ef3",
            "77921c42cc7f43f79bb522c4b6dfec1a",
            "3848917636bf4f5b82a83eff8b078433",
            "8578033430164d4a9d114ff6b43b922a",
            "6ebc0cba6c20414bb4b8b9d51cc56748",
            "273de167564f4d8e9847e38a0eb63e4f",
            "fc5580f0db0b481e849902ec4307eb55",
            "19aad43c1fe9443ca07d4abc892baa72",
            "7d3bf72dd0864906a214bbae4bdc70da",
            "9572c4f7bd3c4e2ab3ad98e00e40780a",
            "9d72e291455c41709a87dd7e7da63e24",
            "644e59e7ec7048eeba309e5aa4e7700c",
            "c063c5d643564588847bfa41c9a3abc4",
            "276dabd794834d9d870e34d070f87220",
            "0f8cd07fe2804f77b3410631c338e9b2",
            "b652050cebb94c908f231c3f456f88d0",
            "3b2b345f5d424e928eb989c2a6a13284",
            "bdbe7cd6ebe2435c9c6afc5534455fba",
            "3afdeb473eea4a31a5083ec5206f73af",
            "f7d3e8b2d24f415fb2eaa646842b2aa1",
            "585f828ff52f463a9b23cf59ede4cc8d",
            "fdfa73cd357c4e28a4ee41b6a61d58f3",
            "b153f711a8df484797819b99c64e824c",
            "fe915b6489814d709b463bb4a9b22b0f",
            "4323b46445ac4855b52b21fab34ddbaa",
            "dbbfe59c62fe43cf8689c16882821608",
            "84e3c427eabf416cad8b2b485c1193ac",
            "c902dcecc2a94d8d995ccfdbc8a9565d",
            "28e30faef3d746709a11a43ae351d14c",
            "8517e54217df457c96a8df40e126f609",
            "2f34b109f47d43aaaf12eb8781a96119",
            "c286e782acb4460a9c403266e331436a",
            "b814de1bd7cb418b8d6762c24a646fe4",
            "528ffe70a16446d5b91cfa3d43b5e2a2",
            "c5892386c7e447619aa6425b86846523",
            "b56f3a2d39f94bc4b6f48fb4ee68c15b",
            "c17014683a6b4815acb663f8a23b5bb3",
            "dc4f1402aa1e4ae6a795173613e0876b",
            "be4aa32380b84bbfa4788d9ed226f28e",
            "b40c8c7bb0084886aaf9f8df8b5d0a93",
            "fe039475fdbb4cfdaeb9cf4e6fc1f299"
          ]
        },
        "outputId": "0b7b5b62-ecc7-407d-f71f-6995b92a8469"
      },
      "execution_count": 22,
      "outputs": [
        {
          "output_type": "display_data",
          "data": {
            "text/plain": [
              "modules.json:   0%|          | 0.00/349 [00:00<?, ?B/s]"
            ],
            "application/vnd.jupyter.widget-view+json": {
              "version_major": 2,
              "version_minor": 0,
              "model_id": "e49d1db482274e279c121541fc6bb98d"
            }
          },
          "metadata": {}
        },
        {
          "output_type": "display_data",
          "data": {
            "text/plain": [
              "config_sentence_transformers.json:   0%|          | 0.00/124 [00:00<?, ?B/s]"
            ],
            "application/vnd.jupyter.widget-view+json": {
              "version_major": 2,
              "version_minor": 0,
              "model_id": "ff5f858c1a5b47a9bd77ec08c46e4253"
            }
          },
          "metadata": {}
        },
        {
          "output_type": "display_data",
          "data": {
            "text/plain": [
              "README.md:   0%|          | 0.00/90.8k [00:00<?, ?B/s]"
            ],
            "application/vnd.jupyter.widget-view+json": {
              "version_major": 2,
              "version_minor": 0,
              "model_id": "1dfa38f694a544a9a5f20d5ee98376a9"
            }
          },
          "metadata": {}
        },
        {
          "output_type": "display_data",
          "data": {
            "text/plain": [
              "sentence_bert_config.json:   0%|          | 0.00/52.0 [00:00<?, ?B/s]"
            ],
            "application/vnd.jupyter.widget-view+json": {
              "version_major": 2,
              "version_minor": 0,
              "model_id": "3ef48ae9ca1a418da3c44436f52d1bcd"
            }
          },
          "metadata": {}
        },
        {
          "output_type": "display_data",
          "data": {
            "text/plain": [
              "config.json:   0%|          | 0.00/684 [00:00<?, ?B/s]"
            ],
            "application/vnd.jupyter.widget-view+json": {
              "version_major": 2,
              "version_minor": 0,
              "model_id": "37be5acecc284ddbba9ff85dc5df2135"
            }
          },
          "metadata": {}
        },
        {
          "output_type": "display_data",
          "data": {
            "text/plain": [
              "model.safetensors:   0%|          | 0.00/133M [00:00<?, ?B/s]"
            ],
            "application/vnd.jupyter.widget-view+json": {
              "version_major": 2,
              "version_minor": 0,
              "model_id": "a201845e83ff45fd936cef4a46fa08b4"
            }
          },
          "metadata": {}
        },
        {
          "output_type": "display_data",
          "data": {
            "text/plain": [
              "tokenizer_config.json:   0%|          | 0.00/366 [00:00<?, ?B/s]"
            ],
            "application/vnd.jupyter.widget-view+json": {
              "version_major": 2,
              "version_minor": 0,
              "model_id": "22fd75ace0ce4aee922f1e281142a539"
            }
          },
          "metadata": {}
        },
        {
          "output_type": "display_data",
          "data": {
            "text/plain": [
              "vocab.txt:   0%|          | 0.00/232k [00:00<?, ?B/s]"
            ],
            "application/vnd.jupyter.widget-view+json": {
              "version_major": 2,
              "version_minor": 0,
              "model_id": "e89063da31f74eeeb3ad28344bd17dd2"
            }
          },
          "metadata": {}
        },
        {
          "output_type": "display_data",
          "data": {
            "text/plain": [
              "tokenizer.json:   0%|          | 0.00/711k [00:00<?, ?B/s]"
            ],
            "application/vnd.jupyter.widget-view+json": {
              "version_major": 2,
              "version_minor": 0,
              "model_id": "7d3bf72dd0864906a214bbae4bdc70da"
            }
          },
          "metadata": {}
        },
        {
          "output_type": "display_data",
          "data": {
            "text/plain": [
              "special_tokens_map.json:   0%|          | 0.00/125 [00:00<?, ?B/s]"
            ],
            "application/vnd.jupyter.widget-view+json": {
              "version_major": 2,
              "version_minor": 0,
              "model_id": "f7d3e8b2d24f415fb2eaa646842b2aa1"
            }
          },
          "metadata": {}
        },
        {
          "output_type": "display_data",
          "data": {
            "text/plain": [
              "1_Pooling/config.json:   0%|          | 0.00/190 [00:00<?, ?B/s]"
            ],
            "application/vnd.jupyter.widget-view+json": {
              "version_major": 2,
              "version_minor": 0,
              "model_id": "2f34b109f47d43aaaf12eb8781a96119"
            }
          },
          "metadata": {}
        }
      ]
    },
    {
      "cell_type": "code",
      "source": [
        "model"
      ],
      "metadata": {
        "id": "Y4wJgYpg1-Nh",
        "colab": {
          "base_uri": "https://localhost:8080/"
        },
        "outputId": "a05bb424-8fac-4f0f-cdef-3a8d7df68988"
      },
      "execution_count": 23,
      "outputs": [
        {
          "output_type": "execute_result",
          "data": {
            "text/plain": [
              "SentenceTransformer(\n",
              "  (0): Transformer({'max_seq_length': 512, 'do_lower_case': True}) with Transformer model: BertModel \n",
              "  (1): Pooling({'word_embedding_dimension': 384, 'pooling_mode_cls_token': True, 'pooling_mode_mean_tokens': False, 'pooling_mode_max_tokens': False, 'pooling_mode_mean_sqrt_len_tokens': False, 'pooling_mode_weightedmean_tokens': False, 'pooling_mode_lasttoken': False, 'include_prompt': True})\n",
              "  (2): Normalize()\n",
              ")"
            ]
          },
          "metadata": {},
          "execution_count": 23
        }
      ]
    },
    {
      "cell_type": "markdown",
      "source": [
        "Let's load our data into the desired format!"
      ],
      "metadata": {
        "id": "fBP9U6w-Jyyo"
      }
    },
    {
      "cell_type": "code",
      "source": [
        "from torch.utils.data import DataLoader\n",
        "from sentence_transformers import InputExample"
      ],
      "metadata": {
        "id": "cUy0HwPp1-TW"
      },
      "execution_count": 24,
      "outputs": []
    },
    {
      "cell_type": "code",
      "source": [
        "!git clone https://github.com/AI-Maker-Space/DataRepository"
      ],
      "metadata": {
        "colab": {
          "base_uri": "https://localhost:8080/"
        },
        "id": "xhxUvhnkghmo",
        "outputId": "3eaf7b3b-4730-41a4-a257-66e998468f71"
      },
      "execution_count": 25,
      "outputs": [
        {
          "output_type": "stream",
          "name": "stdout",
          "text": [
            "Cloning into 'DataRepository'...\n",
            "remote: Enumerating objects: 119, done.\u001b[K\n",
            "remote: Counting objects: 100% (111/111), done.\u001b[K\n",
            "remote: Compressing objects: 100% (96/96), done.\u001b[K\n",
            "remote: Total 119 (delta 36), reused 40 (delta 10), pack-reused 8 (from 1)\u001b[K\n",
            "Receiving objects: 100% (119/119), 78.04 MiB | 14.74 MiB/s, done.\n",
            "Resolving deltas: 100% (36/36), done.\n"
          ]
        }
      ]
    },
    {
      "cell_type": "code",
      "source": [
        "TRAIN_DATASET_FPATH = './DataRepository/embedding_data/train_dataset.json'\n",
        "VAL_DATASET_FPATH = './DataRepository/embedding_data/eval_dataset.json'"
      ],
      "metadata": {
        "id": "q7OEQVmu2Kfb"
      },
      "execution_count": 26,
      "outputs": []
    },
    {
      "cell_type": "code",
      "source": [
        "import json\n",
        "\n",
        "with open(TRAIN_DATASET_FPATH, 'r+') as f:\n",
        "    train_dataset = json.load(f)\n",
        "\n",
        "with open(VAL_DATASET_FPATH, 'r+') as f:\n",
        "    val_dataset = json.load(f)"
      ],
      "metadata": {
        "id": "Mw_hAOx_2NLz"
      },
      "execution_count": 27,
      "outputs": []
    },
    {
      "cell_type": "code",
      "source": [
        "# Load the components from the training dataset\n",
        "dataset = train_dataset\n",
        "\n",
        "\n",
        "# Dictionary of documents/texts\n",
        "corpus = dataset['corpus']\n",
        "\n",
        "# Dictionary of search queries\n",
        "queries = dataset['queries']\n",
        "\n",
        "# Dictionary mapping queries to relevant document IDs\n",
        "relevant_docs = dataset['relevant_docs']\n",
        "\n",
        "# Create a list to store our training examples\n",
        "examples = []\n",
        "\n",
        "# Iterate through each query and its ID\n",
        "for query_id, query in queries.items():\n",
        "\n",
        "    # Get the ID of the first relevant document for this query\n",
        "    node_id = relevant_docs[query_id][0]\n",
        "    # Get the actual text of the relevant document from the corpus\n",
        "    text = corpus[node_id]\n",
        "\n",
        "    # Create a training example pair: [query, relevant_document]\n",
        "    # This will be used by MultipleNegativesRankingLoss where:\n",
        "    # query should be more similar to its relevant document than to other documents\n",
        "    # Other documents in the batch will serve as negative examples\n",
        "    example = InputExample(texts=[query, text])\n",
        "\n",
        "    # Add the example to our training dataset\n",
        "    examples.append(example)"
      ],
      "metadata": {
        "id": "6tOJ3GIN2Odx"
      },
      "execution_count": 28,
      "outputs": []
    },
    {
      "cell_type": "markdown",
      "source": [
        "We're going to be leveraging `sentence_transformers` `MultipleNegativesRankingLoss` as our loss function.\n",
        "\n",
        "You can read more about it in the docs, [here](https://www.sbert.net/docs/package_reference/losses.html#multiplenegativesrankingloss).\n",
        "\n",
        "Note that there is [research](https://arxiv.org/pdf/1705.00652.pdf) that indicates that performance generally scales with `BATCH_SIZE`, but we're going to stick with an arbitrary 10 for the example in the notebook."
      ],
      "metadata": {
        "id": "6uAhnbW_LxaK"
      }
    },
    {
      "cell_type": "markdown",
      "source": [
        "##### ❓ Question #3:\n",
        "\n",
        "What is happening in `MultipleNegativesRankingLoss` that makes it useful for our task?\n",
        "\n",
        "For fine-tuning of embedding model with our use case of query-document matching\n",
        "we have\n",
        "- Corpus of documents\n",
        "- Queries\n",
        "- Relevant document IDs for each query\n",
        "\n",
        "We are creating training examples where each query is paired with its relevant document. MNRL is perfect for this use case because:\n",
        "\n",
        "- For each query in our batch, positive pair is (query, relevant_document)\n",
        "- All other documents in that batch automatically become negative examples\n",
        "- Our goal is that we want queries to be more similar to their relevant documents than to any other document\n",
        "- MNRL learns to maximize similarity between queries and their matching documents and minimize similarity between queries and non-matching documents\n",
        "- Do this in a computationally efficient way since it uses in-batch negatives (basically you just need to compute embeddings once for each text in your batch)\n",
        "\n",
        "For 10 examples say in our notebook\n",
        "- Each InputExample contains **(query, text)** pairs\n",
        "- With batch_size=10, when processed through MNRL, each query will be compared against:\n",
        "    *   own relevant document (positive)\n",
        "    *   9 other documents (negatives) from other query-document pairs in the batch\n",
        "\n",
        "- For query 1, its paired document 1 is positive, but documents 2-10 automatically become negatives\n",
        "\n",
        "- For query 2, its paired document 2 is positive, but documents 1,3-10 become negatives and so on....\n",
        "\n",
        "We get 9 negative examples per query for free without having to:\n",
        "- Store additional negative examples in memory\n",
        "- Compute additional embeddings\n",
        "- Do separate loss calculations\n",
        "- We're reusing the same embeddings that you had to compute anyway for the positive pairs, rather than having to compute and store additional embeddings for explicit negative examples.\n",
        "\n",
        "This approach is particularly efficient for our use case because:\n",
        "- We don't need to explicitly specify negative examples\n",
        "- It naturally handles the asymmetric nature of query-document matching\n",
        "\n",
        "\n"
      ],
      "metadata": {
        "id": "4lcgcmPdd3K2"
      }
    },
    {
      "cell_type": "code",
      "source": [
        "from sentence_transformers import losses"
      ],
      "metadata": {
        "id": "JwX2ltEj2RBn"
      },
      "execution_count": 29,
      "outputs": []
    },
    {
      "cell_type": "code",
      "source": [
        "# Set up the loss function - MultipleNegativesRankingLoss\n",
        "loss = losses.MultipleNegativesRankingLoss(model)"
      ],
      "metadata": {
        "id": "T6LQuafa2R54"
      },
      "execution_count": 30,
      "outputs": []
    },
    {
      "cell_type": "code",
      "source": [
        "# Define batch size for training\n",
        "BATCH_SIZE = 10\n",
        "\n",
        "# Create a DataLoader to handle batching of our training examples\n",
        "loader = DataLoader(\n",
        "    examples, batch_size=BATCH_SIZE\n",
        ")"
      ],
      "metadata": {
        "id": "RCZwGmQY2Pv5"
      },
      "execution_count": 31,
      "outputs": []
    },
    {
      "cell_type": "markdown",
      "source": [
        "We'll set up the `InformationRetrievalEvaluator` to determine performance during training."
      ],
      "metadata": {
        "id": "lpPrZ_6ZMOqh"
      }
    },
    {
      "cell_type": "code",
      "source": [
        "# Set up an evaluator to measure model performance during training\n",
        "from sentence_transformers.evaluation import InformationRetrievalEvaluator"
      ],
      "metadata": {
        "id": "HCuVK5S22TnQ"
      },
      "execution_count": 32,
      "outputs": []
    },
    {
      "cell_type": "code",
      "source": [
        "# Loading validation dataset\n",
        "dataset = val_dataset\n",
        "\n",
        "# Extract components from validation data\n",
        "corpus = dataset['corpus']\n",
        "queries = dataset['queries']\n",
        "relevant_docs = dataset['relevant_docs']\n",
        "\n",
        "# Create evaluator that will measure how well our model retrieves relevant documents for queries\n",
        "evaluator = InformationRetrievalEvaluator(queries, corpus, relevant_docs)"
      ],
      "metadata": {
        "id": "0d90XGt92U1P"
      },
      "execution_count": 33,
      "outputs": []
    },
    {
      "cell_type": "markdown",
      "source": [
        "You could use a larger epoch size here, but for the example in the Notebook, we'll stick with 10."
      ],
      "metadata": {
        "id": "P2GR2A28MUBD"
      }
    },
    {
      "cell_type": "code",
      "source": [
        "# Set number of training epochs\n",
        "EPOCHS = 10"
      ],
      "metadata": {
        "id": "un4ee2dM2WF4"
      },
      "execution_count": 34,
      "outputs": []
    },
    {
      "cell_type": "markdown",
      "source": [
        "Nothing left to do but #trainthatmodel!\n",
        "\n",
        "> NOTE: You'll need to make sure you enter the desired Weights and Biases key - you should be able to simple click the link `https://wandb.ai/authorize` and follow the outlined steps to get the API key."
      ],
      "metadata": {
        "id": "mhClKkMLMZxW"
      }
    },
    {
      "cell_type": "code",
      "source": [
        "from datasets import Dataset\n",
        "from torch.utils.data import DataLoader\n",
        "\n",
        "# Calculate warmup steps (10% of total training steps)\n",
        "# Warmup helps stabilize early training by gradually increasing learning rate\n",
        "warmup_steps = int(len(loader) * EPOCHS * 0.1)\n",
        "\n",
        "# Start the training process\n",
        "model.fit(\n",
        "    # Pair of data loader and loss function\n",
        "    train_objectives=[(loader, loss)],\n",
        "    # Number of training epochs\n",
        "    epochs=EPOCHS,\n",
        "    # Learning rate warmup\n",
        "    warmup_steps=warmup_steps,\n",
        "    output_path='exp_finetune',\n",
        "    show_progress_bar=True,\n",
        "    evaluator=evaluator,\n",
        "    # Evaluate every 50 steps\n",
        "    evaluation_steps=50,\n",
        ")"
      ],
      "metadata": {
        "id": "l8-oSdDB2Ymm",
        "colab": {
          "base_uri": "https://localhost:8080/",
          "height": 928,
          "referenced_widgets": [
            "eb7c94623ef1491a9ef7b49e64807723",
            "fb6c43e7762f4f87a6b3a04c5875aae9",
            "c9685dd0f70b4875a80e80f054348dab",
            "920d7051c25146c4aabd3330f74820b4",
            "a80b20bde9af4421b02925419a9b5b4e",
            "5f1eeb4aec3f49d7aef6a3a7bd7b5623",
            "1eac7de1a58f4f679088403c327288a0",
            "52a325862a314905b98149aece3b9328",
            "4f80380dbd0e4bb291fb7a860eb8fd72",
            "9f6756fa49c64b99922754094b62d552",
            "755c7cc4fda94e08ad7a9deadcf00856"
          ]
        },
        "outputId": "b4cd5174-b117-4cf9-db76-151ce57d015a"
      },
      "execution_count": 35,
      "outputs": [
        {
          "output_type": "stream",
          "name": "stderr",
          "text": [
            "\u001b[34m\u001b[1mwandb\u001b[0m: \u001b[33mWARNING\u001b[0m The `run_name` is currently set to the same value as `TrainingArguments.output_dir`. If this was not intended, please specify a different run name by setting the `TrainingArguments.run_name` parameter.\n",
            "\u001b[34m\u001b[1mwandb\u001b[0m: Using wandb-core as the SDK backend.  Please refer to https://wandb.me/wandb-core for more information.\n"
          ]
        },
        {
          "output_type": "display_data",
          "data": {
            "text/plain": [
              "<IPython.core.display.Javascript object>"
            ],
            "application/javascript": [
              "\n",
              "        window._wandbApiKey = new Promise((resolve, reject) => {\n",
              "            function loadScript(url) {\n",
              "            return new Promise(function(resolve, reject) {\n",
              "                let newScript = document.createElement(\"script\");\n",
              "                newScript.onerror = reject;\n",
              "                newScript.onload = resolve;\n",
              "                document.body.appendChild(newScript);\n",
              "                newScript.src = url;\n",
              "            });\n",
              "            }\n",
              "            loadScript(\"https://cdn.jsdelivr.net/npm/postmate/build/postmate.min.js\").then(() => {\n",
              "            const iframe = document.createElement('iframe')\n",
              "            iframe.style.cssText = \"width:0;height:0;border:none\"\n",
              "            document.body.appendChild(iframe)\n",
              "            const handshake = new Postmate({\n",
              "                container: iframe,\n",
              "                url: 'https://wandb.ai/authorize'\n",
              "            });\n",
              "            const timeout = setTimeout(() => reject(\"Couldn't auto authenticate\"), 5000)\n",
              "            handshake.then(function(child) {\n",
              "                child.on('authorize', data => {\n",
              "                    clearTimeout(timeout)\n",
              "                    resolve(data)\n",
              "                });\n",
              "            });\n",
              "            })\n",
              "        });\n",
              "    "
            ]
          },
          "metadata": {}
        },
        {
          "output_type": "stream",
          "name": "stderr",
          "text": [
            "\u001b[34m\u001b[1mwandb\u001b[0m: Logging into wandb.ai. (Learn how to deploy a W&B server locally: https://wandb.me/wandb-server)\n",
            "\u001b[34m\u001b[1mwandb\u001b[0m: You can find your API key in your browser here: https://wandb.ai/authorize\n",
            "wandb: Paste an API key from your profile and hit enter, or press ctrl+c to quit:"
          ]
        },
        {
          "name": "stdout",
          "output_type": "stream",
          "text": [
            " ··········\n"
          ]
        },
        {
          "output_type": "stream",
          "name": "stderr",
          "text": [
            "\u001b[34m\u001b[1mwandb\u001b[0m: Appending key for api.wandb.ai to your netrc file: /root/.netrc\n"
          ]
        },
        {
          "output_type": "display_data",
          "data": {
            "text/plain": [
              "<IPython.core.display.HTML object>"
            ],
            "text/html": [
              "Tracking run with wandb version 0.18.7"
            ]
          },
          "metadata": {}
        },
        {
          "output_type": "display_data",
          "data": {
            "text/plain": [
              "<IPython.core.display.HTML object>"
            ],
            "text/html": [
              "Run data is saved locally in <code>/content/wandb/run-20241202_104431-1g699qqf</code>"
            ]
          },
          "metadata": {}
        },
        {
          "output_type": "display_data",
          "data": {
            "text/plain": [
              "<IPython.core.display.HTML object>"
            ],
            "text/html": [
              "Syncing run <strong><a href='https://wandb.ai/rajkstats/sentence-transformers/runs/1g699qqf' target=\"_blank\">checkpoints/model</a></strong> to <a href='https://wandb.ai/rajkstats/sentence-transformers' target=\"_blank\">Weights & Biases</a> (<a href='https://wandb.me/developer-guide' target=\"_blank\">docs</a>)<br/>"
            ]
          },
          "metadata": {}
        },
        {
          "output_type": "display_data",
          "data": {
            "text/plain": [
              "<IPython.core.display.HTML object>"
            ],
            "text/html": [
              " View project at <a href='https://wandb.ai/rajkstats/sentence-transformers' target=\"_blank\">https://wandb.ai/rajkstats/sentence-transformers</a>"
            ]
          },
          "metadata": {}
        },
        {
          "output_type": "display_data",
          "data": {
            "text/plain": [
              "<IPython.core.display.HTML object>"
            ],
            "text/html": [
              " View run at <a href='https://wandb.ai/rajkstats/sentence-transformers/runs/1g699qqf' target=\"_blank\">https://wandb.ai/rajkstats/sentence-transformers/runs/1g699qqf</a>"
            ]
          },
          "metadata": {}
        },
        {
          "output_type": "display_data",
          "data": {
            "text/plain": [
              "<IPython.core.display.HTML object>"
            ],
            "text/html": [
              "\n",
              "    <div>\n",
              "      \n",
              "      <progress value='600' max='600' style='width:300px; height:20px; vertical-align: middle;'></progress>\n",
              "      [600/600 04:17, Epoch 10/10]\n",
              "    </div>\n",
              "    <table border=\"1\" class=\"dataframe\">\n",
              "  <thead>\n",
              " <tr style=\"text-align: left;\">\n",
              "      <th>Step</th>\n",
              "      <th>Training Loss</th>\n",
              "      <th>Validation Loss</th>\n",
              "      <th>Cosine Accuracy@1</th>\n",
              "      <th>Cosine Accuracy@3</th>\n",
              "      <th>Cosine Accuracy@5</th>\n",
              "      <th>Cosine Accuracy@10</th>\n",
              "      <th>Cosine Precision@1</th>\n",
              "      <th>Cosine Precision@3</th>\n",
              "      <th>Cosine Precision@5</th>\n",
              "      <th>Cosine Precision@10</th>\n",
              "      <th>Cosine Recall@1</th>\n",
              "      <th>Cosine Recall@3</th>\n",
              "      <th>Cosine Recall@5</th>\n",
              "      <th>Cosine Recall@10</th>\n",
              "      <th>Cosine Ndcg@10</th>\n",
              "      <th>Cosine Mrr@10</th>\n",
              "      <th>Cosine Map@100</th>\n",
              "    </tr>\n",
              "  </thead>\n",
              "  <tbody>\n",
              "    <tr>\n",
              "      <td>50</td>\n",
              "      <td>No log</td>\n",
              "      <td>No log</td>\n",
              "      <td>0.627517</td>\n",
              "      <td>0.785235</td>\n",
              "      <td>0.832215</td>\n",
              "      <td>0.892617</td>\n",
              "      <td>0.627517</td>\n",
              "      <td>0.261745</td>\n",
              "      <td>0.166443</td>\n",
              "      <td>0.089262</td>\n",
              "      <td>0.627517</td>\n",
              "      <td>0.785235</td>\n",
              "      <td>0.832215</td>\n",
              "      <td>0.892617</td>\n",
              "      <td>0.758480</td>\n",
              "      <td>0.715591</td>\n",
              "      <td>0.720487</td>\n",
              "    </tr>\n",
              "    <tr>\n",
              "      <td>60</td>\n",
              "      <td>No log</td>\n",
              "      <td>No log</td>\n",
              "      <td>0.620805</td>\n",
              "      <td>0.775168</td>\n",
              "      <td>0.832215</td>\n",
              "      <td>0.882550</td>\n",
              "      <td>0.620805</td>\n",
              "      <td>0.258389</td>\n",
              "      <td>0.166443</td>\n",
              "      <td>0.088255</td>\n",
              "      <td>0.620805</td>\n",
              "      <td>0.775168</td>\n",
              "      <td>0.832215</td>\n",
              "      <td>0.882550</td>\n",
              "      <td>0.750621</td>\n",
              "      <td>0.708377</td>\n",
              "      <td>0.713706</td>\n",
              "    </tr>\n",
              "    <tr>\n",
              "      <td>100</td>\n",
              "      <td>No log</td>\n",
              "      <td>No log</td>\n",
              "      <td>0.630872</td>\n",
              "      <td>0.788591</td>\n",
              "      <td>0.845638</td>\n",
              "      <td>0.906040</td>\n",
              "      <td>0.630872</td>\n",
              "      <td>0.262864</td>\n",
              "      <td>0.169128</td>\n",
              "      <td>0.090604</td>\n",
              "      <td>0.630872</td>\n",
              "      <td>0.788591</td>\n",
              "      <td>0.845638</td>\n",
              "      <td>0.906040</td>\n",
              "      <td>0.764965</td>\n",
              "      <td>0.720006</td>\n",
              "      <td>0.723902</td>\n",
              "    </tr>\n",
              "    <tr>\n",
              "      <td>120</td>\n",
              "      <td>No log</td>\n",
              "      <td>No log</td>\n",
              "      <td>0.644295</td>\n",
              "      <td>0.788591</td>\n",
              "      <td>0.838926</td>\n",
              "      <td>0.906040</td>\n",
              "      <td>0.644295</td>\n",
              "      <td>0.262864</td>\n",
              "      <td>0.167785</td>\n",
              "      <td>0.090604</td>\n",
              "      <td>0.644295</td>\n",
              "      <td>0.788591</td>\n",
              "      <td>0.838926</td>\n",
              "      <td>0.906040</td>\n",
              "      <td>0.771768</td>\n",
              "      <td>0.729144</td>\n",
              "      <td>0.733401</td>\n",
              "    </tr>\n",
              "    <tr>\n",
              "      <td>150</td>\n",
              "      <td>No log</td>\n",
              "      <td>No log</td>\n",
              "      <td>0.630872</td>\n",
              "      <td>0.785235</td>\n",
              "      <td>0.848993</td>\n",
              "      <td>0.892617</td>\n",
              "      <td>0.630872</td>\n",
              "      <td>0.261745</td>\n",
              "      <td>0.169799</td>\n",
              "      <td>0.089262</td>\n",
              "      <td>0.630872</td>\n",
              "      <td>0.785235</td>\n",
              "      <td>0.848993</td>\n",
              "      <td>0.892617</td>\n",
              "      <td>0.761787</td>\n",
              "      <td>0.719672</td>\n",
              "      <td>0.724533</td>\n",
              "    </tr>\n",
              "    <tr>\n",
              "      <td>180</td>\n",
              "      <td>No log</td>\n",
              "      <td>No log</td>\n",
              "      <td>0.627517</td>\n",
              "      <td>0.791946</td>\n",
              "      <td>0.845638</td>\n",
              "      <td>0.899329</td>\n",
              "      <td>0.627517</td>\n",
              "      <td>0.263982</td>\n",
              "      <td>0.169128</td>\n",
              "      <td>0.089933</td>\n",
              "      <td>0.627517</td>\n",
              "      <td>0.791946</td>\n",
              "      <td>0.845638</td>\n",
              "      <td>0.899329</td>\n",
              "      <td>0.762379</td>\n",
              "      <td>0.718490</td>\n",
              "      <td>0.723044</td>\n",
              "    </tr>\n",
              "    <tr>\n",
              "      <td>200</td>\n",
              "      <td>No log</td>\n",
              "      <td>No log</td>\n",
              "      <td>0.630872</td>\n",
              "      <td>0.791946</td>\n",
              "      <td>0.845638</td>\n",
              "      <td>0.906040</td>\n",
              "      <td>0.630872</td>\n",
              "      <td>0.263982</td>\n",
              "      <td>0.169128</td>\n",
              "      <td>0.090604</td>\n",
              "      <td>0.630872</td>\n",
              "      <td>0.791946</td>\n",
              "      <td>0.845638</td>\n",
              "      <td>0.906040</td>\n",
              "      <td>0.767590</td>\n",
              "      <td>0.723505</td>\n",
              "      <td>0.727488</td>\n",
              "    </tr>\n",
              "    <tr>\n",
              "      <td>240</td>\n",
              "      <td>No log</td>\n",
              "      <td>No log</td>\n",
              "      <td>0.651007</td>\n",
              "      <td>0.788591</td>\n",
              "      <td>0.838926</td>\n",
              "      <td>0.895973</td>\n",
              "      <td>0.651007</td>\n",
              "      <td>0.262864</td>\n",
              "      <td>0.167785</td>\n",
              "      <td>0.089597</td>\n",
              "      <td>0.651007</td>\n",
              "      <td>0.788591</td>\n",
              "      <td>0.838926</td>\n",
              "      <td>0.895973</td>\n",
              "      <td>0.770072</td>\n",
              "      <td>0.729936</td>\n",
              "      <td>0.734745</td>\n",
              "    </tr>\n",
              "    <tr>\n",
              "      <td>250</td>\n",
              "      <td>No log</td>\n",
              "      <td>No log</td>\n",
              "      <td>0.640940</td>\n",
              "      <td>0.798658</td>\n",
              "      <td>0.845638</td>\n",
              "      <td>0.899329</td>\n",
              "      <td>0.640940</td>\n",
              "      <td>0.266219</td>\n",
              "      <td>0.169128</td>\n",
              "      <td>0.089933</td>\n",
              "      <td>0.640940</td>\n",
              "      <td>0.798658</td>\n",
              "      <td>0.845638</td>\n",
              "      <td>0.899329</td>\n",
              "      <td>0.769081</td>\n",
              "      <td>0.727354</td>\n",
              "      <td>0.731877</td>\n",
              "    </tr>\n",
              "    <tr>\n",
              "      <td>300</td>\n",
              "      <td>No log</td>\n",
              "      <td>No log</td>\n",
              "      <td>0.644295</td>\n",
              "      <td>0.795302</td>\n",
              "      <td>0.842282</td>\n",
              "      <td>0.899329</td>\n",
              "      <td>0.644295</td>\n",
              "      <td>0.265101</td>\n",
              "      <td>0.168456</td>\n",
              "      <td>0.089933</td>\n",
              "      <td>0.644295</td>\n",
              "      <td>0.795302</td>\n",
              "      <td>0.842282</td>\n",
              "      <td>0.899329</td>\n",
              "      <td>0.769558</td>\n",
              "      <td>0.728181</td>\n",
              "      <td>0.732656</td>\n",
              "    </tr>\n",
              "    <tr>\n",
              "      <td>350</td>\n",
              "      <td>No log</td>\n",
              "      <td>No log</td>\n",
              "      <td>0.630872</td>\n",
              "      <td>0.791946</td>\n",
              "      <td>0.838926</td>\n",
              "      <td>0.899329</td>\n",
              "      <td>0.630872</td>\n",
              "      <td>0.263982</td>\n",
              "      <td>0.167785</td>\n",
              "      <td>0.089933</td>\n",
              "      <td>0.630872</td>\n",
              "      <td>0.791946</td>\n",
              "      <td>0.838926</td>\n",
              "      <td>0.899329</td>\n",
              "      <td>0.763745</td>\n",
              "      <td>0.720456</td>\n",
              "      <td>0.724760</td>\n",
              "    </tr>\n",
              "    <tr>\n",
              "      <td>360</td>\n",
              "      <td>No log</td>\n",
              "      <td>No log</td>\n",
              "      <td>0.620805</td>\n",
              "      <td>0.781879</td>\n",
              "      <td>0.832215</td>\n",
              "      <td>0.889262</td>\n",
              "      <td>0.620805</td>\n",
              "      <td>0.260626</td>\n",
              "      <td>0.166443</td>\n",
              "      <td>0.088926</td>\n",
              "      <td>0.620805</td>\n",
              "      <td>0.781879</td>\n",
              "      <td>0.832215</td>\n",
              "      <td>0.889262</td>\n",
              "      <td>0.756479</td>\n",
              "      <td>0.713810</td>\n",
              "      <td>0.718920</td>\n",
              "    </tr>\n",
              "    <tr>\n",
              "      <td>400</td>\n",
              "      <td>No log</td>\n",
              "      <td>No log</td>\n",
              "      <td>0.640940</td>\n",
              "      <td>0.791946</td>\n",
              "      <td>0.838926</td>\n",
              "      <td>0.892617</td>\n",
              "      <td>0.640940</td>\n",
              "      <td>0.263982</td>\n",
              "      <td>0.167785</td>\n",
              "      <td>0.089262</td>\n",
              "      <td>0.640940</td>\n",
              "      <td>0.791946</td>\n",
              "      <td>0.838926</td>\n",
              "      <td>0.892617</td>\n",
              "      <td>0.765663</td>\n",
              "      <td>0.724965</td>\n",
              "      <td>0.730027</td>\n",
              "    </tr>\n",
              "    <tr>\n",
              "      <td>420</td>\n",
              "      <td>No log</td>\n",
              "      <td>No log</td>\n",
              "      <td>0.620805</td>\n",
              "      <td>0.785235</td>\n",
              "      <td>0.832215</td>\n",
              "      <td>0.885906</td>\n",
              "      <td>0.620805</td>\n",
              "      <td>0.261745</td>\n",
              "      <td>0.166443</td>\n",
              "      <td>0.088591</td>\n",
              "      <td>0.620805</td>\n",
              "      <td>0.785235</td>\n",
              "      <td>0.832215</td>\n",
              "      <td>0.885906</td>\n",
              "      <td>0.753578</td>\n",
              "      <td>0.711080</td>\n",
              "      <td>0.716349</td>\n",
              "    </tr>\n",
              "    <tr>\n",
              "      <td>450</td>\n",
              "      <td>No log</td>\n",
              "      <td>No log</td>\n",
              "      <td>0.627517</td>\n",
              "      <td>0.791946</td>\n",
              "      <td>0.835570</td>\n",
              "      <td>0.885906</td>\n",
              "      <td>0.627517</td>\n",
              "      <td>0.263982</td>\n",
              "      <td>0.167114</td>\n",
              "      <td>0.088591</td>\n",
              "      <td>0.627517</td>\n",
              "      <td>0.791946</td>\n",
              "      <td>0.835570</td>\n",
              "      <td>0.885906</td>\n",
              "      <td>0.757831</td>\n",
              "      <td>0.716577</td>\n",
              "      <td>0.721919</td>\n",
              "    </tr>\n",
              "    <tr>\n",
              "      <td>480</td>\n",
              "      <td>No log</td>\n",
              "      <td>No log</td>\n",
              "      <td>0.617450</td>\n",
              "      <td>0.788591</td>\n",
              "      <td>0.842282</td>\n",
              "      <td>0.889262</td>\n",
              "      <td>0.617450</td>\n",
              "      <td>0.262864</td>\n",
              "      <td>0.168456</td>\n",
              "      <td>0.088926</td>\n",
              "      <td>0.617450</td>\n",
              "      <td>0.788591</td>\n",
              "      <td>0.842282</td>\n",
              "      <td>0.889262</td>\n",
              "      <td>0.755261</td>\n",
              "      <td>0.712045</td>\n",
              "      <td>0.717231</td>\n",
              "    </tr>\n",
              "    <tr>\n",
              "      <td>500</td>\n",
              "      <td>0.233800</td>\n",
              "      <td>No log</td>\n",
              "      <td>0.624161</td>\n",
              "      <td>0.791946</td>\n",
              "      <td>0.842282</td>\n",
              "      <td>0.889262</td>\n",
              "      <td>0.624161</td>\n",
              "      <td>0.263982</td>\n",
              "      <td>0.168456</td>\n",
              "      <td>0.088926</td>\n",
              "      <td>0.624161</td>\n",
              "      <td>0.791946</td>\n",
              "      <td>0.842282</td>\n",
              "      <td>0.889262</td>\n",
              "      <td>0.758974</td>\n",
              "      <td>0.716925</td>\n",
              "      <td>0.721992</td>\n",
              "    </tr>\n",
              "    <tr>\n",
              "      <td>540</td>\n",
              "      <td>0.233800</td>\n",
              "      <td>No log</td>\n",
              "      <td>0.620805</td>\n",
              "      <td>0.788591</td>\n",
              "      <td>0.838926</td>\n",
              "      <td>0.889262</td>\n",
              "      <td>0.620805</td>\n",
              "      <td>0.262864</td>\n",
              "      <td>0.167785</td>\n",
              "      <td>0.088926</td>\n",
              "      <td>0.620805</td>\n",
              "      <td>0.788591</td>\n",
              "      <td>0.838926</td>\n",
              "      <td>0.889262</td>\n",
              "      <td>0.756129</td>\n",
              "      <td>0.713323</td>\n",
              "      <td>0.718242</td>\n",
              "    </tr>\n",
              "    <tr>\n",
              "      <td>550</td>\n",
              "      <td>0.233800</td>\n",
              "      <td>No log</td>\n",
              "      <td>0.620805</td>\n",
              "      <td>0.788591</td>\n",
              "      <td>0.838926</td>\n",
              "      <td>0.889262</td>\n",
              "      <td>0.620805</td>\n",
              "      <td>0.262864</td>\n",
              "      <td>0.167785</td>\n",
              "      <td>0.088926</td>\n",
              "      <td>0.620805</td>\n",
              "      <td>0.788591</td>\n",
              "      <td>0.838926</td>\n",
              "      <td>0.889262</td>\n",
              "      <td>0.756528</td>\n",
              "      <td>0.713845</td>\n",
              "      <td>0.718784</td>\n",
              "    </tr>\n",
              "    <tr>\n",
              "      <td>600</td>\n",
              "      <td>0.233800</td>\n",
              "      <td>No log</td>\n",
              "      <td>0.624161</td>\n",
              "      <td>0.788591</td>\n",
              "      <td>0.838926</td>\n",
              "      <td>0.885906</td>\n",
              "      <td>0.624161</td>\n",
              "      <td>0.262864</td>\n",
              "      <td>0.167785</td>\n",
              "      <td>0.088591</td>\n",
              "      <td>0.624161</td>\n",
              "      <td>0.788591</td>\n",
              "      <td>0.838926</td>\n",
              "      <td>0.885906</td>\n",
              "      <td>0.756992</td>\n",
              "      <td>0.715402</td>\n",
              "      <td>0.720688</td>\n",
              "    </tr>\n",
              "  </tbody>\n",
              "</table><p>"
            ]
          },
          "metadata": {}
        },
        {
          "output_type": "display_data",
          "data": {
            "text/plain": [
              "Computing widget examples:   0%|          | 0/1 [00:00<?, ?example/s]"
            ],
            "application/vnd.jupyter.widget-view+json": {
              "version_major": 2,
              "version_minor": 0,
              "model_id": "eb7c94623ef1491a9ef7b49e64807723"
            }
          },
          "metadata": {}
        }
      ]
    },
    {
      "cell_type": "markdown",
      "source": [
        "### Task 2: Evaluating our Embeddings Models\n",
        "\n",
        "Now that we've fine-tuned our embedding model on our data - lets see how it performs compared to the base embeddings!"
      ],
      "metadata": {
        "id": "pqfp0F8lMeal"
      }
    },
    {
      "cell_type": "code",
      "source": [
        "import json\n",
        "from tqdm.notebook import tqdm\n",
        "import pandas as pd"
      ],
      "metadata": {
        "id": "OTtogOHpAUnA"
      },
      "execution_count": 40,
      "outputs": []
    },
    {
      "cell_type": "code",
      "source": [
        "TRAIN_DATASET_FPATH = './DataRepository/embedding_data/train_dataset.json'\n",
        "EVAL_DATASET_FPATH = './DataRepository/embedding_data/eval_dataset.json'"
      ],
      "metadata": {
        "id": "phzSwbIWAVPB"
      },
      "execution_count": 41,
      "outputs": []
    },
    {
      "cell_type": "code",
      "source": [
        "with open(TRAIN_DATASET_FPATH, 'r+') as f:\n",
        "    train_dataset = json.load(f)\n",
        "\n",
        "with open(EVAL_DATASET_FPATH, 'r+') as f:\n",
        "    eval_dataset = json.load(f)"
      ],
      "metadata": {
        "id": "SNygAxVNAYdT"
      },
      "execution_count": 42,
      "outputs": []
    },
    {
      "cell_type": "markdown",
      "source": [
        "We're going to be using the `InformationRetrievalEvaluator` to help us determine how well our embedding model is performing on a widely used task: Information Retrieval!\n",
        "\n",
        "You can dive deeper into the documentation [here](https://sbert.net/docs/package_reference/sentence_transformer/evaluation.html#informationretrievalevaluator) to see under the hood.\n",
        "\n",
        "You'll notice, however, that we have common suffixes for our evaluation metrics:\n",
        "\n",
        "- `X_accuracy@1`, `X_accuracy@3`, etc.\n",
        "\n",
        "This is computing metrics by looking at the accuracy, recall, precision, Mean Reciprocal Rank (MRR), Normalized Discounted Cumulative Gain (NDGC), and Mean-Average Precision (MAP) at various numbers of retrieved items.\n",
        "\n",
        "That is to say:\n",
        "\n",
        "We look at these scores as we include the first closest document, top three closest documents, etc.\n",
        "\n",
        "We can think of these `@k` as \"top k` metrics.\n",
        "\n",
        "These will help us guide important hyper-parameters when using these models for Information Retrieval tasks down the road!"
      ],
      "metadata": {
        "id": "mvbEUNfPMrRu"
      }
    },
    {
      "cell_type": "code",
      "source": [
        "from sentence_transformers.evaluation import InformationRetrievalEvaluator\n",
        "from sentence_transformers import SentenceTransformer\n",
        "\n",
        "def evaluate_st(\n",
        "    dataset,\n",
        "    model_id,\n",
        "    name,\n",
        "):\n",
        "    # Extract components from dataset\n",
        "    corpus = dataset['corpus']\n",
        "    queries = dataset['queries']\n",
        "    relevant_docs = dataset['relevant_docs']\n",
        "\n",
        "    # Create evaluator with all necessary components\n",
        "    evaluator = InformationRetrievalEvaluator(queries, corpus, relevant_docs, name=name)\n",
        "\n",
        "    # Load the model and run evaluation\n",
        "    model = SentenceTransformer(model_id)\n",
        "\n",
        "    return evaluator(model, output_path=\"/content/\")"
      ],
      "metadata": {
        "id": "ZU3Rt8c5AcTH"
      },
      "execution_count": 43,
      "outputs": []
    },
    {
      "cell_type": "markdown",
      "source": [
        "#####🏗️ Activity #2:\n",
        "\n",
        "Describe what the `evaluate` function is doing in the above cell in natural language.\n",
        "\n",
        "#### ANSWER\n",
        "- It takes three inputs dataset containing documents and queries, model ID to test, name for this evaluation run\n",
        "- Extract components from dataset - corpus (collection of documents), queries (questions or search terms) and relevant_docs (a mapping showing which documents should match which queries)\n",
        "- It creates an evaluator that will test the model by taking each query\n",
        " and having the model find similar documents and checking if the documents the model thought were similar match the ones i.e from relevant docs\n",
        "-  It loads up the specified model and runs this evaluation\n",
        "- It saves the results to the /content/ directory and returns them\n"
      ],
      "metadata": {
        "id": "oCmlLxW1ugI0"
      }
    },
    {
      "cell_type": "markdown",
      "source": [
        "#### Base Embeddings Model Results"
      ],
      "metadata": {
        "id": "uKBjZ40dNtxA"
      }
    },
    {
      "cell_type": "code",
      "source": [
        "evaluate_st(eval_dataset, \"BAAI/bge-small-en\", name='bge')"
      ],
      "metadata": {
        "id": "c3_dVwuhAmJR",
        "colab": {
          "base_uri": "https://localhost:8080/"
        },
        "outputId": "c5c64590-0cb5-42f3-e81f-e18fbbf8eed4"
      },
      "execution_count": 44,
      "outputs": [
        {
          "output_type": "execute_result",
          "data": {
            "text/plain": [
              "{'bge_cosine_accuracy@1': 0.5067114093959731,\n",
              " 'bge_cosine_accuracy@3': 0.714765100671141,\n",
              " 'bge_cosine_accuracy@5': 0.7818791946308725,\n",
              " 'bge_cosine_accuracy@10': 0.8288590604026845,\n",
              " 'bge_cosine_precision@1': 0.5067114093959731,\n",
              " 'bge_cosine_precision@3': 0.23825503355704697,\n",
              " 'bge_cosine_precision@5': 0.1563758389261745,\n",
              " 'bge_cosine_precision@10': 0.08288590604026844,\n",
              " 'bge_cosine_recall@1': 0.5067114093959731,\n",
              " 'bge_cosine_recall@3': 0.714765100671141,\n",
              " 'bge_cosine_recall@5': 0.7818791946308725,\n",
              " 'bge_cosine_recall@10': 0.8288590604026845,\n",
              " 'bge_cosine_ndcg@10': 0.6710313851865369,\n",
              " 'bge_cosine_mrr@10': 0.619814637264302,\n",
              " 'bge_cosine_map@100': 0.6279603491960256}"
            ]
          },
          "metadata": {},
          "execution_count": 44
        }
      ]
    },
    {
      "cell_type": "markdown",
      "source": [
        "#### Fine-tuned Results"
      ],
      "metadata": {
        "id": "nFQ6yFlmN9mc"
      }
    },
    {
      "cell_type": "code",
      "source": [
        "evaluate_st(eval_dataset, \"exp_finetune\", name='finetuned')"
      ],
      "metadata": {
        "id": "9Ddpn0ErAquN",
        "colab": {
          "base_uri": "https://localhost:8080/"
        },
        "outputId": "c058e11f-2852-4889-92ef-25455e9d3ad6"
      },
      "execution_count": 45,
      "outputs": [
        {
          "output_type": "execute_result",
          "data": {
            "text/plain": [
              "{'finetuned_cosine_accuracy@1': 0.6442953020134228,\n",
              " 'finetuned_cosine_accuracy@3': 0.7885906040268457,\n",
              " 'finetuned_cosine_accuracy@5': 0.8389261744966443,\n",
              " 'finetuned_cosine_accuracy@10': 0.9060402684563759,\n",
              " 'finetuned_cosine_precision@1': 0.6442953020134228,\n",
              " 'finetuned_cosine_precision@3': 0.2628635346756152,\n",
              " 'finetuned_cosine_precision@5': 0.16778523489932884,\n",
              " 'finetuned_cosine_precision@10': 0.09060402684563756,\n",
              " 'finetuned_cosine_recall@1': 0.6442953020134228,\n",
              " 'finetuned_cosine_recall@3': 0.7885906040268457,\n",
              " 'finetuned_cosine_recall@5': 0.8389261744966443,\n",
              " 'finetuned_cosine_recall@10': 0.9060402684563759,\n",
              " 'finetuned_cosine_ndcg@10': 0.7717683446959837,\n",
              " 'finetuned_cosine_mrr@10': 0.7291440289762436,\n",
              " 'finetuned_cosine_map@100': 0.7334005887765855}"
            ]
          },
          "metadata": {},
          "execution_count": 45
        }
      ]
    },
    {
      "cell_type": "markdown",
      "source": [
        "### Conclusion\n",
        "\n",
        "Now we can compare the embeddings models to see which performed the best!"
      ],
      "metadata": {
        "id": "o1nWWOohN_e5"
      }
    },
    {
      "cell_type": "code",
      "source": [
        "df_st_bge = pd.read_csv('/content/Information-Retrieval_evaluation_bge_results.csv')\n",
        "df_st_finetuned = pd.read_csv('/content/Information-Retrieval_evaluation_finetuned_results.csv')"
      ],
      "metadata": {
        "id": "Yse1ckCdAuLp"
      },
      "execution_count": 46,
      "outputs": []
    },
    {
      "cell_type": "code",
      "source": [
        "df_st_bge['model'] = 'bge'\n",
        "df_st_finetuned['model'] = 'fine_tuned'\n",
        "df_st_all = pd.concat([df_st_bge, df_st_finetuned])\n",
        "df_st_all = df_st_all.set_index('model')\n",
        "df_st_all"
      ],
      "metadata": {
        "id": "qOV9YTDnA4d2",
        "colab": {
          "base_uri": "https://localhost:8080/",
          "height": 161
        },
        "outputId": "9177c8e1-bb7e-42ba-946f-9682b6a06ba6"
      },
      "execution_count": 47,
      "outputs": [
        {
          "output_type": "execute_result",
          "data": {
            "text/plain": [
              "            epoch  steps  cosine-Accuracy@1  cosine-Accuracy@3  \\\n",
              "model                                                            \n",
              "bge            -1     -1           0.506711           0.714765   \n",
              "fine_tuned     -1     -1           0.644295           0.788591   \n",
              "\n",
              "            cosine-Accuracy@5  cosine-Accuracy@10  cosine-Precision@1  \\\n",
              "model                                                                   \n",
              "bge                  0.781879            0.828859            0.506711   \n",
              "fine_tuned           0.838926            0.906040            0.644295   \n",
              "\n",
              "            cosine-Recall@1  cosine-Precision@3  cosine-Recall@3  \\\n",
              "model                                                              \n",
              "bge                0.506711            0.238255         0.714765   \n",
              "fine_tuned         0.644295            0.262864         0.788591   \n",
              "\n",
              "            cosine-Precision@5  cosine-Recall@5  cosine-Precision@10  \\\n",
              "model                                                                  \n",
              "bge                   0.156376         0.781879             0.082886   \n",
              "fine_tuned            0.167785         0.838926             0.090604   \n",
              "\n",
              "            cosine-Recall@10  cosine-MRR@10  cosine-NDCG@10  cosine-MAP@100  \n",
              "model                                                                        \n",
              "bge                 0.828859       0.619815        0.671031        0.627960  \n",
              "fine_tuned          0.906040       0.729144        0.771768        0.733401  "
            ],
            "text/html": [
              "\n",
              "  <div id=\"df-9806fa0d-da60-4f4f-af36-e3edddb445d6\" class=\"colab-df-container\">\n",
              "    <div>\n",
              "<style scoped>\n",
              "    .dataframe tbody tr th:only-of-type {\n",
              "        vertical-align: middle;\n",
              "    }\n",
              "\n",
              "    .dataframe tbody tr th {\n",
              "        vertical-align: top;\n",
              "    }\n",
              "\n",
              "    .dataframe thead th {\n",
              "        text-align: right;\n",
              "    }\n",
              "</style>\n",
              "<table border=\"1\" class=\"dataframe\">\n",
              "  <thead>\n",
              "    <tr style=\"text-align: right;\">\n",
              "      <th></th>\n",
              "      <th>epoch</th>\n",
              "      <th>steps</th>\n",
              "      <th>cosine-Accuracy@1</th>\n",
              "      <th>cosine-Accuracy@3</th>\n",
              "      <th>cosine-Accuracy@5</th>\n",
              "      <th>cosine-Accuracy@10</th>\n",
              "      <th>cosine-Precision@1</th>\n",
              "      <th>cosine-Recall@1</th>\n",
              "      <th>cosine-Precision@3</th>\n",
              "      <th>cosine-Recall@3</th>\n",
              "      <th>cosine-Precision@5</th>\n",
              "      <th>cosine-Recall@5</th>\n",
              "      <th>cosine-Precision@10</th>\n",
              "      <th>cosine-Recall@10</th>\n",
              "      <th>cosine-MRR@10</th>\n",
              "      <th>cosine-NDCG@10</th>\n",
              "      <th>cosine-MAP@100</th>\n",
              "    </tr>\n",
              "    <tr>\n",
              "      <th>model</th>\n",
              "      <th></th>\n",
              "      <th></th>\n",
              "      <th></th>\n",
              "      <th></th>\n",
              "      <th></th>\n",
              "      <th></th>\n",
              "      <th></th>\n",
              "      <th></th>\n",
              "      <th></th>\n",
              "      <th></th>\n",
              "      <th></th>\n",
              "      <th></th>\n",
              "      <th></th>\n",
              "      <th></th>\n",
              "      <th></th>\n",
              "      <th></th>\n",
              "      <th></th>\n",
              "    </tr>\n",
              "  </thead>\n",
              "  <tbody>\n",
              "    <tr>\n",
              "      <th>bge</th>\n",
              "      <td>-1</td>\n",
              "      <td>-1</td>\n",
              "      <td>0.506711</td>\n",
              "      <td>0.714765</td>\n",
              "      <td>0.781879</td>\n",
              "      <td>0.828859</td>\n",
              "      <td>0.506711</td>\n",
              "      <td>0.506711</td>\n",
              "      <td>0.238255</td>\n",
              "      <td>0.714765</td>\n",
              "      <td>0.156376</td>\n",
              "      <td>0.781879</td>\n",
              "      <td>0.082886</td>\n",
              "      <td>0.828859</td>\n",
              "      <td>0.619815</td>\n",
              "      <td>0.671031</td>\n",
              "      <td>0.627960</td>\n",
              "    </tr>\n",
              "    <tr>\n",
              "      <th>fine_tuned</th>\n",
              "      <td>-1</td>\n",
              "      <td>-1</td>\n",
              "      <td>0.644295</td>\n",
              "      <td>0.788591</td>\n",
              "      <td>0.838926</td>\n",
              "      <td>0.906040</td>\n",
              "      <td>0.644295</td>\n",
              "      <td>0.644295</td>\n",
              "      <td>0.262864</td>\n",
              "      <td>0.788591</td>\n",
              "      <td>0.167785</td>\n",
              "      <td>0.838926</td>\n",
              "      <td>0.090604</td>\n",
              "      <td>0.906040</td>\n",
              "      <td>0.729144</td>\n",
              "      <td>0.771768</td>\n",
              "      <td>0.733401</td>\n",
              "    </tr>\n",
              "  </tbody>\n",
              "</table>\n",
              "</div>\n",
              "    <div class=\"colab-df-buttons\">\n",
              "\n",
              "  <div class=\"colab-df-container\">\n",
              "    <button class=\"colab-df-convert\" onclick=\"convertToInteractive('df-9806fa0d-da60-4f4f-af36-e3edddb445d6')\"\n",
              "            title=\"Convert this dataframe to an interactive table.\"\n",
              "            style=\"display:none;\">\n",
              "\n",
              "  <svg xmlns=\"http://www.w3.org/2000/svg\" height=\"24px\" viewBox=\"0 -960 960 960\">\n",
              "    <path d=\"M120-120v-720h720v720H120Zm60-500h600v-160H180v160Zm220 220h160v-160H400v160Zm0 220h160v-160H400v160ZM180-400h160v-160H180v160Zm440 0h160v-160H620v160ZM180-180h160v-160H180v160Zm440 0h160v-160H620v160Z\"/>\n",
              "  </svg>\n",
              "    </button>\n",
              "\n",
              "  <style>\n",
              "    .colab-df-container {\n",
              "      display:flex;\n",
              "      gap: 12px;\n",
              "    }\n",
              "\n",
              "    .colab-df-convert {\n",
              "      background-color: #E8F0FE;\n",
              "      border: none;\n",
              "      border-radius: 50%;\n",
              "      cursor: pointer;\n",
              "      display: none;\n",
              "      fill: #1967D2;\n",
              "      height: 32px;\n",
              "      padding: 0 0 0 0;\n",
              "      width: 32px;\n",
              "    }\n",
              "\n",
              "    .colab-df-convert:hover {\n",
              "      background-color: #E2EBFA;\n",
              "      box-shadow: 0px 1px 2px rgba(60, 64, 67, 0.3), 0px 1px 3px 1px rgba(60, 64, 67, 0.15);\n",
              "      fill: #174EA6;\n",
              "    }\n",
              "\n",
              "    .colab-df-buttons div {\n",
              "      margin-bottom: 4px;\n",
              "    }\n",
              "\n",
              "    [theme=dark] .colab-df-convert {\n",
              "      background-color: #3B4455;\n",
              "      fill: #D2E3FC;\n",
              "    }\n",
              "\n",
              "    [theme=dark] .colab-df-convert:hover {\n",
              "      background-color: #434B5C;\n",
              "      box-shadow: 0px 1px 3px 1px rgba(0, 0, 0, 0.15);\n",
              "      filter: drop-shadow(0px 1px 2px rgba(0, 0, 0, 0.3));\n",
              "      fill: #FFFFFF;\n",
              "    }\n",
              "  </style>\n",
              "\n",
              "    <script>\n",
              "      const buttonEl =\n",
              "        document.querySelector('#df-9806fa0d-da60-4f4f-af36-e3edddb445d6 button.colab-df-convert');\n",
              "      buttonEl.style.display =\n",
              "        google.colab.kernel.accessAllowed ? 'block' : 'none';\n",
              "\n",
              "      async function convertToInteractive(key) {\n",
              "        const element = document.querySelector('#df-9806fa0d-da60-4f4f-af36-e3edddb445d6');\n",
              "        const dataTable =\n",
              "          await google.colab.kernel.invokeFunction('convertToInteractive',\n",
              "                                                    [key], {});\n",
              "        if (!dataTable) return;\n",
              "\n",
              "        const docLinkHtml = 'Like what you see? Visit the ' +\n",
              "          '<a target=\"_blank\" href=https://colab.research.google.com/notebooks/data_table.ipynb>data table notebook</a>'\n",
              "          + ' to learn more about interactive tables.';\n",
              "        element.innerHTML = '';\n",
              "        dataTable['output_type'] = 'display_data';\n",
              "        await google.colab.output.renderOutput(dataTable, element);\n",
              "        const docLink = document.createElement('div');\n",
              "        docLink.innerHTML = docLinkHtml;\n",
              "        element.appendChild(docLink);\n",
              "      }\n",
              "    </script>\n",
              "  </div>\n",
              "\n",
              "\n",
              "<div id=\"df-df771e28-fa54-4102-bae3-2a2d7cca824b\">\n",
              "  <button class=\"colab-df-quickchart\" onclick=\"quickchart('df-df771e28-fa54-4102-bae3-2a2d7cca824b')\"\n",
              "            title=\"Suggest charts\"\n",
              "            style=\"display:none;\">\n",
              "\n",
              "<svg xmlns=\"http://www.w3.org/2000/svg\" height=\"24px\"viewBox=\"0 0 24 24\"\n",
              "     width=\"24px\">\n",
              "    <g>\n",
              "        <path d=\"M19 3H5c-1.1 0-2 .9-2 2v14c0 1.1.9 2 2 2h14c1.1 0 2-.9 2-2V5c0-1.1-.9-2-2-2zM9 17H7v-7h2v7zm4 0h-2V7h2v10zm4 0h-2v-4h2v4z\"/>\n",
              "    </g>\n",
              "</svg>\n",
              "  </button>\n",
              "\n",
              "<style>\n",
              "  .colab-df-quickchart {\n",
              "      --bg-color: #E8F0FE;\n",
              "      --fill-color: #1967D2;\n",
              "      --hover-bg-color: #E2EBFA;\n",
              "      --hover-fill-color: #174EA6;\n",
              "      --disabled-fill-color: #AAA;\n",
              "      --disabled-bg-color: #DDD;\n",
              "  }\n",
              "\n",
              "  [theme=dark] .colab-df-quickchart {\n",
              "      --bg-color: #3B4455;\n",
              "      --fill-color: #D2E3FC;\n",
              "      --hover-bg-color: #434B5C;\n",
              "      --hover-fill-color: #FFFFFF;\n",
              "      --disabled-bg-color: #3B4455;\n",
              "      --disabled-fill-color: #666;\n",
              "  }\n",
              "\n",
              "  .colab-df-quickchart {\n",
              "    background-color: var(--bg-color);\n",
              "    border: none;\n",
              "    border-radius: 50%;\n",
              "    cursor: pointer;\n",
              "    display: none;\n",
              "    fill: var(--fill-color);\n",
              "    height: 32px;\n",
              "    padding: 0;\n",
              "    width: 32px;\n",
              "  }\n",
              "\n",
              "  .colab-df-quickchart:hover {\n",
              "    background-color: var(--hover-bg-color);\n",
              "    box-shadow: 0 1px 2px rgba(60, 64, 67, 0.3), 0 1px 3px 1px rgba(60, 64, 67, 0.15);\n",
              "    fill: var(--button-hover-fill-color);\n",
              "  }\n",
              "\n",
              "  .colab-df-quickchart-complete:disabled,\n",
              "  .colab-df-quickchart-complete:disabled:hover {\n",
              "    background-color: var(--disabled-bg-color);\n",
              "    fill: var(--disabled-fill-color);\n",
              "    box-shadow: none;\n",
              "  }\n",
              "\n",
              "  .colab-df-spinner {\n",
              "    border: 2px solid var(--fill-color);\n",
              "    border-color: transparent;\n",
              "    border-bottom-color: var(--fill-color);\n",
              "    animation:\n",
              "      spin 1s steps(1) infinite;\n",
              "  }\n",
              "\n",
              "  @keyframes spin {\n",
              "    0% {\n",
              "      border-color: transparent;\n",
              "      border-bottom-color: var(--fill-color);\n",
              "      border-left-color: var(--fill-color);\n",
              "    }\n",
              "    20% {\n",
              "      border-color: transparent;\n",
              "      border-left-color: var(--fill-color);\n",
              "      border-top-color: var(--fill-color);\n",
              "    }\n",
              "    30% {\n",
              "      border-color: transparent;\n",
              "      border-left-color: var(--fill-color);\n",
              "      border-top-color: var(--fill-color);\n",
              "      border-right-color: var(--fill-color);\n",
              "    }\n",
              "    40% {\n",
              "      border-color: transparent;\n",
              "      border-right-color: var(--fill-color);\n",
              "      border-top-color: var(--fill-color);\n",
              "    }\n",
              "    60% {\n",
              "      border-color: transparent;\n",
              "      border-right-color: var(--fill-color);\n",
              "    }\n",
              "    80% {\n",
              "      border-color: transparent;\n",
              "      border-right-color: var(--fill-color);\n",
              "      border-bottom-color: var(--fill-color);\n",
              "    }\n",
              "    90% {\n",
              "      border-color: transparent;\n",
              "      border-bottom-color: var(--fill-color);\n",
              "    }\n",
              "  }\n",
              "</style>\n",
              "\n",
              "  <script>\n",
              "    async function quickchart(key) {\n",
              "      const quickchartButtonEl =\n",
              "        document.querySelector('#' + key + ' button');\n",
              "      quickchartButtonEl.disabled = true;  // To prevent multiple clicks.\n",
              "      quickchartButtonEl.classList.add('colab-df-spinner');\n",
              "      try {\n",
              "        const charts = await google.colab.kernel.invokeFunction(\n",
              "            'suggestCharts', [key], {});\n",
              "      } catch (error) {\n",
              "        console.error('Error during call to suggestCharts:', error);\n",
              "      }\n",
              "      quickchartButtonEl.classList.remove('colab-df-spinner');\n",
              "      quickchartButtonEl.classList.add('colab-df-quickchart-complete');\n",
              "    }\n",
              "    (() => {\n",
              "      let quickchartButtonEl =\n",
              "        document.querySelector('#df-df771e28-fa54-4102-bae3-2a2d7cca824b button');\n",
              "      quickchartButtonEl.style.display =\n",
              "        google.colab.kernel.accessAllowed ? 'block' : 'none';\n",
              "    })();\n",
              "  </script>\n",
              "</div>\n",
              "\n",
              "  <div id=\"id_828082f3-2c52-407c-b5bc-f3ee36664e01\">\n",
              "    <style>\n",
              "      .colab-df-generate {\n",
              "        background-color: #E8F0FE;\n",
              "        border: none;\n",
              "        border-radius: 50%;\n",
              "        cursor: pointer;\n",
              "        display: none;\n",
              "        fill: #1967D2;\n",
              "        height: 32px;\n",
              "        padding: 0 0 0 0;\n",
              "        width: 32px;\n",
              "      }\n",
              "\n",
              "      .colab-df-generate:hover {\n",
              "        background-color: #E2EBFA;\n",
              "        box-shadow: 0px 1px 2px rgba(60, 64, 67, 0.3), 0px 1px 3px 1px rgba(60, 64, 67, 0.15);\n",
              "        fill: #174EA6;\n",
              "      }\n",
              "\n",
              "      [theme=dark] .colab-df-generate {\n",
              "        background-color: #3B4455;\n",
              "        fill: #D2E3FC;\n",
              "      }\n",
              "\n",
              "      [theme=dark] .colab-df-generate:hover {\n",
              "        background-color: #434B5C;\n",
              "        box-shadow: 0px 1px 3px 1px rgba(0, 0, 0, 0.15);\n",
              "        filter: drop-shadow(0px 1px 2px rgba(0, 0, 0, 0.3));\n",
              "        fill: #FFFFFF;\n",
              "      }\n",
              "    </style>\n",
              "    <button class=\"colab-df-generate\" onclick=\"generateWithVariable('df_st_all')\"\n",
              "            title=\"Generate code using this dataframe.\"\n",
              "            style=\"display:none;\">\n",
              "\n",
              "  <svg xmlns=\"http://www.w3.org/2000/svg\" height=\"24px\"viewBox=\"0 0 24 24\"\n",
              "       width=\"24px\">\n",
              "    <path d=\"M7,19H8.4L18.45,9,17,7.55,7,17.6ZM5,21V16.75L18.45,3.32a2,2,0,0,1,2.83,0l1.4,1.43a1.91,1.91,0,0,1,.58,1.4,1.91,1.91,0,0,1-.58,1.4L9.25,21ZM18.45,9,17,7.55Zm-12,3A5.31,5.31,0,0,0,4.9,8.1,5.31,5.31,0,0,0,1,6.5,5.31,5.31,0,0,0,4.9,4.9,5.31,5.31,0,0,0,6.5,1,5.31,5.31,0,0,0,8.1,4.9,5.31,5.31,0,0,0,12,6.5,5.46,5.46,0,0,0,6.5,12Z\"/>\n",
              "  </svg>\n",
              "    </button>\n",
              "    <script>\n",
              "      (() => {\n",
              "      const buttonEl =\n",
              "        document.querySelector('#id_828082f3-2c52-407c-b5bc-f3ee36664e01 button.colab-df-generate');\n",
              "      buttonEl.style.display =\n",
              "        google.colab.kernel.accessAllowed ? 'block' : 'none';\n",
              "\n",
              "      buttonEl.onclick = () => {\n",
              "        google.colab.notebook.generateWithVariable('df_st_all');\n",
              "      }\n",
              "      })();\n",
              "    </script>\n",
              "  </div>\n",
              "\n",
              "    </div>\n",
              "  </div>\n"
            ],
            "application/vnd.google.colaboratory.intrinsic+json": {
              "type": "dataframe",
              "variable_name": "df_st_all",
              "summary": "{\n  \"name\": \"df_st_all\",\n  \"rows\": 2,\n  \"fields\": [\n    {\n      \"column\": \"model\",\n      \"properties\": {\n        \"dtype\": \"string\",\n        \"num_unique_values\": 2,\n        \"samples\": [\n          \"fine_tuned\",\n          \"bge\"\n        ],\n        \"semantic_type\": \"\",\n        \"description\": \"\"\n      }\n    },\n    {\n      \"column\": \"epoch\",\n      \"properties\": {\n        \"dtype\": \"number\",\n        \"std\": 0,\n        \"min\": -1,\n        \"max\": -1,\n        \"num_unique_values\": 1,\n        \"samples\": [\n          -1\n        ],\n        \"semantic_type\": \"\",\n        \"description\": \"\"\n      }\n    },\n    {\n      \"column\": \"steps\",\n      \"properties\": {\n        \"dtype\": \"number\",\n        \"std\": 0,\n        \"min\": -1,\n        \"max\": -1,\n        \"num_unique_values\": 1,\n        \"samples\": [\n          -1\n        ],\n        \"semantic_type\": \"\",\n        \"description\": \"\"\n      }\n    },\n    {\n      \"column\": \"cosine-Accuracy@1\",\n      \"properties\": {\n        \"dtype\": \"number\",\n        \"std\": 0.09728650345184041,\n        \"min\": 0.5067114093959731,\n        \"max\": 0.6442953020134228,\n        \"num_unique_values\": 2,\n        \"samples\": [\n          0.6442953020134228\n        ],\n        \"semantic_type\": \"\",\n        \"description\": \"\"\n      }\n    },\n    {\n      \"column\": \"cosine-Accuracy@3\",\n      \"properties\": {\n        \"dtype\": \"number\",\n        \"std\": 0.052202514047329014,\n        \"min\": 0.714765100671141,\n        \"max\": 0.7885906040268457,\n        \"num_unique_values\": 2,\n        \"samples\": [\n          0.7885906040268457\n        ],\n        \"semantic_type\": \"\",\n        \"description\": \"\"\n      }\n    },\n    {\n      \"column\": \"cosine-Accuracy@5\",\n      \"properties\": {\n        \"dtype\": \"number\",\n        \"std\": 0.040338306309299674,\n        \"min\": 0.7818791946308725,\n        \"max\": 0.8389261744966443,\n        \"num_unique_values\": 2,\n        \"samples\": [\n          0.8389261744966443\n        ],\n        \"semantic_type\": \"\",\n        \"description\": \"\"\n      }\n    },\n    {\n      \"column\": \"cosine-Accuracy@10\",\n      \"properties\": {\n        \"dtype\": \"number\",\n        \"std\": 0.054575355594934996,\n        \"min\": 0.8288590604026845,\n        \"max\": 0.906040268456376,\n        \"num_unique_values\": 2,\n        \"samples\": [\n          0.906040268456376\n        ],\n        \"semantic_type\": \"\",\n        \"description\": \"\"\n      }\n    },\n    {\n      \"column\": \"cosine-Precision@1\",\n      \"properties\": {\n        \"dtype\": \"number\",\n        \"std\": 0.09728650345184041,\n        \"min\": 0.5067114093959731,\n        \"max\": 0.6442953020134228,\n        \"num_unique_values\": 2,\n        \"samples\": [\n          0.6442953020134228\n        ],\n        \"semantic_type\": \"\",\n        \"description\": \"\"\n      }\n    },\n    {\n      \"column\": \"cosine-Recall@1\",\n      \"properties\": {\n        \"dtype\": \"number\",\n        \"std\": 0.09728650345184041,\n        \"min\": 0.5067114093959731,\n        \"max\": 0.6442953020134228,\n        \"num_unique_values\": 2,\n        \"samples\": [\n          0.6442953020134228\n        ],\n        \"semantic_type\": \"\",\n        \"description\": \"\"\n      }\n    },\n    {\n      \"column\": \"cosine-Precision@3\",\n      \"properties\": {\n        \"dtype\": \"number\",\n        \"std\": 0.017400838015776365,\n        \"min\": 0.2382550335570469,\n        \"max\": 0.2628635346756152,\n        \"num_unique_values\": 2,\n        \"samples\": [\n          0.2628635346756152\n        ],\n        \"semantic_type\": \"\",\n        \"description\": \"\"\n      }\n    },\n    {\n      \"column\": \"cosine-Recall@3\",\n      \"properties\": {\n        \"dtype\": \"number\",\n        \"std\": 0.052202514047329014,\n        \"min\": 0.714765100671141,\n        \"max\": 0.7885906040268457,\n        \"num_unique_values\": 2,\n        \"samples\": [\n          0.7885906040268457\n        ],\n        \"semantic_type\": \"\",\n        \"description\": \"\"\n      }\n    },\n    {\n      \"column\": \"cosine-Precision@5\",\n      \"properties\": {\n        \"dtype\": \"number\",\n        \"std\": 0.00806766126185991,\n        \"min\": 0.1563758389261745,\n        \"max\": 0.1677852348993288,\n        \"num_unique_values\": 2,\n        \"samples\": [\n          0.1677852348993288\n        ],\n        \"semantic_type\": \"\",\n        \"description\": \"\"\n      }\n    },\n    {\n      \"column\": \"cosine-Recall@5\",\n      \"properties\": {\n        \"dtype\": \"number\",\n        \"std\": 0.040338306309299674,\n        \"min\": 0.7818791946308725,\n        \"max\": 0.8389261744966443,\n        \"num_unique_values\": 2,\n        \"samples\": [\n          0.8389261744966443\n        ],\n        \"semantic_type\": \"\",\n        \"description\": \"\"\n      }\n    },\n    {\n      \"column\": \"cosine-Precision@10\",\n      \"properties\": {\n        \"dtype\": \"number\",\n        \"std\": 0.0054575355594934675,\n        \"min\": 0.0828859060402684,\n        \"max\": 0.0906040268456375,\n        \"num_unique_values\": 2,\n        \"samples\": [\n          0.0906040268456375\n        ],\n        \"semantic_type\": \"\",\n        \"description\": \"\"\n      }\n    },\n    {\n      \"column\": \"cosine-Recall@10\",\n      \"properties\": {\n        \"dtype\": \"number\",\n        \"std\": 0.054575355594934996,\n        \"min\": 0.8288590604026845,\n        \"max\": 0.906040268456376,\n        \"num_unique_values\": 2,\n        \"samples\": [\n          0.906040268456376\n        ],\n        \"semantic_type\": \"\",\n        \"description\": \"\"\n      }\n    },\n    {\n      \"column\": \"cosine-MRR@10\",\n      \"properties\": {\n        \"dtype\": \"number\",\n        \"std\": 0.07730755426251427,\n        \"min\": 0.619814637264302,\n        \"max\": 0.7291440289762436,\n        \"num_unique_values\": 2,\n        \"samples\": [\n          0.7291440289762436\n        ],\n        \"semantic_type\": \"\",\n        \"description\": \"\"\n      }\n    },\n    {\n      \"column\": \"cosine-NDCG@10\",\n      \"properties\": {\n        \"dtype\": \"number\",\n        \"std\": 0.07123178718524444,\n        \"min\": 0.6710313851865369,\n        \"max\": 0.7717683446959837,\n        \"num_unique_values\": 2,\n        \"samples\": [\n          0.7717683446959837\n        ],\n        \"semantic_type\": \"\",\n        \"description\": \"\"\n      }\n    },\n    {\n      \"column\": \"cosine-MAP@100\",\n      \"properties\": {\n        \"dtype\": \"number\",\n        \"std\": 0.07455750841734814,\n        \"min\": 0.6279603491960256,\n        \"max\": 0.7334005887765855,\n        \"num_unique_values\": 2,\n        \"samples\": [\n          0.7334005887765855\n        ],\n        \"semantic_type\": \"\",\n        \"description\": \"\"\n      }\n    }\n  ]\n}"
            }
          },
          "metadata": {},
          "execution_count": 47
        }
      ]
    },
    {
      "cell_type": "markdown",
      "source": [
        "##### 👪❓Discussion Question #2:\n",
        "\n",
        "We looked at the evaluation results between the base BAAI/bge-small-en model and the fine-tuned version, following are some findings:\n",
        "\n",
        "- Fine-tuned model outperforms the base model on every metric\n",
        "- Accuracy@1 improved from 50.7% to 64.4% (significant ~14% improvement)\n",
        "- Accuracy@10 improved from 82.9% to 90.6% (~8% improvement)\n",
        "- Both precision and recall improved across all k values\n",
        "- Improvements are more pronounced at lower k values which means the fine-tuned model is better at putting the most relevant documents first\n",
        "- Ranking Quality\n",
        "   - MRR@10 improved from 0.619 to 0.729\n",
        "   - NDCG@10 improved from 0.671 to 0.772\n",
        "   - MAP@100 improved from 0.628 to 0.733\n",
        "\n",
        "This indicates improvement in overall ranking quality   "
      ],
      "metadata": {
        "id": "Cb4Mpdq_eQbV"
      }
    }
  ]
}