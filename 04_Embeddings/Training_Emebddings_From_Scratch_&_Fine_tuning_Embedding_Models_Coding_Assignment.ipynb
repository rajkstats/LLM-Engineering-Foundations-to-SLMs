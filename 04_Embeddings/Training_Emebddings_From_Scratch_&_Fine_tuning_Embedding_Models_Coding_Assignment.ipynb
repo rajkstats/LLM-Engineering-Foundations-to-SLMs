{
  "nbformat": 4,
  "nbformat_minor": 0,
  "metadata": {
    "colab": {
      "provenance": [],
      "machine_shape": "hm",
      "gpuType": "L4",
      "toc_visible": true
    },
    "kernelspec": {
      "name": "python3",
      "display_name": "Python 3"
    },
    "language_info": {
      "name": "python"
    },
    "accelerator": "GPU",
    "widgets": {
      "application/vnd.jupyter.widget-state+json": {
        "c3734982ec91441daf40566cbac1f8ba": {
          "model_module": "@jupyter-widgets/controls",
          "model_name": "HBoxModel",
          "model_module_version": "1.5.0",
          "state": {
            "_dom_classes": [],
            "_model_module": "@jupyter-widgets/controls",
            "_model_module_version": "1.5.0",
            "_model_name": "HBoxModel",
            "_view_count": null,
            "_view_module": "@jupyter-widgets/controls",
            "_view_module_version": "1.5.0",
            "_view_name": "HBoxView",
            "box_style": "",
            "children": [
              "IPY_MODEL_f214514a2b1247c0a790b1d8dd050a7a",
              "IPY_MODEL_b55e6f3844a14f4e9de8b7df5ade7d8d",
              "IPY_MODEL_edc3d3da5cce434688864aac0ccec033"
            ],
            "layout": "IPY_MODEL_c5ae5bf454604cb18e476ae2d4a79399"
          }
        },
        "f214514a2b1247c0a790b1d8dd050a7a": {
          "model_module": "@jupyter-widgets/controls",
          "model_name": "HTMLModel",
          "model_module_version": "1.5.0",
          "state": {
            "_dom_classes": [],
            "_model_module": "@jupyter-widgets/controls",
            "_model_module_version": "1.5.0",
            "_model_name": "HTMLModel",
            "_view_count": null,
            "_view_module": "@jupyter-widgets/controls",
            "_view_module_version": "1.5.0",
            "_view_name": "HTMLView",
            "description": "",
            "description_tooltip": null,
            "layout": "IPY_MODEL_12893e8f637e4f37b77586dafb6d20dc",
            "placeholder": "​",
            "style": "IPY_MODEL_6324f0b7bf944882b89fd00215eba4e7",
            "value": "modules.json: 100%"
          }
        },
        "b55e6f3844a14f4e9de8b7df5ade7d8d": {
          "model_module": "@jupyter-widgets/controls",
          "model_name": "FloatProgressModel",
          "model_module_version": "1.5.0",
          "state": {
            "_dom_classes": [],
            "_model_module": "@jupyter-widgets/controls",
            "_model_module_version": "1.5.0",
            "_model_name": "FloatProgressModel",
            "_view_count": null,
            "_view_module": "@jupyter-widgets/controls",
            "_view_module_version": "1.5.0",
            "_view_name": "ProgressView",
            "bar_style": "success",
            "description": "",
            "description_tooltip": null,
            "layout": "IPY_MODEL_005e4f46c76c4beb8c5b469176ef1027",
            "max": 349,
            "min": 0,
            "orientation": "horizontal",
            "style": "IPY_MODEL_65612c3022da46e1ac2a39fc2e16a0ce",
            "value": 349
          }
        },
        "edc3d3da5cce434688864aac0ccec033": {
          "model_module": "@jupyter-widgets/controls",
          "model_name": "HTMLModel",
          "model_module_version": "1.5.0",
          "state": {
            "_dom_classes": [],
            "_model_module": "@jupyter-widgets/controls",
            "_model_module_version": "1.5.0",
            "_model_name": "HTMLModel",
            "_view_count": null,
            "_view_module": "@jupyter-widgets/controls",
            "_view_module_version": "1.5.0",
            "_view_name": "HTMLView",
            "description": "",
            "description_tooltip": null,
            "layout": "IPY_MODEL_109c4a2831e64330a7efa538a1e0b0bb",
            "placeholder": "​",
            "style": "IPY_MODEL_e988ddb1a61e40ce81eed445b8c4a9f8",
            "value": " 349/349 [00:00&lt;00:00, 21.9kB/s]"
          }
        },
        "c5ae5bf454604cb18e476ae2d4a79399": {
          "model_module": "@jupyter-widgets/base",
          "model_name": "LayoutModel",
          "model_module_version": "1.2.0",
          "state": {
            "_model_module": "@jupyter-widgets/base",
            "_model_module_version": "1.2.0",
            "_model_name": "LayoutModel",
            "_view_count": null,
            "_view_module": "@jupyter-widgets/base",
            "_view_module_version": "1.2.0",
            "_view_name": "LayoutView",
            "align_content": null,
            "align_items": null,
            "align_self": null,
            "border": null,
            "bottom": null,
            "display": null,
            "flex": null,
            "flex_flow": null,
            "grid_area": null,
            "grid_auto_columns": null,
            "grid_auto_flow": null,
            "grid_auto_rows": null,
            "grid_column": null,
            "grid_gap": null,
            "grid_row": null,
            "grid_template_areas": null,
            "grid_template_columns": null,
            "grid_template_rows": null,
            "height": null,
            "justify_content": null,
            "justify_items": null,
            "left": null,
            "margin": null,
            "max_height": null,
            "max_width": null,
            "min_height": null,
            "min_width": null,
            "object_fit": null,
            "object_position": null,
            "order": null,
            "overflow": null,
            "overflow_x": null,
            "overflow_y": null,
            "padding": null,
            "right": null,
            "top": null,
            "visibility": null,
            "width": null
          }
        },
        "12893e8f637e4f37b77586dafb6d20dc": {
          "model_module": "@jupyter-widgets/base",
          "model_name": "LayoutModel",
          "model_module_version": "1.2.0",
          "state": {
            "_model_module": "@jupyter-widgets/base",
            "_model_module_version": "1.2.0",
            "_model_name": "LayoutModel",
            "_view_count": null,
            "_view_module": "@jupyter-widgets/base",
            "_view_module_version": "1.2.0",
            "_view_name": "LayoutView",
            "align_content": null,
            "align_items": null,
            "align_self": null,
            "border": null,
            "bottom": null,
            "display": null,
            "flex": null,
            "flex_flow": null,
            "grid_area": null,
            "grid_auto_columns": null,
            "grid_auto_flow": null,
            "grid_auto_rows": null,
            "grid_column": null,
            "grid_gap": null,
            "grid_row": null,
            "grid_template_areas": null,
            "grid_template_columns": null,
            "grid_template_rows": null,
            "height": null,
            "justify_content": null,
            "justify_items": null,
            "left": null,
            "margin": null,
            "max_height": null,
            "max_width": null,
            "min_height": null,
            "min_width": null,
            "object_fit": null,
            "object_position": null,
            "order": null,
            "overflow": null,
            "overflow_x": null,
            "overflow_y": null,
            "padding": null,
            "right": null,
            "top": null,
            "visibility": null,
            "width": null
          }
        },
        "6324f0b7bf944882b89fd00215eba4e7": {
          "model_module": "@jupyter-widgets/controls",
          "model_name": "DescriptionStyleModel",
          "model_module_version": "1.5.0",
          "state": {
            "_model_module": "@jupyter-widgets/controls",
            "_model_module_version": "1.5.0",
            "_model_name": "DescriptionStyleModel",
            "_view_count": null,
            "_view_module": "@jupyter-widgets/base",
            "_view_module_version": "1.2.0",
            "_view_name": "StyleView",
            "description_width": ""
          }
        },
        "005e4f46c76c4beb8c5b469176ef1027": {
          "model_module": "@jupyter-widgets/base",
          "model_name": "LayoutModel",
          "model_module_version": "1.2.0",
          "state": {
            "_model_module": "@jupyter-widgets/base",
            "_model_module_version": "1.2.0",
            "_model_name": "LayoutModel",
            "_view_count": null,
            "_view_module": "@jupyter-widgets/base",
            "_view_module_version": "1.2.0",
            "_view_name": "LayoutView",
            "align_content": null,
            "align_items": null,
            "align_self": null,
            "border": null,
            "bottom": null,
            "display": null,
            "flex": null,
            "flex_flow": null,
            "grid_area": null,
            "grid_auto_columns": null,
            "grid_auto_flow": null,
            "grid_auto_rows": null,
            "grid_column": null,
            "grid_gap": null,
            "grid_row": null,
            "grid_template_areas": null,
            "grid_template_columns": null,
            "grid_template_rows": null,
            "height": null,
            "justify_content": null,
            "justify_items": null,
            "left": null,
            "margin": null,
            "max_height": null,
            "max_width": null,
            "min_height": null,
            "min_width": null,
            "object_fit": null,
            "object_position": null,
            "order": null,
            "overflow": null,
            "overflow_x": null,
            "overflow_y": null,
            "padding": null,
            "right": null,
            "top": null,
            "visibility": null,
            "width": null
          }
        },
        "65612c3022da46e1ac2a39fc2e16a0ce": {
          "model_module": "@jupyter-widgets/controls",
          "model_name": "ProgressStyleModel",
          "model_module_version": "1.5.0",
          "state": {
            "_model_module": "@jupyter-widgets/controls",
            "_model_module_version": "1.5.0",
            "_model_name": "ProgressStyleModel",
            "_view_count": null,
            "_view_module": "@jupyter-widgets/base",
            "_view_module_version": "1.2.0",
            "_view_name": "StyleView",
            "bar_color": null,
            "description_width": ""
          }
        },
        "109c4a2831e64330a7efa538a1e0b0bb": {
          "model_module": "@jupyter-widgets/base",
          "model_name": "LayoutModel",
          "model_module_version": "1.2.0",
          "state": {
            "_model_module": "@jupyter-widgets/base",
            "_model_module_version": "1.2.0",
            "_model_name": "LayoutModel",
            "_view_count": null,
            "_view_module": "@jupyter-widgets/base",
            "_view_module_version": "1.2.0",
            "_view_name": "LayoutView",
            "align_content": null,
            "align_items": null,
            "align_self": null,
            "border": null,
            "bottom": null,
            "display": null,
            "flex": null,
            "flex_flow": null,
            "grid_area": null,
            "grid_auto_columns": null,
            "grid_auto_flow": null,
            "grid_auto_rows": null,
            "grid_column": null,
            "grid_gap": null,
            "grid_row": null,
            "grid_template_areas": null,
            "grid_template_columns": null,
            "grid_template_rows": null,
            "height": null,
            "justify_content": null,
            "justify_items": null,
            "left": null,
            "margin": null,
            "max_height": null,
            "max_width": null,
            "min_height": null,
            "min_width": null,
            "object_fit": null,
            "object_position": null,
            "order": null,
            "overflow": null,
            "overflow_x": null,
            "overflow_y": null,
            "padding": null,
            "right": null,
            "top": null,
            "visibility": null,
            "width": null
          }
        },
        "e988ddb1a61e40ce81eed445b8c4a9f8": {
          "model_module": "@jupyter-widgets/controls",
          "model_name": "DescriptionStyleModel",
          "model_module_version": "1.5.0",
          "state": {
            "_model_module": "@jupyter-widgets/controls",
            "_model_module_version": "1.5.0",
            "_model_name": "DescriptionStyleModel",
            "_view_count": null,
            "_view_module": "@jupyter-widgets/base",
            "_view_module_version": "1.2.0",
            "_view_name": "StyleView",
            "description_width": ""
          }
        },
        "66dc793af60c476a9a51a84dff3fb47f": {
          "model_module": "@jupyter-widgets/controls",
          "model_name": "HBoxModel",
          "model_module_version": "1.5.0",
          "state": {
            "_dom_classes": [],
            "_model_module": "@jupyter-widgets/controls",
            "_model_module_version": "1.5.0",
            "_model_name": "HBoxModel",
            "_view_count": null,
            "_view_module": "@jupyter-widgets/controls",
            "_view_module_version": "1.5.0",
            "_view_name": "HBoxView",
            "box_style": "",
            "children": [
              "IPY_MODEL_04951f1223e64d16a561b74fc0a9629d",
              "IPY_MODEL_104e4936e064459283dbd8d8cea970ec",
              "IPY_MODEL_d35d314ec1c64fe9b8685a958f763a34"
            ],
            "layout": "IPY_MODEL_e6c9913340d943b0adc474c0d058d323"
          }
        },
        "04951f1223e64d16a561b74fc0a9629d": {
          "model_module": "@jupyter-widgets/controls",
          "model_name": "HTMLModel",
          "model_module_version": "1.5.0",
          "state": {
            "_dom_classes": [],
            "_model_module": "@jupyter-widgets/controls",
            "_model_module_version": "1.5.0",
            "_model_name": "HTMLModel",
            "_view_count": null,
            "_view_module": "@jupyter-widgets/controls",
            "_view_module_version": "1.5.0",
            "_view_name": "HTMLView",
            "description": "",
            "description_tooltip": null,
            "layout": "IPY_MODEL_2c1738f37cc14681b93e65a28c79db66",
            "placeholder": "​",
            "style": "IPY_MODEL_149f41d8578f4ee0afec9f148b706532",
            "value": "config_sentence_transformers.json: 100%"
          }
        },
        "104e4936e064459283dbd8d8cea970ec": {
          "model_module": "@jupyter-widgets/controls",
          "model_name": "FloatProgressModel",
          "model_module_version": "1.5.0",
          "state": {
            "_dom_classes": [],
            "_model_module": "@jupyter-widgets/controls",
            "_model_module_version": "1.5.0",
            "_model_name": "FloatProgressModel",
            "_view_count": null,
            "_view_module": "@jupyter-widgets/controls",
            "_view_module_version": "1.5.0",
            "_view_name": "ProgressView",
            "bar_style": "success",
            "description": "",
            "description_tooltip": null,
            "layout": "IPY_MODEL_209f6eac0eca4a1dbec3af60307a1788",
            "max": 124,
            "min": 0,
            "orientation": "horizontal",
            "style": "IPY_MODEL_58c77c91d643455aa66549c2f6a18a66",
            "value": 124
          }
        },
        "d35d314ec1c64fe9b8685a958f763a34": {
          "model_module": "@jupyter-widgets/controls",
          "model_name": "HTMLModel",
          "model_module_version": "1.5.0",
          "state": {
            "_dom_classes": [],
            "_model_module": "@jupyter-widgets/controls",
            "_model_module_version": "1.5.0",
            "_model_name": "HTMLModel",
            "_view_count": null,
            "_view_module": "@jupyter-widgets/controls",
            "_view_module_version": "1.5.0",
            "_view_name": "HTMLView",
            "description": "",
            "description_tooltip": null,
            "layout": "IPY_MODEL_0d9c15014c1b4e68aa54c6aee855bb2d",
            "placeholder": "​",
            "style": "IPY_MODEL_063154d2af98437490461eefa9141ac6",
            "value": " 124/124 [00:00&lt;00:00, 10.5kB/s]"
          }
        },
        "e6c9913340d943b0adc474c0d058d323": {
          "model_module": "@jupyter-widgets/base",
          "model_name": "LayoutModel",
          "model_module_version": "1.2.0",
          "state": {
            "_model_module": "@jupyter-widgets/base",
            "_model_module_version": "1.2.0",
            "_model_name": "LayoutModel",
            "_view_count": null,
            "_view_module": "@jupyter-widgets/base",
            "_view_module_version": "1.2.0",
            "_view_name": "LayoutView",
            "align_content": null,
            "align_items": null,
            "align_self": null,
            "border": null,
            "bottom": null,
            "display": null,
            "flex": null,
            "flex_flow": null,
            "grid_area": null,
            "grid_auto_columns": null,
            "grid_auto_flow": null,
            "grid_auto_rows": null,
            "grid_column": null,
            "grid_gap": null,
            "grid_row": null,
            "grid_template_areas": null,
            "grid_template_columns": null,
            "grid_template_rows": null,
            "height": null,
            "justify_content": null,
            "justify_items": null,
            "left": null,
            "margin": null,
            "max_height": null,
            "max_width": null,
            "min_height": null,
            "min_width": null,
            "object_fit": null,
            "object_position": null,
            "order": null,
            "overflow": null,
            "overflow_x": null,
            "overflow_y": null,
            "padding": null,
            "right": null,
            "top": null,
            "visibility": null,
            "width": null
          }
        },
        "2c1738f37cc14681b93e65a28c79db66": {
          "model_module": "@jupyter-widgets/base",
          "model_name": "LayoutModel",
          "model_module_version": "1.2.0",
          "state": {
            "_model_module": "@jupyter-widgets/base",
            "_model_module_version": "1.2.0",
            "_model_name": "LayoutModel",
            "_view_count": null,
            "_view_module": "@jupyter-widgets/base",
            "_view_module_version": "1.2.0",
            "_view_name": "LayoutView",
            "align_content": null,
            "align_items": null,
            "align_self": null,
            "border": null,
            "bottom": null,
            "display": null,
            "flex": null,
            "flex_flow": null,
            "grid_area": null,
            "grid_auto_columns": null,
            "grid_auto_flow": null,
            "grid_auto_rows": null,
            "grid_column": null,
            "grid_gap": null,
            "grid_row": null,
            "grid_template_areas": null,
            "grid_template_columns": null,
            "grid_template_rows": null,
            "height": null,
            "justify_content": null,
            "justify_items": null,
            "left": null,
            "margin": null,
            "max_height": null,
            "max_width": null,
            "min_height": null,
            "min_width": null,
            "object_fit": null,
            "object_position": null,
            "order": null,
            "overflow": null,
            "overflow_x": null,
            "overflow_y": null,
            "padding": null,
            "right": null,
            "top": null,
            "visibility": null,
            "width": null
          }
        },
        "149f41d8578f4ee0afec9f148b706532": {
          "model_module": "@jupyter-widgets/controls",
          "model_name": "DescriptionStyleModel",
          "model_module_version": "1.5.0",
          "state": {
            "_model_module": "@jupyter-widgets/controls",
            "_model_module_version": "1.5.0",
            "_model_name": "DescriptionStyleModel",
            "_view_count": null,
            "_view_module": "@jupyter-widgets/base",
            "_view_module_version": "1.2.0",
            "_view_name": "StyleView",
            "description_width": ""
          }
        },
        "209f6eac0eca4a1dbec3af60307a1788": {
          "model_module": "@jupyter-widgets/base",
          "model_name": "LayoutModel",
          "model_module_version": "1.2.0",
          "state": {
            "_model_module": "@jupyter-widgets/base",
            "_model_module_version": "1.2.0",
            "_model_name": "LayoutModel",
            "_view_count": null,
            "_view_module": "@jupyter-widgets/base",
            "_view_module_version": "1.2.0",
            "_view_name": "LayoutView",
            "align_content": null,
            "align_items": null,
            "align_self": null,
            "border": null,
            "bottom": null,
            "display": null,
            "flex": null,
            "flex_flow": null,
            "grid_area": null,
            "grid_auto_columns": null,
            "grid_auto_flow": null,
            "grid_auto_rows": null,
            "grid_column": null,
            "grid_gap": null,
            "grid_row": null,
            "grid_template_areas": null,
            "grid_template_columns": null,
            "grid_template_rows": null,
            "height": null,
            "justify_content": null,
            "justify_items": null,
            "left": null,
            "margin": null,
            "max_height": null,
            "max_width": null,
            "min_height": null,
            "min_width": null,
            "object_fit": null,
            "object_position": null,
            "order": null,
            "overflow": null,
            "overflow_x": null,
            "overflow_y": null,
            "padding": null,
            "right": null,
            "top": null,
            "visibility": null,
            "width": null
          }
        },
        "58c77c91d643455aa66549c2f6a18a66": {
          "model_module": "@jupyter-widgets/controls",
          "model_name": "ProgressStyleModel",
          "model_module_version": "1.5.0",
          "state": {
            "_model_module": "@jupyter-widgets/controls",
            "_model_module_version": "1.5.0",
            "_model_name": "ProgressStyleModel",
            "_view_count": null,
            "_view_module": "@jupyter-widgets/base",
            "_view_module_version": "1.2.0",
            "_view_name": "StyleView",
            "bar_color": null,
            "description_width": ""
          }
        },
        "0d9c15014c1b4e68aa54c6aee855bb2d": {
          "model_module": "@jupyter-widgets/base",
          "model_name": "LayoutModel",
          "model_module_version": "1.2.0",
          "state": {
            "_model_module": "@jupyter-widgets/base",
            "_model_module_version": "1.2.0",
            "_model_name": "LayoutModel",
            "_view_count": null,
            "_view_module": "@jupyter-widgets/base",
            "_view_module_version": "1.2.0",
            "_view_name": "LayoutView",
            "align_content": null,
            "align_items": null,
            "align_self": null,
            "border": null,
            "bottom": null,
            "display": null,
            "flex": null,
            "flex_flow": null,
            "grid_area": null,
            "grid_auto_columns": null,
            "grid_auto_flow": null,
            "grid_auto_rows": null,
            "grid_column": null,
            "grid_gap": null,
            "grid_row": null,
            "grid_template_areas": null,
            "grid_template_columns": null,
            "grid_template_rows": null,
            "height": null,
            "justify_content": null,
            "justify_items": null,
            "left": null,
            "margin": null,
            "max_height": null,
            "max_width": null,
            "min_height": null,
            "min_width": null,
            "object_fit": null,
            "object_position": null,
            "order": null,
            "overflow": null,
            "overflow_x": null,
            "overflow_y": null,
            "padding": null,
            "right": null,
            "top": null,
            "visibility": null,
            "width": null
          }
        },
        "063154d2af98437490461eefa9141ac6": {
          "model_module": "@jupyter-widgets/controls",
          "model_name": "DescriptionStyleModel",
          "model_module_version": "1.5.0",
          "state": {
            "_model_module": "@jupyter-widgets/controls",
            "_model_module_version": "1.5.0",
            "_model_name": "DescriptionStyleModel",
            "_view_count": null,
            "_view_module": "@jupyter-widgets/base",
            "_view_module_version": "1.2.0",
            "_view_name": "StyleView",
            "description_width": ""
          }
        },
        "8d89e5d1860d44dc9984cc163de164a4": {
          "model_module": "@jupyter-widgets/controls",
          "model_name": "HBoxModel",
          "model_module_version": "1.5.0",
          "state": {
            "_dom_classes": [],
            "_model_module": "@jupyter-widgets/controls",
            "_model_module_version": "1.5.0",
            "_model_name": "HBoxModel",
            "_view_count": null,
            "_view_module": "@jupyter-widgets/controls",
            "_view_module_version": "1.5.0",
            "_view_name": "HBoxView",
            "box_style": "",
            "children": [
              "IPY_MODEL_65a7d37bd9e342ef8e2a5610fb063ecf",
              "IPY_MODEL_10f73ff8c8fb4ce5be06d74c93810982",
              "IPY_MODEL_6b34d95396934e20b26ae7b553e78701"
            ],
            "layout": "IPY_MODEL_30c9515051594ed695309fa365d221d9"
          }
        },
        "65a7d37bd9e342ef8e2a5610fb063ecf": {
          "model_module": "@jupyter-widgets/controls",
          "model_name": "HTMLModel",
          "model_module_version": "1.5.0",
          "state": {
            "_dom_classes": [],
            "_model_module": "@jupyter-widgets/controls",
            "_model_module_version": "1.5.0",
            "_model_name": "HTMLModel",
            "_view_count": null,
            "_view_module": "@jupyter-widgets/controls",
            "_view_module_version": "1.5.0",
            "_view_name": "HTMLView",
            "description": "",
            "description_tooltip": null,
            "layout": "IPY_MODEL_9426973b072d4b60876d01bd2c23e3f6",
            "placeholder": "​",
            "style": "IPY_MODEL_8fdb5df28da04d91ab36e4adde7fc6c9",
            "value": "README.md: 100%"
          }
        },
        "10f73ff8c8fb4ce5be06d74c93810982": {
          "model_module": "@jupyter-widgets/controls",
          "model_name": "FloatProgressModel",
          "model_module_version": "1.5.0",
          "state": {
            "_dom_classes": [],
            "_model_module": "@jupyter-widgets/controls",
            "_model_module_version": "1.5.0",
            "_model_name": "FloatProgressModel",
            "_view_count": null,
            "_view_module": "@jupyter-widgets/controls",
            "_view_module_version": "1.5.0",
            "_view_name": "ProgressView",
            "bar_style": "success",
            "description": "",
            "description_tooltip": null,
            "layout": "IPY_MODEL_e8dfe3d3785b48a2ac515eb6922bfeeb",
            "max": 90797,
            "min": 0,
            "orientation": "horizontal",
            "style": "IPY_MODEL_5ce8046db72d4363a379ce77851224d7",
            "value": 90797
          }
        },
        "6b34d95396934e20b26ae7b553e78701": {
          "model_module": "@jupyter-widgets/controls",
          "model_name": "HTMLModel",
          "model_module_version": "1.5.0",
          "state": {
            "_dom_classes": [],
            "_model_module": "@jupyter-widgets/controls",
            "_model_module_version": "1.5.0",
            "_model_name": "HTMLModel",
            "_view_count": null,
            "_view_module": "@jupyter-widgets/controls",
            "_view_module_version": "1.5.0",
            "_view_name": "HTMLView",
            "description": "",
            "description_tooltip": null,
            "layout": "IPY_MODEL_9fb5a2af2b044da99908cbabbdba2cd9",
            "placeholder": "​",
            "style": "IPY_MODEL_1bbb4a5ebde54cd6bb21cb46f581a94d",
            "value": " 90.8k/90.8k [00:00&lt;00:00, 6.24MB/s]"
          }
        },
        "30c9515051594ed695309fa365d221d9": {
          "model_module": "@jupyter-widgets/base",
          "model_name": "LayoutModel",
          "model_module_version": "1.2.0",
          "state": {
            "_model_module": "@jupyter-widgets/base",
            "_model_module_version": "1.2.0",
            "_model_name": "LayoutModel",
            "_view_count": null,
            "_view_module": "@jupyter-widgets/base",
            "_view_module_version": "1.2.0",
            "_view_name": "LayoutView",
            "align_content": null,
            "align_items": null,
            "align_self": null,
            "border": null,
            "bottom": null,
            "display": null,
            "flex": null,
            "flex_flow": null,
            "grid_area": null,
            "grid_auto_columns": null,
            "grid_auto_flow": null,
            "grid_auto_rows": null,
            "grid_column": null,
            "grid_gap": null,
            "grid_row": null,
            "grid_template_areas": null,
            "grid_template_columns": null,
            "grid_template_rows": null,
            "height": null,
            "justify_content": null,
            "justify_items": null,
            "left": null,
            "margin": null,
            "max_height": null,
            "max_width": null,
            "min_height": null,
            "min_width": null,
            "object_fit": null,
            "object_position": null,
            "order": null,
            "overflow": null,
            "overflow_x": null,
            "overflow_y": null,
            "padding": null,
            "right": null,
            "top": null,
            "visibility": null,
            "width": null
          }
        },
        "9426973b072d4b60876d01bd2c23e3f6": {
          "model_module": "@jupyter-widgets/base",
          "model_name": "LayoutModel",
          "model_module_version": "1.2.0",
          "state": {
            "_model_module": "@jupyter-widgets/base",
            "_model_module_version": "1.2.0",
            "_model_name": "LayoutModel",
            "_view_count": null,
            "_view_module": "@jupyter-widgets/base",
            "_view_module_version": "1.2.0",
            "_view_name": "LayoutView",
            "align_content": null,
            "align_items": null,
            "align_self": null,
            "border": null,
            "bottom": null,
            "display": null,
            "flex": null,
            "flex_flow": null,
            "grid_area": null,
            "grid_auto_columns": null,
            "grid_auto_flow": null,
            "grid_auto_rows": null,
            "grid_column": null,
            "grid_gap": null,
            "grid_row": null,
            "grid_template_areas": null,
            "grid_template_columns": null,
            "grid_template_rows": null,
            "height": null,
            "justify_content": null,
            "justify_items": null,
            "left": null,
            "margin": null,
            "max_height": null,
            "max_width": null,
            "min_height": null,
            "min_width": null,
            "object_fit": null,
            "object_position": null,
            "order": null,
            "overflow": null,
            "overflow_x": null,
            "overflow_y": null,
            "padding": null,
            "right": null,
            "top": null,
            "visibility": null,
            "width": null
          }
        },
        "8fdb5df28da04d91ab36e4adde7fc6c9": {
          "model_module": "@jupyter-widgets/controls",
          "model_name": "DescriptionStyleModel",
          "model_module_version": "1.5.0",
          "state": {
            "_model_module": "@jupyter-widgets/controls",
            "_model_module_version": "1.5.0",
            "_model_name": "DescriptionStyleModel",
            "_view_count": null,
            "_view_module": "@jupyter-widgets/base",
            "_view_module_version": "1.2.0",
            "_view_name": "StyleView",
            "description_width": ""
          }
        },
        "e8dfe3d3785b48a2ac515eb6922bfeeb": {
          "model_module": "@jupyter-widgets/base",
          "model_name": "LayoutModel",
          "model_module_version": "1.2.0",
          "state": {
            "_model_module": "@jupyter-widgets/base",
            "_model_module_version": "1.2.0",
            "_model_name": "LayoutModel",
            "_view_count": null,
            "_view_module": "@jupyter-widgets/base",
            "_view_module_version": "1.2.0",
            "_view_name": "LayoutView",
            "align_content": null,
            "align_items": null,
            "align_self": null,
            "border": null,
            "bottom": null,
            "display": null,
            "flex": null,
            "flex_flow": null,
            "grid_area": null,
            "grid_auto_columns": null,
            "grid_auto_flow": null,
            "grid_auto_rows": null,
            "grid_column": null,
            "grid_gap": null,
            "grid_row": null,
            "grid_template_areas": null,
            "grid_template_columns": null,
            "grid_template_rows": null,
            "height": null,
            "justify_content": null,
            "justify_items": null,
            "left": null,
            "margin": null,
            "max_height": null,
            "max_width": null,
            "min_height": null,
            "min_width": null,
            "object_fit": null,
            "object_position": null,
            "order": null,
            "overflow": null,
            "overflow_x": null,
            "overflow_y": null,
            "padding": null,
            "right": null,
            "top": null,
            "visibility": null,
            "width": null
          }
        },
        "5ce8046db72d4363a379ce77851224d7": {
          "model_module": "@jupyter-widgets/controls",
          "model_name": "ProgressStyleModel",
          "model_module_version": "1.5.0",
          "state": {
            "_model_module": "@jupyter-widgets/controls",
            "_model_module_version": "1.5.0",
            "_model_name": "ProgressStyleModel",
            "_view_count": null,
            "_view_module": "@jupyter-widgets/base",
            "_view_module_version": "1.2.0",
            "_view_name": "StyleView",
            "bar_color": null,
            "description_width": ""
          }
        },
        "9fb5a2af2b044da99908cbabbdba2cd9": {
          "model_module": "@jupyter-widgets/base",
          "model_name": "LayoutModel",
          "model_module_version": "1.2.0",
          "state": {
            "_model_module": "@jupyter-widgets/base",
            "_model_module_version": "1.2.0",
            "_model_name": "LayoutModel",
            "_view_count": null,
            "_view_module": "@jupyter-widgets/base",
            "_view_module_version": "1.2.0",
            "_view_name": "LayoutView",
            "align_content": null,
            "align_items": null,
            "align_self": null,
            "border": null,
            "bottom": null,
            "display": null,
            "flex": null,
            "flex_flow": null,
            "grid_area": null,
            "grid_auto_columns": null,
            "grid_auto_flow": null,
            "grid_auto_rows": null,
            "grid_column": null,
            "grid_gap": null,
            "grid_row": null,
            "grid_template_areas": null,
            "grid_template_columns": null,
            "grid_template_rows": null,
            "height": null,
            "justify_content": null,
            "justify_items": null,
            "left": null,
            "margin": null,
            "max_height": null,
            "max_width": null,
            "min_height": null,
            "min_width": null,
            "object_fit": null,
            "object_position": null,
            "order": null,
            "overflow": null,
            "overflow_x": null,
            "overflow_y": null,
            "padding": null,
            "right": null,
            "top": null,
            "visibility": null,
            "width": null
          }
        },
        "1bbb4a5ebde54cd6bb21cb46f581a94d": {
          "model_module": "@jupyter-widgets/controls",
          "model_name": "DescriptionStyleModel",
          "model_module_version": "1.5.0",
          "state": {
            "_model_module": "@jupyter-widgets/controls",
            "_model_module_version": "1.5.0",
            "_model_name": "DescriptionStyleModel",
            "_view_count": null,
            "_view_module": "@jupyter-widgets/base",
            "_view_module_version": "1.2.0",
            "_view_name": "StyleView",
            "description_width": ""
          }
        },
        "2be4865d21634ad3b822f0dc903c0ab5": {
          "model_module": "@jupyter-widgets/controls",
          "model_name": "HBoxModel",
          "model_module_version": "1.5.0",
          "state": {
            "_dom_classes": [],
            "_model_module": "@jupyter-widgets/controls",
            "_model_module_version": "1.5.0",
            "_model_name": "HBoxModel",
            "_view_count": null,
            "_view_module": "@jupyter-widgets/controls",
            "_view_module_version": "1.5.0",
            "_view_name": "HBoxView",
            "box_style": "",
            "children": [
              "IPY_MODEL_7b0f595322e748f19615206be4314e89",
              "IPY_MODEL_38341437dc6e4040bd848db7026649df",
              "IPY_MODEL_e227fa5b722c4013aef90ad51b5f5424"
            ],
            "layout": "IPY_MODEL_d33f89c825204618997c6b248e3dd8c1"
          }
        },
        "7b0f595322e748f19615206be4314e89": {
          "model_module": "@jupyter-widgets/controls",
          "model_name": "HTMLModel",
          "model_module_version": "1.5.0",
          "state": {
            "_dom_classes": [],
            "_model_module": "@jupyter-widgets/controls",
            "_model_module_version": "1.5.0",
            "_model_name": "HTMLModel",
            "_view_count": null,
            "_view_module": "@jupyter-widgets/controls",
            "_view_module_version": "1.5.0",
            "_view_name": "HTMLView",
            "description": "",
            "description_tooltip": null,
            "layout": "IPY_MODEL_af5044f2422d48f1afc3f48684da765c",
            "placeholder": "​",
            "style": "IPY_MODEL_e715f01be46b4afda8d9c2a19ddf3ded",
            "value": "sentence_bert_config.json: 100%"
          }
        },
        "38341437dc6e4040bd848db7026649df": {
          "model_module": "@jupyter-widgets/controls",
          "model_name": "FloatProgressModel",
          "model_module_version": "1.5.0",
          "state": {
            "_dom_classes": [],
            "_model_module": "@jupyter-widgets/controls",
            "_model_module_version": "1.5.0",
            "_model_name": "FloatProgressModel",
            "_view_count": null,
            "_view_module": "@jupyter-widgets/controls",
            "_view_module_version": "1.5.0",
            "_view_name": "ProgressView",
            "bar_style": "success",
            "description": "",
            "description_tooltip": null,
            "layout": "IPY_MODEL_112b1b979b4f4bd88cc791cfbe9cdc2b",
            "max": 52,
            "min": 0,
            "orientation": "horizontal",
            "style": "IPY_MODEL_028a655141904a1eae8ed4340fb6ab84",
            "value": 52
          }
        },
        "e227fa5b722c4013aef90ad51b5f5424": {
          "model_module": "@jupyter-widgets/controls",
          "model_name": "HTMLModel",
          "model_module_version": "1.5.0",
          "state": {
            "_dom_classes": [],
            "_model_module": "@jupyter-widgets/controls",
            "_model_module_version": "1.5.0",
            "_model_name": "HTMLModel",
            "_view_count": null,
            "_view_module": "@jupyter-widgets/controls",
            "_view_module_version": "1.5.0",
            "_view_name": "HTMLView",
            "description": "",
            "description_tooltip": null,
            "layout": "IPY_MODEL_d65549f8ac5d40d4a11677ccf8d39492",
            "placeholder": "​",
            "style": "IPY_MODEL_abb415d5bcf7479885a148fcb6853746",
            "value": " 52.0/52.0 [00:00&lt;00:00, 3.23kB/s]"
          }
        },
        "d33f89c825204618997c6b248e3dd8c1": {
          "model_module": "@jupyter-widgets/base",
          "model_name": "LayoutModel",
          "model_module_version": "1.2.0",
          "state": {
            "_model_module": "@jupyter-widgets/base",
            "_model_module_version": "1.2.0",
            "_model_name": "LayoutModel",
            "_view_count": null,
            "_view_module": "@jupyter-widgets/base",
            "_view_module_version": "1.2.0",
            "_view_name": "LayoutView",
            "align_content": null,
            "align_items": null,
            "align_self": null,
            "border": null,
            "bottom": null,
            "display": null,
            "flex": null,
            "flex_flow": null,
            "grid_area": null,
            "grid_auto_columns": null,
            "grid_auto_flow": null,
            "grid_auto_rows": null,
            "grid_column": null,
            "grid_gap": null,
            "grid_row": null,
            "grid_template_areas": null,
            "grid_template_columns": null,
            "grid_template_rows": null,
            "height": null,
            "justify_content": null,
            "justify_items": null,
            "left": null,
            "margin": null,
            "max_height": null,
            "max_width": null,
            "min_height": null,
            "min_width": null,
            "object_fit": null,
            "object_position": null,
            "order": null,
            "overflow": null,
            "overflow_x": null,
            "overflow_y": null,
            "padding": null,
            "right": null,
            "top": null,
            "visibility": null,
            "width": null
          }
        },
        "af5044f2422d48f1afc3f48684da765c": {
          "model_module": "@jupyter-widgets/base",
          "model_name": "LayoutModel",
          "model_module_version": "1.2.0",
          "state": {
            "_model_module": "@jupyter-widgets/base",
            "_model_module_version": "1.2.0",
            "_model_name": "LayoutModel",
            "_view_count": null,
            "_view_module": "@jupyter-widgets/base",
            "_view_module_version": "1.2.0",
            "_view_name": "LayoutView",
            "align_content": null,
            "align_items": null,
            "align_self": null,
            "border": null,
            "bottom": null,
            "display": null,
            "flex": null,
            "flex_flow": null,
            "grid_area": null,
            "grid_auto_columns": null,
            "grid_auto_flow": null,
            "grid_auto_rows": null,
            "grid_column": null,
            "grid_gap": null,
            "grid_row": null,
            "grid_template_areas": null,
            "grid_template_columns": null,
            "grid_template_rows": null,
            "height": null,
            "justify_content": null,
            "justify_items": null,
            "left": null,
            "margin": null,
            "max_height": null,
            "max_width": null,
            "min_height": null,
            "min_width": null,
            "object_fit": null,
            "object_position": null,
            "order": null,
            "overflow": null,
            "overflow_x": null,
            "overflow_y": null,
            "padding": null,
            "right": null,
            "top": null,
            "visibility": null,
            "width": null
          }
        },
        "e715f01be46b4afda8d9c2a19ddf3ded": {
          "model_module": "@jupyter-widgets/controls",
          "model_name": "DescriptionStyleModel",
          "model_module_version": "1.5.0",
          "state": {
            "_model_module": "@jupyter-widgets/controls",
            "_model_module_version": "1.5.0",
            "_model_name": "DescriptionStyleModel",
            "_view_count": null,
            "_view_module": "@jupyter-widgets/base",
            "_view_module_version": "1.2.0",
            "_view_name": "StyleView",
            "description_width": ""
          }
        },
        "112b1b979b4f4bd88cc791cfbe9cdc2b": {
          "model_module": "@jupyter-widgets/base",
          "model_name": "LayoutModel",
          "model_module_version": "1.2.0",
          "state": {
            "_model_module": "@jupyter-widgets/base",
            "_model_module_version": "1.2.0",
            "_model_name": "LayoutModel",
            "_view_count": null,
            "_view_module": "@jupyter-widgets/base",
            "_view_module_version": "1.2.0",
            "_view_name": "LayoutView",
            "align_content": null,
            "align_items": null,
            "align_self": null,
            "border": null,
            "bottom": null,
            "display": null,
            "flex": null,
            "flex_flow": null,
            "grid_area": null,
            "grid_auto_columns": null,
            "grid_auto_flow": null,
            "grid_auto_rows": null,
            "grid_column": null,
            "grid_gap": null,
            "grid_row": null,
            "grid_template_areas": null,
            "grid_template_columns": null,
            "grid_template_rows": null,
            "height": null,
            "justify_content": null,
            "justify_items": null,
            "left": null,
            "margin": null,
            "max_height": null,
            "max_width": null,
            "min_height": null,
            "min_width": null,
            "object_fit": null,
            "object_position": null,
            "order": null,
            "overflow": null,
            "overflow_x": null,
            "overflow_y": null,
            "padding": null,
            "right": null,
            "top": null,
            "visibility": null,
            "width": null
          }
        },
        "028a655141904a1eae8ed4340fb6ab84": {
          "model_module": "@jupyter-widgets/controls",
          "model_name": "ProgressStyleModel",
          "model_module_version": "1.5.0",
          "state": {
            "_model_module": "@jupyter-widgets/controls",
            "_model_module_version": "1.5.0",
            "_model_name": "ProgressStyleModel",
            "_view_count": null,
            "_view_module": "@jupyter-widgets/base",
            "_view_module_version": "1.2.0",
            "_view_name": "StyleView",
            "bar_color": null,
            "description_width": ""
          }
        },
        "d65549f8ac5d40d4a11677ccf8d39492": {
          "model_module": "@jupyter-widgets/base",
          "model_name": "LayoutModel",
          "model_module_version": "1.2.0",
          "state": {
            "_model_module": "@jupyter-widgets/base",
            "_model_module_version": "1.2.0",
            "_model_name": "LayoutModel",
            "_view_count": null,
            "_view_module": "@jupyter-widgets/base",
            "_view_module_version": "1.2.0",
            "_view_name": "LayoutView",
            "align_content": null,
            "align_items": null,
            "align_self": null,
            "border": null,
            "bottom": null,
            "display": null,
            "flex": null,
            "flex_flow": null,
            "grid_area": null,
            "grid_auto_columns": null,
            "grid_auto_flow": null,
            "grid_auto_rows": null,
            "grid_column": null,
            "grid_gap": null,
            "grid_row": null,
            "grid_template_areas": null,
            "grid_template_columns": null,
            "grid_template_rows": null,
            "height": null,
            "justify_content": null,
            "justify_items": null,
            "left": null,
            "margin": null,
            "max_height": null,
            "max_width": null,
            "min_height": null,
            "min_width": null,
            "object_fit": null,
            "object_position": null,
            "order": null,
            "overflow": null,
            "overflow_x": null,
            "overflow_y": null,
            "padding": null,
            "right": null,
            "top": null,
            "visibility": null,
            "width": null
          }
        },
        "abb415d5bcf7479885a148fcb6853746": {
          "model_module": "@jupyter-widgets/controls",
          "model_name": "DescriptionStyleModel",
          "model_module_version": "1.5.0",
          "state": {
            "_model_module": "@jupyter-widgets/controls",
            "_model_module_version": "1.5.0",
            "_model_name": "DescriptionStyleModel",
            "_view_count": null,
            "_view_module": "@jupyter-widgets/base",
            "_view_module_version": "1.2.0",
            "_view_name": "StyleView",
            "description_width": ""
          }
        },
        "d89ce60a83d14d5a88d995343ff41227": {
          "model_module": "@jupyter-widgets/controls",
          "model_name": "HBoxModel",
          "model_module_version": "1.5.0",
          "state": {
            "_dom_classes": [],
            "_model_module": "@jupyter-widgets/controls",
            "_model_module_version": "1.5.0",
            "_model_name": "HBoxModel",
            "_view_count": null,
            "_view_module": "@jupyter-widgets/controls",
            "_view_module_version": "1.5.0",
            "_view_name": "HBoxView",
            "box_style": "",
            "children": [
              "IPY_MODEL_dc706ce3bccc4a9ab39061c8e37f2642",
              "IPY_MODEL_7f05d92d7b504923afbc43c00e271333",
              "IPY_MODEL_dfd802884e40420b957cc871445f2a75"
            ],
            "layout": "IPY_MODEL_62279098ef18448dad8a30ad5a8cda83"
          }
        },
        "dc706ce3bccc4a9ab39061c8e37f2642": {
          "model_module": "@jupyter-widgets/controls",
          "model_name": "HTMLModel",
          "model_module_version": "1.5.0",
          "state": {
            "_dom_classes": [],
            "_model_module": "@jupyter-widgets/controls",
            "_model_module_version": "1.5.0",
            "_model_name": "HTMLModel",
            "_view_count": null,
            "_view_module": "@jupyter-widgets/controls",
            "_view_module_version": "1.5.0",
            "_view_name": "HTMLView",
            "description": "",
            "description_tooltip": null,
            "layout": "IPY_MODEL_0be3ed72ab6147d6bea2625d8dcebc7e",
            "placeholder": "​",
            "style": "IPY_MODEL_d255ae60884b44a39d389d81a95d0579",
            "value": "config.json: 100%"
          }
        },
        "7f05d92d7b504923afbc43c00e271333": {
          "model_module": "@jupyter-widgets/controls",
          "model_name": "FloatProgressModel",
          "model_module_version": "1.5.0",
          "state": {
            "_dom_classes": [],
            "_model_module": "@jupyter-widgets/controls",
            "_model_module_version": "1.5.0",
            "_model_name": "FloatProgressModel",
            "_view_count": null,
            "_view_module": "@jupyter-widgets/controls",
            "_view_module_version": "1.5.0",
            "_view_name": "ProgressView",
            "bar_style": "success",
            "description": "",
            "description_tooltip": null,
            "layout": "IPY_MODEL_849a2ce7b1c54ec2b6566a797467f970",
            "max": 684,
            "min": 0,
            "orientation": "horizontal",
            "style": "IPY_MODEL_2c40d3113dff453997aa1893df926a8a",
            "value": 684
          }
        },
        "dfd802884e40420b957cc871445f2a75": {
          "model_module": "@jupyter-widgets/controls",
          "model_name": "HTMLModel",
          "model_module_version": "1.5.0",
          "state": {
            "_dom_classes": [],
            "_model_module": "@jupyter-widgets/controls",
            "_model_module_version": "1.5.0",
            "_model_name": "HTMLModel",
            "_view_count": null,
            "_view_module": "@jupyter-widgets/controls",
            "_view_module_version": "1.5.0",
            "_view_name": "HTMLView",
            "description": "",
            "description_tooltip": null,
            "layout": "IPY_MODEL_9d8312a2d4464225b2fc4a32b258f5ab",
            "placeholder": "​",
            "style": "IPY_MODEL_cf6773a34ca5476ea112ac8477ee416d",
            "value": " 684/684 [00:00&lt;00:00, 43.0kB/s]"
          }
        },
        "62279098ef18448dad8a30ad5a8cda83": {
          "model_module": "@jupyter-widgets/base",
          "model_name": "LayoutModel",
          "model_module_version": "1.2.0",
          "state": {
            "_model_module": "@jupyter-widgets/base",
            "_model_module_version": "1.2.0",
            "_model_name": "LayoutModel",
            "_view_count": null,
            "_view_module": "@jupyter-widgets/base",
            "_view_module_version": "1.2.0",
            "_view_name": "LayoutView",
            "align_content": null,
            "align_items": null,
            "align_self": null,
            "border": null,
            "bottom": null,
            "display": null,
            "flex": null,
            "flex_flow": null,
            "grid_area": null,
            "grid_auto_columns": null,
            "grid_auto_flow": null,
            "grid_auto_rows": null,
            "grid_column": null,
            "grid_gap": null,
            "grid_row": null,
            "grid_template_areas": null,
            "grid_template_columns": null,
            "grid_template_rows": null,
            "height": null,
            "justify_content": null,
            "justify_items": null,
            "left": null,
            "margin": null,
            "max_height": null,
            "max_width": null,
            "min_height": null,
            "min_width": null,
            "object_fit": null,
            "object_position": null,
            "order": null,
            "overflow": null,
            "overflow_x": null,
            "overflow_y": null,
            "padding": null,
            "right": null,
            "top": null,
            "visibility": null,
            "width": null
          }
        },
        "0be3ed72ab6147d6bea2625d8dcebc7e": {
          "model_module": "@jupyter-widgets/base",
          "model_name": "LayoutModel",
          "model_module_version": "1.2.0",
          "state": {
            "_model_module": "@jupyter-widgets/base",
            "_model_module_version": "1.2.0",
            "_model_name": "LayoutModel",
            "_view_count": null,
            "_view_module": "@jupyter-widgets/base",
            "_view_module_version": "1.2.0",
            "_view_name": "LayoutView",
            "align_content": null,
            "align_items": null,
            "align_self": null,
            "border": null,
            "bottom": null,
            "display": null,
            "flex": null,
            "flex_flow": null,
            "grid_area": null,
            "grid_auto_columns": null,
            "grid_auto_flow": null,
            "grid_auto_rows": null,
            "grid_column": null,
            "grid_gap": null,
            "grid_row": null,
            "grid_template_areas": null,
            "grid_template_columns": null,
            "grid_template_rows": null,
            "height": null,
            "justify_content": null,
            "justify_items": null,
            "left": null,
            "margin": null,
            "max_height": null,
            "max_width": null,
            "min_height": null,
            "min_width": null,
            "object_fit": null,
            "object_position": null,
            "order": null,
            "overflow": null,
            "overflow_x": null,
            "overflow_y": null,
            "padding": null,
            "right": null,
            "top": null,
            "visibility": null,
            "width": null
          }
        },
        "d255ae60884b44a39d389d81a95d0579": {
          "model_module": "@jupyter-widgets/controls",
          "model_name": "DescriptionStyleModel",
          "model_module_version": "1.5.0",
          "state": {
            "_model_module": "@jupyter-widgets/controls",
            "_model_module_version": "1.5.0",
            "_model_name": "DescriptionStyleModel",
            "_view_count": null,
            "_view_module": "@jupyter-widgets/base",
            "_view_module_version": "1.2.0",
            "_view_name": "StyleView",
            "description_width": ""
          }
        },
        "849a2ce7b1c54ec2b6566a797467f970": {
          "model_module": "@jupyter-widgets/base",
          "model_name": "LayoutModel",
          "model_module_version": "1.2.0",
          "state": {
            "_model_module": "@jupyter-widgets/base",
            "_model_module_version": "1.2.0",
            "_model_name": "LayoutModel",
            "_view_count": null,
            "_view_module": "@jupyter-widgets/base",
            "_view_module_version": "1.2.0",
            "_view_name": "LayoutView",
            "align_content": null,
            "align_items": null,
            "align_self": null,
            "border": null,
            "bottom": null,
            "display": null,
            "flex": null,
            "flex_flow": null,
            "grid_area": null,
            "grid_auto_columns": null,
            "grid_auto_flow": null,
            "grid_auto_rows": null,
            "grid_column": null,
            "grid_gap": null,
            "grid_row": null,
            "grid_template_areas": null,
            "grid_template_columns": null,
            "grid_template_rows": null,
            "height": null,
            "justify_content": null,
            "justify_items": null,
            "left": null,
            "margin": null,
            "max_height": null,
            "max_width": null,
            "min_height": null,
            "min_width": null,
            "object_fit": null,
            "object_position": null,
            "order": null,
            "overflow": null,
            "overflow_x": null,
            "overflow_y": null,
            "padding": null,
            "right": null,
            "top": null,
            "visibility": null,
            "width": null
          }
        },
        "2c40d3113dff453997aa1893df926a8a": {
          "model_module": "@jupyter-widgets/controls",
          "model_name": "ProgressStyleModel",
          "model_module_version": "1.5.0",
          "state": {
            "_model_module": "@jupyter-widgets/controls",
            "_model_module_version": "1.5.0",
            "_model_name": "ProgressStyleModel",
            "_view_count": null,
            "_view_module": "@jupyter-widgets/base",
            "_view_module_version": "1.2.0",
            "_view_name": "StyleView",
            "bar_color": null,
            "description_width": ""
          }
        },
        "9d8312a2d4464225b2fc4a32b258f5ab": {
          "model_module": "@jupyter-widgets/base",
          "model_name": "LayoutModel",
          "model_module_version": "1.2.0",
          "state": {
            "_model_module": "@jupyter-widgets/base",
            "_model_module_version": "1.2.0",
            "_model_name": "LayoutModel",
            "_view_count": null,
            "_view_module": "@jupyter-widgets/base",
            "_view_module_version": "1.2.0",
            "_view_name": "LayoutView",
            "align_content": null,
            "align_items": null,
            "align_self": null,
            "border": null,
            "bottom": null,
            "display": null,
            "flex": null,
            "flex_flow": null,
            "grid_area": null,
            "grid_auto_columns": null,
            "grid_auto_flow": null,
            "grid_auto_rows": null,
            "grid_column": null,
            "grid_gap": null,
            "grid_row": null,
            "grid_template_areas": null,
            "grid_template_columns": null,
            "grid_template_rows": null,
            "height": null,
            "justify_content": null,
            "justify_items": null,
            "left": null,
            "margin": null,
            "max_height": null,
            "max_width": null,
            "min_height": null,
            "min_width": null,
            "object_fit": null,
            "object_position": null,
            "order": null,
            "overflow": null,
            "overflow_x": null,
            "overflow_y": null,
            "padding": null,
            "right": null,
            "top": null,
            "visibility": null,
            "width": null
          }
        },
        "cf6773a34ca5476ea112ac8477ee416d": {
          "model_module": "@jupyter-widgets/controls",
          "model_name": "DescriptionStyleModel",
          "model_module_version": "1.5.0",
          "state": {
            "_model_module": "@jupyter-widgets/controls",
            "_model_module_version": "1.5.0",
            "_model_name": "DescriptionStyleModel",
            "_view_count": null,
            "_view_module": "@jupyter-widgets/base",
            "_view_module_version": "1.2.0",
            "_view_name": "StyleView",
            "description_width": ""
          }
        },
        "453d87c686fe4bc9988763a7918ea21d": {
          "model_module": "@jupyter-widgets/controls",
          "model_name": "HBoxModel",
          "model_module_version": "1.5.0",
          "state": {
            "_dom_classes": [],
            "_model_module": "@jupyter-widgets/controls",
            "_model_module_version": "1.5.0",
            "_model_name": "HBoxModel",
            "_view_count": null,
            "_view_module": "@jupyter-widgets/controls",
            "_view_module_version": "1.5.0",
            "_view_name": "HBoxView",
            "box_style": "",
            "children": [
              "IPY_MODEL_ea534c69c803453f9a48f6d0dcd3febf",
              "IPY_MODEL_8887afaf01b9414a8268cfa5822725aa",
              "IPY_MODEL_7b00fe3123fc43609094708fbf98ba4f"
            ],
            "layout": "IPY_MODEL_53c5d071ad574a4a8c8a2a2464040ec6"
          }
        },
        "ea534c69c803453f9a48f6d0dcd3febf": {
          "model_module": "@jupyter-widgets/controls",
          "model_name": "HTMLModel",
          "model_module_version": "1.5.0",
          "state": {
            "_dom_classes": [],
            "_model_module": "@jupyter-widgets/controls",
            "_model_module_version": "1.5.0",
            "_model_name": "HTMLModel",
            "_view_count": null,
            "_view_module": "@jupyter-widgets/controls",
            "_view_module_version": "1.5.0",
            "_view_name": "HTMLView",
            "description": "",
            "description_tooltip": null,
            "layout": "IPY_MODEL_bac32287c50c4947a187202c9aa0072b",
            "placeholder": "​",
            "style": "IPY_MODEL_3a41414f3a674048a99f5a40bc6dc4fb",
            "value": "model.safetensors: 100%"
          }
        },
        "8887afaf01b9414a8268cfa5822725aa": {
          "model_module": "@jupyter-widgets/controls",
          "model_name": "FloatProgressModel",
          "model_module_version": "1.5.0",
          "state": {
            "_dom_classes": [],
            "_model_module": "@jupyter-widgets/controls",
            "_model_module_version": "1.5.0",
            "_model_name": "FloatProgressModel",
            "_view_count": null,
            "_view_module": "@jupyter-widgets/controls",
            "_view_module_version": "1.5.0",
            "_view_name": "ProgressView",
            "bar_style": "success",
            "description": "",
            "description_tooltip": null,
            "layout": "IPY_MODEL_b9f1f86a597d4933b63763f9b18789cb",
            "max": 133466304,
            "min": 0,
            "orientation": "horizontal",
            "style": "IPY_MODEL_668824bcc27549ef9edd07ece4649a41",
            "value": 133466304
          }
        },
        "7b00fe3123fc43609094708fbf98ba4f": {
          "model_module": "@jupyter-widgets/controls",
          "model_name": "HTMLModel",
          "model_module_version": "1.5.0",
          "state": {
            "_dom_classes": [],
            "_model_module": "@jupyter-widgets/controls",
            "_model_module_version": "1.5.0",
            "_model_name": "HTMLModel",
            "_view_count": null,
            "_view_module": "@jupyter-widgets/controls",
            "_view_module_version": "1.5.0",
            "_view_name": "HTMLView",
            "description": "",
            "description_tooltip": null,
            "layout": "IPY_MODEL_e59e244a052a40fb89db4bcf79526e0f",
            "placeholder": "​",
            "style": "IPY_MODEL_5d5efa1a580b4ab6b3dc3900911a1fca",
            "value": " 133M/133M [00:00&lt;00:00, 221MB/s]"
          }
        },
        "53c5d071ad574a4a8c8a2a2464040ec6": {
          "model_module": "@jupyter-widgets/base",
          "model_name": "LayoutModel",
          "model_module_version": "1.2.0",
          "state": {
            "_model_module": "@jupyter-widgets/base",
            "_model_module_version": "1.2.0",
            "_model_name": "LayoutModel",
            "_view_count": null,
            "_view_module": "@jupyter-widgets/base",
            "_view_module_version": "1.2.0",
            "_view_name": "LayoutView",
            "align_content": null,
            "align_items": null,
            "align_self": null,
            "border": null,
            "bottom": null,
            "display": null,
            "flex": null,
            "flex_flow": null,
            "grid_area": null,
            "grid_auto_columns": null,
            "grid_auto_flow": null,
            "grid_auto_rows": null,
            "grid_column": null,
            "grid_gap": null,
            "grid_row": null,
            "grid_template_areas": null,
            "grid_template_columns": null,
            "grid_template_rows": null,
            "height": null,
            "justify_content": null,
            "justify_items": null,
            "left": null,
            "margin": null,
            "max_height": null,
            "max_width": null,
            "min_height": null,
            "min_width": null,
            "object_fit": null,
            "object_position": null,
            "order": null,
            "overflow": null,
            "overflow_x": null,
            "overflow_y": null,
            "padding": null,
            "right": null,
            "top": null,
            "visibility": null,
            "width": null
          }
        },
        "bac32287c50c4947a187202c9aa0072b": {
          "model_module": "@jupyter-widgets/base",
          "model_name": "LayoutModel",
          "model_module_version": "1.2.0",
          "state": {
            "_model_module": "@jupyter-widgets/base",
            "_model_module_version": "1.2.0",
            "_model_name": "LayoutModel",
            "_view_count": null,
            "_view_module": "@jupyter-widgets/base",
            "_view_module_version": "1.2.0",
            "_view_name": "LayoutView",
            "align_content": null,
            "align_items": null,
            "align_self": null,
            "border": null,
            "bottom": null,
            "display": null,
            "flex": null,
            "flex_flow": null,
            "grid_area": null,
            "grid_auto_columns": null,
            "grid_auto_flow": null,
            "grid_auto_rows": null,
            "grid_column": null,
            "grid_gap": null,
            "grid_row": null,
            "grid_template_areas": null,
            "grid_template_columns": null,
            "grid_template_rows": null,
            "height": null,
            "justify_content": null,
            "justify_items": null,
            "left": null,
            "margin": null,
            "max_height": null,
            "max_width": null,
            "min_height": null,
            "min_width": null,
            "object_fit": null,
            "object_position": null,
            "order": null,
            "overflow": null,
            "overflow_x": null,
            "overflow_y": null,
            "padding": null,
            "right": null,
            "top": null,
            "visibility": null,
            "width": null
          }
        },
        "3a41414f3a674048a99f5a40bc6dc4fb": {
          "model_module": "@jupyter-widgets/controls",
          "model_name": "DescriptionStyleModel",
          "model_module_version": "1.5.0",
          "state": {
            "_model_module": "@jupyter-widgets/controls",
            "_model_module_version": "1.5.0",
            "_model_name": "DescriptionStyleModel",
            "_view_count": null,
            "_view_module": "@jupyter-widgets/base",
            "_view_module_version": "1.2.0",
            "_view_name": "StyleView",
            "description_width": ""
          }
        },
        "b9f1f86a597d4933b63763f9b18789cb": {
          "model_module": "@jupyter-widgets/base",
          "model_name": "LayoutModel",
          "model_module_version": "1.2.0",
          "state": {
            "_model_module": "@jupyter-widgets/base",
            "_model_module_version": "1.2.0",
            "_model_name": "LayoutModel",
            "_view_count": null,
            "_view_module": "@jupyter-widgets/base",
            "_view_module_version": "1.2.0",
            "_view_name": "LayoutView",
            "align_content": null,
            "align_items": null,
            "align_self": null,
            "border": null,
            "bottom": null,
            "display": null,
            "flex": null,
            "flex_flow": null,
            "grid_area": null,
            "grid_auto_columns": null,
            "grid_auto_flow": null,
            "grid_auto_rows": null,
            "grid_column": null,
            "grid_gap": null,
            "grid_row": null,
            "grid_template_areas": null,
            "grid_template_columns": null,
            "grid_template_rows": null,
            "height": null,
            "justify_content": null,
            "justify_items": null,
            "left": null,
            "margin": null,
            "max_height": null,
            "max_width": null,
            "min_height": null,
            "min_width": null,
            "object_fit": null,
            "object_position": null,
            "order": null,
            "overflow": null,
            "overflow_x": null,
            "overflow_y": null,
            "padding": null,
            "right": null,
            "top": null,
            "visibility": null,
            "width": null
          }
        },
        "668824bcc27549ef9edd07ece4649a41": {
          "model_module": "@jupyter-widgets/controls",
          "model_name": "ProgressStyleModel",
          "model_module_version": "1.5.0",
          "state": {
            "_model_module": "@jupyter-widgets/controls",
            "_model_module_version": "1.5.0",
            "_model_name": "ProgressStyleModel",
            "_view_count": null,
            "_view_module": "@jupyter-widgets/base",
            "_view_module_version": "1.2.0",
            "_view_name": "StyleView",
            "bar_color": null,
            "description_width": ""
          }
        },
        "e59e244a052a40fb89db4bcf79526e0f": {
          "model_module": "@jupyter-widgets/base",
          "model_name": "LayoutModel",
          "model_module_version": "1.2.0",
          "state": {
            "_model_module": "@jupyter-widgets/base",
            "_model_module_version": "1.2.0",
            "_model_name": "LayoutModel",
            "_view_count": null,
            "_view_module": "@jupyter-widgets/base",
            "_view_module_version": "1.2.0",
            "_view_name": "LayoutView",
            "align_content": null,
            "align_items": null,
            "align_self": null,
            "border": null,
            "bottom": null,
            "display": null,
            "flex": null,
            "flex_flow": null,
            "grid_area": null,
            "grid_auto_columns": null,
            "grid_auto_flow": null,
            "grid_auto_rows": null,
            "grid_column": null,
            "grid_gap": null,
            "grid_row": null,
            "grid_template_areas": null,
            "grid_template_columns": null,
            "grid_template_rows": null,
            "height": null,
            "justify_content": null,
            "justify_items": null,
            "left": null,
            "margin": null,
            "max_height": null,
            "max_width": null,
            "min_height": null,
            "min_width": null,
            "object_fit": null,
            "object_position": null,
            "order": null,
            "overflow": null,
            "overflow_x": null,
            "overflow_y": null,
            "padding": null,
            "right": null,
            "top": null,
            "visibility": null,
            "width": null
          }
        },
        "5d5efa1a580b4ab6b3dc3900911a1fca": {
          "model_module": "@jupyter-widgets/controls",
          "model_name": "DescriptionStyleModel",
          "model_module_version": "1.5.0",
          "state": {
            "_model_module": "@jupyter-widgets/controls",
            "_model_module_version": "1.5.0",
            "_model_name": "DescriptionStyleModel",
            "_view_count": null,
            "_view_module": "@jupyter-widgets/base",
            "_view_module_version": "1.2.0",
            "_view_name": "StyleView",
            "description_width": ""
          }
        },
        "e7d76f5b12ad4eaaadf55f318456f6e7": {
          "model_module": "@jupyter-widgets/controls",
          "model_name": "HBoxModel",
          "model_module_version": "1.5.0",
          "state": {
            "_dom_classes": [],
            "_model_module": "@jupyter-widgets/controls",
            "_model_module_version": "1.5.0",
            "_model_name": "HBoxModel",
            "_view_count": null,
            "_view_module": "@jupyter-widgets/controls",
            "_view_module_version": "1.5.0",
            "_view_name": "HBoxView",
            "box_style": "",
            "children": [
              "IPY_MODEL_dbc4fdee63b34fc299ca2345da9df85a",
              "IPY_MODEL_05361bda33794b8c93691e483d85e6b5",
              "IPY_MODEL_499dd9963c7045bea74320e670f14e6c"
            ],
            "layout": "IPY_MODEL_6efce024d03a44359044c8f334511817"
          }
        },
        "dbc4fdee63b34fc299ca2345da9df85a": {
          "model_module": "@jupyter-widgets/controls",
          "model_name": "HTMLModel",
          "model_module_version": "1.5.0",
          "state": {
            "_dom_classes": [],
            "_model_module": "@jupyter-widgets/controls",
            "_model_module_version": "1.5.0",
            "_model_name": "HTMLModel",
            "_view_count": null,
            "_view_module": "@jupyter-widgets/controls",
            "_view_module_version": "1.5.0",
            "_view_name": "HTMLView",
            "description": "",
            "description_tooltip": null,
            "layout": "IPY_MODEL_8fafc614a052407893f6500f78ef11d2",
            "placeholder": "​",
            "style": "IPY_MODEL_6933504e155e409899d08cd32a003912",
            "value": "tokenizer_config.json: 100%"
          }
        },
        "05361bda33794b8c93691e483d85e6b5": {
          "model_module": "@jupyter-widgets/controls",
          "model_name": "FloatProgressModel",
          "model_module_version": "1.5.0",
          "state": {
            "_dom_classes": [],
            "_model_module": "@jupyter-widgets/controls",
            "_model_module_version": "1.5.0",
            "_model_name": "FloatProgressModel",
            "_view_count": null,
            "_view_module": "@jupyter-widgets/controls",
            "_view_module_version": "1.5.0",
            "_view_name": "ProgressView",
            "bar_style": "success",
            "description": "",
            "description_tooltip": null,
            "layout": "IPY_MODEL_910f82650dc2486896dd7450c1716728",
            "max": 366,
            "min": 0,
            "orientation": "horizontal",
            "style": "IPY_MODEL_6eba4d57056d4a3c919cb8df694757b8",
            "value": 366
          }
        },
        "499dd9963c7045bea74320e670f14e6c": {
          "model_module": "@jupyter-widgets/controls",
          "model_name": "HTMLModel",
          "model_module_version": "1.5.0",
          "state": {
            "_dom_classes": [],
            "_model_module": "@jupyter-widgets/controls",
            "_model_module_version": "1.5.0",
            "_model_name": "HTMLModel",
            "_view_count": null,
            "_view_module": "@jupyter-widgets/controls",
            "_view_module_version": "1.5.0",
            "_view_name": "HTMLView",
            "description": "",
            "description_tooltip": null,
            "layout": "IPY_MODEL_f55d4d0c4dcb472a94c2cab5a04e2a9e",
            "placeholder": "​",
            "style": "IPY_MODEL_cd3584d105cd4845b14b7e506852d7e4",
            "value": " 366/366 [00:00&lt;00:00, 26.4kB/s]"
          }
        },
        "6efce024d03a44359044c8f334511817": {
          "model_module": "@jupyter-widgets/base",
          "model_name": "LayoutModel",
          "model_module_version": "1.2.0",
          "state": {
            "_model_module": "@jupyter-widgets/base",
            "_model_module_version": "1.2.0",
            "_model_name": "LayoutModel",
            "_view_count": null,
            "_view_module": "@jupyter-widgets/base",
            "_view_module_version": "1.2.0",
            "_view_name": "LayoutView",
            "align_content": null,
            "align_items": null,
            "align_self": null,
            "border": null,
            "bottom": null,
            "display": null,
            "flex": null,
            "flex_flow": null,
            "grid_area": null,
            "grid_auto_columns": null,
            "grid_auto_flow": null,
            "grid_auto_rows": null,
            "grid_column": null,
            "grid_gap": null,
            "grid_row": null,
            "grid_template_areas": null,
            "grid_template_columns": null,
            "grid_template_rows": null,
            "height": null,
            "justify_content": null,
            "justify_items": null,
            "left": null,
            "margin": null,
            "max_height": null,
            "max_width": null,
            "min_height": null,
            "min_width": null,
            "object_fit": null,
            "object_position": null,
            "order": null,
            "overflow": null,
            "overflow_x": null,
            "overflow_y": null,
            "padding": null,
            "right": null,
            "top": null,
            "visibility": null,
            "width": null
          }
        },
        "8fafc614a052407893f6500f78ef11d2": {
          "model_module": "@jupyter-widgets/base",
          "model_name": "LayoutModel",
          "model_module_version": "1.2.0",
          "state": {
            "_model_module": "@jupyter-widgets/base",
            "_model_module_version": "1.2.0",
            "_model_name": "LayoutModel",
            "_view_count": null,
            "_view_module": "@jupyter-widgets/base",
            "_view_module_version": "1.2.0",
            "_view_name": "LayoutView",
            "align_content": null,
            "align_items": null,
            "align_self": null,
            "border": null,
            "bottom": null,
            "display": null,
            "flex": null,
            "flex_flow": null,
            "grid_area": null,
            "grid_auto_columns": null,
            "grid_auto_flow": null,
            "grid_auto_rows": null,
            "grid_column": null,
            "grid_gap": null,
            "grid_row": null,
            "grid_template_areas": null,
            "grid_template_columns": null,
            "grid_template_rows": null,
            "height": null,
            "justify_content": null,
            "justify_items": null,
            "left": null,
            "margin": null,
            "max_height": null,
            "max_width": null,
            "min_height": null,
            "min_width": null,
            "object_fit": null,
            "object_position": null,
            "order": null,
            "overflow": null,
            "overflow_x": null,
            "overflow_y": null,
            "padding": null,
            "right": null,
            "top": null,
            "visibility": null,
            "width": null
          }
        },
        "6933504e155e409899d08cd32a003912": {
          "model_module": "@jupyter-widgets/controls",
          "model_name": "DescriptionStyleModel",
          "model_module_version": "1.5.0",
          "state": {
            "_model_module": "@jupyter-widgets/controls",
            "_model_module_version": "1.5.0",
            "_model_name": "DescriptionStyleModel",
            "_view_count": null,
            "_view_module": "@jupyter-widgets/base",
            "_view_module_version": "1.2.0",
            "_view_name": "StyleView",
            "description_width": ""
          }
        },
        "910f82650dc2486896dd7450c1716728": {
          "model_module": "@jupyter-widgets/base",
          "model_name": "LayoutModel",
          "model_module_version": "1.2.0",
          "state": {
            "_model_module": "@jupyter-widgets/base",
            "_model_module_version": "1.2.0",
            "_model_name": "LayoutModel",
            "_view_count": null,
            "_view_module": "@jupyter-widgets/base",
            "_view_module_version": "1.2.0",
            "_view_name": "LayoutView",
            "align_content": null,
            "align_items": null,
            "align_self": null,
            "border": null,
            "bottom": null,
            "display": null,
            "flex": null,
            "flex_flow": null,
            "grid_area": null,
            "grid_auto_columns": null,
            "grid_auto_flow": null,
            "grid_auto_rows": null,
            "grid_column": null,
            "grid_gap": null,
            "grid_row": null,
            "grid_template_areas": null,
            "grid_template_columns": null,
            "grid_template_rows": null,
            "height": null,
            "justify_content": null,
            "justify_items": null,
            "left": null,
            "margin": null,
            "max_height": null,
            "max_width": null,
            "min_height": null,
            "min_width": null,
            "object_fit": null,
            "object_position": null,
            "order": null,
            "overflow": null,
            "overflow_x": null,
            "overflow_y": null,
            "padding": null,
            "right": null,
            "top": null,
            "visibility": null,
            "width": null
          }
        },
        "6eba4d57056d4a3c919cb8df694757b8": {
          "model_module": "@jupyter-widgets/controls",
          "model_name": "ProgressStyleModel",
          "model_module_version": "1.5.0",
          "state": {
            "_model_module": "@jupyter-widgets/controls",
            "_model_module_version": "1.5.0",
            "_model_name": "ProgressStyleModel",
            "_view_count": null,
            "_view_module": "@jupyter-widgets/base",
            "_view_module_version": "1.2.0",
            "_view_name": "StyleView",
            "bar_color": null,
            "description_width": ""
          }
        },
        "f55d4d0c4dcb472a94c2cab5a04e2a9e": {
          "model_module": "@jupyter-widgets/base",
          "model_name": "LayoutModel",
          "model_module_version": "1.2.0",
          "state": {
            "_model_module": "@jupyter-widgets/base",
            "_model_module_version": "1.2.0",
            "_model_name": "LayoutModel",
            "_view_count": null,
            "_view_module": "@jupyter-widgets/base",
            "_view_module_version": "1.2.0",
            "_view_name": "LayoutView",
            "align_content": null,
            "align_items": null,
            "align_self": null,
            "border": null,
            "bottom": null,
            "display": null,
            "flex": null,
            "flex_flow": null,
            "grid_area": null,
            "grid_auto_columns": null,
            "grid_auto_flow": null,
            "grid_auto_rows": null,
            "grid_column": null,
            "grid_gap": null,
            "grid_row": null,
            "grid_template_areas": null,
            "grid_template_columns": null,
            "grid_template_rows": null,
            "height": null,
            "justify_content": null,
            "justify_items": null,
            "left": null,
            "margin": null,
            "max_height": null,
            "max_width": null,
            "min_height": null,
            "min_width": null,
            "object_fit": null,
            "object_position": null,
            "order": null,
            "overflow": null,
            "overflow_x": null,
            "overflow_y": null,
            "padding": null,
            "right": null,
            "top": null,
            "visibility": null,
            "width": null
          }
        },
        "cd3584d105cd4845b14b7e506852d7e4": {
          "model_module": "@jupyter-widgets/controls",
          "model_name": "DescriptionStyleModel",
          "model_module_version": "1.5.0",
          "state": {
            "_model_module": "@jupyter-widgets/controls",
            "_model_module_version": "1.5.0",
            "_model_name": "DescriptionStyleModel",
            "_view_count": null,
            "_view_module": "@jupyter-widgets/base",
            "_view_module_version": "1.2.0",
            "_view_name": "StyleView",
            "description_width": ""
          }
        },
        "b8c7dabe72904a61879bef5bd790f50c": {
          "model_module": "@jupyter-widgets/controls",
          "model_name": "HBoxModel",
          "model_module_version": "1.5.0",
          "state": {
            "_dom_classes": [],
            "_model_module": "@jupyter-widgets/controls",
            "_model_module_version": "1.5.0",
            "_model_name": "HBoxModel",
            "_view_count": null,
            "_view_module": "@jupyter-widgets/controls",
            "_view_module_version": "1.5.0",
            "_view_name": "HBoxView",
            "box_style": "",
            "children": [
              "IPY_MODEL_f6608a55cbc84bf3920cc0c0f28721b6",
              "IPY_MODEL_7d79fb6960324ac4927cc33d94450a71",
              "IPY_MODEL_7b1cd89d65894150bf593bd3a696ab72"
            ],
            "layout": "IPY_MODEL_1ab3f8f8ab514a9bb7b8256648c0d0c3"
          }
        },
        "f6608a55cbc84bf3920cc0c0f28721b6": {
          "model_module": "@jupyter-widgets/controls",
          "model_name": "HTMLModel",
          "model_module_version": "1.5.0",
          "state": {
            "_dom_classes": [],
            "_model_module": "@jupyter-widgets/controls",
            "_model_module_version": "1.5.0",
            "_model_name": "HTMLModel",
            "_view_count": null,
            "_view_module": "@jupyter-widgets/controls",
            "_view_module_version": "1.5.0",
            "_view_name": "HTMLView",
            "description": "",
            "description_tooltip": null,
            "layout": "IPY_MODEL_2059f6ca51ce4b80b8911fa7c262eb92",
            "placeholder": "​",
            "style": "IPY_MODEL_f72fb68e9a954d44829d821711e893fb",
            "value": "vocab.txt: 100%"
          }
        },
        "7d79fb6960324ac4927cc33d94450a71": {
          "model_module": "@jupyter-widgets/controls",
          "model_name": "FloatProgressModel",
          "model_module_version": "1.5.0",
          "state": {
            "_dom_classes": [],
            "_model_module": "@jupyter-widgets/controls",
            "_model_module_version": "1.5.0",
            "_model_name": "FloatProgressModel",
            "_view_count": null,
            "_view_module": "@jupyter-widgets/controls",
            "_view_module_version": "1.5.0",
            "_view_name": "ProgressView",
            "bar_style": "success",
            "description": "",
            "description_tooltip": null,
            "layout": "IPY_MODEL_72ec1cd42ae44dd68b1c981c75c69ecf",
            "max": 231508,
            "min": 0,
            "orientation": "horizontal",
            "style": "IPY_MODEL_ecfa56fb2ba044709ce8d846163c4222",
            "value": 231508
          }
        },
        "7b1cd89d65894150bf593bd3a696ab72": {
          "model_module": "@jupyter-widgets/controls",
          "model_name": "HTMLModel",
          "model_module_version": "1.5.0",
          "state": {
            "_dom_classes": [],
            "_model_module": "@jupyter-widgets/controls",
            "_model_module_version": "1.5.0",
            "_model_name": "HTMLModel",
            "_view_count": null,
            "_view_module": "@jupyter-widgets/controls",
            "_view_module_version": "1.5.0",
            "_view_name": "HTMLView",
            "description": "",
            "description_tooltip": null,
            "layout": "IPY_MODEL_ec857edf49da49a7b94bc6b8346ad1ac",
            "placeholder": "​",
            "style": "IPY_MODEL_c37f66207946477aae8ab630a8b5b004",
            "value": " 232k/232k [00:00&lt;00:00, 1.80MB/s]"
          }
        },
        "1ab3f8f8ab514a9bb7b8256648c0d0c3": {
          "model_module": "@jupyter-widgets/base",
          "model_name": "LayoutModel",
          "model_module_version": "1.2.0",
          "state": {
            "_model_module": "@jupyter-widgets/base",
            "_model_module_version": "1.2.0",
            "_model_name": "LayoutModel",
            "_view_count": null,
            "_view_module": "@jupyter-widgets/base",
            "_view_module_version": "1.2.0",
            "_view_name": "LayoutView",
            "align_content": null,
            "align_items": null,
            "align_self": null,
            "border": null,
            "bottom": null,
            "display": null,
            "flex": null,
            "flex_flow": null,
            "grid_area": null,
            "grid_auto_columns": null,
            "grid_auto_flow": null,
            "grid_auto_rows": null,
            "grid_column": null,
            "grid_gap": null,
            "grid_row": null,
            "grid_template_areas": null,
            "grid_template_columns": null,
            "grid_template_rows": null,
            "height": null,
            "justify_content": null,
            "justify_items": null,
            "left": null,
            "margin": null,
            "max_height": null,
            "max_width": null,
            "min_height": null,
            "min_width": null,
            "object_fit": null,
            "object_position": null,
            "order": null,
            "overflow": null,
            "overflow_x": null,
            "overflow_y": null,
            "padding": null,
            "right": null,
            "top": null,
            "visibility": null,
            "width": null
          }
        },
        "2059f6ca51ce4b80b8911fa7c262eb92": {
          "model_module": "@jupyter-widgets/base",
          "model_name": "LayoutModel",
          "model_module_version": "1.2.0",
          "state": {
            "_model_module": "@jupyter-widgets/base",
            "_model_module_version": "1.2.0",
            "_model_name": "LayoutModel",
            "_view_count": null,
            "_view_module": "@jupyter-widgets/base",
            "_view_module_version": "1.2.0",
            "_view_name": "LayoutView",
            "align_content": null,
            "align_items": null,
            "align_self": null,
            "border": null,
            "bottom": null,
            "display": null,
            "flex": null,
            "flex_flow": null,
            "grid_area": null,
            "grid_auto_columns": null,
            "grid_auto_flow": null,
            "grid_auto_rows": null,
            "grid_column": null,
            "grid_gap": null,
            "grid_row": null,
            "grid_template_areas": null,
            "grid_template_columns": null,
            "grid_template_rows": null,
            "height": null,
            "justify_content": null,
            "justify_items": null,
            "left": null,
            "margin": null,
            "max_height": null,
            "max_width": null,
            "min_height": null,
            "min_width": null,
            "object_fit": null,
            "object_position": null,
            "order": null,
            "overflow": null,
            "overflow_x": null,
            "overflow_y": null,
            "padding": null,
            "right": null,
            "top": null,
            "visibility": null,
            "width": null
          }
        },
        "f72fb68e9a954d44829d821711e893fb": {
          "model_module": "@jupyter-widgets/controls",
          "model_name": "DescriptionStyleModel",
          "model_module_version": "1.5.0",
          "state": {
            "_model_module": "@jupyter-widgets/controls",
            "_model_module_version": "1.5.0",
            "_model_name": "DescriptionStyleModel",
            "_view_count": null,
            "_view_module": "@jupyter-widgets/base",
            "_view_module_version": "1.2.0",
            "_view_name": "StyleView",
            "description_width": ""
          }
        },
        "72ec1cd42ae44dd68b1c981c75c69ecf": {
          "model_module": "@jupyter-widgets/base",
          "model_name": "LayoutModel",
          "model_module_version": "1.2.0",
          "state": {
            "_model_module": "@jupyter-widgets/base",
            "_model_module_version": "1.2.0",
            "_model_name": "LayoutModel",
            "_view_count": null,
            "_view_module": "@jupyter-widgets/base",
            "_view_module_version": "1.2.0",
            "_view_name": "LayoutView",
            "align_content": null,
            "align_items": null,
            "align_self": null,
            "border": null,
            "bottom": null,
            "display": null,
            "flex": null,
            "flex_flow": null,
            "grid_area": null,
            "grid_auto_columns": null,
            "grid_auto_flow": null,
            "grid_auto_rows": null,
            "grid_column": null,
            "grid_gap": null,
            "grid_row": null,
            "grid_template_areas": null,
            "grid_template_columns": null,
            "grid_template_rows": null,
            "height": null,
            "justify_content": null,
            "justify_items": null,
            "left": null,
            "margin": null,
            "max_height": null,
            "max_width": null,
            "min_height": null,
            "min_width": null,
            "object_fit": null,
            "object_position": null,
            "order": null,
            "overflow": null,
            "overflow_x": null,
            "overflow_y": null,
            "padding": null,
            "right": null,
            "top": null,
            "visibility": null,
            "width": null
          }
        },
        "ecfa56fb2ba044709ce8d846163c4222": {
          "model_module": "@jupyter-widgets/controls",
          "model_name": "ProgressStyleModel",
          "model_module_version": "1.5.0",
          "state": {
            "_model_module": "@jupyter-widgets/controls",
            "_model_module_version": "1.5.0",
            "_model_name": "ProgressStyleModel",
            "_view_count": null,
            "_view_module": "@jupyter-widgets/base",
            "_view_module_version": "1.2.0",
            "_view_name": "StyleView",
            "bar_color": null,
            "description_width": ""
          }
        },
        "ec857edf49da49a7b94bc6b8346ad1ac": {
          "model_module": "@jupyter-widgets/base",
          "model_name": "LayoutModel",
          "model_module_version": "1.2.0",
          "state": {
            "_model_module": "@jupyter-widgets/base",
            "_model_module_version": "1.2.0",
            "_model_name": "LayoutModel",
            "_view_count": null,
            "_view_module": "@jupyter-widgets/base",
            "_view_module_version": "1.2.0",
            "_view_name": "LayoutView",
            "align_content": null,
            "align_items": null,
            "align_self": null,
            "border": null,
            "bottom": null,
            "display": null,
            "flex": null,
            "flex_flow": null,
            "grid_area": null,
            "grid_auto_columns": null,
            "grid_auto_flow": null,
            "grid_auto_rows": null,
            "grid_column": null,
            "grid_gap": null,
            "grid_row": null,
            "grid_template_areas": null,
            "grid_template_columns": null,
            "grid_template_rows": null,
            "height": null,
            "justify_content": null,
            "justify_items": null,
            "left": null,
            "margin": null,
            "max_height": null,
            "max_width": null,
            "min_height": null,
            "min_width": null,
            "object_fit": null,
            "object_position": null,
            "order": null,
            "overflow": null,
            "overflow_x": null,
            "overflow_y": null,
            "padding": null,
            "right": null,
            "top": null,
            "visibility": null,
            "width": null
          }
        },
        "c37f66207946477aae8ab630a8b5b004": {
          "model_module": "@jupyter-widgets/controls",
          "model_name": "DescriptionStyleModel",
          "model_module_version": "1.5.0",
          "state": {
            "_model_module": "@jupyter-widgets/controls",
            "_model_module_version": "1.5.0",
            "_model_name": "DescriptionStyleModel",
            "_view_count": null,
            "_view_module": "@jupyter-widgets/base",
            "_view_module_version": "1.2.0",
            "_view_name": "StyleView",
            "description_width": ""
          }
        },
        "22a7e99173434153bcddc01d8559d626": {
          "model_module": "@jupyter-widgets/controls",
          "model_name": "HBoxModel",
          "model_module_version": "1.5.0",
          "state": {
            "_dom_classes": [],
            "_model_module": "@jupyter-widgets/controls",
            "_model_module_version": "1.5.0",
            "_model_name": "HBoxModel",
            "_view_count": null,
            "_view_module": "@jupyter-widgets/controls",
            "_view_module_version": "1.5.0",
            "_view_name": "HBoxView",
            "box_style": "",
            "children": [
              "IPY_MODEL_5ebfad4d04e4406c9f975660ed26ae6e",
              "IPY_MODEL_790b2f3be72b419d894e9e74098556a2",
              "IPY_MODEL_37e7d92f6def40668c1af5b99fc89158"
            ],
            "layout": "IPY_MODEL_daeeab8b14a64a1090303cc5d7456a09"
          }
        },
        "5ebfad4d04e4406c9f975660ed26ae6e": {
          "model_module": "@jupyter-widgets/controls",
          "model_name": "HTMLModel",
          "model_module_version": "1.5.0",
          "state": {
            "_dom_classes": [],
            "_model_module": "@jupyter-widgets/controls",
            "_model_module_version": "1.5.0",
            "_model_name": "HTMLModel",
            "_view_count": null,
            "_view_module": "@jupyter-widgets/controls",
            "_view_module_version": "1.5.0",
            "_view_name": "HTMLView",
            "description": "",
            "description_tooltip": null,
            "layout": "IPY_MODEL_bdb48d2f31d743248ebae5532c7cfeea",
            "placeholder": "​",
            "style": "IPY_MODEL_fab8cfae3c204010841daa93610ff8d5",
            "value": "tokenizer.json: 100%"
          }
        },
        "790b2f3be72b419d894e9e74098556a2": {
          "model_module": "@jupyter-widgets/controls",
          "model_name": "FloatProgressModel",
          "model_module_version": "1.5.0",
          "state": {
            "_dom_classes": [],
            "_model_module": "@jupyter-widgets/controls",
            "_model_module_version": "1.5.0",
            "_model_name": "FloatProgressModel",
            "_view_count": null,
            "_view_module": "@jupyter-widgets/controls",
            "_view_module_version": "1.5.0",
            "_view_name": "ProgressView",
            "bar_style": "success",
            "description": "",
            "description_tooltip": null,
            "layout": "IPY_MODEL_2a09f32a00b74044adf58c34b38d7e13",
            "max": 711396,
            "min": 0,
            "orientation": "horizontal",
            "style": "IPY_MODEL_13480268e4464b30878648de9f0b9cc5",
            "value": 711396
          }
        },
        "37e7d92f6def40668c1af5b99fc89158": {
          "model_module": "@jupyter-widgets/controls",
          "model_name": "HTMLModel",
          "model_module_version": "1.5.0",
          "state": {
            "_dom_classes": [],
            "_model_module": "@jupyter-widgets/controls",
            "_model_module_version": "1.5.0",
            "_model_name": "HTMLModel",
            "_view_count": null,
            "_view_module": "@jupyter-widgets/controls",
            "_view_module_version": "1.5.0",
            "_view_name": "HTMLView",
            "description": "",
            "description_tooltip": null,
            "layout": "IPY_MODEL_cf4e781a8512491ba1ce32b335f5766c",
            "placeholder": "​",
            "style": "IPY_MODEL_0230b3c4018f421db051b2cbec892088",
            "value": " 711k/711k [00:00&lt;00:00, 3.67MB/s]"
          }
        },
        "daeeab8b14a64a1090303cc5d7456a09": {
          "model_module": "@jupyter-widgets/base",
          "model_name": "LayoutModel",
          "model_module_version": "1.2.0",
          "state": {
            "_model_module": "@jupyter-widgets/base",
            "_model_module_version": "1.2.0",
            "_model_name": "LayoutModel",
            "_view_count": null,
            "_view_module": "@jupyter-widgets/base",
            "_view_module_version": "1.2.0",
            "_view_name": "LayoutView",
            "align_content": null,
            "align_items": null,
            "align_self": null,
            "border": null,
            "bottom": null,
            "display": null,
            "flex": null,
            "flex_flow": null,
            "grid_area": null,
            "grid_auto_columns": null,
            "grid_auto_flow": null,
            "grid_auto_rows": null,
            "grid_column": null,
            "grid_gap": null,
            "grid_row": null,
            "grid_template_areas": null,
            "grid_template_columns": null,
            "grid_template_rows": null,
            "height": null,
            "justify_content": null,
            "justify_items": null,
            "left": null,
            "margin": null,
            "max_height": null,
            "max_width": null,
            "min_height": null,
            "min_width": null,
            "object_fit": null,
            "object_position": null,
            "order": null,
            "overflow": null,
            "overflow_x": null,
            "overflow_y": null,
            "padding": null,
            "right": null,
            "top": null,
            "visibility": null,
            "width": null
          }
        },
        "bdb48d2f31d743248ebae5532c7cfeea": {
          "model_module": "@jupyter-widgets/base",
          "model_name": "LayoutModel",
          "model_module_version": "1.2.0",
          "state": {
            "_model_module": "@jupyter-widgets/base",
            "_model_module_version": "1.2.0",
            "_model_name": "LayoutModel",
            "_view_count": null,
            "_view_module": "@jupyter-widgets/base",
            "_view_module_version": "1.2.0",
            "_view_name": "LayoutView",
            "align_content": null,
            "align_items": null,
            "align_self": null,
            "border": null,
            "bottom": null,
            "display": null,
            "flex": null,
            "flex_flow": null,
            "grid_area": null,
            "grid_auto_columns": null,
            "grid_auto_flow": null,
            "grid_auto_rows": null,
            "grid_column": null,
            "grid_gap": null,
            "grid_row": null,
            "grid_template_areas": null,
            "grid_template_columns": null,
            "grid_template_rows": null,
            "height": null,
            "justify_content": null,
            "justify_items": null,
            "left": null,
            "margin": null,
            "max_height": null,
            "max_width": null,
            "min_height": null,
            "min_width": null,
            "object_fit": null,
            "object_position": null,
            "order": null,
            "overflow": null,
            "overflow_x": null,
            "overflow_y": null,
            "padding": null,
            "right": null,
            "top": null,
            "visibility": null,
            "width": null
          }
        },
        "fab8cfae3c204010841daa93610ff8d5": {
          "model_module": "@jupyter-widgets/controls",
          "model_name": "DescriptionStyleModel",
          "model_module_version": "1.5.0",
          "state": {
            "_model_module": "@jupyter-widgets/controls",
            "_model_module_version": "1.5.0",
            "_model_name": "DescriptionStyleModel",
            "_view_count": null,
            "_view_module": "@jupyter-widgets/base",
            "_view_module_version": "1.2.0",
            "_view_name": "StyleView",
            "description_width": ""
          }
        },
        "2a09f32a00b74044adf58c34b38d7e13": {
          "model_module": "@jupyter-widgets/base",
          "model_name": "LayoutModel",
          "model_module_version": "1.2.0",
          "state": {
            "_model_module": "@jupyter-widgets/base",
            "_model_module_version": "1.2.0",
            "_model_name": "LayoutModel",
            "_view_count": null,
            "_view_module": "@jupyter-widgets/base",
            "_view_module_version": "1.2.0",
            "_view_name": "LayoutView",
            "align_content": null,
            "align_items": null,
            "align_self": null,
            "border": null,
            "bottom": null,
            "display": null,
            "flex": null,
            "flex_flow": null,
            "grid_area": null,
            "grid_auto_columns": null,
            "grid_auto_flow": null,
            "grid_auto_rows": null,
            "grid_column": null,
            "grid_gap": null,
            "grid_row": null,
            "grid_template_areas": null,
            "grid_template_columns": null,
            "grid_template_rows": null,
            "height": null,
            "justify_content": null,
            "justify_items": null,
            "left": null,
            "margin": null,
            "max_height": null,
            "max_width": null,
            "min_height": null,
            "min_width": null,
            "object_fit": null,
            "object_position": null,
            "order": null,
            "overflow": null,
            "overflow_x": null,
            "overflow_y": null,
            "padding": null,
            "right": null,
            "top": null,
            "visibility": null,
            "width": null
          }
        },
        "13480268e4464b30878648de9f0b9cc5": {
          "model_module": "@jupyter-widgets/controls",
          "model_name": "ProgressStyleModel",
          "model_module_version": "1.5.0",
          "state": {
            "_model_module": "@jupyter-widgets/controls",
            "_model_module_version": "1.5.0",
            "_model_name": "ProgressStyleModel",
            "_view_count": null,
            "_view_module": "@jupyter-widgets/base",
            "_view_module_version": "1.2.0",
            "_view_name": "StyleView",
            "bar_color": null,
            "description_width": ""
          }
        },
        "cf4e781a8512491ba1ce32b335f5766c": {
          "model_module": "@jupyter-widgets/base",
          "model_name": "LayoutModel",
          "model_module_version": "1.2.0",
          "state": {
            "_model_module": "@jupyter-widgets/base",
            "_model_module_version": "1.2.0",
            "_model_name": "LayoutModel",
            "_view_count": null,
            "_view_module": "@jupyter-widgets/base",
            "_view_module_version": "1.2.0",
            "_view_name": "LayoutView",
            "align_content": null,
            "align_items": null,
            "align_self": null,
            "border": null,
            "bottom": null,
            "display": null,
            "flex": null,
            "flex_flow": null,
            "grid_area": null,
            "grid_auto_columns": null,
            "grid_auto_flow": null,
            "grid_auto_rows": null,
            "grid_column": null,
            "grid_gap": null,
            "grid_row": null,
            "grid_template_areas": null,
            "grid_template_columns": null,
            "grid_template_rows": null,
            "height": null,
            "justify_content": null,
            "justify_items": null,
            "left": null,
            "margin": null,
            "max_height": null,
            "max_width": null,
            "min_height": null,
            "min_width": null,
            "object_fit": null,
            "object_position": null,
            "order": null,
            "overflow": null,
            "overflow_x": null,
            "overflow_y": null,
            "padding": null,
            "right": null,
            "top": null,
            "visibility": null,
            "width": null
          }
        },
        "0230b3c4018f421db051b2cbec892088": {
          "model_module": "@jupyter-widgets/controls",
          "model_name": "DescriptionStyleModel",
          "model_module_version": "1.5.0",
          "state": {
            "_model_module": "@jupyter-widgets/controls",
            "_model_module_version": "1.5.0",
            "_model_name": "DescriptionStyleModel",
            "_view_count": null,
            "_view_module": "@jupyter-widgets/base",
            "_view_module_version": "1.2.0",
            "_view_name": "StyleView",
            "description_width": ""
          }
        },
        "f84d303a2a1247fc92240532c77f4216": {
          "model_module": "@jupyter-widgets/controls",
          "model_name": "HBoxModel",
          "model_module_version": "1.5.0",
          "state": {
            "_dom_classes": [],
            "_model_module": "@jupyter-widgets/controls",
            "_model_module_version": "1.5.0",
            "_model_name": "HBoxModel",
            "_view_count": null,
            "_view_module": "@jupyter-widgets/controls",
            "_view_module_version": "1.5.0",
            "_view_name": "HBoxView",
            "box_style": "",
            "children": [
              "IPY_MODEL_a90f0e674ea84148b1f5d33aca869dfc",
              "IPY_MODEL_09049cf7c2ba483bb2063ffb5ed81718",
              "IPY_MODEL_4cd727cbb8614e6ca381dadca2b9c688"
            ],
            "layout": "IPY_MODEL_731ce04d7b7a453eabe033b4d19c9418"
          }
        },
        "a90f0e674ea84148b1f5d33aca869dfc": {
          "model_module": "@jupyter-widgets/controls",
          "model_name": "HTMLModel",
          "model_module_version": "1.5.0",
          "state": {
            "_dom_classes": [],
            "_model_module": "@jupyter-widgets/controls",
            "_model_module_version": "1.5.0",
            "_model_name": "HTMLModel",
            "_view_count": null,
            "_view_module": "@jupyter-widgets/controls",
            "_view_module_version": "1.5.0",
            "_view_name": "HTMLView",
            "description": "",
            "description_tooltip": null,
            "layout": "IPY_MODEL_1761678fdf2846f48c25288e92f77764",
            "placeholder": "​",
            "style": "IPY_MODEL_1f8d2ca3cdce43f1b50b8f776d0ed8fc",
            "value": "special_tokens_map.json: 100%"
          }
        },
        "09049cf7c2ba483bb2063ffb5ed81718": {
          "model_module": "@jupyter-widgets/controls",
          "model_name": "FloatProgressModel",
          "model_module_version": "1.5.0",
          "state": {
            "_dom_classes": [],
            "_model_module": "@jupyter-widgets/controls",
            "_model_module_version": "1.5.0",
            "_model_name": "FloatProgressModel",
            "_view_count": null,
            "_view_module": "@jupyter-widgets/controls",
            "_view_module_version": "1.5.0",
            "_view_name": "ProgressView",
            "bar_style": "success",
            "description": "",
            "description_tooltip": null,
            "layout": "IPY_MODEL_f69ef1690fa94ee38648d9ebdb4c5c90",
            "max": 125,
            "min": 0,
            "orientation": "horizontal",
            "style": "IPY_MODEL_8f64e86d53f348eda2579819daa809b8",
            "value": 125
          }
        },
        "4cd727cbb8614e6ca381dadca2b9c688": {
          "model_module": "@jupyter-widgets/controls",
          "model_name": "HTMLModel",
          "model_module_version": "1.5.0",
          "state": {
            "_dom_classes": [],
            "_model_module": "@jupyter-widgets/controls",
            "_model_module_version": "1.5.0",
            "_model_name": "HTMLModel",
            "_view_count": null,
            "_view_module": "@jupyter-widgets/controls",
            "_view_module_version": "1.5.0",
            "_view_name": "HTMLView",
            "description": "",
            "description_tooltip": null,
            "layout": "IPY_MODEL_da3766dddeee4b6ea279239b5cb9a53f",
            "placeholder": "​",
            "style": "IPY_MODEL_6a788e36d64c4a999a7966eb82441cc6",
            "value": " 125/125 [00:00&lt;00:00, 9.28kB/s]"
          }
        },
        "731ce04d7b7a453eabe033b4d19c9418": {
          "model_module": "@jupyter-widgets/base",
          "model_name": "LayoutModel",
          "model_module_version": "1.2.0",
          "state": {
            "_model_module": "@jupyter-widgets/base",
            "_model_module_version": "1.2.0",
            "_model_name": "LayoutModel",
            "_view_count": null,
            "_view_module": "@jupyter-widgets/base",
            "_view_module_version": "1.2.0",
            "_view_name": "LayoutView",
            "align_content": null,
            "align_items": null,
            "align_self": null,
            "border": null,
            "bottom": null,
            "display": null,
            "flex": null,
            "flex_flow": null,
            "grid_area": null,
            "grid_auto_columns": null,
            "grid_auto_flow": null,
            "grid_auto_rows": null,
            "grid_column": null,
            "grid_gap": null,
            "grid_row": null,
            "grid_template_areas": null,
            "grid_template_columns": null,
            "grid_template_rows": null,
            "height": null,
            "justify_content": null,
            "justify_items": null,
            "left": null,
            "margin": null,
            "max_height": null,
            "max_width": null,
            "min_height": null,
            "min_width": null,
            "object_fit": null,
            "object_position": null,
            "order": null,
            "overflow": null,
            "overflow_x": null,
            "overflow_y": null,
            "padding": null,
            "right": null,
            "top": null,
            "visibility": null,
            "width": null
          }
        },
        "1761678fdf2846f48c25288e92f77764": {
          "model_module": "@jupyter-widgets/base",
          "model_name": "LayoutModel",
          "model_module_version": "1.2.0",
          "state": {
            "_model_module": "@jupyter-widgets/base",
            "_model_module_version": "1.2.0",
            "_model_name": "LayoutModel",
            "_view_count": null,
            "_view_module": "@jupyter-widgets/base",
            "_view_module_version": "1.2.0",
            "_view_name": "LayoutView",
            "align_content": null,
            "align_items": null,
            "align_self": null,
            "border": null,
            "bottom": null,
            "display": null,
            "flex": null,
            "flex_flow": null,
            "grid_area": null,
            "grid_auto_columns": null,
            "grid_auto_flow": null,
            "grid_auto_rows": null,
            "grid_column": null,
            "grid_gap": null,
            "grid_row": null,
            "grid_template_areas": null,
            "grid_template_columns": null,
            "grid_template_rows": null,
            "height": null,
            "justify_content": null,
            "justify_items": null,
            "left": null,
            "margin": null,
            "max_height": null,
            "max_width": null,
            "min_height": null,
            "min_width": null,
            "object_fit": null,
            "object_position": null,
            "order": null,
            "overflow": null,
            "overflow_x": null,
            "overflow_y": null,
            "padding": null,
            "right": null,
            "top": null,
            "visibility": null,
            "width": null
          }
        },
        "1f8d2ca3cdce43f1b50b8f776d0ed8fc": {
          "model_module": "@jupyter-widgets/controls",
          "model_name": "DescriptionStyleModel",
          "model_module_version": "1.5.0",
          "state": {
            "_model_module": "@jupyter-widgets/controls",
            "_model_module_version": "1.5.0",
            "_model_name": "DescriptionStyleModel",
            "_view_count": null,
            "_view_module": "@jupyter-widgets/base",
            "_view_module_version": "1.2.0",
            "_view_name": "StyleView",
            "description_width": ""
          }
        },
        "f69ef1690fa94ee38648d9ebdb4c5c90": {
          "model_module": "@jupyter-widgets/base",
          "model_name": "LayoutModel",
          "model_module_version": "1.2.0",
          "state": {
            "_model_module": "@jupyter-widgets/base",
            "_model_module_version": "1.2.0",
            "_model_name": "LayoutModel",
            "_view_count": null,
            "_view_module": "@jupyter-widgets/base",
            "_view_module_version": "1.2.0",
            "_view_name": "LayoutView",
            "align_content": null,
            "align_items": null,
            "align_self": null,
            "border": null,
            "bottom": null,
            "display": null,
            "flex": null,
            "flex_flow": null,
            "grid_area": null,
            "grid_auto_columns": null,
            "grid_auto_flow": null,
            "grid_auto_rows": null,
            "grid_column": null,
            "grid_gap": null,
            "grid_row": null,
            "grid_template_areas": null,
            "grid_template_columns": null,
            "grid_template_rows": null,
            "height": null,
            "justify_content": null,
            "justify_items": null,
            "left": null,
            "margin": null,
            "max_height": null,
            "max_width": null,
            "min_height": null,
            "min_width": null,
            "object_fit": null,
            "object_position": null,
            "order": null,
            "overflow": null,
            "overflow_x": null,
            "overflow_y": null,
            "padding": null,
            "right": null,
            "top": null,
            "visibility": null,
            "width": null
          }
        },
        "8f64e86d53f348eda2579819daa809b8": {
          "model_module": "@jupyter-widgets/controls",
          "model_name": "ProgressStyleModel",
          "model_module_version": "1.5.0",
          "state": {
            "_model_module": "@jupyter-widgets/controls",
            "_model_module_version": "1.5.0",
            "_model_name": "ProgressStyleModel",
            "_view_count": null,
            "_view_module": "@jupyter-widgets/base",
            "_view_module_version": "1.2.0",
            "_view_name": "StyleView",
            "bar_color": null,
            "description_width": ""
          }
        },
        "da3766dddeee4b6ea279239b5cb9a53f": {
          "model_module": "@jupyter-widgets/base",
          "model_name": "LayoutModel",
          "model_module_version": "1.2.0",
          "state": {
            "_model_module": "@jupyter-widgets/base",
            "_model_module_version": "1.2.0",
            "_model_name": "LayoutModel",
            "_view_count": null,
            "_view_module": "@jupyter-widgets/base",
            "_view_module_version": "1.2.0",
            "_view_name": "LayoutView",
            "align_content": null,
            "align_items": null,
            "align_self": null,
            "border": null,
            "bottom": null,
            "display": null,
            "flex": null,
            "flex_flow": null,
            "grid_area": null,
            "grid_auto_columns": null,
            "grid_auto_flow": null,
            "grid_auto_rows": null,
            "grid_column": null,
            "grid_gap": null,
            "grid_row": null,
            "grid_template_areas": null,
            "grid_template_columns": null,
            "grid_template_rows": null,
            "height": null,
            "justify_content": null,
            "justify_items": null,
            "left": null,
            "margin": null,
            "max_height": null,
            "max_width": null,
            "min_height": null,
            "min_width": null,
            "object_fit": null,
            "object_position": null,
            "order": null,
            "overflow": null,
            "overflow_x": null,
            "overflow_y": null,
            "padding": null,
            "right": null,
            "top": null,
            "visibility": null,
            "width": null
          }
        },
        "6a788e36d64c4a999a7966eb82441cc6": {
          "model_module": "@jupyter-widgets/controls",
          "model_name": "DescriptionStyleModel",
          "model_module_version": "1.5.0",
          "state": {
            "_model_module": "@jupyter-widgets/controls",
            "_model_module_version": "1.5.0",
            "_model_name": "DescriptionStyleModel",
            "_view_count": null,
            "_view_module": "@jupyter-widgets/base",
            "_view_module_version": "1.2.0",
            "_view_name": "StyleView",
            "description_width": ""
          }
        },
        "859568069f9249c6a0d25156032f79c4": {
          "model_module": "@jupyter-widgets/controls",
          "model_name": "HBoxModel",
          "model_module_version": "1.5.0",
          "state": {
            "_dom_classes": [],
            "_model_module": "@jupyter-widgets/controls",
            "_model_module_version": "1.5.0",
            "_model_name": "HBoxModel",
            "_view_count": null,
            "_view_module": "@jupyter-widgets/controls",
            "_view_module_version": "1.5.0",
            "_view_name": "HBoxView",
            "box_style": "",
            "children": [
              "IPY_MODEL_c314cb8399b1483da5b10da4b789e3bf",
              "IPY_MODEL_564dd34cae64457ea576a2485a642122",
              "IPY_MODEL_fa3385afa5524dbcaa02f04b58073978"
            ],
            "layout": "IPY_MODEL_e1fc71b88fa740dd965529d6ea9569f6"
          }
        },
        "c314cb8399b1483da5b10da4b789e3bf": {
          "model_module": "@jupyter-widgets/controls",
          "model_name": "HTMLModel",
          "model_module_version": "1.5.0",
          "state": {
            "_dom_classes": [],
            "_model_module": "@jupyter-widgets/controls",
            "_model_module_version": "1.5.0",
            "_model_name": "HTMLModel",
            "_view_count": null,
            "_view_module": "@jupyter-widgets/controls",
            "_view_module_version": "1.5.0",
            "_view_name": "HTMLView",
            "description": "",
            "description_tooltip": null,
            "layout": "IPY_MODEL_92a7e5cdab9547bf9128d8b53afde60a",
            "placeholder": "​",
            "style": "IPY_MODEL_34d4efff4ebb4c33a3e9a224b9dec0df",
            "value": "1_Pooling/config.json: 100%"
          }
        },
        "564dd34cae64457ea576a2485a642122": {
          "model_module": "@jupyter-widgets/controls",
          "model_name": "FloatProgressModel",
          "model_module_version": "1.5.0",
          "state": {
            "_dom_classes": [],
            "_model_module": "@jupyter-widgets/controls",
            "_model_module_version": "1.5.0",
            "_model_name": "FloatProgressModel",
            "_view_count": null,
            "_view_module": "@jupyter-widgets/controls",
            "_view_module_version": "1.5.0",
            "_view_name": "ProgressView",
            "bar_style": "success",
            "description": "",
            "description_tooltip": null,
            "layout": "IPY_MODEL_ff5b4bd968d446a4ba437567587793a8",
            "max": 190,
            "min": 0,
            "orientation": "horizontal",
            "style": "IPY_MODEL_aa0aac87af5d480e971f0054c8902bcd",
            "value": 190
          }
        },
        "fa3385afa5524dbcaa02f04b58073978": {
          "model_module": "@jupyter-widgets/controls",
          "model_name": "HTMLModel",
          "model_module_version": "1.5.0",
          "state": {
            "_dom_classes": [],
            "_model_module": "@jupyter-widgets/controls",
            "_model_module_version": "1.5.0",
            "_model_name": "HTMLModel",
            "_view_count": null,
            "_view_module": "@jupyter-widgets/controls",
            "_view_module_version": "1.5.0",
            "_view_name": "HTMLView",
            "description": "",
            "description_tooltip": null,
            "layout": "IPY_MODEL_9c102684c05c4564ab532b3a995f4e96",
            "placeholder": "​",
            "style": "IPY_MODEL_169c225579d94d7594fa675d7754df11",
            "value": " 190/190 [00:00&lt;00:00, 14.6kB/s]"
          }
        },
        "e1fc71b88fa740dd965529d6ea9569f6": {
          "model_module": "@jupyter-widgets/base",
          "model_name": "LayoutModel",
          "model_module_version": "1.2.0",
          "state": {
            "_model_module": "@jupyter-widgets/base",
            "_model_module_version": "1.2.0",
            "_model_name": "LayoutModel",
            "_view_count": null,
            "_view_module": "@jupyter-widgets/base",
            "_view_module_version": "1.2.0",
            "_view_name": "LayoutView",
            "align_content": null,
            "align_items": null,
            "align_self": null,
            "border": null,
            "bottom": null,
            "display": null,
            "flex": null,
            "flex_flow": null,
            "grid_area": null,
            "grid_auto_columns": null,
            "grid_auto_flow": null,
            "grid_auto_rows": null,
            "grid_column": null,
            "grid_gap": null,
            "grid_row": null,
            "grid_template_areas": null,
            "grid_template_columns": null,
            "grid_template_rows": null,
            "height": null,
            "justify_content": null,
            "justify_items": null,
            "left": null,
            "margin": null,
            "max_height": null,
            "max_width": null,
            "min_height": null,
            "min_width": null,
            "object_fit": null,
            "object_position": null,
            "order": null,
            "overflow": null,
            "overflow_x": null,
            "overflow_y": null,
            "padding": null,
            "right": null,
            "top": null,
            "visibility": null,
            "width": null
          }
        },
        "92a7e5cdab9547bf9128d8b53afde60a": {
          "model_module": "@jupyter-widgets/base",
          "model_name": "LayoutModel",
          "model_module_version": "1.2.0",
          "state": {
            "_model_module": "@jupyter-widgets/base",
            "_model_module_version": "1.2.0",
            "_model_name": "LayoutModel",
            "_view_count": null,
            "_view_module": "@jupyter-widgets/base",
            "_view_module_version": "1.2.0",
            "_view_name": "LayoutView",
            "align_content": null,
            "align_items": null,
            "align_self": null,
            "border": null,
            "bottom": null,
            "display": null,
            "flex": null,
            "flex_flow": null,
            "grid_area": null,
            "grid_auto_columns": null,
            "grid_auto_flow": null,
            "grid_auto_rows": null,
            "grid_column": null,
            "grid_gap": null,
            "grid_row": null,
            "grid_template_areas": null,
            "grid_template_columns": null,
            "grid_template_rows": null,
            "height": null,
            "justify_content": null,
            "justify_items": null,
            "left": null,
            "margin": null,
            "max_height": null,
            "max_width": null,
            "min_height": null,
            "min_width": null,
            "object_fit": null,
            "object_position": null,
            "order": null,
            "overflow": null,
            "overflow_x": null,
            "overflow_y": null,
            "padding": null,
            "right": null,
            "top": null,
            "visibility": null,
            "width": null
          }
        },
        "34d4efff4ebb4c33a3e9a224b9dec0df": {
          "model_module": "@jupyter-widgets/controls",
          "model_name": "DescriptionStyleModel",
          "model_module_version": "1.5.0",
          "state": {
            "_model_module": "@jupyter-widgets/controls",
            "_model_module_version": "1.5.0",
            "_model_name": "DescriptionStyleModel",
            "_view_count": null,
            "_view_module": "@jupyter-widgets/base",
            "_view_module_version": "1.2.0",
            "_view_name": "StyleView",
            "description_width": ""
          }
        },
        "ff5b4bd968d446a4ba437567587793a8": {
          "model_module": "@jupyter-widgets/base",
          "model_name": "LayoutModel",
          "model_module_version": "1.2.0",
          "state": {
            "_model_module": "@jupyter-widgets/base",
            "_model_module_version": "1.2.0",
            "_model_name": "LayoutModel",
            "_view_count": null,
            "_view_module": "@jupyter-widgets/base",
            "_view_module_version": "1.2.0",
            "_view_name": "LayoutView",
            "align_content": null,
            "align_items": null,
            "align_self": null,
            "border": null,
            "bottom": null,
            "display": null,
            "flex": null,
            "flex_flow": null,
            "grid_area": null,
            "grid_auto_columns": null,
            "grid_auto_flow": null,
            "grid_auto_rows": null,
            "grid_column": null,
            "grid_gap": null,
            "grid_row": null,
            "grid_template_areas": null,
            "grid_template_columns": null,
            "grid_template_rows": null,
            "height": null,
            "justify_content": null,
            "justify_items": null,
            "left": null,
            "margin": null,
            "max_height": null,
            "max_width": null,
            "min_height": null,
            "min_width": null,
            "object_fit": null,
            "object_position": null,
            "order": null,
            "overflow": null,
            "overflow_x": null,
            "overflow_y": null,
            "padding": null,
            "right": null,
            "top": null,
            "visibility": null,
            "width": null
          }
        },
        "aa0aac87af5d480e971f0054c8902bcd": {
          "model_module": "@jupyter-widgets/controls",
          "model_name": "ProgressStyleModel",
          "model_module_version": "1.5.0",
          "state": {
            "_model_module": "@jupyter-widgets/controls",
            "_model_module_version": "1.5.0",
            "_model_name": "ProgressStyleModel",
            "_view_count": null,
            "_view_module": "@jupyter-widgets/base",
            "_view_module_version": "1.2.0",
            "_view_name": "StyleView",
            "bar_color": null,
            "description_width": ""
          }
        },
        "9c102684c05c4564ab532b3a995f4e96": {
          "model_module": "@jupyter-widgets/base",
          "model_name": "LayoutModel",
          "model_module_version": "1.2.0",
          "state": {
            "_model_module": "@jupyter-widgets/base",
            "_model_module_version": "1.2.0",
            "_model_name": "LayoutModel",
            "_view_count": null,
            "_view_module": "@jupyter-widgets/base",
            "_view_module_version": "1.2.0",
            "_view_name": "LayoutView",
            "align_content": null,
            "align_items": null,
            "align_self": null,
            "border": null,
            "bottom": null,
            "display": null,
            "flex": null,
            "flex_flow": null,
            "grid_area": null,
            "grid_auto_columns": null,
            "grid_auto_flow": null,
            "grid_auto_rows": null,
            "grid_column": null,
            "grid_gap": null,
            "grid_row": null,
            "grid_template_areas": null,
            "grid_template_columns": null,
            "grid_template_rows": null,
            "height": null,
            "justify_content": null,
            "justify_items": null,
            "left": null,
            "margin": null,
            "max_height": null,
            "max_width": null,
            "min_height": null,
            "min_width": null,
            "object_fit": null,
            "object_position": null,
            "order": null,
            "overflow": null,
            "overflow_x": null,
            "overflow_y": null,
            "padding": null,
            "right": null,
            "top": null,
            "visibility": null,
            "width": null
          }
        },
        "169c225579d94d7594fa675d7754df11": {
          "model_module": "@jupyter-widgets/controls",
          "model_name": "DescriptionStyleModel",
          "model_module_version": "1.5.0",
          "state": {
            "_model_module": "@jupyter-widgets/controls",
            "_model_module_version": "1.5.0",
            "_model_name": "DescriptionStyleModel",
            "_view_count": null,
            "_view_module": "@jupyter-widgets/base",
            "_view_module_version": "1.2.0",
            "_view_name": "StyleView",
            "description_width": ""
          }
        },
        "7867a05dbac74a1bb82e5e0d939375d1": {
          "model_module": "@jupyter-widgets/controls",
          "model_name": "HBoxModel",
          "model_module_version": "1.5.0",
          "state": {
            "_dom_classes": [],
            "_model_module": "@jupyter-widgets/controls",
            "_model_module_version": "1.5.0",
            "_model_name": "HBoxModel",
            "_view_count": null,
            "_view_module": "@jupyter-widgets/controls",
            "_view_module_version": "1.5.0",
            "_view_name": "HBoxView",
            "box_style": "",
            "children": [
              "IPY_MODEL_c57d30a0f698413b988e6c9fda6120d6",
              "IPY_MODEL_60bd0262ebaf45a1aee30620e3acb9ae",
              "IPY_MODEL_61e45b82045d4d569ea292af868f4aa3"
            ],
            "layout": "IPY_MODEL_14b990f82b2f48d38cc19b99439f23c4"
          }
        },
        "c57d30a0f698413b988e6c9fda6120d6": {
          "model_module": "@jupyter-widgets/controls",
          "model_name": "HTMLModel",
          "model_module_version": "1.5.0",
          "state": {
            "_dom_classes": [],
            "_model_module": "@jupyter-widgets/controls",
            "_model_module_version": "1.5.0",
            "_model_name": "HTMLModel",
            "_view_count": null,
            "_view_module": "@jupyter-widgets/controls",
            "_view_module_version": "1.5.0",
            "_view_name": "HTMLView",
            "description": "",
            "description_tooltip": null,
            "layout": "IPY_MODEL_e63ce53b997c436f9e87f9c2e87d6610",
            "placeholder": "​",
            "style": "IPY_MODEL_85e09762891f4a3d8f5092e05c1440ae",
            "value": "Computing widget examples:   0%"
          }
        },
        "60bd0262ebaf45a1aee30620e3acb9ae": {
          "model_module": "@jupyter-widgets/controls",
          "model_name": "FloatProgressModel",
          "model_module_version": "1.5.0",
          "state": {
            "_dom_classes": [],
            "_model_module": "@jupyter-widgets/controls",
            "_model_module_version": "1.5.0",
            "_model_name": "FloatProgressModel",
            "_view_count": null,
            "_view_module": "@jupyter-widgets/controls",
            "_view_module_version": "1.5.0",
            "_view_name": "ProgressView",
            "bar_style": "",
            "description": "",
            "description_tooltip": null,
            "layout": "IPY_MODEL_32171b2112d942ef871b02576c344617",
            "max": 1,
            "min": 0,
            "orientation": "horizontal",
            "style": "IPY_MODEL_9e5a9a0bf0644922bc2fd9a93ea1accb",
            "value": 1
          }
        },
        "61e45b82045d4d569ea292af868f4aa3": {
          "model_module": "@jupyter-widgets/controls",
          "model_name": "HTMLModel",
          "model_module_version": "1.5.0",
          "state": {
            "_dom_classes": [],
            "_model_module": "@jupyter-widgets/controls",
            "_model_module_version": "1.5.0",
            "_model_name": "HTMLModel",
            "_view_count": null,
            "_view_module": "@jupyter-widgets/controls",
            "_view_module_version": "1.5.0",
            "_view_name": "HTMLView",
            "description": "",
            "description_tooltip": null,
            "layout": "IPY_MODEL_7090646f255744fca02f3284e134d930",
            "placeholder": "​",
            "style": "IPY_MODEL_e78cd14b53914d7aa390343133915b3a",
            "value": " 0/1 [00:00&lt;?, ?example/s]"
          }
        },
        "14b990f82b2f48d38cc19b99439f23c4": {
          "model_module": "@jupyter-widgets/base",
          "model_name": "LayoutModel",
          "model_module_version": "1.2.0",
          "state": {
            "_model_module": "@jupyter-widgets/base",
            "_model_module_version": "1.2.0",
            "_model_name": "LayoutModel",
            "_view_count": null,
            "_view_module": "@jupyter-widgets/base",
            "_view_module_version": "1.2.0",
            "_view_name": "LayoutView",
            "align_content": null,
            "align_items": null,
            "align_self": null,
            "border": null,
            "bottom": null,
            "display": null,
            "flex": null,
            "flex_flow": null,
            "grid_area": null,
            "grid_auto_columns": null,
            "grid_auto_flow": null,
            "grid_auto_rows": null,
            "grid_column": null,
            "grid_gap": null,
            "grid_row": null,
            "grid_template_areas": null,
            "grid_template_columns": null,
            "grid_template_rows": null,
            "height": null,
            "justify_content": null,
            "justify_items": null,
            "left": null,
            "margin": null,
            "max_height": null,
            "max_width": null,
            "min_height": null,
            "min_width": null,
            "object_fit": null,
            "object_position": null,
            "order": null,
            "overflow": null,
            "overflow_x": null,
            "overflow_y": null,
            "padding": null,
            "right": null,
            "top": null,
            "visibility": "hidden",
            "width": null
          }
        },
        "e63ce53b997c436f9e87f9c2e87d6610": {
          "model_module": "@jupyter-widgets/base",
          "model_name": "LayoutModel",
          "model_module_version": "1.2.0",
          "state": {
            "_model_module": "@jupyter-widgets/base",
            "_model_module_version": "1.2.0",
            "_model_name": "LayoutModel",
            "_view_count": null,
            "_view_module": "@jupyter-widgets/base",
            "_view_module_version": "1.2.0",
            "_view_name": "LayoutView",
            "align_content": null,
            "align_items": null,
            "align_self": null,
            "border": null,
            "bottom": null,
            "display": null,
            "flex": null,
            "flex_flow": null,
            "grid_area": null,
            "grid_auto_columns": null,
            "grid_auto_flow": null,
            "grid_auto_rows": null,
            "grid_column": null,
            "grid_gap": null,
            "grid_row": null,
            "grid_template_areas": null,
            "grid_template_columns": null,
            "grid_template_rows": null,
            "height": null,
            "justify_content": null,
            "justify_items": null,
            "left": null,
            "margin": null,
            "max_height": null,
            "max_width": null,
            "min_height": null,
            "min_width": null,
            "object_fit": null,
            "object_position": null,
            "order": null,
            "overflow": null,
            "overflow_x": null,
            "overflow_y": null,
            "padding": null,
            "right": null,
            "top": null,
            "visibility": null,
            "width": null
          }
        },
        "85e09762891f4a3d8f5092e05c1440ae": {
          "model_module": "@jupyter-widgets/controls",
          "model_name": "DescriptionStyleModel",
          "model_module_version": "1.5.0",
          "state": {
            "_model_module": "@jupyter-widgets/controls",
            "_model_module_version": "1.5.0",
            "_model_name": "DescriptionStyleModel",
            "_view_count": null,
            "_view_module": "@jupyter-widgets/base",
            "_view_module_version": "1.2.0",
            "_view_name": "StyleView",
            "description_width": ""
          }
        },
        "32171b2112d942ef871b02576c344617": {
          "model_module": "@jupyter-widgets/base",
          "model_name": "LayoutModel",
          "model_module_version": "1.2.0",
          "state": {
            "_model_module": "@jupyter-widgets/base",
            "_model_module_version": "1.2.0",
            "_model_name": "LayoutModel",
            "_view_count": null,
            "_view_module": "@jupyter-widgets/base",
            "_view_module_version": "1.2.0",
            "_view_name": "LayoutView",
            "align_content": null,
            "align_items": null,
            "align_self": null,
            "border": null,
            "bottom": null,
            "display": null,
            "flex": null,
            "flex_flow": null,
            "grid_area": null,
            "grid_auto_columns": null,
            "grid_auto_flow": null,
            "grid_auto_rows": null,
            "grid_column": null,
            "grid_gap": null,
            "grid_row": null,
            "grid_template_areas": null,
            "grid_template_columns": null,
            "grid_template_rows": null,
            "height": null,
            "justify_content": null,
            "justify_items": null,
            "left": null,
            "margin": null,
            "max_height": null,
            "max_width": null,
            "min_height": null,
            "min_width": null,
            "object_fit": null,
            "object_position": null,
            "order": null,
            "overflow": null,
            "overflow_x": null,
            "overflow_y": null,
            "padding": null,
            "right": null,
            "top": null,
            "visibility": null,
            "width": null
          }
        },
        "9e5a9a0bf0644922bc2fd9a93ea1accb": {
          "model_module": "@jupyter-widgets/controls",
          "model_name": "ProgressStyleModel",
          "model_module_version": "1.5.0",
          "state": {
            "_model_module": "@jupyter-widgets/controls",
            "_model_module_version": "1.5.0",
            "_model_name": "ProgressStyleModel",
            "_view_count": null,
            "_view_module": "@jupyter-widgets/base",
            "_view_module_version": "1.2.0",
            "_view_name": "StyleView",
            "bar_color": null,
            "description_width": ""
          }
        },
        "7090646f255744fca02f3284e134d930": {
          "model_module": "@jupyter-widgets/base",
          "model_name": "LayoutModel",
          "model_module_version": "1.2.0",
          "state": {
            "_model_module": "@jupyter-widgets/base",
            "_model_module_version": "1.2.0",
            "_model_name": "LayoutModel",
            "_view_count": null,
            "_view_module": "@jupyter-widgets/base",
            "_view_module_version": "1.2.0",
            "_view_name": "LayoutView",
            "align_content": null,
            "align_items": null,
            "align_self": null,
            "border": null,
            "bottom": null,
            "display": null,
            "flex": null,
            "flex_flow": null,
            "grid_area": null,
            "grid_auto_columns": null,
            "grid_auto_flow": null,
            "grid_auto_rows": null,
            "grid_column": null,
            "grid_gap": null,
            "grid_row": null,
            "grid_template_areas": null,
            "grid_template_columns": null,
            "grid_template_rows": null,
            "height": null,
            "justify_content": null,
            "justify_items": null,
            "left": null,
            "margin": null,
            "max_height": null,
            "max_width": null,
            "min_height": null,
            "min_width": null,
            "object_fit": null,
            "object_position": null,
            "order": null,
            "overflow": null,
            "overflow_x": null,
            "overflow_y": null,
            "padding": null,
            "right": null,
            "top": null,
            "visibility": null,
            "width": null
          }
        },
        "e78cd14b53914d7aa390343133915b3a": {
          "model_module": "@jupyter-widgets/controls",
          "model_name": "DescriptionStyleModel",
          "model_module_version": "1.5.0",
          "state": {
            "_model_module": "@jupyter-widgets/controls",
            "_model_module_version": "1.5.0",
            "_model_name": "DescriptionStyleModel",
            "_view_count": null,
            "_view_module": "@jupyter-widgets/base",
            "_view_module_version": "1.2.0",
            "_view_name": "StyleView",
            "description_width": ""
          }
        }
      }
    }
  },
  "cells": [
    {
      "cell_type": "markdown",
      "source": [
        "# Embeddings & You - A Brief Introduction to Embeddings in Machine Learning\n",
        "\n",
        "If you've toyed with LangChain, LlamaIndex, or even OpenAI's `ada` model - you've likely run into the word: \"Embeddings\" a few time.\n",
        "\n",
        "They've had a recent surge in popularity due to the profliferation of Retrieval Augmented Generation, but they've been around for a very long time.\n",
        "\n",
        "If you come from an NLP background, embeddings are something you might be intimately familiar with - otherwise, you might find the topic a bit...dense. (this attempt at a joke will make more sense later)\n",
        "\n",
        "In all seriousness, embeddings are a powerful piece of the NLP puzzle, so let's dive in!\n",
        "\n",
        "> NOTE: While this notebook language/NLP-centric, embeddings have uses beyond just text!\n",
        "\n",
        "## Notebook Table of Contents:\n",
        "\n",
        "- Breakout Room #1: Training Word2Vec from Scratch\n",
        "  - Task 1: Dependencies\n",
        "  - Task 2: Data Collection\n",
        "  - Task 3: Data Preprocessing\n",
        "    - 🏗️ Activity #1\n",
        "    - ❓Question #1\n",
        "    - 🏗️ Activity #2\n",
        "    - 👪❓ Discussion Question #1\n",
        "  - Task 4: Training Word2Vec\n",
        "    - 🏗️ Activity #3\n",
        "    - ❓Question #2\n",
        "- Breakout Room #2:\n",
        "  - Task 1: Fine-tuning Our Embedding Model\n",
        "    - ❓Question #3\n",
        "    - 🏗️ Activity #4\n",
        "  - Task 2: Evaluating our Embedding Model\n",
        "    - 👪❓Discussion Question #2"
      ],
      "metadata": {
        "id": "3ZO_xiWUoSKX"
      }
    },
    {
      "cell_type": "markdown",
      "source": [
        "### Why Do We Even Need Embeddings?\n",
        "\n",
        "In order to fully understand what Embeddings are, we first need to understand why we have them:\n",
        "\n",
        "Machine Learning algorithms, ranging from the very big to the very small, all have one thing in common:\n",
        "\n",
        "*They need numeric inputs.*\n",
        "\n",
        "So we need a process by which to translate the domain we live in, dominated by images, audio, language, and more, into the domain of the machine: Numbers.\n",
        "\n",
        "Another thing we want to be able to do is capture \"semantic information\" about words/phrases so that we can use algorithmic approaches to determine if words are closely related or not!\n",
        "\n",
        "So, we need to come up with a process that does these two things well:\n",
        "\n",
        "1. Convert non-numeric data into numeric-data\n",
        "2. Capture potential semantic relationships between individual pieces of data"
      ],
      "metadata": {
        "id": "P70JnMeToYd3"
      }
    },
    {
      "cell_type": "markdown",
      "source": [
        "## Breakout Room #1: Training Word2Vec from Scratch\n",
        "\n",
        "Now that we have a bit of background on Embeddings - let's look at what it takes to create our own embeddings using Word2Vec!\n",
        "\n",
        "We'll be leveraging the `gensim` library, which you can read all about [here](https://pypi.org/project/gensim/).\n",
        "\n",
        "Before we begin training, however, we need some data!\n",
        "\n",
        "Let's use the Wikipedia pages for Wicked and Gladiator as examples."
      ],
      "metadata": {
        "id": "_AkTA6O8boBu"
      }
    },
    {
      "cell_type": "markdown",
      "source": [
        "### Task 1: Dependencies\n",
        "We'll leverage the `wikipedia` library, and `langchain`s `WikipediaLoader` to obtain our Wikipedia data!"
      ],
      "metadata": {
        "id": "DE0PCOWjdHO8"
      }
    },
    {
      "cell_type": "code",
      "execution_count": null,
      "metadata": {
        "id": "f1bHSdU9a8Tu",
        "colab": {
          "base_uri": "https://localhost:8080/"
        },
        "outputId": "f07301ac-88fd-448c-a8a7-9cdbca5dd359"
      },
      "outputs": [
        {
          "output_type": "stream",
          "name": "stdout",
          "text": [
            "  Preparing metadata (setup.py) ... \u001b[?25l\u001b[?25hdone\n",
            "\u001b[2K   \u001b[90m━━━━━━━━━━━━━━━━━━━━━━━━━━━━━━━━━━━━━━━━\u001b[0m \u001b[32m1.0/1.0 MB\u001b[0m \u001b[31m21.9 MB/s\u001b[0m eta \u001b[36m0:00:00\u001b[0m\n",
            "\u001b[2K   \u001b[90m━━━━━━━━━━━━━━━━━━━━━━━━━━━━━━━━━━━━━━━━\u001b[0m \u001b[32m2.4/2.4 MB\u001b[0m \u001b[31m76.0 MB/s\u001b[0m eta \u001b[36m0:00:00\u001b[0m\n",
            "\u001b[2K   \u001b[90m━━━━━━━━━━━━━━━━━━━━━━━━━━━━━━━━━━━━━━━━\u001b[0m \u001b[32m480.6/480.6 kB\u001b[0m \u001b[31m29.0 MB/s\u001b[0m eta \u001b[36m0:00:00\u001b[0m\n",
            "\u001b[2K   \u001b[90m━━━━━━━━━━━━━━━━━━━━━━━━━━━━━━━━━━━━━━━━\u001b[0m \u001b[32m116.3/116.3 kB\u001b[0m \u001b[31m9.9 MB/s\u001b[0m eta \u001b[36m0:00:00\u001b[0m\n",
            "\u001b[2K   \u001b[90m━━━━━━━━━━━━━━━━━━━━━━━━━━━━━━━━━━━━━━━━\u001b[0m \u001b[32m179.3/179.3 kB\u001b[0m \u001b[31m14.3 MB/s\u001b[0m eta \u001b[36m0:00:00\u001b[0m\n",
            "\u001b[2K   \u001b[90m━━━━━━━━━━━━━━━━━━━━━━━━━━━━━━━━━━━━━━━━\u001b[0m \u001b[32m409.5/409.5 kB\u001b[0m \u001b[31m29.6 MB/s\u001b[0m eta \u001b[36m0:00:00\u001b[0m\n",
            "\u001b[2K   \u001b[90m━━━━━━━━━━━━━━━━━━━━━━━━━━━━━━━━━━━━━━━━\u001b[0m \u001b[32m134.8/134.8 kB\u001b[0m \u001b[31m13.5 MB/s\u001b[0m eta \u001b[36m0:00:00\u001b[0m\n",
            "\u001b[2K   \u001b[90m━━━━━━━━━━━━━━━━━━━━━━━━━━━━━━━━━━━━━━━━\u001b[0m \u001b[32m3.1/3.1 MB\u001b[0m \u001b[31m85.8 MB/s\u001b[0m eta \u001b[36m0:00:00\u001b[0m\n",
            "\u001b[2K   \u001b[90m━━━━━━━━━━━━━━━━━━━━━━━━━━━━━━━━━━━━━━━━\u001b[0m \u001b[32m194.1/194.1 kB\u001b[0m \u001b[31m19.0 MB/s\u001b[0m eta \u001b[36m0:00:00\u001b[0m\n",
            "\u001b[2K   \u001b[90m━━━━━━━━━━━━━━━━━━━━━━━━━━━━━━━━━━━━━━━━\u001b[0m \u001b[32m49.5/49.5 kB\u001b[0m \u001b[31m3.5 MB/s\u001b[0m eta \u001b[36m0:00:00\u001b[0m\n",
            "\u001b[?25h  Building wheel for wikipedia (setup.py) ... \u001b[?25l\u001b[?25hdone\n",
            "\u001b[31mERROR: pip's dependency resolver does not currently take into account all the packages that are installed. This behaviour is the source of the following dependency conflicts.\n",
            "gcsfs 2024.10.0 requires fsspec==2024.10.0, but you have fsspec 2024.9.0 which is incompatible.\u001b[0m\u001b[31m\n",
            "\u001b[0m"
          ]
        }
      ],
      "source": [
        "!pip install -U -q wikipedia langchain langchain_community lxml datasets"
      ]
    },
    {
      "cell_type": "markdown",
      "source": [
        "> NOTE: Please reset the Colab environment after running the install cells."
      ],
      "metadata": {
        "id": "frFcUKy5ief6"
      }
    },
    {
      "cell_type": "markdown",
      "source": [
        "### Task 2: Data Collection\n",
        "\n"
      ],
      "metadata": {
        "id": "ON8zWj4GR0oz"
      }
    },
    {
      "cell_type": "code",
      "source": [
        "from langchain_community.document_loaders import WikipediaLoader\n",
        "\n",
        "wicked_docs = WikipediaLoader(\n",
        "    query=\"Wicked (2024 film)\",\n",
        "    load_max_docs=5,\n",
        "    doc_content_chars_max=1_000_000\n",
        "    ).load()"
      ],
      "metadata": {
        "id": "ME25TAtVdPmE",
        "colab": {
          "base_uri": "https://localhost:8080/"
        },
        "outputId": "9b73563b-0680-4f8d-a936-c575d319fc3d"
      },
      "execution_count": null,
      "outputs": [
        {
          "output_type": "stream",
          "name": "stderr",
          "text": [
            "/usr/local/lib/python3.10/dist-packages/wikipedia/wikipedia.py:389: GuessedAtParserWarning: No parser was explicitly specified, so I'm using the best available HTML parser for this system (\"lxml\"). This usually isn't a problem, but if you run this code on another system, or in a different virtual environment, it may use a different parser and behave differently.\n",
            "\n",
            "The code that caused this warning is on line 389 of the file /usr/local/lib/python3.10/dist-packages/wikipedia/wikipedia.py. To get rid of this warning, pass the additional argument 'features=\"lxml\"' to the BeautifulSoup constructor.\n",
            "\n",
            "  lis = BeautifulSoup(html).find_all('li')\n"
          ]
        }
      ]
    },
    {
      "cell_type": "code",
      "source": [
        "len(wicked_docs)"
      ],
      "metadata": {
        "id": "nLV9ZD4ReBrw",
        "colab": {
          "base_uri": "https://localhost:8080/"
        },
        "outputId": "715d5d8b-61f3-47d2-b34a-3cd7066c67b2"
      },
      "execution_count": null,
      "outputs": [
        {
          "output_type": "execute_result",
          "data": {
            "text/plain": [
              "4"
            ]
          },
          "metadata": {},
          "execution_count": 4
        }
      ]
    },
    {
      "cell_type": "code",
      "source": [
        "gladiator_2_docs = WikipediaLoader(\n",
        "    query=\"Gladiator II\",\n",
        "    load_max_docs=5,\n",
        "    doc_content_chars_max=1_000_000\n",
        "    ).load()"
      ],
      "metadata": {
        "id": "y-_YAa6MeWmP"
      },
      "execution_count": null,
      "outputs": []
    },
    {
      "cell_type": "code",
      "source": [
        "len(gladiator_2_docs)"
      ],
      "metadata": {
        "id": "z_Tk5-_qehyb",
        "colab": {
          "base_uri": "https://localhost:8080/"
        },
        "outputId": "3503914b-6bd2-493d-fb53-0d083d4751de"
      },
      "execution_count": null,
      "outputs": [
        {
          "output_type": "execute_result",
          "data": {
            "text/plain": [
              "5"
            ]
          },
          "metadata": {},
          "execution_count": 6
        }
      ]
    },
    {
      "cell_type": "markdown",
      "source": [
        "### Task 3: Data Preprocessing\n",
        "\n",
        "Now that we have some text, we need to do some preprocessing! That's right - classic NLP!\n",
        "\n",
        "Let's begin by cleaning up our text, we'll:\n",
        "\n",
        "- Remove special characters\n",
        "- Remove stop words\n",
        "- Remove links\n",
        "- Convert to lowercase\n",
        "- Strip whitespace\n",
        "\n",
        "To do this, we'll need two main modules:\n",
        "\n",
        "- The `re` standard library module\n",
        "- `spacy`, another NLP library"
      ],
      "metadata": {
        "id": "QeJC376oep3N"
      }
    },
    {
      "cell_type": "code",
      "source": [
        "import nltk\n",
        "\n",
        "nltk.download('stopwords')\n",
        "nltk.download('punkt')\n",
        "nltk.download('punkt_tab')"
      ],
      "metadata": {
        "id": "3-XweJuKfl2w",
        "colab": {
          "base_uri": "https://localhost:8080/"
        },
        "outputId": "2afffd77-bd07-4573-ac4d-b65766c4a14a"
      },
      "execution_count": null,
      "outputs": [
        {
          "output_type": "stream",
          "name": "stderr",
          "text": [
            "[nltk_data] Downloading package stopwords to /root/nltk_data...\n",
            "[nltk_data]   Unzipping corpora/stopwords.zip.\n",
            "[nltk_data] Downloading package punkt to /root/nltk_data...\n",
            "[nltk_data]   Unzipping tokenizers/punkt.zip.\n",
            "[nltk_data] Downloading package punkt_tab to /root/nltk_data...\n",
            "[nltk_data]   Unzipping tokenizers/punkt_tab.zip.\n"
          ]
        },
        {
          "output_type": "execute_result",
          "data": {
            "text/plain": [
              "True"
            ]
          },
          "metadata": {},
          "execution_count": 7
        }
      ]
    },
    {
      "cell_type": "markdown",
      "source": [
        "Let's take a peek at what these \"stopwords\" are - for traditional embedding models and NLP."
      ],
      "metadata": {
        "id": "17THAHtbcdom"
      }
    },
    {
      "cell_type": "code",
      "source": [
        "from nltk.corpus import stopwords\n",
        "stopwords.words('english')[:10]"
      ],
      "metadata": {
        "id": "pqLntUU6ftyl",
        "colab": {
          "base_uri": "https://localhost:8080/"
        },
        "outputId": "370bf44b-e107-47f4-85a7-b6d4fc114745"
      },
      "execution_count": null,
      "outputs": [
        {
          "output_type": "execute_result",
          "data": {
            "text/plain": [
              "['i', 'me', 'my', 'myself', 'we', 'our', 'ours', 'ourselves', 'you', \"you're\"]"
            ]
          },
          "metadata": {},
          "execution_count": 8
        }
      ]
    },
    {
      "cell_type": "markdown",
      "source": [
        "#### Text Normalization\n",
        "\n",
        "The first step is to make a helper function that normalizes our text."
      ],
      "metadata": {
        "id": "1AoGsijwcPPo"
      }
    },
    {
      "cell_type": "markdown",
      "source": [
        "#####🏗️ Activity #1:\n",
        "\n",
        "What should the output format of the `preprocess_text` function be?\n",
        "\n",
        "Once you've determined the output format - please complete the code cell and ensure the appropriate format is returned."
      ],
      "metadata": {
        "id": "CO1L-X4IcIft"
      }
    },
    {
      "cell_type": "code",
      "source": [
        "import re\n",
        "from typing import List\n",
        "from nltk.tokenize import word_tokenize\n",
        "\n",
        "def preprocess_text(text: str) -> List[str]:\n",
        "  ### YOUR CODE HERE\n",
        "  return filtered_tokens"
      ],
      "metadata": {
        "id": "FSJqh7Cae2WY"
      },
      "execution_count": null,
      "outputs": []
    },
    {
      "cell_type": "markdown",
      "source": [
        "Let's see how this works on some of our Wikipedia data!"
      ],
      "metadata": {
        "id": "_TLBwJtff89s"
      }
    },
    {
      "cell_type": "code",
      "source": [
        "preprocess_text(wicked_docs[0].page_content[:100])"
      ],
      "metadata": {
        "id": "0akPT-BJgB6_",
        "colab": {
          "base_uri": "https://localhost:8080/"
        },
        "outputId": "b5e85e1e-7cb0-4fbd-bbc0-f34fa1d84a33"
      },
      "execution_count": null,
      "outputs": [
        {
          "output_type": "execute_result",
          "data": {
            "text/plain": [
              "['wicked',\n",
              " 'titled',\n",
              " 'onscreen',\n",
              " 'wicked',\n",
              " 'part',\n",
              " 'american',\n",
              " 'musical',\n",
              " 'fantasy',\n",
              " 'film',\n",
              " 'directed',\n",
              " 'jon',\n",
              " 'c']"
            ]
          },
          "metadata": {},
          "execution_count": 10
        }
      ]
    },
    {
      "cell_type": "markdown",
      "source": [
        "#### Sentence Tokenization:\n",
        "\n",
        "Now we'll turn our corpus into sets of sentences."
      ],
      "metadata": {
        "id": "U1JVww2adC-c"
      }
    },
    {
      "cell_type": "markdown",
      "source": [
        "#####🏗️ Activity #2:\n",
        "\n",
        "What should the output format of the `sentence_tokenization` function be?\n",
        "\n",
        "Once you've determined the output format - please complete the code cell and ensure the appropriate format is returned.\n",
        "\n",
        "> NOTE: We've mysteriously imported the `sent_tokenize` helper function - it may be useful. Check out the [docs](https://www.nltk.org/api/nltk.tokenize.sent_tokenize.html)!"
      ],
      "metadata": {
        "id": "lFUQpAJngOg0"
      }
    },
    {
      "cell_type": "code",
      "source": [
        "from nltk.tokenize import sent_tokenize\n",
        "\n",
        "def sentence_tokenization(text: str) -> List[List[str]]:\n",
        "    ### YOUR CODE HERE\n",
        "    return sentence_tokens"
      ],
      "metadata": {
        "id": "goqsOzIlgF_x"
      },
      "execution_count": null,
      "outputs": []
    },
    {
      "cell_type": "code",
      "source": [
        "sentence_tokenization(wicked_docs[0].page_content[:200])"
      ],
      "metadata": {
        "id": "anrS-SOth1tK",
        "colab": {
          "base_uri": "https://localhost:8080/"
        },
        "outputId": "90eacdfb-9b3f-4921-ee32-d2791b45b5db"
      },
      "execution_count": null,
      "outputs": [
        {
          "output_type": "execute_result",
          "data": {
            "text/plain": [
              "[['wicked',\n",
              "  'titled',\n",
              "  'onscreen',\n",
              "  'wicked',\n",
              "  'part',\n",
              "  'american',\n",
              "  'musical',\n",
              "  'fantasy',\n",
              "  'film',\n",
              "  'directed',\n",
              "  'jon',\n",
              "  'chu',\n",
              "  'written',\n",
              "  'winnie',\n",
              "  'holzman',\n",
              "  'dana',\n",
              "  'fox'],\n",
              " ['first', 'two', 'part', 'film', 'adaptation']]"
            ]
          },
          "metadata": {},
          "execution_count": 12
        }
      ]
    },
    {
      "cell_type": "markdown",
      "source": [
        "Perfect, with that, we're ready to create our corpus!"
      ],
      "metadata": {
        "id": "AKLhQDeDiBv1"
      }
    },
    {
      "cell_type": "code",
      "source": [
        "corpus = []\n",
        "\n",
        "for doc in wicked_docs:\n",
        "  corpus += sentence_tokenization(doc.page_content)\n",
        "\n",
        "for doc in gladiator_2_docs:\n",
        "  corpus += sentence_tokenization(doc.page_content)"
      ],
      "metadata": {
        "id": "o0Expe68h70P"
      },
      "execution_count": null,
      "outputs": []
    },
    {
      "cell_type": "markdown",
      "source": [
        "##### ❓ Question #1:\n",
        "\n",
        "Why is this normalization and tokenization necessary to train a Word2Vec Embedding Model?"
      ],
      "metadata": {
        "id": "KyAS-JOLbwx0"
      }
    },
    {
      "cell_type": "markdown",
      "source": [
        "##### 👪❓ Discussion Question #1:\n",
        "\n",
        "When creating training data for Large Language Models, do we need to/should we use text normalization?\n",
        "\n",
        "What arguments for or against text normalization exist at LLM-scale datasets?"
      ],
      "metadata": {
        "id": "ZURPmGkGci7m"
      }
    },
    {
      "cell_type": "markdown",
      "source": [
        "### Task 4: Training Word2Vec\n",
        "\n",
        "Now that we have our corpus set up, we can train our Word2Vec model.\n",
        "\n",
        "Training is straightforward, thanks to `gensim`, and more can be understood about the process by reading the paper - but let's see it in code!\n",
        "\n",
        "It's also worth considering/playing around with the `gensim` parameters."
      ],
      "metadata": {
        "id": "s2axftsiipxJ"
      }
    },
    {
      "cell_type": "code",
      "source": [
        "!pip install -q -U gensim"
      ],
      "metadata": {
        "id": "PVb5Rye_ikjC"
      },
      "execution_count": null,
      "outputs": []
    },
    {
      "cell_type": "markdown",
      "source": [
        "### An Aside on Skip-gram (SG) and Continuous Bag of Words (CBOW):\n",
        "\n",
        "**Skip-gram**:\n",
        "\n",
        "Skip-gram is an approach to teaching computers the meaning of words by predicting the surrounding context from a given word. Think of it as a student who learns by taking a single word and trying to guess what words might appear around it. For example, given the word \"sun,\" Skip-gram would learn to predict related words like \"bright,\" \"sky,\" and \"shine.\" This method is particularly effective at handling rare words in the vocabulary and capturing multiple meanings of words, though it typically requires more training time. The key insight is that words appearing in similar contexts often have related meanings.\n",
        "\n",
        "**Continuous Bag of Words (CBOW)**:\n",
        "\n",
        "CBOW takes the opposite approach to Skip-gram by predicting a target word based on its surrounding context words. Imagine playing a fill-in-the-blank game where you see \"The ___ is barking at the mailman\" and need to predict \"dog\" based on the surrounding words. CBOW looks at multiple context words at once and tries to understand what word would make sense in the middle. This method tends to be faster to train than Skip-gram and performs particularly well with frequent words in the vocabulary. However, it might not be as effective at handling rare words or capturing multiple word meanings since it averages the context."
      ],
      "metadata": {
        "id": "SxQu64G-gtK3"
      }
    },
    {
      "cell_type": "markdown",
      "source": [
        "#####🏗️ Activity #3:\n",
        "\n",
        "Set appropriate hyperparameters for the gensim `Word2Vec` model.\n",
        "\n",
        "> NOTE: Documentation is available [here](https://radimrehurek.com/gensim/models/word2vec.html#gensim.models.word2vec.Word2Vec)"
      ],
      "metadata": {
        "id": "V6salAYUtcSr"
      }
    },
    {
      "cell_type": "markdown",
      "source": [
        "##### ❓ Question #2:\n",
        "\n",
        "What do each of the hyper-parameters mean or relate to:\n",
        "\n",
        "- `VECTOR_SIZE` -> YOUR ANSWER HERE\n",
        "- `WINDOW` -> YOUR ANSWER HERE\n",
        "- `MIN_COUNT` -> YOUR ANSWER HERE\n",
        "- `SG` -> YOUR ANSWER HERE"
      ],
      "metadata": {
        "id": "qJZTsWWqbMPJ"
      }
    },
    {
      "cell_type": "code",
      "source": [
        "from gensim.models import Word2Vec\n",
        "\n",
        "VECTOR_SIZE = ### YOUR CODE HERE\n",
        "WINDOW = ### YOUR CODE HERE\n",
        "MIN_COUNT = ### YOUR CODE HERE\n",
        "SG = 1\n",
        "\n",
        "model = Word2Vec(\n",
        "    sentences=corpus,\n",
        "    vector_size=VECTOR_SIZE,\n",
        "    window=WINDOW,\n",
        "    min_count=MIN_COUNT,\n",
        "    sg=SG\n",
        "    )"
      ],
      "metadata": {
        "id": "nSCza8r7i-Oh"
      },
      "execution_count": null,
      "outputs": []
    },
    {
      "cell_type": "markdown",
      "source": [
        "Blink and you'll miss it. You just trained an embeddings model!\n",
        "\n",
        "Let's try it out and see what we did!"
      ],
      "metadata": {
        "id": "m_LYRSDjjyA8"
      }
    },
    {
      "cell_type": "code",
      "source": [
        "model.wv[\"elphaba\"]"
      ],
      "metadata": {
        "id": "zaO35GCJjIlk",
        "colab": {
          "base_uri": "https://localhost:8080/"
        },
        "outputId": "edc3d3c3-f305-42b3-9960-5e3ba42b3edf"
      },
      "execution_count": null,
      "outputs": [
        {
          "output_type": "execute_result",
          "data": {
            "text/plain": [
              "array([ 7.98233449e-02, -2.11217761e-01,  1.08354121e-01,  1.58834547e-01,\n",
              "        1.21364430e-01,  6.03268407e-02,  5.14422357e-02, -1.12165966e-04,\n",
              "        6.59404695e-02,  8.93747136e-02,  2.13395521e-01, -1.04118437e-01,\n",
              "        6.51875278e-04, -1.06006846e-01,  2.18897790e-01,  1.25173047e-01,\n",
              "       -1.44267127e-01, -4.39923815e-02, -9.48381945e-02,  1.19858548e-01,\n",
              "        5.23849055e-02,  1.64671600e-01, -4.05536681e-01, -2.01679453e-01,\n",
              "       -3.13750207e-01,  1.08344592e-01, -9.26906466e-02,  8.62633139e-02,\n",
              "        2.35415690e-04, -5.38399890e-02, -3.49251032e-02, -8.09251964e-02,\n",
              "        1.57794043e-01,  6.89242035e-02,  1.10727809e-01,  3.60347144e-02,\n",
              "        1.72976516e-02, -2.31787503e-01,  5.91967441e-03,  2.42035761e-02,\n",
              "        1.73550639e-02,  1.70953140e-01, -1.36700228e-01,  4.39433716e-02,\n",
              "        2.39225656e-01, -4.47272882e-02, -1.57696649e-01,  1.34640813e-01,\n",
              "       -1.14282876e-01, -7.30479807e-02,  1.52787015e-01,  4.65218574e-02,\n",
              "       -6.81276694e-02,  7.65915262e-03, -1.63083151e-02, -9.21167061e-02,\n",
              "        8.85859132e-02, -5.16182790e-03, -1.58039883e-01,  1.48027807e-01,\n",
              "       -1.66505858e-01, -2.47082636e-02,  4.77017425e-02,  1.21031195e-01,\n",
              "        2.14081332e-01, -1.40734354e-03,  7.13479966e-02, -4.30377088e-02,\n",
              "       -1.14531882e-01, -1.60839692e-01, -8.01240578e-02, -5.20097353e-02,\n",
              "       -2.11209729e-01, -1.31506339e-01,  1.85745269e-01, -2.46931478e-01,\n",
              "        1.25741148e-02, -1.63373619e-01, -1.89585418e-01,  3.18764001e-02,\n",
              "       -2.35815987e-01, -2.00998306e-01,  2.06528142e-01,  3.00896108e-01,\n",
              "        1.92537144e-01,  1.57430053e-01,  5.06104343e-02, -1.58438802e-01,\n",
              "       -1.40315005e-05,  2.23287299e-01, -6.65702522e-02, -2.10167170e-01,\n",
              "        4.40653935e-02,  4.68197279e-02,  1.12277977e-01, -7.09513528e-03,\n",
              "       -6.26364052e-02, -3.03963989e-01,  7.45557994e-02, -1.55945299e-02,\n",
              "       -2.24208310e-01, -6.17079660e-02, -3.63183394e-02,  5.75646572e-02,\n",
              "       -6.24941736e-02,  4.79234047e-02, -5.05097508e-02,  1.44542351e-01,\n",
              "        1.94583565e-01,  1.92082208e-02,  3.11561977e-03, -1.50185227e-01,\n",
              "       -5.20603359e-02,  2.85583764e-01, -1.75363664e-02,  1.57261431e-01,\n",
              "        3.71190347e-02,  3.38545516e-02,  1.45099297e-01,  1.32252350e-01,\n",
              "       -8.35029557e-02, -2.73785114e-01, -2.09075473e-02,  1.76400274e-01,\n",
              "       -2.75896490e-01, -5.37826270e-02,  9.79005173e-02, -1.74638480e-01],\n",
              "      dtype=float32)"
            ]
          },
          "metadata": {},
          "execution_count": 16
        }
      ]
    },
    {
      "cell_type": "markdown",
      "source": [
        "Finally! We see it: An embedding in the wild.\n",
        "\n",
        "Notice how we input a word, in this case \"Elphaba\", and we got back a 100-dimensional vector of floats.\n",
        "\n",
        "Let's see if we can't get back a list of similar vectors to the vector for \"Elphaba\", and \"Maximus\"!"
      ],
      "metadata": {
        "id": "f9yYINaHj_qI"
      }
    },
    {
      "cell_type": "code",
      "source": [
        "model.wv.most_similar(positive=[\"elphaba\"], topn=3)"
      ],
      "metadata": {
        "id": "Q3feBDOaj6WC",
        "colab": {
          "base_uri": "https://localhost:8080/"
        },
        "outputId": "575067b1-b820-4d41-f347-35ab448424fa"
      },
      "execution_count": null,
      "outputs": [
        {
          "output_type": "execute_result",
          "data": {
            "text/plain": [
              "[('glinda', 0.9960027933120728),\n",
              " ('wizard', 0.9951278567314148),\n",
              " ('galinda', 0.9949244856834412)]"
            ]
          },
          "metadata": {},
          "execution_count": 17
        }
      ]
    },
    {
      "cell_type": "code",
      "source": [
        "model.wv.most_similar(positive=[\"maximus\"], topn=3)"
      ],
      "metadata": {
        "id": "FrCY4Y4Rkn0N",
        "colab": {
          "base_uri": "https://localhost:8080/"
        },
        "outputId": "aea970f1-fb98-4c39-b861-5d548194aa04"
      },
      "execution_count": null,
      "outputs": [
        {
          "output_type": "execute_result",
          "data": {
            "text/plain": [
              "[('lucilla', 0.9979978799819946),\n",
              " ('son', 0.9977298974990845),\n",
              " ('marcus', 0.997502863407135)]"
            ]
          },
          "metadata": {},
          "execution_count": 18
        }
      ]
    },
    {
      "cell_type": "markdown",
      "source": [
        "Now, for the moment of truth - let's do some vector math and see what happens!"
      ],
      "metadata": {
        "id": "PFJQBuooli2S"
      }
    },
    {
      "cell_type": "code",
      "source": [
        "galinda_vec = model.wv[\"galinda\"]\n",
        "good_vec = model.wv[\"good\"]\n",
        "mystery_vector = galinda_vec - good_vec"
      ],
      "metadata": {
        "id": "_fFyEP8-mRw1"
      },
      "execution_count": null,
      "outputs": []
    },
    {
      "cell_type": "code",
      "source": [
        "model.wv.most_similar(positive=[mystery_vector], topn=3)"
      ],
      "metadata": {
        "id": "hfup5uT0nDci",
        "colab": {
          "base_uri": "https://localhost:8080/"
        },
        "outputId": "53bb3315-c1f9-4287-a9a6-762409e6dd63"
      },
      "execution_count": null,
      "outputs": [
        {
          "output_type": "execute_result",
          "data": {
            "text/plain": [
              "[('glinda', 0.2122732400894165),\n",
              " ('elphaba', 0.20553389191627502),\n",
              " ('galinda', 0.2003011405467987)]"
            ]
          },
          "metadata": {},
          "execution_count": 37
        }
      ]
    },
    {
      "cell_type": "markdown",
      "source": [
        "And there we have it - embeddings, and a demonstration of what makes them so powerful!\n",
        "\n",
        "> Note: This is a very small sample size, and while this result is what we'd hope for - it is largely coincidental - this behaviour is expressed better in much larger corpus' of text."
      ],
      "metadata": {
        "id": "BGdGFwRjoJjg"
      }
    },
    {
      "cell_type": "markdown",
      "source": [
        "## Breakout Room #2: Fine-tuning a BERT-Style Embedding Model on Question Answer Pairs.\n",
        "\n",
        "Now that we've seen where embeddings \"started\", as it were, let's see where they've gotten.\n",
        "\n",
        "In this section, we'll be fine-tuning Hugging Face's [sentence transformers](https://www.sbert.net/).\n",
        "\n",
        "Sentence Transformers leverages the work done in the [Sentence-BERT](https://arxiv.org/abs/1908.10084) paper. So while the idea of converting input text into a dense vector representation is the same, the way we got to those embeddings is a bit different.\n",
        "\n",
        "> NOTE: As the name implies, the following model is an *ENTIRE* transformer model (though Encoder-only, as described by Sentence-BERT)."
      ],
      "metadata": {
        "id": "Ay6CQ4yRqjc9"
      }
    },
    {
      "cell_type": "markdown",
      "source": [
        "### Fine-tuning Our Embeddings Model\n",
        "\n",
        "Finally, the set up is complete - and we can move on to fine-tuning our sentence transformer embedding model!\n",
        "\n",
        "The process is simplified considerably by how amazing the Hugging Face `sentence-transformer` library is, so let's jump straight in!"
      ],
      "metadata": {
        "id": "pUHK8gBfIv9U"
      }
    },
    {
      "cell_type": "code",
      "source": [
        "!pip install -U -q sentence-transformers"
      ],
      "metadata": {
        "id": "J6QtdQve12PP",
        "colab": {
          "base_uri": "https://localhost:8080/"
        },
        "outputId": "d6ce10d0-d731-4f9a-c9be-251b06845c8b"
      },
      "execution_count": null,
      "outputs": [
        {
          "output_type": "stream",
          "name": "stdout",
          "text": [
            "\u001b[?25l   \u001b[90m━━━━━━━━━━━━━━━━━━━━━━━━━━━━━━━━━━━━━━━━\u001b[0m \u001b[32m0.0/268.8 kB\u001b[0m \u001b[31m?\u001b[0m eta \u001b[36m-:--:--\u001b[0m\r\u001b[2K   \u001b[91m━━━━━━━━━━━━━━━━━━━━━━━━━━━━━━━━━━━━━━━\u001b[0m\u001b[91m╸\u001b[0m \u001b[32m266.2/268.8 kB\u001b[0m \u001b[31m8.5 MB/s\u001b[0m eta \u001b[36m0:00:01\u001b[0m\r\u001b[2K   \u001b[90m━━━━━━━━━━━━━━━━━━━━━━━━━━━━━━━━━━━━━━━━\u001b[0m \u001b[32m268.8/268.8 kB\u001b[0m \u001b[31m6.1 MB/s\u001b[0m eta \u001b[36m0:00:00\u001b[0m\n",
            "\u001b[?25h"
          ]
        }
      ]
    },
    {
      "cell_type": "code",
      "source": [
        "from sentence_transformers import SentenceTransformer"
      ],
      "metadata": {
        "id": "98C2YcEj10di"
      },
      "execution_count": null,
      "outputs": []
    },
    {
      "cell_type": "markdown",
      "source": [
        "We're going to use the `BAAI/bge-small-en` embedding model as an example, but you could use any of the `sentence-transformer` embeddings models."
      ],
      "metadata": {
        "id": "YY3CCeScJboJ"
      }
    },
    {
      "cell_type": "code",
      "source": [
        "model_id = \"BAAI/bge-small-en\"\n",
        "model = SentenceTransformer(model_id)"
      ],
      "metadata": {
        "id": "5tiyPUjj11in",
        "colab": {
          "base_uri": "https://localhost:8080/",
          "height": 473,
          "referenced_widgets": [
            "c3734982ec91441daf40566cbac1f8ba",
            "f214514a2b1247c0a790b1d8dd050a7a",
            "b55e6f3844a14f4e9de8b7df5ade7d8d",
            "edc3d3da5cce434688864aac0ccec033",
            "c5ae5bf454604cb18e476ae2d4a79399",
            "12893e8f637e4f37b77586dafb6d20dc",
            "6324f0b7bf944882b89fd00215eba4e7",
            "005e4f46c76c4beb8c5b469176ef1027",
            "65612c3022da46e1ac2a39fc2e16a0ce",
            "109c4a2831e64330a7efa538a1e0b0bb",
            "e988ddb1a61e40ce81eed445b8c4a9f8",
            "66dc793af60c476a9a51a84dff3fb47f",
            "04951f1223e64d16a561b74fc0a9629d",
            "104e4936e064459283dbd8d8cea970ec",
            "d35d314ec1c64fe9b8685a958f763a34",
            "e6c9913340d943b0adc474c0d058d323",
            "2c1738f37cc14681b93e65a28c79db66",
            "149f41d8578f4ee0afec9f148b706532",
            "209f6eac0eca4a1dbec3af60307a1788",
            "58c77c91d643455aa66549c2f6a18a66",
            "0d9c15014c1b4e68aa54c6aee855bb2d",
            "063154d2af98437490461eefa9141ac6",
            "8d89e5d1860d44dc9984cc163de164a4",
            "65a7d37bd9e342ef8e2a5610fb063ecf",
            "10f73ff8c8fb4ce5be06d74c93810982",
            "6b34d95396934e20b26ae7b553e78701",
            "30c9515051594ed695309fa365d221d9",
            "9426973b072d4b60876d01bd2c23e3f6",
            "8fdb5df28da04d91ab36e4adde7fc6c9",
            "e8dfe3d3785b48a2ac515eb6922bfeeb",
            "5ce8046db72d4363a379ce77851224d7",
            "9fb5a2af2b044da99908cbabbdba2cd9",
            "1bbb4a5ebde54cd6bb21cb46f581a94d",
            "2be4865d21634ad3b822f0dc903c0ab5",
            "7b0f595322e748f19615206be4314e89",
            "38341437dc6e4040bd848db7026649df",
            "e227fa5b722c4013aef90ad51b5f5424",
            "d33f89c825204618997c6b248e3dd8c1",
            "af5044f2422d48f1afc3f48684da765c",
            "e715f01be46b4afda8d9c2a19ddf3ded",
            "112b1b979b4f4bd88cc791cfbe9cdc2b",
            "028a655141904a1eae8ed4340fb6ab84",
            "d65549f8ac5d40d4a11677ccf8d39492",
            "abb415d5bcf7479885a148fcb6853746",
            "d89ce60a83d14d5a88d995343ff41227",
            "dc706ce3bccc4a9ab39061c8e37f2642",
            "7f05d92d7b504923afbc43c00e271333",
            "dfd802884e40420b957cc871445f2a75",
            "62279098ef18448dad8a30ad5a8cda83",
            "0be3ed72ab6147d6bea2625d8dcebc7e",
            "d255ae60884b44a39d389d81a95d0579",
            "849a2ce7b1c54ec2b6566a797467f970",
            "2c40d3113dff453997aa1893df926a8a",
            "9d8312a2d4464225b2fc4a32b258f5ab",
            "cf6773a34ca5476ea112ac8477ee416d",
            "453d87c686fe4bc9988763a7918ea21d",
            "ea534c69c803453f9a48f6d0dcd3febf",
            "8887afaf01b9414a8268cfa5822725aa",
            "7b00fe3123fc43609094708fbf98ba4f",
            "53c5d071ad574a4a8c8a2a2464040ec6",
            "bac32287c50c4947a187202c9aa0072b",
            "3a41414f3a674048a99f5a40bc6dc4fb",
            "b9f1f86a597d4933b63763f9b18789cb",
            "668824bcc27549ef9edd07ece4649a41",
            "e59e244a052a40fb89db4bcf79526e0f",
            "5d5efa1a580b4ab6b3dc3900911a1fca",
            "e7d76f5b12ad4eaaadf55f318456f6e7",
            "dbc4fdee63b34fc299ca2345da9df85a",
            "05361bda33794b8c93691e483d85e6b5",
            "499dd9963c7045bea74320e670f14e6c",
            "6efce024d03a44359044c8f334511817",
            "8fafc614a052407893f6500f78ef11d2",
            "6933504e155e409899d08cd32a003912",
            "910f82650dc2486896dd7450c1716728",
            "6eba4d57056d4a3c919cb8df694757b8",
            "f55d4d0c4dcb472a94c2cab5a04e2a9e",
            "cd3584d105cd4845b14b7e506852d7e4",
            "b8c7dabe72904a61879bef5bd790f50c",
            "f6608a55cbc84bf3920cc0c0f28721b6",
            "7d79fb6960324ac4927cc33d94450a71",
            "7b1cd89d65894150bf593bd3a696ab72",
            "1ab3f8f8ab514a9bb7b8256648c0d0c3",
            "2059f6ca51ce4b80b8911fa7c262eb92",
            "f72fb68e9a954d44829d821711e893fb",
            "72ec1cd42ae44dd68b1c981c75c69ecf",
            "ecfa56fb2ba044709ce8d846163c4222",
            "ec857edf49da49a7b94bc6b8346ad1ac",
            "c37f66207946477aae8ab630a8b5b004",
            "22a7e99173434153bcddc01d8559d626",
            "5ebfad4d04e4406c9f975660ed26ae6e",
            "790b2f3be72b419d894e9e74098556a2",
            "37e7d92f6def40668c1af5b99fc89158",
            "daeeab8b14a64a1090303cc5d7456a09",
            "bdb48d2f31d743248ebae5532c7cfeea",
            "fab8cfae3c204010841daa93610ff8d5",
            "2a09f32a00b74044adf58c34b38d7e13",
            "13480268e4464b30878648de9f0b9cc5",
            "cf4e781a8512491ba1ce32b335f5766c",
            "0230b3c4018f421db051b2cbec892088",
            "f84d303a2a1247fc92240532c77f4216",
            "a90f0e674ea84148b1f5d33aca869dfc",
            "09049cf7c2ba483bb2063ffb5ed81718",
            "4cd727cbb8614e6ca381dadca2b9c688",
            "731ce04d7b7a453eabe033b4d19c9418",
            "1761678fdf2846f48c25288e92f77764",
            "1f8d2ca3cdce43f1b50b8f776d0ed8fc",
            "f69ef1690fa94ee38648d9ebdb4c5c90",
            "8f64e86d53f348eda2579819daa809b8",
            "da3766dddeee4b6ea279239b5cb9a53f",
            "6a788e36d64c4a999a7966eb82441cc6",
            "859568069f9249c6a0d25156032f79c4",
            "c314cb8399b1483da5b10da4b789e3bf",
            "564dd34cae64457ea576a2485a642122",
            "fa3385afa5524dbcaa02f04b58073978",
            "e1fc71b88fa740dd965529d6ea9569f6",
            "92a7e5cdab9547bf9128d8b53afde60a",
            "34d4efff4ebb4c33a3e9a224b9dec0df",
            "ff5b4bd968d446a4ba437567587793a8",
            "aa0aac87af5d480e971f0054c8902bcd",
            "9c102684c05c4564ab532b3a995f4e96",
            "169c225579d94d7594fa675d7754df11"
          ]
        },
        "outputId": "dbe8b3c0-5307-4e1d-8160-78f3f3857ec9"
      },
      "execution_count": null,
      "outputs": [
        {
          "output_type": "stream",
          "name": "stderr",
          "text": [
            "/usr/local/lib/python3.10/dist-packages/huggingface_hub/utils/_auth.py:94: UserWarning: \n",
            "The secret `HF_TOKEN` does not exist in your Colab secrets.\n",
            "To authenticate with the Hugging Face Hub, create a token in your settings tab (https://huggingface.co/settings/tokens), set it as secret in your Google Colab and restart your session.\n",
            "You will be able to reuse this secret in all of your notebooks.\n",
            "Please note that authentication is recommended but still optional to access public models or datasets.\n",
            "  warnings.warn(\n"
          ]
        },
        {
          "output_type": "display_data",
          "data": {
            "text/plain": [
              "modules.json:   0%|          | 0.00/349 [00:00<?, ?B/s]"
            ],
            "application/vnd.jupyter.widget-view+json": {
              "version_major": 2,
              "version_minor": 0,
              "model_id": "c3734982ec91441daf40566cbac1f8ba"
            }
          },
          "metadata": {}
        },
        {
          "output_type": "display_data",
          "data": {
            "text/plain": [
              "config_sentence_transformers.json:   0%|          | 0.00/124 [00:00<?, ?B/s]"
            ],
            "application/vnd.jupyter.widget-view+json": {
              "version_major": 2,
              "version_minor": 0,
              "model_id": "66dc793af60c476a9a51a84dff3fb47f"
            }
          },
          "metadata": {}
        },
        {
          "output_type": "display_data",
          "data": {
            "text/plain": [
              "README.md:   0%|          | 0.00/90.8k [00:00<?, ?B/s]"
            ],
            "application/vnd.jupyter.widget-view+json": {
              "version_major": 2,
              "version_minor": 0,
              "model_id": "8d89e5d1860d44dc9984cc163de164a4"
            }
          },
          "metadata": {}
        },
        {
          "output_type": "display_data",
          "data": {
            "text/plain": [
              "sentence_bert_config.json:   0%|          | 0.00/52.0 [00:00<?, ?B/s]"
            ],
            "application/vnd.jupyter.widget-view+json": {
              "version_major": 2,
              "version_minor": 0,
              "model_id": "2be4865d21634ad3b822f0dc903c0ab5"
            }
          },
          "metadata": {}
        },
        {
          "output_type": "display_data",
          "data": {
            "text/plain": [
              "config.json:   0%|          | 0.00/684 [00:00<?, ?B/s]"
            ],
            "application/vnd.jupyter.widget-view+json": {
              "version_major": 2,
              "version_minor": 0,
              "model_id": "d89ce60a83d14d5a88d995343ff41227"
            }
          },
          "metadata": {}
        },
        {
          "output_type": "display_data",
          "data": {
            "text/plain": [
              "model.safetensors:   0%|          | 0.00/133M [00:00<?, ?B/s]"
            ],
            "application/vnd.jupyter.widget-view+json": {
              "version_major": 2,
              "version_minor": 0,
              "model_id": "453d87c686fe4bc9988763a7918ea21d"
            }
          },
          "metadata": {}
        },
        {
          "output_type": "display_data",
          "data": {
            "text/plain": [
              "tokenizer_config.json:   0%|          | 0.00/366 [00:00<?, ?B/s]"
            ],
            "application/vnd.jupyter.widget-view+json": {
              "version_major": 2,
              "version_minor": 0,
              "model_id": "e7d76f5b12ad4eaaadf55f318456f6e7"
            }
          },
          "metadata": {}
        },
        {
          "output_type": "display_data",
          "data": {
            "text/plain": [
              "vocab.txt:   0%|          | 0.00/232k [00:00<?, ?B/s]"
            ],
            "application/vnd.jupyter.widget-view+json": {
              "version_major": 2,
              "version_minor": 0,
              "model_id": "b8c7dabe72904a61879bef5bd790f50c"
            }
          },
          "metadata": {}
        },
        {
          "output_type": "display_data",
          "data": {
            "text/plain": [
              "tokenizer.json:   0%|          | 0.00/711k [00:00<?, ?B/s]"
            ],
            "application/vnd.jupyter.widget-view+json": {
              "version_major": 2,
              "version_minor": 0,
              "model_id": "22a7e99173434153bcddc01d8559d626"
            }
          },
          "metadata": {}
        },
        {
          "output_type": "display_data",
          "data": {
            "text/plain": [
              "special_tokens_map.json:   0%|          | 0.00/125 [00:00<?, ?B/s]"
            ],
            "application/vnd.jupyter.widget-view+json": {
              "version_major": 2,
              "version_minor": 0,
              "model_id": "f84d303a2a1247fc92240532c77f4216"
            }
          },
          "metadata": {}
        },
        {
          "output_type": "display_data",
          "data": {
            "text/plain": [
              "1_Pooling/config.json:   0%|          | 0.00/190 [00:00<?, ?B/s]"
            ],
            "application/vnd.jupyter.widget-view+json": {
              "version_major": 2,
              "version_minor": 0,
              "model_id": "859568069f9249c6a0d25156032f79c4"
            }
          },
          "metadata": {}
        }
      ]
    },
    {
      "cell_type": "code",
      "source": [
        "model"
      ],
      "metadata": {
        "id": "Y4wJgYpg1-Nh",
        "colab": {
          "base_uri": "https://localhost:8080/"
        },
        "outputId": "b86e3d9a-5b97-484b-b384-0e77fc899601"
      },
      "execution_count": null,
      "outputs": [
        {
          "output_type": "execute_result",
          "data": {
            "text/plain": [
              "SentenceTransformer(\n",
              "  (0): Transformer({'max_seq_length': 512, 'do_lower_case': True}) with Transformer model: BertModel \n",
              "  (1): Pooling({'word_embedding_dimension': 384, 'pooling_mode_cls_token': True, 'pooling_mode_mean_tokens': False, 'pooling_mode_max_tokens': False, 'pooling_mode_mean_sqrt_len_tokens': False, 'pooling_mode_weightedmean_tokens': False, 'pooling_mode_lasttoken': False, 'include_prompt': True})\n",
              "  (2): Normalize()\n",
              ")"
            ]
          },
          "metadata": {},
          "execution_count": 41
        }
      ]
    },
    {
      "cell_type": "markdown",
      "source": [
        "Let's load our data into the desired format!"
      ],
      "metadata": {
        "id": "fBP9U6w-Jyyo"
      }
    },
    {
      "cell_type": "code",
      "source": [
        "from torch.utils.data import DataLoader\n",
        "from sentence_transformers import InputExample"
      ],
      "metadata": {
        "id": "cUy0HwPp1-TW"
      },
      "execution_count": null,
      "outputs": []
    },
    {
      "cell_type": "code",
      "source": [
        "!git clone https://github.com/AI-Maker-Space/DataRepository"
      ],
      "metadata": {
        "colab": {
          "base_uri": "https://localhost:8080/"
        },
        "id": "xhxUvhnkghmo",
        "outputId": "d6d77789-e538-4b02-9cf1-d5b031dc5467"
      },
      "execution_count": null,
      "outputs": [
        {
          "output_type": "stream",
          "name": "stdout",
          "text": [
            "Cloning into 'DataRepository'...\n",
            "remote: Enumerating objects: 119, done.\u001b[K\n",
            "remote: Counting objects: 100% (111/111), done.\u001b[K\n",
            "remote: Compressing objects: 100% (96/96), done.\u001b[K\n",
            "remote: Total 119 (delta 36), reused 40 (delta 10), pack-reused 8 (from 1)\u001b[K\n",
            "Receiving objects: 100% (119/119), 78.04 MiB | 26.25 MiB/s, done.\n",
            "Resolving deltas: 100% (36/36), done.\n"
          ]
        }
      ]
    },
    {
      "cell_type": "code",
      "source": [
        "TRAIN_DATASET_FPATH = './DataRepository/embedding_data/train_dataset.json'\n",
        "VAL_DATASET_FPATH = './DataRepository/embedding_data/eval_dataset.json'"
      ],
      "metadata": {
        "id": "q7OEQVmu2Kfb"
      },
      "execution_count": null,
      "outputs": []
    },
    {
      "cell_type": "code",
      "source": [
        "import json\n",
        "\n",
        "with open(TRAIN_DATASET_FPATH, 'r+') as f:\n",
        "    train_dataset = json.load(f)\n",
        "\n",
        "with open(VAL_DATASET_FPATH, 'r+') as f:\n",
        "    val_dataset = json.load(f)"
      ],
      "metadata": {
        "id": "Mw_hAOx_2NLz"
      },
      "execution_count": null,
      "outputs": []
    },
    {
      "cell_type": "code",
      "source": [
        "dataset = train_dataset\n",
        "\n",
        "corpus = dataset['corpus']\n",
        "queries = dataset['queries']\n",
        "relevant_docs = dataset['relevant_docs']\n",
        "\n",
        "examples = []\n",
        "for query_id, query in queries.items():\n",
        "    node_id = relevant_docs[query_id][0]\n",
        "    text = corpus[node_id]\n",
        "    example = InputExample(texts=[query, text])\n",
        "    examples.append(example)"
      ],
      "metadata": {
        "id": "6tOJ3GIN2Odx"
      },
      "execution_count": null,
      "outputs": []
    },
    {
      "cell_type": "markdown",
      "source": [
        "We're going to be leveraging `sentence_transformers` `MultipleNegativesRankingLoss` as our loss function.\n",
        "\n",
        "You can read more about it in the docs, [here](https://www.sbert.net/docs/package_reference/losses.html#multiplenegativesrankingloss).\n",
        "\n",
        "Note that there is [research](https://arxiv.org/pdf/1705.00652.pdf) that indicates that performance generally scales with `BATCH_SIZE`, but we're going to stick with an arbitrary 10 for the example in the notebook."
      ],
      "metadata": {
        "id": "6uAhnbW_LxaK"
      }
    },
    {
      "cell_type": "markdown",
      "source": [
        "##### ❓ Question #3:\n",
        "\n",
        "What is happening in `MultipleNegativesRankingLoss` that makes it useful for our task?"
      ],
      "metadata": {
        "id": "4lcgcmPdd3K2"
      }
    },
    {
      "cell_type": "code",
      "source": [
        "from sentence_transformers import losses"
      ],
      "metadata": {
        "id": "JwX2ltEj2RBn"
      },
      "execution_count": null,
      "outputs": []
    },
    {
      "cell_type": "code",
      "source": [
        "loss = losses.MultipleNegativesRankingLoss(model)"
      ],
      "metadata": {
        "id": "T6LQuafa2R54"
      },
      "execution_count": null,
      "outputs": []
    },
    {
      "cell_type": "code",
      "source": [
        "BATCH_SIZE = 10\n",
        "\n",
        "loader = DataLoader(\n",
        "    examples, batch_size=BATCH_SIZE\n",
        ")"
      ],
      "metadata": {
        "id": "RCZwGmQY2Pv5"
      },
      "execution_count": null,
      "outputs": []
    },
    {
      "cell_type": "markdown",
      "source": [
        "We'll set up the `InformationRetrievalEvaluator` to determine performance during training."
      ],
      "metadata": {
        "id": "lpPrZ_6ZMOqh"
      }
    },
    {
      "cell_type": "code",
      "source": [
        "from sentence_transformers.evaluation import InformationRetrievalEvaluator"
      ],
      "metadata": {
        "id": "HCuVK5S22TnQ"
      },
      "execution_count": null,
      "outputs": []
    },
    {
      "cell_type": "code",
      "source": [
        "dataset = val_dataset\n",
        "\n",
        "corpus = dataset['corpus']\n",
        "queries = dataset['queries']\n",
        "relevant_docs = dataset['relevant_docs']\n",
        "\n",
        "evaluator = InformationRetrievalEvaluator(queries, corpus, relevant_docs)"
      ],
      "metadata": {
        "id": "0d90XGt92U1P"
      },
      "execution_count": null,
      "outputs": []
    },
    {
      "cell_type": "markdown",
      "source": [
        "You could use a larger epoch size here, but for the example in the Notebook, we'll stick with 10."
      ],
      "metadata": {
        "id": "P2GR2A28MUBD"
      }
    },
    {
      "cell_type": "code",
      "source": [
        "EPOCHS = 10"
      ],
      "metadata": {
        "id": "un4ee2dM2WF4"
      },
      "execution_count": null,
      "outputs": []
    },
    {
      "cell_type": "markdown",
      "source": [
        "Nothing left to do but #trainthatmodel!\n",
        "\n",
        "> NOTE: You'll need to make sure you enter the desired Weights and Biases key - you should be able to simple click the link `https://wandb.ai/authorize` and follow the outlined steps to get the API key."
      ],
      "metadata": {
        "id": "mhClKkMLMZxW"
      }
    },
    {
      "cell_type": "code",
      "source": [
        "from datasets import Dataset\n",
        "from torch.utils.data import DataLoader\n",
        "\n",
        "warmup_steps = int(len(loader) * EPOCHS * 0.1)\n",
        "\n",
        "model.fit(\n",
        "    train_objectives=[(loader, loss)],\n",
        "    epochs=EPOCHS,\n",
        "    warmup_steps=warmup_steps,\n",
        "    output_path='exp_finetune',\n",
        "    show_progress_bar=True,\n",
        "    evaluator=evaluator,\n",
        "    evaluation_steps=50,\n",
        ")"
      ],
      "metadata": {
        "id": "l8-oSdDB2Ymm",
        "colab": {
          "base_uri": "https://localhost:8080/",
          "height": 914,
          "referenced_widgets": [
            "7867a05dbac74a1bb82e5e0d939375d1",
            "c57d30a0f698413b988e6c9fda6120d6",
            "60bd0262ebaf45a1aee30620e3acb9ae",
            "61e45b82045d4d569ea292af868f4aa3",
            "14b990f82b2f48d38cc19b99439f23c4",
            "e63ce53b997c436f9e87f9c2e87d6610",
            "85e09762891f4a3d8f5092e05c1440ae",
            "32171b2112d942ef871b02576c344617",
            "9e5a9a0bf0644922bc2fd9a93ea1accb",
            "7090646f255744fca02f3284e134d930",
            "e78cd14b53914d7aa390343133915b3a"
          ]
        },
        "outputId": "92df4469-8b62-4993-ba86-c4f68ca377b0"
      },
      "execution_count": null,
      "outputs": [
        {
          "output_type": "display_data",
          "data": {
            "text/plain": [
              "<IPython.core.display.Javascript object>"
            ],
            "application/javascript": [
              "\n",
              "        window._wandbApiKey = new Promise((resolve, reject) => {\n",
              "            function loadScript(url) {\n",
              "            return new Promise(function(resolve, reject) {\n",
              "                let newScript = document.createElement(\"script\");\n",
              "                newScript.onerror = reject;\n",
              "                newScript.onload = resolve;\n",
              "                document.body.appendChild(newScript);\n",
              "                newScript.src = url;\n",
              "            });\n",
              "            }\n",
              "            loadScript(\"https://cdn.jsdelivr.net/npm/postmate/build/postmate.min.js\").then(() => {\n",
              "            const iframe = document.createElement('iframe')\n",
              "            iframe.style.cssText = \"width:0;height:0;border:none\"\n",
              "            document.body.appendChild(iframe)\n",
              "            const handshake = new Postmate({\n",
              "                container: iframe,\n",
              "                url: 'https://wandb.ai/authorize'\n",
              "            });\n",
              "            const timeout = setTimeout(() => reject(\"Couldn't auto authenticate\"), 5000)\n",
              "            handshake.then(function(child) {\n",
              "                child.on('authorize', data => {\n",
              "                    clearTimeout(timeout)\n",
              "                    resolve(data)\n",
              "                });\n",
              "            });\n",
              "            })\n",
              "        });\n",
              "    "
            ]
          },
          "metadata": {}
        },
        {
          "output_type": "stream",
          "name": "stderr",
          "text": [
            "\u001b[34m\u001b[1mwandb\u001b[0m: Logging into wandb.ai. (Learn how to deploy a W&B server locally: https://wandb.me/wandb-server)\n",
            "\u001b[34m\u001b[1mwandb\u001b[0m: You can find your API key in your browser here: https://wandb.ai/authorize\n",
            "wandb: Paste an API key from your profile and hit enter, or press ctrl+c to quit:"
          ]
        },
        {
          "name": "stdout",
          "output_type": "stream",
          "text": [
            " ··········\n"
          ]
        },
        {
          "output_type": "stream",
          "name": "stderr",
          "text": [
            "\u001b[34m\u001b[1mwandb\u001b[0m: Appending key for api.wandb.ai to your netrc file: /root/.netrc\n"
          ]
        },
        {
          "output_type": "display_data",
          "data": {
            "text/plain": [
              "<IPython.core.display.HTML object>"
            ],
            "text/html": [
              "Tracking run with wandb version 0.18.7"
            ]
          },
          "metadata": {}
        },
        {
          "output_type": "display_data",
          "data": {
            "text/plain": [
              "<IPython.core.display.HTML object>"
            ],
            "text/html": [
              "Run data is saved locally in <code>/content/wandb/run-20241126_212321-6lkvi28d</code>"
            ]
          },
          "metadata": {}
        },
        {
          "output_type": "display_data",
          "data": {
            "text/plain": [
              "<IPython.core.display.HTML object>"
            ],
            "text/html": [
              "Syncing run <strong><a href='https://wandb.ai/chrisalexiuk/sentence-transformers/runs/6lkvi28d' target=\"_blank\">checkpoints/model_1</a></strong> to <a href='https://wandb.ai/chrisalexiuk/sentence-transformers' target=\"_blank\">Weights & Biases</a> (<a href='https://wandb.me/developer-guide' target=\"_blank\">docs</a>)<br/>"
            ]
          },
          "metadata": {}
        },
        {
          "output_type": "display_data",
          "data": {
            "text/plain": [
              "<IPython.core.display.HTML object>"
            ],
            "text/html": [
              " View project at <a href='https://wandb.ai/chrisalexiuk/sentence-transformers' target=\"_blank\">https://wandb.ai/chrisalexiuk/sentence-transformers</a>"
            ]
          },
          "metadata": {}
        },
        {
          "output_type": "display_data",
          "data": {
            "text/plain": [
              "<IPython.core.display.HTML object>"
            ],
            "text/html": [
              " View run at <a href='https://wandb.ai/chrisalexiuk/sentence-transformers/runs/6lkvi28d' target=\"_blank\">https://wandb.ai/chrisalexiuk/sentence-transformers/runs/6lkvi28d</a>"
            ]
          },
          "metadata": {}
        },
        {
          "output_type": "display_data",
          "data": {
            "text/plain": [
              "<IPython.core.display.HTML object>"
            ],
            "text/html": [
              "\n",
              "    <div>\n",
              "      \n",
              "      <progress value='600' max='600' style='width:300px; height:20px; vertical-align: middle;'></progress>\n",
              "      [600/600 02:11, Epoch 10/10]\n",
              "    </div>\n",
              "    <table border=\"1\" class=\"dataframe\">\n",
              "  <thead>\n",
              " <tr style=\"text-align: left;\">\n",
              "      <th>Step</th>\n",
              "      <th>Training Loss</th>\n",
              "      <th>Validation Loss</th>\n",
              "      <th>Cosine Accuracy@1</th>\n",
              "      <th>Cosine Accuracy@3</th>\n",
              "      <th>Cosine Accuracy@5</th>\n",
              "      <th>Cosine Accuracy@10</th>\n",
              "      <th>Cosine Precision@1</th>\n",
              "      <th>Cosine Precision@3</th>\n",
              "      <th>Cosine Precision@5</th>\n",
              "      <th>Cosine Precision@10</th>\n",
              "      <th>Cosine Recall@1</th>\n",
              "      <th>Cosine Recall@3</th>\n",
              "      <th>Cosine Recall@5</th>\n",
              "      <th>Cosine Recall@10</th>\n",
              "      <th>Cosine Ndcg@10</th>\n",
              "      <th>Cosine Mrr@10</th>\n",
              "      <th>Cosine Map@100</th>\n",
              "    </tr>\n",
              "  </thead>\n",
              "  <tbody>\n",
              "    <tr>\n",
              "      <td>50</td>\n",
              "      <td>No log</td>\n",
              "      <td>No log</td>\n",
              "      <td>0.630872</td>\n",
              "      <td>0.791946</td>\n",
              "      <td>0.838926</td>\n",
              "      <td>0.899329</td>\n",
              "      <td>0.630872</td>\n",
              "      <td>0.263982</td>\n",
              "      <td>0.167785</td>\n",
              "      <td>0.089933</td>\n",
              "      <td>0.630872</td>\n",
              "      <td>0.791946</td>\n",
              "      <td>0.838926</td>\n",
              "      <td>0.899329</td>\n",
              "      <td>0.763430</td>\n",
              "      <td>0.720113</td>\n",
              "      <td>0.724508</td>\n",
              "    </tr>\n",
              "    <tr>\n",
              "      <td>60</td>\n",
              "      <td>No log</td>\n",
              "      <td>No log</td>\n",
              "      <td>0.627517</td>\n",
              "      <td>0.778523</td>\n",
              "      <td>0.842282</td>\n",
              "      <td>0.885906</td>\n",
              "      <td>0.627517</td>\n",
              "      <td>0.259508</td>\n",
              "      <td>0.168456</td>\n",
              "      <td>0.088591</td>\n",
              "      <td>0.627517</td>\n",
              "      <td>0.778523</td>\n",
              "      <td>0.842282</td>\n",
              "      <td>0.885906</td>\n",
              "      <td>0.755411</td>\n",
              "      <td>0.713607</td>\n",
              "      <td>0.718658</td>\n",
              "    </tr>\n",
              "    <tr>\n",
              "      <td>100</td>\n",
              "      <td>No log</td>\n",
              "      <td>No log</td>\n",
              "      <td>0.644295</td>\n",
              "      <td>0.788591</td>\n",
              "      <td>0.845638</td>\n",
              "      <td>0.895973</td>\n",
              "      <td>0.644295</td>\n",
              "      <td>0.262864</td>\n",
              "      <td>0.169128</td>\n",
              "      <td>0.089597</td>\n",
              "      <td>0.644295</td>\n",
              "      <td>0.788591</td>\n",
              "      <td>0.845638</td>\n",
              "      <td>0.895973</td>\n",
              "      <td>0.767730</td>\n",
              "      <td>0.726899</td>\n",
              "      <td>0.731367</td>\n",
              "    </tr>\n",
              "    <tr>\n",
              "      <td>120</td>\n",
              "      <td>No log</td>\n",
              "      <td>No log</td>\n",
              "      <td>0.634228</td>\n",
              "      <td>0.788591</td>\n",
              "      <td>0.832215</td>\n",
              "      <td>0.895973</td>\n",
              "      <td>0.634228</td>\n",
              "      <td>0.262864</td>\n",
              "      <td>0.166443</td>\n",
              "      <td>0.089597</td>\n",
              "      <td>0.634228</td>\n",
              "      <td>0.788591</td>\n",
              "      <td>0.832215</td>\n",
              "      <td>0.895973</td>\n",
              "      <td>0.764712</td>\n",
              "      <td>0.722739</td>\n",
              "      <td>0.727859</td>\n",
              "    </tr>\n",
              "    <tr>\n",
              "      <td>150</td>\n",
              "      <td>No log</td>\n",
              "      <td>No log</td>\n",
              "      <td>0.630872</td>\n",
              "      <td>0.771812</td>\n",
              "      <td>0.835570</td>\n",
              "      <td>0.885906</td>\n",
              "      <td>0.630872</td>\n",
              "      <td>0.257271</td>\n",
              "      <td>0.167114</td>\n",
              "      <td>0.088591</td>\n",
              "      <td>0.630872</td>\n",
              "      <td>0.771812</td>\n",
              "      <td>0.835570</td>\n",
              "      <td>0.885906</td>\n",
              "      <td>0.756317</td>\n",
              "      <td>0.714995</td>\n",
              "      <td>0.720317</td>\n",
              "    </tr>\n",
              "    <tr>\n",
              "      <td>180</td>\n",
              "      <td>No log</td>\n",
              "      <td>No log</td>\n",
              "      <td>0.637584</td>\n",
              "      <td>0.798658</td>\n",
              "      <td>0.832215</td>\n",
              "      <td>0.902685</td>\n",
              "      <td>0.637584</td>\n",
              "      <td>0.266219</td>\n",
              "      <td>0.166443</td>\n",
              "      <td>0.090268</td>\n",
              "      <td>0.637584</td>\n",
              "      <td>0.798658</td>\n",
              "      <td>0.832215</td>\n",
              "      <td>0.902685</td>\n",
              "      <td>0.767390</td>\n",
              "      <td>0.724489</td>\n",
              "      <td>0.728832</td>\n",
              "    </tr>\n",
              "    <tr>\n",
              "      <td>200</td>\n",
              "      <td>No log</td>\n",
              "      <td>No log</td>\n",
              "      <td>0.630872</td>\n",
              "      <td>0.795302</td>\n",
              "      <td>0.835570</td>\n",
              "      <td>0.906040</td>\n",
              "      <td>0.630872</td>\n",
              "      <td>0.265101</td>\n",
              "      <td>0.167114</td>\n",
              "      <td>0.090604</td>\n",
              "      <td>0.630872</td>\n",
              "      <td>0.795302</td>\n",
              "      <td>0.835570</td>\n",
              "      <td>0.906040</td>\n",
              "      <td>0.766550</td>\n",
              "      <td>0.722321</td>\n",
              "      <td>0.726448</td>\n",
              "    </tr>\n",
              "    <tr>\n",
              "      <td>240</td>\n",
              "      <td>No log</td>\n",
              "      <td>No log</td>\n",
              "      <td>0.627517</td>\n",
              "      <td>0.778523</td>\n",
              "      <td>0.812081</td>\n",
              "      <td>0.889262</td>\n",
              "      <td>0.627517</td>\n",
              "      <td>0.259508</td>\n",
              "      <td>0.162416</td>\n",
              "      <td>0.088926</td>\n",
              "      <td>0.627517</td>\n",
              "      <td>0.778523</td>\n",
              "      <td>0.812081</td>\n",
              "      <td>0.889262</td>\n",
              "      <td>0.755208</td>\n",
              "      <td>0.712708</td>\n",
              "      <td>0.717628</td>\n",
              "    </tr>\n",
              "    <tr>\n",
              "      <td>250</td>\n",
              "      <td>No log</td>\n",
              "      <td>No log</td>\n",
              "      <td>0.634228</td>\n",
              "      <td>0.778523</td>\n",
              "      <td>0.815436</td>\n",
              "      <td>0.889262</td>\n",
              "      <td>0.634228</td>\n",
              "      <td>0.259508</td>\n",
              "      <td>0.163087</td>\n",
              "      <td>0.088926</td>\n",
              "      <td>0.634228</td>\n",
              "      <td>0.778523</td>\n",
              "      <td>0.815436</td>\n",
              "      <td>0.889262</td>\n",
              "      <td>0.758341</td>\n",
              "      <td>0.716775</td>\n",
              "      <td>0.722066</td>\n",
              "    </tr>\n",
              "    <tr>\n",
              "      <td>300</td>\n",
              "      <td>No log</td>\n",
              "      <td>No log</td>\n",
              "      <td>0.637584</td>\n",
              "      <td>0.791946</td>\n",
              "      <td>0.838926</td>\n",
              "      <td>0.895973</td>\n",
              "      <td>0.637584</td>\n",
              "      <td>0.263982</td>\n",
              "      <td>0.167785</td>\n",
              "      <td>0.089597</td>\n",
              "      <td>0.637584</td>\n",
              "      <td>0.791946</td>\n",
              "      <td>0.838926</td>\n",
              "      <td>0.895973</td>\n",
              "      <td>0.764657</td>\n",
              "      <td>0.722772</td>\n",
              "      <td>0.727183</td>\n",
              "    </tr>\n",
              "    <tr>\n",
              "      <td>350</td>\n",
              "      <td>No log</td>\n",
              "      <td>No log</td>\n",
              "      <td>0.614094</td>\n",
              "      <td>0.795302</td>\n",
              "      <td>0.828859</td>\n",
              "      <td>0.892617</td>\n",
              "      <td>0.614094</td>\n",
              "      <td>0.265101</td>\n",
              "      <td>0.165772</td>\n",
              "      <td>0.089262</td>\n",
              "      <td>0.614094</td>\n",
              "      <td>0.795302</td>\n",
              "      <td>0.828859</td>\n",
              "      <td>0.892617</td>\n",
              "      <td>0.753747</td>\n",
              "      <td>0.709248</td>\n",
              "      <td>0.713611</td>\n",
              "    </tr>\n",
              "    <tr>\n",
              "      <td>360</td>\n",
              "      <td>No log</td>\n",
              "      <td>No log</td>\n",
              "      <td>0.624161</td>\n",
              "      <td>0.785235</td>\n",
              "      <td>0.825503</td>\n",
              "      <td>0.889262</td>\n",
              "      <td>0.624161</td>\n",
              "      <td>0.261745</td>\n",
              "      <td>0.165101</td>\n",
              "      <td>0.088926</td>\n",
              "      <td>0.624161</td>\n",
              "      <td>0.785235</td>\n",
              "      <td>0.825503</td>\n",
              "      <td>0.889262</td>\n",
              "      <td>0.755448</td>\n",
              "      <td>0.712725</td>\n",
              "      <td>0.717313</td>\n",
              "    </tr>\n",
              "    <tr>\n",
              "      <td>400</td>\n",
              "      <td>No log</td>\n",
              "      <td>No log</td>\n",
              "      <td>0.637584</td>\n",
              "      <td>0.788591</td>\n",
              "      <td>0.842282</td>\n",
              "      <td>0.892617</td>\n",
              "      <td>0.637584</td>\n",
              "      <td>0.262864</td>\n",
              "      <td>0.168456</td>\n",
              "      <td>0.089262</td>\n",
              "      <td>0.637584</td>\n",
              "      <td>0.788591</td>\n",
              "      <td>0.842282</td>\n",
              "      <td>0.892617</td>\n",
              "      <td>0.765749</td>\n",
              "      <td>0.724904</td>\n",
              "      <td>0.729708</td>\n",
              "    </tr>\n",
              "    <tr>\n",
              "      <td>420</td>\n",
              "      <td>No log</td>\n",
              "      <td>No log</td>\n",
              "      <td>0.637584</td>\n",
              "      <td>0.791946</td>\n",
              "      <td>0.848993</td>\n",
              "      <td>0.892617</td>\n",
              "      <td>0.637584</td>\n",
              "      <td>0.263982</td>\n",
              "      <td>0.169799</td>\n",
              "      <td>0.089262</td>\n",
              "      <td>0.637584</td>\n",
              "      <td>0.791946</td>\n",
              "      <td>0.848993</td>\n",
              "      <td>0.892617</td>\n",
              "      <td>0.765594</td>\n",
              "      <td>0.724688</td>\n",
              "      <td>0.729387</td>\n",
              "    </tr>\n",
              "    <tr>\n",
              "      <td>450</td>\n",
              "      <td>No log</td>\n",
              "      <td>No log</td>\n",
              "      <td>0.634228</td>\n",
              "      <td>0.785235</td>\n",
              "      <td>0.842282</td>\n",
              "      <td>0.885906</td>\n",
              "      <td>0.634228</td>\n",
              "      <td>0.261745</td>\n",
              "      <td>0.168456</td>\n",
              "      <td>0.088591</td>\n",
              "      <td>0.634228</td>\n",
              "      <td>0.785235</td>\n",
              "      <td>0.842282</td>\n",
              "      <td>0.885906</td>\n",
              "      <td>0.759971</td>\n",
              "      <td>0.719484</td>\n",
              "      <td>0.724560</td>\n",
              "    </tr>\n",
              "    <tr>\n",
              "      <td>480</td>\n",
              "      <td>No log</td>\n",
              "      <td>No log</td>\n",
              "      <td>0.634228</td>\n",
              "      <td>0.788591</td>\n",
              "      <td>0.835570</td>\n",
              "      <td>0.892617</td>\n",
              "      <td>0.634228</td>\n",
              "      <td>0.262864</td>\n",
              "      <td>0.167114</td>\n",
              "      <td>0.089262</td>\n",
              "      <td>0.634228</td>\n",
              "      <td>0.788591</td>\n",
              "      <td>0.835570</td>\n",
              "      <td>0.892617</td>\n",
              "      <td>0.761011</td>\n",
              "      <td>0.719037</td>\n",
              "      <td>0.723595</td>\n",
              "    </tr>\n",
              "    <tr>\n",
              "      <td>500</td>\n",
              "      <td>0.233700</td>\n",
              "      <td>No log</td>\n",
              "      <td>0.627517</td>\n",
              "      <td>0.785235</td>\n",
              "      <td>0.835570</td>\n",
              "      <td>0.892617</td>\n",
              "      <td>0.627517</td>\n",
              "      <td>0.261745</td>\n",
              "      <td>0.167114</td>\n",
              "      <td>0.089262</td>\n",
              "      <td>0.627517</td>\n",
              "      <td>0.785235</td>\n",
              "      <td>0.835570</td>\n",
              "      <td>0.892617</td>\n",
              "      <td>0.758707</td>\n",
              "      <td>0.715921</td>\n",
              "      <td>0.720494</td>\n",
              "    </tr>\n",
              "    <tr>\n",
              "      <td>540</td>\n",
              "      <td>0.233700</td>\n",
              "      <td>No log</td>\n",
              "      <td>0.627517</td>\n",
              "      <td>0.788591</td>\n",
              "      <td>0.832215</td>\n",
              "      <td>0.892617</td>\n",
              "      <td>0.627517</td>\n",
              "      <td>0.262864</td>\n",
              "      <td>0.166443</td>\n",
              "      <td>0.089262</td>\n",
              "      <td>0.627517</td>\n",
              "      <td>0.788591</td>\n",
              "      <td>0.832215</td>\n",
              "      <td>0.892617</td>\n",
              "      <td>0.758650</td>\n",
              "      <td>0.715884</td>\n",
              "      <td>0.720390</td>\n",
              "    </tr>\n",
              "    <tr>\n",
              "      <td>550</td>\n",
              "      <td>0.233700</td>\n",
              "      <td>No log</td>\n",
              "      <td>0.627517</td>\n",
              "      <td>0.785235</td>\n",
              "      <td>0.832215</td>\n",
              "      <td>0.892617</td>\n",
              "      <td>0.627517</td>\n",
              "      <td>0.261745</td>\n",
              "      <td>0.166443</td>\n",
              "      <td>0.089262</td>\n",
              "      <td>0.627517</td>\n",
              "      <td>0.785235</td>\n",
              "      <td>0.832215</td>\n",
              "      <td>0.892617</td>\n",
              "      <td>0.758534</td>\n",
              "      <td>0.715721</td>\n",
              "      <td>0.720230</td>\n",
              "    </tr>\n",
              "    <tr>\n",
              "      <td>600</td>\n",
              "      <td>0.233700</td>\n",
              "      <td>No log</td>\n",
              "      <td>0.627517</td>\n",
              "      <td>0.788591</td>\n",
              "      <td>0.835570</td>\n",
              "      <td>0.892617</td>\n",
              "      <td>0.627517</td>\n",
              "      <td>0.262864</td>\n",
              "      <td>0.167114</td>\n",
              "      <td>0.089262</td>\n",
              "      <td>0.627517</td>\n",
              "      <td>0.788591</td>\n",
              "      <td>0.835570</td>\n",
              "      <td>0.892617</td>\n",
              "      <td>0.758799</td>\n",
              "      <td>0.716025</td>\n",
              "      <td>0.720560</td>\n",
              "    </tr>\n",
              "  </tbody>\n",
              "</table><p>"
            ]
          },
          "metadata": {}
        },
        {
          "output_type": "display_data",
          "data": {
            "text/plain": [
              "Computing widget examples:   0%|          | 0/1 [00:00<?, ?example/s]"
            ],
            "application/vnd.jupyter.widget-view+json": {
              "version_major": 2,
              "version_minor": 0,
              "model_id": "7867a05dbac74a1bb82e5e0d939375d1"
            }
          },
          "metadata": {}
        }
      ]
    },
    {
      "cell_type": "markdown",
      "source": [
        "### Task 2: Evaluating our Embeddings Models\n",
        "\n",
        "Now that we've fine-tuned our embedding model on our data - lets see how it performs compared to the base embeddings!"
      ],
      "metadata": {
        "id": "pqfp0F8lMeal"
      }
    },
    {
      "cell_type": "code",
      "source": [
        "import json\n",
        "from tqdm.notebook import tqdm\n",
        "import pandas as pd"
      ],
      "metadata": {
        "id": "OTtogOHpAUnA"
      },
      "execution_count": null,
      "outputs": []
    },
    {
      "cell_type": "code",
      "source": [
        "TRAIN_DATASET_FPATH = './DataRepository/embedding_data/train_dataset.json'\n",
        "EVAL_DATASET_FPATH = './DataRepository/embedding_data/eval_dataset.json'"
      ],
      "metadata": {
        "id": "phzSwbIWAVPB"
      },
      "execution_count": null,
      "outputs": []
    },
    {
      "cell_type": "code",
      "source": [
        "with open(TRAIN_DATASET_FPATH, 'r+') as f:\n",
        "    train_dataset = json.load(f)\n",
        "\n",
        "with open(EVAL_DATASET_FPATH, 'r+') as f:\n",
        "    eval_dataset = json.load(f)"
      ],
      "metadata": {
        "id": "SNygAxVNAYdT"
      },
      "execution_count": null,
      "outputs": []
    },
    {
      "cell_type": "markdown",
      "source": [
        "We're going to be using the `InformationRetrievalEvaluator` to help us determine how well our embedding model is performing on a widely used task: Information Retrieval!\n",
        "\n",
        "You can dive deeper into the documentation [here](https://sbert.net/docs/package_reference/sentence_transformer/evaluation.html#informationretrievalevaluator) to see under the hood.\n",
        "\n",
        "You'll notice, however, that we have common suffixes for our evaluation metrics:\n",
        "\n",
        "- `X_accuracy@1`, `X_accuracy@3`, etc.\n",
        "\n",
        "This is computing metrics by looking at the accuracy, recall, precision, Mean Reciprocal Rank (MRR), Normalized Discounted Cumulative Gain (NDGC), and Mean-Average Precision (MAP) at various numbers of retrieved items.\n",
        "\n",
        "That is to say:\n",
        "\n",
        "We look at these scores as we include the first closest document, top three closest documents, etc.\n",
        "\n",
        "We can think of these `@k` as \"top k` metrics.\n",
        "\n",
        "These will help us guide important hyper-parameters when using these models for Information Retrieval tasks down the road!"
      ],
      "metadata": {
        "id": "mvbEUNfPMrRu"
      }
    },
    {
      "cell_type": "code",
      "source": [
        "from sentence_transformers.evaluation import InformationRetrievalEvaluator\n",
        "from sentence_transformers import SentenceTransformer\n",
        "\n",
        "def evaluate_st(\n",
        "    dataset,\n",
        "    model_id,\n",
        "    name,\n",
        "):\n",
        "    corpus = dataset['corpus']\n",
        "    queries = dataset['queries']\n",
        "    relevant_docs = dataset['relevant_docs']\n",
        "\n",
        "    evaluator = InformationRetrievalEvaluator(queries, corpus, relevant_docs, name=name)\n",
        "    model = SentenceTransformer(model_id)\n",
        "    return evaluator(model, output_path=\"/content/\")"
      ],
      "metadata": {
        "id": "ZU3Rt8c5AcTH"
      },
      "execution_count": null,
      "outputs": []
    },
    {
      "cell_type": "markdown",
      "source": [
        "#####🏗️ Activity #4:\n",
        "\n",
        "Describe what the `evaluate` function is doing in the above cell in natural language."
      ],
      "metadata": {
        "id": "oCmlLxW1ugI0"
      }
    },
    {
      "cell_type": "markdown",
      "source": [
        "#### Base Embeddings Model Results"
      ],
      "metadata": {
        "id": "uKBjZ40dNtxA"
      }
    },
    {
      "cell_type": "code",
      "source": [
        "evaluate_st(eval_dataset, \"BAAI/bge-small-en\", name='bge')"
      ],
      "metadata": {
        "id": "c3_dVwuhAmJR",
        "colab": {
          "base_uri": "https://localhost:8080/"
        },
        "outputId": "cd86072f-da7d-4d45-ed02-5c7ea77e2629"
      },
      "execution_count": null,
      "outputs": [
        {
          "output_type": "execute_result",
          "data": {
            "text/plain": [
              "{'bge_cosine_accuracy@1': 0.5067114093959731,\n",
              " 'bge_cosine_accuracy@3': 0.714765100671141,\n",
              " 'bge_cosine_accuracy@5': 0.7818791946308725,\n",
              " 'bge_cosine_accuracy@10': 0.8288590604026845,\n",
              " 'bge_cosine_precision@1': 0.5067114093959731,\n",
              " 'bge_cosine_precision@3': 0.23825503355704697,\n",
              " 'bge_cosine_precision@5': 0.1563758389261745,\n",
              " 'bge_cosine_precision@10': 0.08288590604026844,\n",
              " 'bge_cosine_recall@1': 0.5067114093959731,\n",
              " 'bge_cosine_recall@3': 0.714765100671141,\n",
              " 'bge_cosine_recall@5': 0.7818791946308725,\n",
              " 'bge_cosine_recall@10': 0.8288590604026845,\n",
              " 'bge_cosine_ndcg@10': 0.6710313851865369,\n",
              " 'bge_cosine_mrr@10': 0.619814637264302,\n",
              " 'bge_cosine_map@100': 0.6279603491960256}"
            ]
          },
          "metadata": {},
          "execution_count": 74
        }
      ]
    },
    {
      "cell_type": "markdown",
      "source": [
        "#### Fine-tuned Results"
      ],
      "metadata": {
        "id": "nFQ6yFlmN9mc"
      }
    },
    {
      "cell_type": "code",
      "source": [
        "evaluate_st(eval_dataset, \"exp_finetune\", name='finetuned')"
      ],
      "metadata": {
        "id": "9Ddpn0ErAquN",
        "colab": {
          "base_uri": "https://localhost:8080/"
        },
        "outputId": "fdfbd8a0-f834-4f0a-d959-af5991653a2d"
      },
      "execution_count": null,
      "outputs": [
        {
          "output_type": "execute_result",
          "data": {
            "text/plain": [
              "{'finetuned_cosine_accuracy@1': 0.6442953020134228,\n",
              " 'finetuned_cosine_accuracy@3': 0.7885906040268457,\n",
              " 'finetuned_cosine_accuracy@5': 0.8456375838926175,\n",
              " 'finetuned_cosine_accuracy@10': 0.8959731543624161,\n",
              " 'finetuned_cosine_precision@1': 0.6442953020134228,\n",
              " 'finetuned_cosine_precision@3': 0.2628635346756152,\n",
              " 'finetuned_cosine_precision@5': 0.16912751677852347,\n",
              " 'finetuned_cosine_precision@10': 0.0895973154362416,\n",
              " 'finetuned_cosine_recall@1': 0.6442953020134228,\n",
              " 'finetuned_cosine_recall@3': 0.7885906040268457,\n",
              " 'finetuned_cosine_recall@5': 0.8456375838926175,\n",
              " 'finetuned_cosine_recall@10': 0.8959731543624161,\n",
              " 'finetuned_cosine_ndcg@10': 0.7677298263110102,\n",
              " 'finetuned_cosine_mrr@10': 0.7268989027378289,\n",
              " 'finetuned_cosine_map@100': 0.7313671834327362}"
            ]
          },
          "metadata": {},
          "execution_count": 75
        }
      ]
    },
    {
      "cell_type": "markdown",
      "source": [
        "### Conclusion\n",
        "\n",
        "Now we can compare the embeddings models to see which performed the best!"
      ],
      "metadata": {
        "id": "o1nWWOohN_e5"
      }
    },
    {
      "cell_type": "code",
      "source": [
        "df_st_bge = pd.read_csv('/content/Information-Retrieval_evaluation_bge_results.csv')\n",
        "df_st_finetuned = pd.read_csv('/content/Information-Retrieval_evaluation_finetuned_results.csv')"
      ],
      "metadata": {
        "id": "Yse1ckCdAuLp"
      },
      "execution_count": null,
      "outputs": []
    },
    {
      "cell_type": "code",
      "source": [
        "df_st_bge['model'] = 'bge'\n",
        "df_st_finetuned['model'] = 'fine_tuned'\n",
        "df_st_all = pd.concat([df_st_bge, df_st_finetuned])\n",
        "df_st_all = df_st_all.set_index('model')\n",
        "df_st_all"
      ],
      "metadata": {
        "id": "qOV9YTDnA4d2",
        "colab": {
          "base_uri": "https://localhost:8080/",
          "height": 181
        },
        "outputId": "12615545-0473-4191-f26e-cba5f8bb08ec"
      },
      "execution_count": null,
      "outputs": [
        {
          "output_type": "execute_result",
          "data": {
            "text/plain": [
              "            epoch  steps  cosine-Accuracy@1  cosine-Accuracy@3  \\\n",
              "model                                                            \n",
              "bge            -1     -1           0.506711           0.714765   \n",
              "fine_tuned     -1     -1           0.644295           0.788591   \n",
              "\n",
              "            cosine-Accuracy@5  cosine-Accuracy@10  cosine-Precision@1  \\\n",
              "model                                                                   \n",
              "bge                  0.781879            0.828859            0.506711   \n",
              "fine_tuned           0.845638            0.895973            0.644295   \n",
              "\n",
              "            cosine-Recall@1  cosine-Precision@3  cosine-Recall@3  \\\n",
              "model                                                              \n",
              "bge                0.506711            0.238255         0.714765   \n",
              "fine_tuned         0.644295            0.262864         0.788591   \n",
              "\n",
              "            cosine-Precision@5  cosine-Recall@5  cosine-Precision@10  \\\n",
              "model                                                                  \n",
              "bge                   0.156376         0.781879             0.082886   \n",
              "fine_tuned            0.169128         0.845638             0.089597   \n",
              "\n",
              "            cosine-Recall@10  cosine-MRR@10  cosine-NDCG@10  cosine-MAP@100  \n",
              "model                                                                        \n",
              "bge                 0.828859       0.619815        0.671031        0.627960  \n",
              "fine_tuned          0.895973       0.726899        0.767730        0.731367  "
            ],
            "text/html": [
              "\n",
              "  <div id=\"df-8dd7438e-8b3b-4665-ba8f-5ad57941ffa9\" class=\"colab-df-container\">\n",
              "    <div>\n",
              "<style scoped>\n",
              "    .dataframe tbody tr th:only-of-type {\n",
              "        vertical-align: middle;\n",
              "    }\n",
              "\n",
              "    .dataframe tbody tr th {\n",
              "        vertical-align: top;\n",
              "    }\n",
              "\n",
              "    .dataframe thead th {\n",
              "        text-align: right;\n",
              "    }\n",
              "</style>\n",
              "<table border=\"1\" class=\"dataframe\">\n",
              "  <thead>\n",
              "    <tr style=\"text-align: right;\">\n",
              "      <th></th>\n",
              "      <th>epoch</th>\n",
              "      <th>steps</th>\n",
              "      <th>cosine-Accuracy@1</th>\n",
              "      <th>cosine-Accuracy@3</th>\n",
              "      <th>cosine-Accuracy@5</th>\n",
              "      <th>cosine-Accuracy@10</th>\n",
              "      <th>cosine-Precision@1</th>\n",
              "      <th>cosine-Recall@1</th>\n",
              "      <th>cosine-Precision@3</th>\n",
              "      <th>cosine-Recall@3</th>\n",
              "      <th>cosine-Precision@5</th>\n",
              "      <th>cosine-Recall@5</th>\n",
              "      <th>cosine-Precision@10</th>\n",
              "      <th>cosine-Recall@10</th>\n",
              "      <th>cosine-MRR@10</th>\n",
              "      <th>cosine-NDCG@10</th>\n",
              "      <th>cosine-MAP@100</th>\n",
              "    </tr>\n",
              "    <tr>\n",
              "      <th>model</th>\n",
              "      <th></th>\n",
              "      <th></th>\n",
              "      <th></th>\n",
              "      <th></th>\n",
              "      <th></th>\n",
              "      <th></th>\n",
              "      <th></th>\n",
              "      <th></th>\n",
              "      <th></th>\n",
              "      <th></th>\n",
              "      <th></th>\n",
              "      <th></th>\n",
              "      <th></th>\n",
              "      <th></th>\n",
              "      <th></th>\n",
              "      <th></th>\n",
              "      <th></th>\n",
              "    </tr>\n",
              "  </thead>\n",
              "  <tbody>\n",
              "    <tr>\n",
              "      <th>bge</th>\n",
              "      <td>-1</td>\n",
              "      <td>-1</td>\n",
              "      <td>0.506711</td>\n",
              "      <td>0.714765</td>\n",
              "      <td>0.781879</td>\n",
              "      <td>0.828859</td>\n",
              "      <td>0.506711</td>\n",
              "      <td>0.506711</td>\n",
              "      <td>0.238255</td>\n",
              "      <td>0.714765</td>\n",
              "      <td>0.156376</td>\n",
              "      <td>0.781879</td>\n",
              "      <td>0.082886</td>\n",
              "      <td>0.828859</td>\n",
              "      <td>0.619815</td>\n",
              "      <td>0.671031</td>\n",
              "      <td>0.627960</td>\n",
              "    </tr>\n",
              "    <tr>\n",
              "      <th>fine_tuned</th>\n",
              "      <td>-1</td>\n",
              "      <td>-1</td>\n",
              "      <td>0.644295</td>\n",
              "      <td>0.788591</td>\n",
              "      <td>0.845638</td>\n",
              "      <td>0.895973</td>\n",
              "      <td>0.644295</td>\n",
              "      <td>0.644295</td>\n",
              "      <td>0.262864</td>\n",
              "      <td>0.788591</td>\n",
              "      <td>0.169128</td>\n",
              "      <td>0.845638</td>\n",
              "      <td>0.089597</td>\n",
              "      <td>0.895973</td>\n",
              "      <td>0.726899</td>\n",
              "      <td>0.767730</td>\n",
              "      <td>0.731367</td>\n",
              "    </tr>\n",
              "  </tbody>\n",
              "</table>\n",
              "</div>\n",
              "    <div class=\"colab-df-buttons\">\n",
              "\n",
              "  <div class=\"colab-df-container\">\n",
              "    <button class=\"colab-df-convert\" onclick=\"convertToInteractive('df-8dd7438e-8b3b-4665-ba8f-5ad57941ffa9')\"\n",
              "            title=\"Convert this dataframe to an interactive table.\"\n",
              "            style=\"display:none;\">\n",
              "\n",
              "  <svg xmlns=\"http://www.w3.org/2000/svg\" height=\"24px\" viewBox=\"0 -960 960 960\">\n",
              "    <path d=\"M120-120v-720h720v720H120Zm60-500h600v-160H180v160Zm220 220h160v-160H400v160Zm0 220h160v-160H400v160ZM180-400h160v-160H180v160Zm440 0h160v-160H620v160ZM180-180h160v-160H180v160Zm440 0h160v-160H620v160Z\"/>\n",
              "  </svg>\n",
              "    </button>\n",
              "\n",
              "  <style>\n",
              "    .colab-df-container {\n",
              "      display:flex;\n",
              "      gap: 12px;\n",
              "    }\n",
              "\n",
              "    .colab-df-convert {\n",
              "      background-color: #E8F0FE;\n",
              "      border: none;\n",
              "      border-radius: 50%;\n",
              "      cursor: pointer;\n",
              "      display: none;\n",
              "      fill: #1967D2;\n",
              "      height: 32px;\n",
              "      padding: 0 0 0 0;\n",
              "      width: 32px;\n",
              "    }\n",
              "\n",
              "    .colab-df-convert:hover {\n",
              "      background-color: #E2EBFA;\n",
              "      box-shadow: 0px 1px 2px rgba(60, 64, 67, 0.3), 0px 1px 3px 1px rgba(60, 64, 67, 0.15);\n",
              "      fill: #174EA6;\n",
              "    }\n",
              "\n",
              "    .colab-df-buttons div {\n",
              "      margin-bottom: 4px;\n",
              "    }\n",
              "\n",
              "    [theme=dark] .colab-df-convert {\n",
              "      background-color: #3B4455;\n",
              "      fill: #D2E3FC;\n",
              "    }\n",
              "\n",
              "    [theme=dark] .colab-df-convert:hover {\n",
              "      background-color: #434B5C;\n",
              "      box-shadow: 0px 1px 3px 1px rgba(0, 0, 0, 0.15);\n",
              "      filter: drop-shadow(0px 1px 2px rgba(0, 0, 0, 0.3));\n",
              "      fill: #FFFFFF;\n",
              "    }\n",
              "  </style>\n",
              "\n",
              "    <script>\n",
              "      const buttonEl =\n",
              "        document.querySelector('#df-8dd7438e-8b3b-4665-ba8f-5ad57941ffa9 button.colab-df-convert');\n",
              "      buttonEl.style.display =\n",
              "        google.colab.kernel.accessAllowed ? 'block' : 'none';\n",
              "\n",
              "      async function convertToInteractive(key) {\n",
              "        const element = document.querySelector('#df-8dd7438e-8b3b-4665-ba8f-5ad57941ffa9');\n",
              "        const dataTable =\n",
              "          await google.colab.kernel.invokeFunction('convertToInteractive',\n",
              "                                                    [key], {});\n",
              "        if (!dataTable) return;\n",
              "\n",
              "        const docLinkHtml = 'Like what you see? Visit the ' +\n",
              "          '<a target=\"_blank\" href=https://colab.research.google.com/notebooks/data_table.ipynb>data table notebook</a>'\n",
              "          + ' to learn more about interactive tables.';\n",
              "        element.innerHTML = '';\n",
              "        dataTable['output_type'] = 'display_data';\n",
              "        await google.colab.output.renderOutput(dataTable, element);\n",
              "        const docLink = document.createElement('div');\n",
              "        docLink.innerHTML = docLinkHtml;\n",
              "        element.appendChild(docLink);\n",
              "      }\n",
              "    </script>\n",
              "  </div>\n",
              "\n",
              "\n",
              "<div id=\"df-52d2485d-b68d-48a5-9f9f-145b997220e8\">\n",
              "  <button class=\"colab-df-quickchart\" onclick=\"quickchart('df-52d2485d-b68d-48a5-9f9f-145b997220e8')\"\n",
              "            title=\"Suggest charts\"\n",
              "            style=\"display:none;\">\n",
              "\n",
              "<svg xmlns=\"http://www.w3.org/2000/svg\" height=\"24px\"viewBox=\"0 0 24 24\"\n",
              "     width=\"24px\">\n",
              "    <g>\n",
              "        <path d=\"M19 3H5c-1.1 0-2 .9-2 2v14c0 1.1.9 2 2 2h14c1.1 0 2-.9 2-2V5c0-1.1-.9-2-2-2zM9 17H7v-7h2v7zm4 0h-2V7h2v10zm4 0h-2v-4h2v4z\"/>\n",
              "    </g>\n",
              "</svg>\n",
              "  </button>\n",
              "\n",
              "<style>\n",
              "  .colab-df-quickchart {\n",
              "      --bg-color: #E8F0FE;\n",
              "      --fill-color: #1967D2;\n",
              "      --hover-bg-color: #E2EBFA;\n",
              "      --hover-fill-color: #174EA6;\n",
              "      --disabled-fill-color: #AAA;\n",
              "      --disabled-bg-color: #DDD;\n",
              "  }\n",
              "\n",
              "  [theme=dark] .colab-df-quickchart {\n",
              "      --bg-color: #3B4455;\n",
              "      --fill-color: #D2E3FC;\n",
              "      --hover-bg-color: #434B5C;\n",
              "      --hover-fill-color: #FFFFFF;\n",
              "      --disabled-bg-color: #3B4455;\n",
              "      --disabled-fill-color: #666;\n",
              "  }\n",
              "\n",
              "  .colab-df-quickchart {\n",
              "    background-color: var(--bg-color);\n",
              "    border: none;\n",
              "    border-radius: 50%;\n",
              "    cursor: pointer;\n",
              "    display: none;\n",
              "    fill: var(--fill-color);\n",
              "    height: 32px;\n",
              "    padding: 0;\n",
              "    width: 32px;\n",
              "  }\n",
              "\n",
              "  .colab-df-quickchart:hover {\n",
              "    background-color: var(--hover-bg-color);\n",
              "    box-shadow: 0 1px 2px rgba(60, 64, 67, 0.3), 0 1px 3px 1px rgba(60, 64, 67, 0.15);\n",
              "    fill: var(--button-hover-fill-color);\n",
              "  }\n",
              "\n",
              "  .colab-df-quickchart-complete:disabled,\n",
              "  .colab-df-quickchart-complete:disabled:hover {\n",
              "    background-color: var(--disabled-bg-color);\n",
              "    fill: var(--disabled-fill-color);\n",
              "    box-shadow: none;\n",
              "  }\n",
              "\n",
              "  .colab-df-spinner {\n",
              "    border: 2px solid var(--fill-color);\n",
              "    border-color: transparent;\n",
              "    border-bottom-color: var(--fill-color);\n",
              "    animation:\n",
              "      spin 1s steps(1) infinite;\n",
              "  }\n",
              "\n",
              "  @keyframes spin {\n",
              "    0% {\n",
              "      border-color: transparent;\n",
              "      border-bottom-color: var(--fill-color);\n",
              "      border-left-color: var(--fill-color);\n",
              "    }\n",
              "    20% {\n",
              "      border-color: transparent;\n",
              "      border-left-color: var(--fill-color);\n",
              "      border-top-color: var(--fill-color);\n",
              "    }\n",
              "    30% {\n",
              "      border-color: transparent;\n",
              "      border-left-color: var(--fill-color);\n",
              "      border-top-color: var(--fill-color);\n",
              "      border-right-color: var(--fill-color);\n",
              "    }\n",
              "    40% {\n",
              "      border-color: transparent;\n",
              "      border-right-color: var(--fill-color);\n",
              "      border-top-color: var(--fill-color);\n",
              "    }\n",
              "    60% {\n",
              "      border-color: transparent;\n",
              "      border-right-color: var(--fill-color);\n",
              "    }\n",
              "    80% {\n",
              "      border-color: transparent;\n",
              "      border-right-color: var(--fill-color);\n",
              "      border-bottom-color: var(--fill-color);\n",
              "    }\n",
              "    90% {\n",
              "      border-color: transparent;\n",
              "      border-bottom-color: var(--fill-color);\n",
              "    }\n",
              "  }\n",
              "</style>\n",
              "\n",
              "  <script>\n",
              "    async function quickchart(key) {\n",
              "      const quickchartButtonEl =\n",
              "        document.querySelector('#' + key + ' button');\n",
              "      quickchartButtonEl.disabled = true;  // To prevent multiple clicks.\n",
              "      quickchartButtonEl.classList.add('colab-df-spinner');\n",
              "      try {\n",
              "        const charts = await google.colab.kernel.invokeFunction(\n",
              "            'suggestCharts', [key], {});\n",
              "      } catch (error) {\n",
              "        console.error('Error during call to suggestCharts:', error);\n",
              "      }\n",
              "      quickchartButtonEl.classList.remove('colab-df-spinner');\n",
              "      quickchartButtonEl.classList.add('colab-df-quickchart-complete');\n",
              "    }\n",
              "    (() => {\n",
              "      let quickchartButtonEl =\n",
              "        document.querySelector('#df-52d2485d-b68d-48a5-9f9f-145b997220e8 button');\n",
              "      quickchartButtonEl.style.display =\n",
              "        google.colab.kernel.accessAllowed ? 'block' : 'none';\n",
              "    })();\n",
              "  </script>\n",
              "</div>\n",
              "\n",
              "  <div id=\"id_d0cd1629-cc46-4410-95fc-6eb3799224af\">\n",
              "    <style>\n",
              "      .colab-df-generate {\n",
              "        background-color: #E8F0FE;\n",
              "        border: none;\n",
              "        border-radius: 50%;\n",
              "        cursor: pointer;\n",
              "        display: none;\n",
              "        fill: #1967D2;\n",
              "        height: 32px;\n",
              "        padding: 0 0 0 0;\n",
              "        width: 32px;\n",
              "      }\n",
              "\n",
              "      .colab-df-generate:hover {\n",
              "        background-color: #E2EBFA;\n",
              "        box-shadow: 0px 1px 2px rgba(60, 64, 67, 0.3), 0px 1px 3px 1px rgba(60, 64, 67, 0.15);\n",
              "        fill: #174EA6;\n",
              "      }\n",
              "\n",
              "      [theme=dark] .colab-df-generate {\n",
              "        background-color: #3B4455;\n",
              "        fill: #D2E3FC;\n",
              "      }\n",
              "\n",
              "      [theme=dark] .colab-df-generate:hover {\n",
              "        background-color: #434B5C;\n",
              "        box-shadow: 0px 1px 3px 1px rgba(0, 0, 0, 0.15);\n",
              "        filter: drop-shadow(0px 1px 2px rgba(0, 0, 0, 0.3));\n",
              "        fill: #FFFFFF;\n",
              "      }\n",
              "    </style>\n",
              "    <button class=\"colab-df-generate\" onclick=\"generateWithVariable('df_st_all')\"\n",
              "            title=\"Generate code using this dataframe.\"\n",
              "            style=\"display:none;\">\n",
              "\n",
              "  <svg xmlns=\"http://www.w3.org/2000/svg\" height=\"24px\"viewBox=\"0 0 24 24\"\n",
              "       width=\"24px\">\n",
              "    <path d=\"M7,19H8.4L18.45,9,17,7.55,7,17.6ZM5,21V16.75L18.45,3.32a2,2,0,0,1,2.83,0l1.4,1.43a1.91,1.91,0,0,1,.58,1.4,1.91,1.91,0,0,1-.58,1.4L9.25,21ZM18.45,9,17,7.55Zm-12,3A5.31,5.31,0,0,0,4.9,8.1,5.31,5.31,0,0,0,1,6.5,5.31,5.31,0,0,0,4.9,4.9,5.31,5.31,0,0,0,6.5,1,5.31,5.31,0,0,0,8.1,4.9,5.31,5.31,0,0,0,12,6.5,5.46,5.46,0,0,0,6.5,12Z\"/>\n",
              "  </svg>\n",
              "    </button>\n",
              "    <script>\n",
              "      (() => {\n",
              "      const buttonEl =\n",
              "        document.querySelector('#id_d0cd1629-cc46-4410-95fc-6eb3799224af button.colab-df-generate');\n",
              "      buttonEl.style.display =\n",
              "        google.colab.kernel.accessAllowed ? 'block' : 'none';\n",
              "\n",
              "      buttonEl.onclick = () => {\n",
              "        google.colab.notebook.generateWithVariable('df_st_all');\n",
              "      }\n",
              "      })();\n",
              "    </script>\n",
              "  </div>\n",
              "\n",
              "    </div>\n",
              "  </div>\n"
            ],
            "application/vnd.google.colaboratory.intrinsic+json": {
              "type": "dataframe",
              "variable_name": "df_st_all",
              "summary": "{\n  \"name\": \"df_st_all\",\n  \"rows\": 2,\n  \"fields\": [\n    {\n      \"column\": \"model\",\n      \"properties\": {\n        \"dtype\": \"string\",\n        \"num_unique_values\": 2,\n        \"samples\": [\n          \"fine_tuned\",\n          \"bge\"\n        ],\n        \"semantic_type\": \"\",\n        \"description\": \"\"\n      }\n    },\n    {\n      \"column\": \"epoch\",\n      \"properties\": {\n        \"dtype\": \"number\",\n        \"std\": 0,\n        \"min\": -1,\n        \"max\": -1,\n        \"num_unique_values\": 1,\n        \"samples\": [\n          -1\n        ],\n        \"semantic_type\": \"\",\n        \"description\": \"\"\n      }\n    },\n    {\n      \"column\": \"steps\",\n      \"properties\": {\n        \"dtype\": \"number\",\n        \"std\": 0,\n        \"min\": -1,\n        \"max\": -1,\n        \"num_unique_values\": 1,\n        \"samples\": [\n          -1\n        ],\n        \"semantic_type\": \"\",\n        \"description\": \"\"\n      }\n    },\n    {\n      \"column\": \"cosine-Accuracy@1\",\n      \"properties\": {\n        \"dtype\": \"number\",\n        \"std\": 0.09728650345184041,\n        \"min\": 0.5067114093959731,\n        \"max\": 0.6442953020134228,\n        \"num_unique_values\": 2,\n        \"samples\": [\n          0.6442953020134228\n        ],\n        \"semantic_type\": \"\",\n        \"description\": \"\"\n      }\n    },\n    {\n      \"column\": \"cosine-Accuracy@3\",\n      \"properties\": {\n        \"dtype\": \"number\",\n        \"std\": 0.052202514047329014,\n        \"min\": 0.714765100671141,\n        \"max\": 0.7885906040268457,\n        \"num_unique_values\": 2,\n        \"samples\": [\n          0.7885906040268457\n        ],\n        \"semantic_type\": \"\",\n        \"description\": \"\"\n      }\n    },\n    {\n      \"column\": \"cosine-Accuracy@5\",\n      \"properties\": {\n        \"dtype\": \"number\",\n        \"std\": 0.045083989404511395,\n        \"min\": 0.7818791946308725,\n        \"max\": 0.8456375838926175,\n        \"num_unique_values\": 2,\n        \"samples\": [\n          0.8456375838926175\n        ],\n        \"semantic_type\": \"\",\n        \"description\": \"\"\n      }\n    },\n    {\n      \"column\": \"cosine-Accuracy@10\",\n      \"properties\": {\n        \"dtype\": \"number\",\n        \"std\": 0.04745683095211729,\n        \"min\": 0.8288590604026845,\n        \"max\": 0.8959731543624161,\n        \"num_unique_values\": 2,\n        \"samples\": [\n          0.8959731543624161\n        ],\n        \"semantic_type\": \"\",\n        \"description\": \"\"\n      }\n    },\n    {\n      \"column\": \"cosine-Precision@1\",\n      \"properties\": {\n        \"dtype\": \"number\",\n        \"std\": 0.09728650345184041,\n        \"min\": 0.5067114093959731,\n        \"max\": 0.6442953020134228,\n        \"num_unique_values\": 2,\n        \"samples\": [\n          0.6442953020134228\n        ],\n        \"semantic_type\": \"\",\n        \"description\": \"\"\n      }\n    },\n    {\n      \"column\": \"cosine-Recall@1\",\n      \"properties\": {\n        \"dtype\": \"number\",\n        \"std\": 0.09728650345184041,\n        \"min\": 0.5067114093959731,\n        \"max\": 0.6442953020134228,\n        \"num_unique_values\": 2,\n        \"samples\": [\n          0.6442953020134228\n        ],\n        \"semantic_type\": \"\",\n        \"description\": \"\"\n      }\n    },\n    {\n      \"column\": \"cosine-Precision@3\",\n      \"properties\": {\n        \"dtype\": \"number\",\n        \"std\": 0.017400838015776365,\n        \"min\": 0.2382550335570469,\n        \"max\": 0.2628635346756152,\n        \"num_unique_values\": 2,\n        \"samples\": [\n          0.2628635346756152\n        ],\n        \"semantic_type\": \"\",\n        \"description\": \"\"\n      }\n    },\n    {\n      \"column\": \"cosine-Recall@3\",\n      \"properties\": {\n        \"dtype\": \"number\",\n        \"std\": 0.052202514047329014,\n        \"min\": 0.714765100671141,\n        \"max\": 0.7885906040268457,\n        \"num_unique_values\": 2,\n        \"samples\": [\n          0.7885906040268457\n        ],\n        \"semantic_type\": \"\",\n        \"description\": \"\"\n      }\n    },\n    {\n      \"column\": \"cosine-Precision@5\",\n      \"properties\": {\n        \"dtype\": \"number\",\n        \"std\": 0.009016797880902221,\n        \"min\": 0.1563758389261745,\n        \"max\": 0.1691275167785234,\n        \"num_unique_values\": 2,\n        \"samples\": [\n          0.1691275167785234\n        ],\n        \"semantic_type\": \"\",\n        \"description\": \"\"\n      }\n    },\n    {\n      \"column\": \"cosine-Recall@5\",\n      \"properties\": {\n        \"dtype\": \"number\",\n        \"std\": 0.045083989404511395,\n        \"min\": 0.7818791946308725,\n        \"max\": 0.8456375838926175,\n        \"num_unique_values\": 2,\n        \"samples\": [\n          0.8456375838926175\n        ],\n        \"semantic_type\": \"\",\n        \"description\": \"\"\n      }\n    },\n    {\n      \"column\": \"cosine-Precision@10\",\n      \"properties\": {\n        \"dtype\": \"number\",\n        \"std\": 0.004745683095211761,\n        \"min\": 0.0828859060402684,\n        \"max\": 0.0895973154362416,\n        \"num_unique_values\": 2,\n        \"samples\": [\n          0.0895973154362416\n        ],\n        \"semantic_type\": \"\",\n        \"description\": \"\"\n      }\n    },\n    {\n      \"column\": \"cosine-Recall@10\",\n      \"properties\": {\n        \"dtype\": \"number\",\n        \"std\": 0.04745683095211729,\n        \"min\": 0.8288590604026845,\n        \"max\": 0.8959731543624161,\n        \"num_unique_values\": 2,\n        \"samples\": [\n          0.8959731543624161\n        ],\n        \"semantic_type\": \"\",\n        \"description\": \"\"\n      }\n    },\n    {\n      \"column\": \"cosine-MRR@10\",\n      \"properties\": {\n        \"dtype\": \"number\",\n        \"std\": 0.07572001027471134,\n        \"min\": 0.619814637264302,\n        \"max\": 0.7268989027378289,\n        \"num_unique_values\": 2,\n        \"samples\": [\n          0.7268989027378289\n        ],\n        \"semantic_type\": \"\",\n        \"description\": \"\"\n      }\n    },\n    {\n      \"column\": \"cosine-NDCG@10\",\n      \"properties\": {\n        \"dtype\": \"number\",\n        \"std\": 0.06837612344928314,\n        \"min\": 0.6710313851865369,\n        \"max\": 0.7677298263110102,\n        \"num_unique_values\": 2,\n        \"samples\": [\n          0.7677298263110102\n        ],\n        \"semantic_type\": \"\",\n        \"description\": \"\"\n      }\n    },\n    {\n      \"column\": \"cosine-MAP@100\",\n      \"properties\": {\n        \"dtype\": \"number\",\n        \"std\": 0.07311967370981132,\n        \"min\": 0.6279603491960256,\n        \"max\": 0.7313671834327362,\n        \"num_unique_values\": 2,\n        \"samples\": [\n          0.7313671834327362\n        ],\n        \"semantic_type\": \"\",\n        \"description\": \"\"\n      }\n    }\n  ]\n}"
            }
          },
          "metadata": {},
          "execution_count": 77
        }
      ]
    },
    {
      "cell_type": "markdown",
      "source": [
        "##### 👪❓Discussion Question #2:\n",
        "\n",
        "Discuss the results with your group!"
      ],
      "metadata": {
        "id": "Cb4Mpdq_eQbV"
      }
    }
  ]
}